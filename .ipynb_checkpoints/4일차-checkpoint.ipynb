{
 "cells": [
  {
   "cell_type": "markdown",
   "id": "d7428891",
   "metadata": {},
   "source": [
    "리스트 안에 for 문 포함하기 예제"
   ]
  },
  {
   "cell_type": "code",
   "execution_count": 2,
   "id": "029001f0",
   "metadata": {},
   "outputs": [
    {
     "name": "stdout",
     "output_type": "stream",
     "text": [
      "[3, 6, 9, 12]\n"
     ]
    }
   ],
   "source": [
    "a = [1, 2, 3, 4]\n",
    "result =[]\n",
    "for num in a:\n",
    "    result.append(num*3)\n",
    "    \n",
    "print(result)"
   ]
  },
  {
   "cell_type": "code",
   "execution_count": 3,
   "id": "b796e881",
   "metadata": {},
   "outputs": [
    {
     "name": "stdout",
     "output_type": "stream",
     "text": [
      "[3, 6, 9, 12]\n"
     ]
    }
   ],
   "source": [
    "a = [1, 2, 3, 4]\n",
    "result = [num * 3 for num in a]\n",
    "print(result)"
   ]
  },
  {
   "cell_type": "code",
   "execution_count": 4,
   "id": "f9371bd1",
   "metadata": {},
   "outputs": [
    {
     "name": "stdout",
     "output_type": "stream",
     "text": [
      "[6, 12]\n"
     ]
    }
   ],
   "source": [
    "a = [1, 2, 3, 4]\n",
    "result  = [num * 3 for num in a if num % 2 ==0]\n",
    "print(result)"
   ]
  },
  {
   "cell_type": "markdown",
   "id": "9a8ee1de",
   "metadata": {},
   "source": [
    "## 함수\n",
    "- 함수는 반복적으로 사용하기 위해서 생성\n",
    "- 코드는 일정부분이 별도의 논리적 개념으로 분리되는 것이 가능할 때 함수로 코드를 분리\n",
    "- return 키워드의 등장! -> 함수의 결과값을 함수 호출하는 곳으로 돌려주는 역할"
   ]
  },
  {
   "cell_type": "code",
   "execution_count": 3,
   "id": "b302713e",
   "metadata": {},
   "outputs": [
    {
     "name": "stdout",
     "output_type": "stream",
     "text": [
      "1\n"
     ]
    }
   ],
   "source": [
    "def my_func(a,b):\n",
    "    if a == 5:\n",
    "        return a\n",
    "    else:\n",
    "        return b\n",
    "print(my_func(2,1))"
   ]
  },
  {
   "cell_type": "markdown",
   "id": "6bd06037",
   "metadata": {},
   "source": [
    "함수 만들기 예제"
   ]
  },
  {
   "cell_type": "code",
   "execution_count": 7,
   "id": "35e4ae24",
   "metadata": {},
   "outputs": [
    {
     "name": "stdout",
     "output_type": "stream",
     "text": [
      "3\n"
     ]
    }
   ],
   "source": [
    "def sum(a, b):\n",
    "    return a+b\n",
    "print(sum(1,2))"
   ]
  },
  {
   "cell_type": "markdown",
   "id": "106a285a",
   "metadata": {},
   "source": [
    "return\n",
    "- return 없이 함수를 정의하면 함수를 호출한 쪽에 아무 값도 전달하지 않음\n",
    " - return x -> None 객체를 전달\n",
    "  - None 객체란 파이썬 내장 객체로써 아무 값도 없음을 표현하는 객체"
   ]
  },
  {
   "cell_type": "markdown",
   "id": "c590938a",
   "metadata": {},
   "source": [
    "함수는 다른 함수를 호출할 수 있음"
   ]
  },
  {
   "cell_type": "code",
   "execution_count": 2,
   "id": "7ffd93cf",
   "metadata": {},
   "outputs": [
    {
     "data": {
      "text/plain": [
       "(20, 10)"
      ]
     },
     "execution_count": 2,
     "metadata": {},
     "output_type": "execute_result"
    }
   ],
   "source": [
    "def swap(a, b):\n",
    "    return b, a\n",
    "swap(10, 20)"
   ]
  },
  {
   "cell_type": "code",
   "execution_count": 5,
   "id": "6e9fd194",
   "metadata": {},
   "outputs": [
    {
     "name": "stdout",
     "output_type": "stream",
     "text": [
      "<class 'tuple'>\n"
     ]
    }
   ],
   "source": [
    "print(type(swap(10,20)))"
   ]
  },
  {
   "cell_type": "markdown",
   "id": "e2e4f7ee",
   "metadata": {},
   "source": [
    "- return 문에 여러 값을 사용할 경우, 튜플로 구성하여 전달\n",
    "\n",
    "결과값을 받을 변수 = 함수명(입력 인자1, 입력 인자2)"
   ]
  },
  {
   "cell_type": "code",
   "execution_count": 7,
   "id": "44b51fae",
   "metadata": {},
   "outputs": [],
   "source": [
    "def addabs(a,b):\n",
    "    return abs(a+b)"
   ]
  },
  {
   "cell_type": "code",
   "execution_count": 8,
   "id": "14776ecb",
   "metadata": {},
   "outputs": [
    {
     "name": "stdout",
     "output_type": "stream",
     "text": [
      "10\n"
     ]
    }
   ],
   "source": [
    "a = addabs(-3, -7)\n",
    "print(a)"
   ]
  },
  {
   "cell_type": "markdown",
   "id": "83d9981c",
   "metadata": {},
   "source": [
    "입력값이 없고 결과값이 있는 함수 예제"
   ]
  },
  {
   "cell_type": "code",
   "execution_count": 16,
   "id": "5c3a1bd8",
   "metadata": {},
   "outputs": [],
   "source": [
    "def say():\n",
    "    return \"hi\"\n"
   ]
  },
  {
   "cell_type": "code",
   "execution_count": 17,
   "id": "da654fc7",
   "metadata": {},
   "outputs": [
    {
     "name": "stdout",
     "output_type": "stream",
     "text": [
      "hi\n"
     ]
    }
   ],
   "source": [
    "a = say()\n",
    "print(a)"
   ]
  },
  {
   "cell_type": "markdown",
   "id": "58d0dc8d",
   "metadata": {},
   "source": [
    "입력값이 있고 결과값이 없는 함수 예제"
   ]
  },
  {
   "cell_type": "code",
   "execution_count": 18,
   "id": "c8777018",
   "metadata": {},
   "outputs": [],
   "source": [
    "def sum(a,b):\n",
    "    print(\"%d와 %d의 합은 %d입니다.\" %(a, b, a+b))"
   ]
  },
  {
   "cell_type": "code",
   "execution_count": 19,
   "id": "4c9b893c",
   "metadata": {},
   "outputs": [
    {
     "name": "stdout",
     "output_type": "stream",
     "text": [
      "3와 4의 합은 7입니다.\n"
     ]
    }
   ],
   "source": [
    "sum(3, 4)"
   ]
  },
  {
   "cell_type": "code",
   "execution_count": 22,
   "id": "24d0b854",
   "metadata": {},
   "outputs": [
    {
     "name": "stdout",
     "output_type": "stream",
     "text": [
      "3와 4의 합은 7입니다.\n",
      "None\n"
     ]
    }
   ],
   "source": [
    "a = sum(3,4)\n",
    "print(a)"
   ]
  },
  {
   "cell_type": "markdown",
   "id": "e93c94a1",
   "metadata": {},
   "source": [
    "- print 하는 결과는 있지만 리턴값이 없어서 값은 없음"
   ]
  },
  {
   "cell_type": "markdown",
   "id": "30a394c7",
   "metadata": {},
   "source": [
    "- sum() 함수를 호출 할 시 결과가 출력되나 결과값이 있는 것은 아님(return이 없기 때문)"
   ]
  },
  {
   "cell_type": "markdown",
   "id": "3325bb16",
   "metadata": {},
   "source": [
    "입력값이 없고 결과값이 없는 함수 예제"
   ]
  },
  {
   "cell_type": "code",
   "execution_count": 23,
   "id": "7546256c",
   "metadata": {},
   "outputs": [],
   "source": [
    "def say():\n",
    "    print(\"HI\")"
   ]
  },
  {
   "cell_type": "code",
   "execution_count": 24,
   "id": "8c28e82c",
   "metadata": {},
   "outputs": [
    {
     "name": "stdout",
     "output_type": "stream",
     "text": [
      "HI\n"
     ]
    }
   ],
   "source": [
    "say()"
   ]
  },
  {
   "cell_type": "code",
   "execution_count": 25,
   "id": "60494add",
   "metadata": {},
   "outputs": [
    {
     "name": "stdout",
     "output_type": "stream",
     "text": [
      "HI\n",
      "None\n"
     ]
    }
   ],
   "source": [
    "a = say()\n",
    "print(a)"
   ]
  },
  {
   "cell_type": "markdown",
   "id": "255de441",
   "metadata": {},
   "source": [
    "매개변수 지정하여 호출"
   ]
  },
  {
   "cell_type": "code",
   "execution_count": 26,
   "id": "b9233509",
   "metadata": {},
   "outputs": [],
   "source": [
    "def sum(a, b):\n",
    "    return a + b"
   ]
  },
  {
   "cell_type": "code",
   "execution_count": 30,
   "id": "324311f5",
   "metadata": {},
   "outputs": [
    {
     "data": {
      "text/plain": [
       "10"
      ]
     },
     "execution_count": 30,
     "metadata": {},
     "output_type": "execute_result"
    }
   ],
   "source": [
    "sum(a= 3, b =7)"
   ]
  },
  {
   "cell_type": "code",
   "execution_count": 31,
   "id": "fe81b26c",
   "metadata": {},
   "outputs": [
    {
     "name": "stdout",
     "output_type": "stream",
     "text": [
      "10\n"
     ]
    }
   ],
   "source": [
    "print(sum(a= 3, b =7))"
   ]
  },
  {
   "cell_type": "code",
   "execution_count": 34,
   "id": "8736b397",
   "metadata": {},
   "outputs": [
    {
     "name": "stdout",
     "output_type": "stream",
     "text": [
      "8\n"
     ]
    }
   ],
   "source": [
    "print(sum(b =5 , a = 3))\n",
    "#이렇게 해도 b = 5로 들어가고 a =3으로 들어감 순서 상관없이"
   ]
  },
  {
   "cell_type": "markdown",
   "id": "fe96d01f",
   "metadata": {},
   "source": [
    "- 키워드 인수라고 부르기도 함\n",
    " - 키워드 인수 : 인수 이름으로 값을 전달하는 방식, 보통은 인수의 순서로 값을 나타내지만 이름으로 값을 전달하는 방식"
   ]
  },
  {
   "cell_type": "code",
   "execution_count": 35,
   "id": "41cc041c",
   "metadata": {},
   "outputs": [
    {
     "data": {
      "text/plain": [
       "25"
      ]
     },
     "execution_count": 35,
     "metadata": {},
     "output_type": "execute_result"
    }
   ],
   "source": [
    "sum(20, b = 5)"
   ]
  },
  {
   "cell_type": "code",
   "execution_count": 39,
   "id": "aa1aac33",
   "metadata": {},
   "outputs": [
    {
     "ename": "SyntaxError",
     "evalue": "positional argument follows keyword argument (<ipython-input-39-85d9e453fcc0>, line 1)",
     "output_type": "error",
     "traceback": [
      "\u001b[1;36m  File \u001b[1;32m\"<ipython-input-39-85d9e453fcc0>\"\u001b[1;36m, line \u001b[1;32m1\u001b[0m\n\u001b[1;33m    sum(b=5, 20)\u001b[0m\n\u001b[1;37m             ^\u001b[0m\n\u001b[1;31mSyntaxError\u001b[0m\u001b[1;31m:\u001b[0m positional argument follows keyword argument\n"
     ]
    }
   ],
   "source": [
    "sum(b=5, 20)\n",
    "#이렇게 쓰면 b에 값을 두개 넣은꼴임"
   ]
  },
  {
   "cell_type": "markdown",
   "id": "b19c8078",
   "metadata": {},
   "source": [
    "- 일반적으로 함수를 호출할 때 키워드 인수의 위치는 보통 인수의 이후에 위치해야 함\n",
    "- 순서에 맞게 키워드 인수를 앞에 사용해도 에러 발생"
   ]
  },
  {
   "cell_type": "markdown",
   "id": "02f5ba21",
   "metadata": {},
   "source": [
    "113page 5번째줄 오타 수정 -> 매개변수명 앞에 *을 붙이면 입력값들을 전부 모아서 튜플로 만들어 줌"
   ]
  },
  {
   "cell_type": "markdown",
   "id": "8c29e5db",
   "metadata": {},
   "source": [
    "가변 길이 인수 리스트(*매개변수)\n",
    "- 고정되지 않은 수의 인수를 함수에 전달하는 방식\n",
    " - 함수를 정의할 때 인수 목록에 반드시 넘겨야 하는 고정 인수를 우선 나열하고, 나머지를 튜플 형식으로 한꺼번에 받는 방식"
   ]
  },
  {
   "cell_type": "code",
   "execution_count": 40,
   "id": "f0d9ecc9",
   "metadata": {},
   "outputs": [],
   "source": [
    "def varilen(a, *b):\n",
    "    print(a, b)"
   ]
  },
  {
   "cell_type": "code",
   "execution_count": 45,
   "id": "4075e038",
   "metadata": {},
   "outputs": [
    {
     "name": "stdout",
     "output_type": "stream",
     "text": [
      "1 ()\n",
      "1 (2,)\n",
      "1 (2, 3)\n",
      "1 (2, 3, 4)\n"
     ]
    }
   ],
   "source": [
    "varilen(1)\n",
    "varilen(1, 2)\n",
    "varilen(1, 2, 3)\n",
    "varilen(1, 2, 3, 4)\n",
    "#반디스 넘겨야 하는 고정인수는 하나 나머지는 튜플형태로 한꺼번에 받는 방식"
   ]
  },
  {
   "cell_type": "code",
   "execution_count": 49,
   "id": "6ee713b2",
   "metadata": {},
   "outputs": [],
   "source": [
    "def printf(a, *b):\n",
    "    print(\"첫번째 인수 :\", a)\n",
    "    for c in b:\n",
    "        print(\"나머지 인수 :\", c)\n"
   ]
  },
  {
   "cell_type": "code",
   "execution_count": 50,
   "id": "2da08374",
   "metadata": {},
   "outputs": [
    {
     "name": "stdout",
     "output_type": "stream",
     "text": [
      "첫번째 인수 : 1\n",
      "나머지 인수 : 2\n",
      "나머지 인수 : 3\n",
      "나머지 인수 : 4\n",
      "나머지 인수 : 5\n",
      "나머지 인수 : 6\n",
      "나머지 인수 : 7\n"
     ]
    }
   ],
   "source": [
    "printf(1,2,3,4,5,6,7)"
   ]
  },
  {
   "cell_type": "markdown",
   "id": "72bf685f",
   "metadata": {},
   "source": [
    "**매개변수\n",
    " - 함수 호출에 사용하는 인수들이 사전에 있다면 **을 이용하여 함수를 호출할 수 있음"
   ]
  },
  {
   "cell_type": "code",
   "execution_count": 84,
   "id": "b824a37d",
   "metadata": {},
   "outputs": [],
   "source": [
    "def h(a, b, c, f):\n",
    "    print(a, b, c, f)"
   ]
  },
  {
   "cell_type": "code",
   "execution_count": 85,
   "id": "a32e82ac",
   "metadata": {},
   "outputs": [],
   "source": [
    "dicargs = {'a':1, 'b':2, 'c':3, 'f':4}"
   ]
  },
  {
   "cell_type": "code",
   "execution_count": 86,
   "id": "3afa805d",
   "metadata": {},
   "outputs": [
    {
     "name": "stdout",
     "output_type": "stream",
     "text": [
      "1 2 3 4\n"
     ]
    }
   ],
   "source": [
    "h(**dicargs)"
   ]
  },
  {
   "cell_type": "markdown",
   "id": "31a59903",
   "metadata": {},
   "source": [
    " ** 매개변수의 핵심요소\n",
    "- **은 dictionary 자료향과 관련이 있다\n",
    "- 함수에서 키와 같은 매개변수를 받음\n",
    "- **매개변수를 이용하여 사전을 호출할 경우 각 키에 매칭되는 값들이 매칭됨"
   ]
  },
  {
   "cell_type": "code",
   "execution_count": 82,
   "id": "0171fe93",
   "metadata": {},
   "outputs": [],
   "source": [
    "def H(a, b, *c):\n",
    "    print(a, b, c)\n",
    "args = (1 ,2 , 3,4,5 )"
   ]
  },
  {
   "cell_type": "code",
   "execution_count": 83,
   "id": "634f245a",
   "metadata": {},
   "outputs": [
    {
     "name": "stdout",
     "output_type": "stream",
     "text": [
      "1 2 (3, 4, 5)\n"
     ]
    }
   ],
   "source": [
    "H(*args)"
   ]
  },
  {
   "cell_type": "markdown",
   "id": "7bd16253",
   "metadata": {},
   "source": [
    "- 함수를 정의할 시 가변 길이 인수 리스트를 매개변수로 받을 경우 함수를 호출할 때 받는 인자 또한 가변길이 인수 리스트 라는 것을 명시해줘야 함"
   ]
  },
  {
   "cell_type": "markdown",
   "id": "d6834827",
   "metadata": {},
   "source": [
    "**매개변수 추가 코드"
   ]
  },
  {
   "cell_type": "code",
   "execution_count": 96,
   "id": "b1bc9c22",
   "metadata": {},
   "outputs": [],
   "source": [
    "def dic_1(**dic):\n",
    "    print(dic.items())\n",
    "    for key, value in dic.items():\n",
    "        print(\"{0} = {1}\".format(key, value))"
   ]
  },
  {
   "cell_type": "code",
   "execution_count": 97,
   "id": "0418f57b",
   "metadata": {},
   "outputs": [
    {
     "name": "stdout",
     "output_type": "stream",
     "text": [
      "dict_items([('name', '홍길동'), ('나이', '20')])\n",
      "name = 홍길동\n",
      "나이 = 20\n"
     ]
    }
   ],
   "source": [
    "dic= {\"name\":\"홍길동\", \"나이\":\"20\"}\n",
    "dic_1(**dic)"
   ]
  },
  {
   "cell_type": "markdown",
   "id": "bcee95a4",
   "metadata": {},
   "source": [
    "return \n",
    "- 결과값을 전달해주기 위해 쓰는 것"
   ]
  },
  {
   "cell_type": "code",
   "execution_count": 87,
   "id": "dd840c07",
   "metadata": {},
   "outputs": [],
   "source": [
    "def sum_n_mul(a,b):\n",
    "    return a+b, a*b"
   ]
  },
  {
   "cell_type": "markdown",
   "id": "4b653ff1",
   "metadata": {},
   "source": [
    "return에 두개도 올 수 있네"
   ]
  },
  {
   "cell_type": "code",
   "execution_count": 88,
   "id": "5ccf671d",
   "metadata": {},
   "outputs": [
    {
     "name": "stdout",
     "output_type": "stream",
     "text": [
      "(7, 12)\n"
     ]
    }
   ],
   "source": [
    "print(sum_n_mul(3,4))"
   ]
  },
  {
   "cell_type": "markdown",
   "id": "f40fabb7",
   "metadata": {},
   "source": [
    "unpacking"
   ]
  },
  {
   "cell_type": "code",
   "execution_count": 89,
   "id": "453411d9",
   "metadata": {},
   "outputs": [
    {
     "name": "stdout",
     "output_type": "stream",
     "text": [
      "7 12\n"
     ]
    }
   ],
   "source": [
    "sum, mul = sum_n_mul(3,4)\n",
    "print(sum, mul)"
   ]
  },
  {
   "cell_type": "markdown",
   "id": "d7814c3d",
   "metadata": {},
   "source": [
    "return 예제(return을 두 줄로 나눠 입력한 후 결과값을 두 개 반환하는 경우)"
   ]
  },
  {
   "cell_type": "code",
   "execution_count": 90,
   "id": "e74e2972",
   "metadata": {},
   "outputs": [],
   "source": [
    "def sum_n_mul(a, b):\n",
    "    return a+b\n",
    "    return a*b"
   ]
  },
  {
   "cell_type": "code",
   "execution_count": 91,
   "id": "5d755bc9",
   "metadata": {},
   "outputs": [
    {
     "name": "stdout",
     "output_type": "stream",
     "text": [
      "5\n"
     ]
    }
   ],
   "source": [
    "result = sum_n_mul(2,3)\n",
    "print(result)"
   ]
  },
  {
   "cell_type": "markdown",
   "id": "88f24efe",
   "metadata": {},
   "source": [
    "- return을 사용할 때는 한 줄에 입력해야됨 두번째 줄은 안나옴"
   ]
  },
  {
   "cell_type": "markdown",
   "id": "ad2728af",
   "metadata": {},
   "source": [
    "- return예제\n",
    "- return은 어떤 특별한 상황이되면 함수를 빠져나가고자 할때 함수를 즉시 빠져나갈 수 있음"
   ]
  },
  {
   "cell_type": "code",
   "execution_count": 99,
   "id": "12b6a045",
   "metadata": {},
   "outputs": [],
   "source": [
    "def say_nick(nick):\n",
    "    if nick ==\"바보\":\n",
    "        return\n",
    "    print(\"나의 별명은 %s 입니다.\" %nick)"
   ]
  },
  {
   "cell_type": "code",
   "execution_count": 102,
   "id": "3177f052",
   "metadata": {},
   "outputs": [
    {
     "name": "stdout",
     "output_type": "stream",
     "text": [
      "나의 별명은 야호 입니다.\n"
     ]
    }
   ],
   "source": [
    "say_nick('야호')"
   ]
  },
  {
   "cell_type": "code",
   "execution_count": 104,
   "id": "d3884301",
   "metadata": {},
   "outputs": [
    {
     "name": "stdout",
     "output_type": "stream",
     "text": [
      "None\n"
     ]
    }
   ],
   "source": [
    "print(say_nick('바보'))"
   ]
  },
  {
   "cell_type": "markdown",
   "id": "c1fa4e2a",
   "metadata": {},
   "source": [
    "매개변수에 초기값 미리 설정하기"
   ]
  },
  {
   "cell_type": "code",
   "execution_count": 105,
   "id": "6f5b00a7",
   "metadata": {},
   "outputs": [],
   "source": [
    "def say_myself(name, old, man=True):\n",
    "    print(\"나의 이름은 %s 입니다\" %name)\n",
    "    print(\"나이는 %d살 입니다\" %old)\n",
    "    if man:\n",
    "        print(\"남자입니다\")\n",
    "    else:\n",
    "        print(\"여자입니다\")"
   ]
  },
  {
   "cell_type": "code",
   "execution_count": 106,
   "id": "8294681e",
   "metadata": {},
   "outputs": [
    {
     "name": "stdout",
     "output_type": "stream",
     "text": [
      "나의 이름은 허용준 입니다\n",
      "나이는 27살 입니다\n",
      "남자입니다\n"
     ]
    }
   ],
   "source": [
    "say_myself(\"허용준\", 27)"
   ]
  },
  {
   "cell_type": "code",
   "execution_count": 108,
   "id": "36d48268",
   "metadata": {},
   "outputs": [
    {
     "name": "stdout",
     "output_type": "stream",
     "text": [
      "나의 이름은 장서은 입니다\n",
      "나이는 22살 입니다\n",
      "여자입니다\n"
     ]
    }
   ],
   "source": [
    "say_myself(\"장서은\", 22, False)"
   ]
  },
  {
   "cell_type": "code",
   "execution_count": 109,
   "id": "6bdcdf3c",
   "metadata": {},
   "outputs": [
    {
     "ename": "SyntaxError",
     "evalue": "non-default argument follows default argument (<ipython-input-109-e6bacd3c1dc9>, line 1)",
     "output_type": "error",
     "traceback": [
      "\u001b[1;36m  File \u001b[1;32m\"<ipython-input-109-e6bacd3c1dc9>\"\u001b[1;36m, line \u001b[1;32m1\u001b[0m\n\u001b[1;33m    def say_myself(name, man=True, old ):\u001b[0m\n\u001b[1;37m                   ^\u001b[0m\n\u001b[1;31mSyntaxError\u001b[0m\u001b[1;31m:\u001b[0m non-default argument follows default argument\n"
     ]
    }
   ],
   "source": [
    "def say_myself(name, man=True, old ):\n",
    "    print(\"나의 이름은 %s 입니다\" %name)\n",
    "    print(\"나이는 %d살 입니다\" %old)\n",
    "    if man:\n",
    "        print(\"남자입니다\")\n",
    "    else:\n",
    "        print(\"여자입니다\")"
   ]
  },
  {
   "cell_type": "markdown",
   "id": "a0cb8f5f",
   "metadata": {},
   "source": [
    "초기값을 설정한 매개변수 뒤에 다른 일반 매개변수는 올 수 없음\n",
    "- 120page 마지막 꺠진글씨 -> 초기값을"
   ]
  },
  {
   "cell_type": "code",
   "execution_count": 110,
   "id": "e0a4adc1",
   "metadata": {},
   "outputs": [],
   "source": [
    "def say_myself(name, man=True, old = 22):\n",
    "    print(\"나의 이름은 %s 입니다\" %name)\n",
    "    print(\"나이는 %d살 입니다\" %old)\n",
    "    if man:\n",
    "        print(\"남자입니다\")\n",
    "    else:\n",
    "        print(\"여자입니다\")"
   ]
  },
  {
   "cell_type": "markdown",
   "id": "2e20bc87",
   "metadata": {},
   "source": [
    "- 순서만 잘 지키면 매개변수는 여러개 들어갈 수 있음"
   ]
  },
  {
   "cell_type": "code",
   "execution_count": 112,
   "id": "3253bfb8",
   "metadata": {},
   "outputs": [
    {
     "name": "stdout",
     "output_type": "stream",
     "text": [
      "나의 이름은 허용준 입니다\n",
      "나이는 22살 입니다\n",
      "남자입니다\n"
     ]
    }
   ],
   "source": [
    "say_myself(\"허용준\")"
   ]
  },
  {
   "cell_type": "markdown",
   "id": "f7b07ef6",
   "metadata": {},
   "source": [
    "변수의 유효범위\n",
    "- 변수가 어느 범위까지 유효한지를 나타냄\n",
    " - 함수 내에서 만든 변수는 함수 내(local)에서만 사용가능함(함수 지역변수)\n",
    " - 변수가 함수 밖에서 정의되면 전역(global) 변수가 됨\n",
    "- 전역 변수: 함수 외부에서 정의된 변수, 코드 모든 범위에서 사용 가능\n",
    "- 지역 변수: 함수 내부에서 정의된 변수, 해당 정의된 함수에서만 사용 가능\n",
    "- 호출 순서: 지역 변수 -> 전역 변수"
   ]
  },
  {
   "cell_type": "markdown",
   "id": "fbed2df2",
   "metadata": {},
   "source": [
    "변수의 호출 순서 예제"
   ]
  },
  {
   "cell_type": "code",
   "execution_count": 113,
   "id": "50c14659",
   "metadata": {},
   "outputs": [],
   "source": [
    "str = 'global variable'\n",
    "\n",
    "def func_1():\n",
    "    str = 'local variable'\n",
    "    print(str)"
   ]
  },
  {
   "cell_type": "code",
   "execution_count": 114,
   "id": "ff5d38bc",
   "metadata": {},
   "outputs": [
    {
     "name": "stdout",
     "output_type": "stream",
     "text": [
      "local variable\n"
     ]
    }
   ],
   "source": [
    "func_1()"
   ]
  },
  {
   "cell_type": "code",
   "execution_count": 117,
   "id": "ad55d32a",
   "metadata": {},
   "outputs": [
    {
     "name": "stdout",
     "output_type": "stream",
     "text": [
      "global variable\n"
     ]
    }
   ],
   "source": [
    "print(str)  #함수 밖에서는 전역변수가 나옴"
   ]
  },
  {
   "cell_type": "code",
   "execution_count": 118,
   "id": "a47bcbbd",
   "metadata": {},
   "outputs": [],
   "source": [
    "str = 'global variable'\n",
    "\n",
    "def func_1():\n",
    "    str = 'local variable'\n",
    "    return str\n",
    "    print(str)"
   ]
  },
  {
   "cell_type": "code",
   "execution_count": 121,
   "id": "c1f822a1",
   "metadata": {},
   "outputs": [
    {
     "name": "stdout",
     "output_type": "stream",
     "text": [
      "local variable\n"
     ]
    }
   ],
   "source": [
    "print(func_1())"
   ]
  },
  {
   "cell_type": "code",
   "execution_count": 120,
   "id": "cc6af25f",
   "metadata": {},
   "outputs": [
    {
     "name": "stdout",
     "output_type": "stream",
     "text": [
      "global variable\n"
     ]
    }
   ],
   "source": [
    "print(str)"
   ]
  },
  {
   "cell_type": "markdown",
   "id": "a8e097e8",
   "metadata": {},
   "source": [
    "함수 안에서 함수 밖의 변수를 변경하는 방법(변경 전)"
   ]
  },
  {
   "cell_type": "code",
   "execution_count": 127,
   "id": "cd54fe76",
   "metadata": {},
   "outputs": [],
   "source": [
    "a = 1\n",
    "def vartest(a):\n",
    "    a = a+1\n",
    "    return a"
   ]
  },
  {
   "cell_type": "code",
   "execution_count": 128,
   "id": "3c3a240c",
   "metadata": {},
   "outputs": [
    {
     "name": "stdout",
     "output_type": "stream",
     "text": [
      "1\n",
      "2\n"
     ]
    }
   ],
   "source": [
    "b = vartest(a)\n",
    "print(a)\n",
    "print(b)"
   ]
  },
  {
   "cell_type": "code",
   "execution_count": null,
   "id": "1048e6cd",
   "metadata": {},
   "outputs": [],
   "source": []
  }
 ],
 "metadata": {
  "kernelspec": {
   "display_name": "Python 3",
   "language": "python",
   "name": "python3"
  },
  "language_info": {
   "codemirror_mode": {
    "name": "ipython",
    "version": 3
   },
   "file_extension": ".py",
   "mimetype": "text/x-python",
   "name": "python",
   "nbconvert_exporter": "python",
   "pygments_lexer": "ipython3",
   "version": "3.8.8"
  }
 },
 "nbformat": 4,
 "nbformat_minor": 5
}
