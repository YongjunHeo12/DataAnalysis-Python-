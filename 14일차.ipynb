{
 "cells": [
  {
   "cell_type": "markdown",
   "id": "43b8fe1c",
   "metadata": {},
   "source": [
    "# 인덱스 활용\n",
    "\n",
    "특정 열을 행 인덱스로 설정\n",
    "- set_index() 함수를 사용하여 데이터프레임의 특정 열을 행 인덱스로 설정"
   ]
  },
  {
   "cell_type": "markdown",
   "id": "e4dd69b9",
   "metadata": {},
   "source": [
    "특정 열을 행 인덱스로 설정하는 예제"
   ]
  },
  {
   "cell_type": "code",
   "execution_count": 1,
   "id": "fb6feea5",
   "metadata": {},
   "outputs": [],
   "source": [
    "import pandas as pd\n",
    "\n",
    "exam_data = {'이름':['용준','서은','쭈떠'],\n",
    "            '수학': [90,85,80], \n",
    "            '영어':[100, 80, 70], \n",
    "            '과학':[100, 99, 92], \n",
    "            '국어':[93, 88, 83]}\n",
    "\n",
    "df = pd.DataFrame(exam_data)"
   ]
  },
  {
   "cell_type": "code",
   "execution_count": 2,
   "id": "1ed730d1",
   "metadata": {},
   "outputs": [
    {
     "name": "stdout",
     "output_type": "stream",
     "text": [
      "   이름  수학   영어   과학  국어\n",
      "0  용준  90  100  100  93\n",
      "1  서은  85   80   99  88\n",
      "2  쭈떠  80   70   92  83\n"
     ]
    }
   ],
   "source": [
    "print(df)"
   ]
  },
  {
   "cell_type": "code",
   "execution_count": 3,
   "id": "eba6e8c7",
   "metadata": {},
   "outputs": [],
   "source": [
    "# 특정 열을 데이터프레임의 행 인덱스로 설정\n",
    "ndf = df.set_index('이름')"
   ]
  },
  {
   "cell_type": "code",
   "execution_count": 4,
   "id": "6fb6a535",
   "metadata": {},
   "outputs": [
    {
     "name": "stdout",
     "output_type": "stream",
     "text": [
      "    수학   영어   과학  국어\n",
      "이름                  \n",
      "용준  90  100  100  93\n",
      "서은  85   80   99  88\n",
      "쭈떠  80   70   92  83\n"
     ]
    }
   ],
   "source": [
    "print(ndf)"
   ]
  },
  {
   "cell_type": "code",
   "execution_count": 7,
   "id": "4b665455",
   "metadata": {},
   "outputs": [],
   "source": [
    "# 특정 열을 데이터프레임의 행 인덱스로 설정\n",
    "ndf2 = ndf.set_index('국어')"
   ]
  },
  {
   "cell_type": "code",
   "execution_count": 8,
   "id": "7fe5b4e9",
   "metadata": {},
   "outputs": [
    {
     "name": "stdout",
     "output_type": "stream",
     "text": [
      "    수학   영어   과학\n",
      "국어              \n",
      "93  90  100  100\n",
      "88  85   80   99\n",
      "83  80   70   92\n"
     ]
    }
   ],
   "source": [
    "print(ndf2)"
   ]
  },
  {
   "cell_type": "markdown",
   "id": "dfc6eeda",
   "metadata": {},
   "source": [
    "- 기존 '이름' 행 인덱스는 제거가 된 것으로 확인됨"
   ]
  },
  {
   "cell_type": "code",
   "execution_count": 10,
   "id": "dc8c9760",
   "metadata": {},
   "outputs": [],
   "source": [
    "ndf3 = ndf2.reset_index('국어')"
   ]
  },
  {
   "cell_type": "code",
   "execution_count": 11,
   "id": "fec4d0f8",
   "metadata": {},
   "outputs": [
    {
     "name": "stdout",
     "output_type": "stream",
     "text": [
      "   국어  수학   영어   과학\n",
      "0  93  90  100  100\n",
      "1  88  85   80   99\n",
      "2  83  80   70   92\n"
     ]
    }
   ],
   "source": [
    "print(ndf3)"
   ]
  },
  {
   "cell_type": "markdown",
   "id": "67348c10",
   "metadata": {},
   "source": [
    "- 행 인덱스를 리셋해줘도 전에 지정해둔 행 인덱스가 다시 적용되지 않음"
   ]
  },
  {
   "cell_type": "code",
   "execution_count": 13,
   "id": "76f67671",
   "metadata": {},
   "outputs": [],
   "source": [
    "# 특정 열 2개를 데이터프레임의 행 인덱스로 설정\n",
    "ndf4 = ndf.set_index(['국어','영어'])"
   ]
  },
  {
   "cell_type": "code",
   "execution_count": 14,
   "id": "3ebb3be0",
   "metadata": {},
   "outputs": [
    {
     "name": "stdout",
     "output_type": "stream",
     "text": [
      "        수학   과학\n",
      "국어 영어          \n",
      "93 100  90  100\n",
      "88 80   85   99\n",
      "83 70   80   92\n"
     ]
    }
   ],
   "source": [
    "print(ndf4)"
   ]
  },
  {
   "cell_type": "markdown",
   "id": "fd0f2712",
   "metadata": {},
   "source": [
    "- 두 개의 열을 행 인덱스로 지정 가능"
   ]
  },
  {
   "cell_type": "markdown",
   "id": "e9781e40",
   "metadata": {},
   "source": [
    "행 인덱스 재배열\n",
    "- reindex() 함수를 사용하여 데이터프레임의 행 인덱스를 새로운 t배열로 재지정 가능<br>\n",
    "<code>새로운 배열로 행 인덱스 재지정: DataFrame 객체.reindex()</code>\n",
    "- 기존 데이터프레임에 존재하지 않는 행 인덱스가 새로 추가되는 경우 해당 행의 데이터 값은 NaN 값이 입력됨"
   ]
  },
  {
   "cell_type": "markdown",
   "id": "9925a80e",
   "metadata": {},
   "source": [
    "새로운 배열로 행 인덱스 재지정 예제"
   ]
  },
  {
   "cell_type": "code",
   "execution_count": 15,
   "id": "42423ead",
   "metadata": {},
   "outputs": [],
   "source": [
    "import pandas as pd\n",
    "\n",
    "# key:valuse를 쌍으로 갖는 딕셔너리를 생성, 변수 dict_data에 저장\n",
    "dict_data = {'c0':[1,2,3,], 'c1':[4,5,6], 'c2': [7,8,9],'c3':[10,11,12], 'c4':[13,14,15]}\n",
    "\n",
    "# 판다스 DataFrame 함수로 딕셔너리 -> Df\n",
    "df = pd.DataFrame(dict_data, index=['r0','r1','r2']) #r0 r1 r2\n",
    "\n"
   ]
  },
  {
   "cell_type": "code",
   "execution_count": 16,
   "id": "9165b363",
   "metadata": {},
   "outputs": [
    {
     "name": "stdout",
     "output_type": "stream",
     "text": [
      "    c0  c1  c2  c3  c4\n",
      "r0   1   4   7  10  13\n",
      "r1   2   5   8  11  14\n",
      "r2   3   6   9  12  15\n"
     ]
    }
   ],
   "source": [
    "print(df)"
   ]
  },
  {
   "cell_type": "code",
   "execution_count": 19,
   "id": "b05de631",
   "metadata": {},
   "outputs": [],
   "source": [
    "# 행 인덱스 재배열로 사용될 변수를 지정\n",
    "new_index = ['r0', 'r1']\n",
    "new_index2 = ['r2', 'r3', 'r4']\n",
    "new_index3 = ['r0','r1','r2','r3','r4']"
   ]
  },
  {
   "cell_type": "code",
   "execution_count": 36,
   "id": "fcdd21ff",
   "metadata": {},
   "outputs": [
    {
     "name": "stdout",
     "output_type": "stream",
     "text": [
      "    c0  c1  c2  c3  c4\n",
      "r0   1   4   7  10  13\n",
      "r1   2   5   8  11  14\n"
     ]
    }
   ],
   "source": [
    "# 행 인덱스를 ['r0', 'r1']로 재지정\n",
    "ndf = df.reindex(new_index)\n",
    "print(ndf)"
   ]
  },
  {
   "cell_type": "code",
   "execution_count": 22,
   "id": "fd0043c3",
   "metadata": {},
   "outputs": [
    {
     "name": "stdout",
     "output_type": "stream",
     "text": [
      "     c0   c1   c2    c3    c4\n",
      "r2  3.0  6.0  9.0  12.0  15.0\n",
      "r3  NaN  NaN  NaN   NaN   NaN\n",
      "r4  NaN  NaN  NaN   NaN   NaN\n"
     ]
    }
   ],
   "source": [
    "# 행 인덱스를 ['r3', 'r4', 'r5'] 로 재지정\n",
    "ndf = df.reindex(new_index2)\n",
    "print(ndf)"
   ]
  },
  {
   "cell_type": "markdown",
   "id": "dff384df",
   "metadata": {},
   "source": [
    "- 새로운 행 인덱스로 재지정 할 경우 원소 값이 없으므로 NaN이 된다"
   ]
  },
  {
   "cell_type": "code",
   "execution_count": 33,
   "id": "83049cb2",
   "metadata": {},
   "outputs": [
    {
     "name": "stdout",
     "output_type": "stream",
     "text": [
      "     c0   c1   c2    c3    c4\n",
      "r0  1.0  4.0  7.0  10.0  13.0\n",
      "r1  2.0  5.0  8.0  11.0  14.0\n",
      "r2  3.0  6.0  9.0  12.0  15.0\n",
      "r3  NaN  NaN  NaN   NaN   NaN\n",
      "r4  NaN  NaN  NaN   NaN   NaN\n"
     ]
    }
   ],
   "source": [
    "# 행 인덱스를 ['r0','r1','r2','r3','r4']로 재지정\n",
    "ndf3 = df.reindex(new_index3)\n",
    "print(ndf)"
   ]
  },
  {
   "cell_type": "code",
   "execution_count": 37,
   "id": "320dd32d",
   "metadata": {},
   "outputs": [
    {
     "name": "stdout",
     "output_type": "stream",
     "text": [
      "<class 'numpy.float64'>\n",
      "<class 'numpy.int64'>\n"
     ]
    }
   ],
   "source": [
    "print(type(ndf3.loc['r0','c0']))\n",
    "print(type(ndf.loc['r0','c0']))"
   ]
  },
  {
   "cell_type": "code",
   "execution_count": 73,
   "id": "fe6a4081",
   "metadata": {},
   "outputs": [
    {
     "name": "stdout",
     "output_type": "stream",
     "text": [
      "     c2   c1    c4   c0    c3\n",
      "r0  7.0  4.0  13.0  1.0  10.0\n",
      "r1  8.0  5.0  14.0  2.0  11.0\n",
      "r2  9.0  6.0  15.0  3.0  12.0\n",
      "r3  NaN  NaN   NaN  NaN   NaN\n",
      "r4  NaN  NaN   NaN  NaN   NaN\n"
     ]
    }
   ],
   "source": [
    "# 열 순서 변경\n",
    "# columns 옵션 사용\n",
    "ndf4 = ndf3.reindex(columns= ['c2','c1','c4','c0','c3'])\n",
    "print(ndf4)"
   ]
  },
  {
   "cell_type": "markdown",
   "id": "6c5e90e2",
   "metadata": {},
   "source": [
    "행 인덱스 초기화\n",
    "- reset_index() 함수를 활용하여 행 인덱스를 정수형 위치 인덱스로 초기화(기존 행 인덱스는 열로 이동)<br>\n",
    "<code>정수형 위치 인덱스로 초기화: DataFrame객체.reset_index()"
   ]
  },
  {
   "cell_type": "markdown",
   "id": "778e51b3",
   "metadata": {},
   "source": [
    "행 인덱스를 정수형 위치 인덱스로 초기화 하는 예쩨"
   ]
  },
  {
   "cell_type": "code",
   "execution_count": 38,
   "id": "0ac844bf",
   "metadata": {},
   "outputs": [],
   "source": [
    "import pandas as pd\n",
    "\n",
    "# key:valuse를 쌍으로 갖는 딕셔너리를 생성, 변수 dict_data에 저장\n",
    "dict_data = {'c0':[1,2,3,], 'c1':[4,5,6], 'c2': [7,8,9],'c3':[10,11,12], 'c4':[13,14,15]}\n",
    "\n",
    "# 판다스 DataFrame 함수로 딕셔너리 -> Df\n",
    "df = pd.DataFrame(dict_data, index=['r0','r1','r2']) #r0 r1 r2\n",
    "\n"
   ]
  },
  {
   "cell_type": "code",
   "execution_count": 39,
   "id": "d151c55d",
   "metadata": {},
   "outputs": [
    {
     "name": "stdout",
     "output_type": "stream",
     "text": [
      "    c0  c1  c2  c3  c4\n",
      "r0   1   4   7  10  13\n",
      "r1   2   5   8  11  14\n",
      "r2   3   6   9  12  15\n"
     ]
    }
   ],
   "source": [
    "print(df)"
   ]
  },
  {
   "cell_type": "code",
   "execution_count": 48,
   "id": "1f4df1e6",
   "metadata": {},
   "outputs": [
    {
     "name": "stdout",
     "output_type": "stream",
     "text": [
      "  index  c0  c1  c2  c3  c4\n",
      "0    r0   1   4   7  10  13\n",
      "1    r1   2   5   8  11  14\n",
      "2    r2   3   6   9  12  15\n"
     ]
    }
   ],
   "source": [
    "# 행 인덱스를 정수형으로 초기화\n",
    "ndf = df.reset_index()\n",
    "print(ndf)"
   ]
  },
  {
   "cell_type": "code",
   "execution_count": 49,
   "id": "ab20c3db",
   "metadata": {},
   "outputs": [],
   "source": [
    "ndf = ndf.set_index('index')"
   ]
  },
  {
   "cell_type": "code",
   "execution_count": 50,
   "id": "4ca31b5a",
   "metadata": {},
   "outputs": [
    {
     "name": "stdout",
     "output_type": "stream",
     "text": [
      "       c0  c1  c2  c3  c4\n",
      "index                    \n",
      "r0      1   4   7  10  13\n",
      "r1      2   5   8  11  14\n",
      "r2      3   6   9  12  15\n"
     ]
    }
   ],
   "source": [
    "print(ndf)"
   ]
  },
  {
   "cell_type": "markdown",
   "id": "6173e510",
   "metadata": {},
   "source": [
    "행 인덱스를 기준으로 데이터프레임 정렬\n",
    "- sort_index()함수를 사용하여 행 인덱스를 기준으로 데이터프레임의 값을 정렬\n",
    " - ascending 옵션을 사용하여 오름차순 또는 내림차순으로 설정<br>\n",
    " acsending = True -> 오름차순 , False -> 내림차순<br>\n",
    "<code>행 인덱스 기준 정렬: DataFrame 객체.sort_index()</code>"
   ]
  },
  {
   "cell_type": "markdown",
   "id": "747df018",
   "metadata": {},
   "source": [
    "행 인덱스를 기준으로 데이터프레임 정렬 예제"
   ]
  },
  {
   "cell_type": "code",
   "execution_count": 51,
   "id": "1d0aeedb",
   "metadata": {},
   "outputs": [],
   "source": [
    "import pandas as pd\n",
    "\n",
    "# key:valuse를 쌍으로 갖는 딕셔너리를 생성, 변수 dict_data에 저장\n",
    "dict_data = {'c0':[1,2,3,], 'c1':[4,5,6], 'c2': [7,8,9],'c3':[10,11,12], 'c4':[13,14,15]}\n",
    "\n",
    "# 판다스 DataFrame 함수로 딕셔너리 -> Df\n",
    "df = pd.DataFrame(dict_data, index=['r0','r1','r2']) #r0 r1 r2\n",
    "\n"
   ]
  },
  {
   "cell_type": "code",
   "execution_count": 52,
   "id": "a91dd13b",
   "metadata": {},
   "outputs": [
    {
     "name": "stdout",
     "output_type": "stream",
     "text": [
      "    c0  c1  c2  c3  c4\n",
      "r0   1   4   7  10  13\n",
      "r1   2   5   8  11  14\n",
      "r2   3   6   9  12  15\n"
     ]
    }
   ],
   "source": [
    "print(df)"
   ]
  },
  {
   "cell_type": "code",
   "execution_count": 53,
   "id": "da15c8a2",
   "metadata": {},
   "outputs": [],
   "source": [
    "# 내림차순으로 행 인덱스 정렬\n",
    "ndf = df.sort_index(ascending=False)"
   ]
  },
  {
   "cell_type": "code",
   "execution_count": 55,
   "id": "49ba6e60",
   "metadata": {},
   "outputs": [
    {
     "name": "stdout",
     "output_type": "stream",
     "text": [
      "    c0  c1  c2  c3  c4\n",
      "r2   3   6   9  12  15\n",
      "r1   2   5   8  11  14\n",
      "r0   1   4   7  10  13\n"
     ]
    }
   ],
   "source": [
    "print(ndf)"
   ]
  },
  {
   "cell_type": "code",
   "execution_count": 56,
   "id": "71167af9",
   "metadata": {},
   "outputs": [],
   "source": [
    "ndf2 = ndf.sort_index()"
   ]
  },
  {
   "cell_type": "code",
   "execution_count": 57,
   "id": "a7cbde4b",
   "metadata": {},
   "outputs": [
    {
     "name": "stdout",
     "output_type": "stream",
     "text": [
      "    c0  c1  c2  c3  c4\n",
      "r0   1   4   7  10  13\n",
      "r1   2   5   8  11  14\n",
      "r2   3   6   9  12  15\n"
     ]
    }
   ],
   "source": [
    "print(ndf2)"
   ]
  },
  {
   "cell_type": "markdown",
   "id": "4442a263",
   "metadata": {},
   "source": [
    "특정 열의 데이터 값을 기준으로 데이터프레임 정렬\n",
    "- sort_values()함수를 사용하여 특정 열의 데이터를 기준으로 데이터프레임의 값을 정렬\n",
    " - ascending 옵션을 사용하여 오름차순 또는 내림차순으로 설정<br>\n",
    " acsending = True -> 오름차순 , False -> 내림차순<br>\n",
    "<code>행 인덱스 기준 정렬: DataFrame 객체.sort_values()</code>"
   ]
  },
  {
   "cell_type": "code",
   "execution_count": 64,
   "id": "5756dbc0",
   "metadata": {},
   "outputs": [],
   "source": [
    "import pandas as pd\n",
    "\n",
    "# key:valuse를 쌍으로 갖는 딕셔너리를 생성, 변수 dict_data에 저장\n",
    "dict_data = {'c0':[1,2,3], 'c1':[6,4,5], 'c2': [7,8,9],'c3':[10,11,12], 'c4':[13,14,15]}\n",
    "\n",
    "# 판다스 DataFrame 함수로 딕셔너리 -> Df\n",
    "df = pd.DataFrame(dict_data, index=['r0','r1','r2']) #r0 r1 r2\n",
    "\n"
   ]
  },
  {
   "cell_type": "code",
   "execution_count": 65,
   "id": "cb36b9c1",
   "metadata": {},
   "outputs": [
    {
     "name": "stdout",
     "output_type": "stream",
     "text": [
      "    c0  c1  c2  c3  c4\n",
      "r0   1   6   7  10  13\n",
      "r1   2   4   8  11  14\n",
      "r2   3   5   9  12  15\n"
     ]
    }
   ],
   "source": [
    "print(df)"
   ]
  },
  {
   "cell_type": "markdown",
   "id": "0842a203",
   "metadata": {},
   "source": [
    "열 기준 정렬 예제"
   ]
  },
  {
   "cell_type": "code",
   "execution_count": 69,
   "id": "5790d4f0",
   "metadata": {},
   "outputs": [
    {
     "name": "stdout",
     "output_type": "stream",
     "text": [
      "    c0  c1  c2  c3  c4\n",
      "r0   1   6   7  10  13\n",
      "r2   3   5   9  12  15\n",
      "r1   2   4   8  11  14\n"
     ]
    }
   ],
   "source": [
    "# c1 열을 기준으로 내림차순 정렬\n",
    "ndf = df.sort_values(by = 'c1', ascending=False)\n",
    "print(ndf)"
   ]
  },
  {
   "cell_type": "code",
   "execution_count": 71,
   "id": "4a38e0dc",
   "metadata": {},
   "outputs": [
    {
     "name": "stdout",
     "output_type": "stream",
     "text": [
      "    c0  c1  c2  c3  c4\n",
      "r1   2   4   8  11  14\n",
      "r2   3   5   9  12  15\n",
      "r0   1   6   7  10  13\n"
     ]
    }
   ],
   "source": [
    "# c1 열을 기준으로 오름차순 정렬\n",
    "ndf = df.sort_values(by = 'c1', ascending=True)\n",
    "print(ndf)"
   ]
  },
  {
   "cell_type": "markdown",
   "id": "3ad268e6",
   "metadata": {},
   "source": [
    "많은 열 중에 특정 두 열의 위치를 바꾸고 싶으면?\n",
    "\n",
    "1. reindex로 새로운 열 배열이 지정된 데이터프레임을 생성\n",
    "2. 바뀐 데이터프레임과 나눠진 기존 데이터프레임을 결합(concat 사용)"
   ]
  },
  {
   "cell_type": "markdown",
   "id": "d04b5d2f",
   "metadata": {},
   "source": [
    "# 외부 파일 읽어오기\n",
    "- 판다스는 다양한 형태의 외부 파일을 읽어와 데이터프레임으로 변환하는 함수를 제공\n",
    "- 어떤 파일이든 판다스 객체인 데이터프레임으로 변환되면 판다스의 모든 함수와 기능을 자유롭게 사용 가능\n",
    "- 데이터 프레임을 다양한 유형의 파일로 저장 가능\n",
    " - CSV, JSON, HTML, MS Excel, SQL, ..."
   ]
  },
  {
   "cell_type": "markdown",
   "id": "2e27c590",
   "metadata": {},
   "source": [
    "## csv 파일\n",
    "- comma-separated values 의 약자\n",
    " - 데이터 값을 쉼표(,)로 구분하고 있다는 의미를 가진 파일\n",
    "- CSV 파일 -> 데이터프레임 <br>\n",
    "<code>pandas.read_csv(\"파일 경로(이름).csv\")</code>"
   ]
  },
  {
   "cell_type": "markdown",
   "id": "982d01ec",
   "metadata": {},
   "source": [
    "csv 파일 읽기 예제"
   ]
  },
  {
   "cell_type": "code",
   "execution_count": 86,
   "id": "829d1bfc",
   "metadata": {},
   "outputs": [],
   "source": [
    "import pandas as pd\n",
    "\n",
    "# 파일 경로를 찾고, 변수 file_path에 저장\n",
    "file_path = './read_test.csv'"
   ]
  },
  {
   "cell_type": "code",
   "execution_count": 87,
   "id": "3bd4521d",
   "metadata": {},
   "outputs": [
    {
     "name": "stdout",
     "output_type": "stream",
     "text": [
      "   c0  c1  c2  c3\n",
      "0   0   1   4   7\n",
      "1   1   2   5   8\n",
      "2   2   3   6   9\n"
     ]
    }
   ],
   "source": [
    "# read_csv() 함수로 데이터프레임 변환, 변수 df1에 저장\n",
    "df1 = pd.read_csv(file_path)\n",
    "print(df1)"
   ]
  },
  {
   "cell_type": "code",
   "execution_count": 88,
   "id": "f8a2d49b",
   "metadata": {},
   "outputs": [
    {
     "name": "stdout",
     "output_type": "stream",
     "text": [
      "    0   1   2   3\n",
      "0  c0  c1  c2  c3\n",
      "1   0   1   4   7\n",
      "2   1   2   5   8\n",
      "3   2   3   6   9\n"
     ]
    }
   ],
   "source": [
    "# read_csv() 함수로 데이터프레임 변환, 변수 df2에 저장, header = None 옵션 사용\n",
    "df2 = pd.read_csv(file_path, header = None) # --> 헤더 c를 헤더로 인식하지 않음\n",
    "print(df2)"
   ]
  },
  {
   "cell_type": "code",
   "execution_count": 89,
   "id": "b3d2867a",
   "metadata": {},
   "outputs": [
    {
     "name": "stdout",
     "output_type": "stream",
     "text": [
      "   c0  c1  c2  c3\n",
      "0   0   1   4   7\n",
      "1   1   2   5   8\n",
      "2   2   3   6   9\n"
     ]
    }
   ],
   "source": [
    "# read_csv() 함수로 데이터프레임 변환, 변수 df3에 저장, index_col = None 옵션 사용\n",
    "df3 = pd.read_csv(file_path, index_col = None) \n",
    "print(df3)"
   ]
  },
  {
   "cell_type": "code",
   "execution_count": 90,
   "id": "1ad21529",
   "metadata": {},
   "outputs": [
    {
     "name": "stdout",
     "output_type": "stream",
     "text": [
      "    c1  c2  c3\n",
      "c0            \n",
      "0    1   4   7\n",
      "1    2   5   8\n",
      "2    3   6   9\n"
     ]
    }
   ],
   "source": [
    "# read_csv() 함수로 데이터프레임 변환, 변수 df4에 저장, index_col = 'c0' 옵션 사용\n",
    "df4 = pd.read_csv(file_path, index_col = 'c0') \n",
    "print(df4)"
   ]
  },
  {
   "cell_type": "markdown",
   "id": "d9a0d082",
   "metadata": {},
   "source": [
    "## Excel 파일\n",
    "- Excel 파일(확장자.xlsx)의 행과 열은 데이터프레임의 행, 열로 일대일 대응\n",
    "- Excel 파일 -> 데이터프레임<br>\n",
    "<code>pandas.read_excel(\"파일 경로(이름).xlsx\")</code>\n",
    "<br>파일명: 남북한발전전력량.xlsx\n",
    "<br>자료 출처: KOSIS(통계청), 2021.09.30"
   ]
  },
  {
   "cell_type": "markdown",
   "id": "0cd18151",
   "metadata": {},
   "source": [
    "- xlsx 파일을 읽어오지 못할 경우 read_excel() 함수 옵션으로 engine='openpyxl'을 사용"
   ]
  },
  {
   "cell_type": "code",
   "execution_count": 93,
   "id": "2a67b53f",
   "metadata": {},
   "outputs": [
    {
     "name": "stdout",
     "output_type": "stream",
     "text": [
      "  전력량 (억㎾h) 발전 전력별  1990  1991  1992  1993  1994  1995  1996  1997  ...  2007  \\\n",
      "0        남한     합계  1077  1186  1310  1444  1650  1847  2055  2244  ...  4031   \n",
      "1       NaN     수력    64    51    49    60    41    55    52    54  ...    50   \n",
      "2       NaN     화력   484   573   696   803  1022  1122  1264  1420  ...  2551   \n",
      "3       NaN    원자력   529   563   565   581   587   670   739   771  ...  1429   \n",
      "4       NaN    신재생     -     -     -     -     -     -     -     -  ...     -   \n",
      "5        북한     합계   277   263   247   221   231   230   213   193  ...   236   \n",
      "6       NaN     수력   156   150   142   133   138   142   125   107  ...   133   \n",
      "7       NaN     화력   121   113   105    88    93    88    88    86  ...   103   \n",
      "8       NaN    원자력     -     -     -     -     -     -     -     -  ...     -   \n",
      "\n",
      "   2008  2009  2010  2011  2012  2013  2014  2015  2016  \n",
      "0  4224  4336  4747  4969  5096  5171  5220  5281  5404  \n",
      "1    56    56    65    78    77    84    78    58    66  \n",
      "2  2658  2802  3196  3343  3430  3581  3427  3402  3523  \n",
      "3  1510  1478  1486  1547  1503  1388  1564  1648  1620  \n",
      "4     -     -     -     -    86   118   151   173   195  \n",
      "5   255   235   237   211   215   221   216   190   239  \n",
      "6   141   125   134   132   135   139   130   100   128  \n",
      "7   114   110   103    79    80    82    86    90   111  \n",
      "8     -     -     -     -     -     -     -     -     -  \n",
      "\n",
      "[9 rows x 29 columns]\n"
     ]
    }
   ],
   "source": [
    "import pandas as pd\n",
    "\n",
    "# read_excel()함수로 데이터프레임 변환\n",
    "df1 = pd.read_excel('./남북한발전전력량.xlsx')\n",
    "df2 = pd.read_excel('./남북한발전전력량.xlsx', header = None)\n",
    "print(df1)"
   ]
  },
  {
   "cell_type": "code",
   "execution_count": 94,
   "id": "d94c61d0",
   "metadata": {},
   "outputs": [
    {
     "name": "stdout",
     "output_type": "stream",
     "text": [
      "          0       1     2     3     4     5     6     7     8     9   ...  \\\n",
      "0  전력량 (억㎾h)  발전 전력별  1990  1991  1992  1993  1994  1995  1996  1997  ...   \n",
      "1         남한      합계  1077  1186  1310  1444  1650  1847  2055  2244  ...   \n",
      "2        NaN      수력    64    51    49    60    41    55    52    54  ...   \n",
      "3        NaN      화력   484   573   696   803  1022  1122  1264  1420  ...   \n",
      "4        NaN     원자력   529   563   565   581   587   670   739   771  ...   \n",
      "5        NaN     신재생     -     -     -     -     -     -     -     -  ...   \n",
      "6         북한      합계   277   263   247   221   231   230   213   193  ...   \n",
      "7        NaN      수력   156   150   142   133   138   142   125   107  ...   \n",
      "8        NaN      화력   121   113   105    88    93    88    88    86  ...   \n",
      "9        NaN     원자력     -     -     -     -     -     -     -     -  ...   \n",
      "\n",
      "     19    20    21    22    23    24    25    26    27    28  \n",
      "0  2007  2008  2009  2010  2011  2012  2013  2014  2015  2016  \n",
      "1  4031  4224  4336  4747  4969  5096  5171  5220  5281  5404  \n",
      "2    50    56    56    65    78    77    84    78    58    66  \n",
      "3  2551  2658  2802  3196  3343  3430  3581  3427  3402  3523  \n",
      "4  1429  1510  1478  1486  1547  1503  1388  1564  1648  1620  \n",
      "5     -     -     -     -     -    86   118   151   173   195  \n",
      "6   236   255   235   237   211   215   221   216   190   239  \n",
      "7   133   141   125   134   132   135   139   130   100   128  \n",
      "8   103   114   110   103    79    80    82    86    90   111  \n",
      "9     -     -     -     -     -     -     -     -     -     -  \n",
      "\n",
      "[10 rows x 29 columns]\n"
     ]
    }
   ],
   "source": [
    "print(df2)"
   ]
  },
  {
   "cell_type": "markdown",
   "id": "bfedf83e",
   "metadata": {},
   "source": [
    "## JSON 파일\n",
    "- JSON 파일(확장자 .json)은 데이터 공유 목적으로 개발된 특수한 파일 형식\n",
    "- 파이썬 딕셔너리와 비슷하게 'key:value' 구조를 가짐<br>\n",
    "<code>pandas.read_json(\"파일 경로(이름).json\")</code>"
   ]
  },
  {
   "cell_type": "code",
   "execution_count": 95,
   "id": "63464770",
   "metadata": {},
   "outputs": [],
   "source": [
    "import pandas as pd\n",
    "\n",
    "# read_json() 함수로 데이터 프레임 변환\n",
    "df = pd.read_json(\"./read_test.json\")"
   ]
  },
  {
   "cell_type": "code",
   "execution_count": 97,
   "id": "bb43773b",
   "metadata": {},
   "outputs": [
    {
     "name": "stdout",
     "output_type": "stream",
     "text": [
      "           name  year        developer opensource\n",
      "pandas           2008    Wes Mckinneye       True\n",
      "NumPy            2006  Travis Oliphant       True\n",
      "matplotlib       2003   John D. Hunter       True\n"
     ]
    }
   ],
   "source": [
    "print(df)"
   ]
  },
  {
   "cell_type": "markdown",
   "id": "e0ad0cd2",
   "metadata": {},
   "source": [
    "# 산술 연산\n",
    " - 판다스 객체의 산술 연산 3단계 프로세스(내부)\n",
    " \n",
    " 1. 행/열 인덱스를 기준으로 모든 원소를 정렬\n",
    " 2. 일대일로 대응되는 원소끼리 연산\n",
    " 3. 대응되는 원소가 없으면 NaN"
   ]
  },
  {
   "cell_type": "markdown",
   "id": "8e642683",
   "metadata": {},
   "source": [
    "## 시리즈 연산"
   ]
  },
  {
   "cell_type": "markdown",
   "id": "ecb3b830",
   "metadata": {},
   "source": [
    "시리즈 vs 숫자\n",
    "- 시리즈 객체에 연산을 하면 계산된 결과를 객체로 반환\n",
    "<code>시리즈와 숫자 연산: Serise객체 + 사칙연산자 + 숫자"
   ]
  },
  {
   "cell_type": "markdown",
   "id": "04d4ccbb",
   "metadata": {},
   "source": [
    "시리즈를 숫자로 나누기 예제"
   ]
  },
  {
   "cell_type": "code",
   "execution_count": 1,
   "id": "19e8b8dc",
   "metadata": {},
   "outputs": [],
   "source": [
    "import pandas as pd\n",
    "\n",
    "# 딕셔너리 데이터로 판다스 시리즈 만들기\n",
    "student1 = pd.Series({'국어':100, '영어':80, '수학':90})"
   ]
  },
  {
   "cell_type": "code",
   "execution_count": 2,
   "id": "4a399934",
   "metadata": {},
   "outputs": [
    {
     "name": "stdout",
     "output_type": "stream",
     "text": [
      "국어    100\n",
      "영어     80\n",
      "수학     90\n",
      "dtype: int64\n"
     ]
    }
   ],
   "source": [
    "print(student1)"
   ]
  },
  {
   "cell_type": "code",
   "execution_count": 3,
   "id": "7bba7309",
   "metadata": {},
   "outputs": [],
   "source": [
    "# 학생의 과목별 점수를 100으로 나누기\n",
    "percentage = student1 / 100"
   ]
  },
  {
   "cell_type": "code",
   "execution_count": 4,
   "id": "15dd6a53",
   "metadata": {},
   "outputs": [
    {
     "name": "stdout",
     "output_type": "stream",
     "text": [
      "국어    1.0\n",
      "영어    0.8\n",
      "수학    0.9\n",
      "dtype: float64\n"
     ]
    }
   ],
   "source": [
    "print(percentage)"
   ]
  },
  {
   "cell_type": "markdown",
   "id": "0ccd6001",
   "metadata": {},
   "source": [
    "시리즈 vs 시리즈<br>\n",
    "<code>시리즈와 시리즈 연산: Series 객체1 + 연산자(+, -, *, /) + Series객체2</code>"
   ]
  },
  {
   "cell_type": "markdown",
   "id": "77e87014",
   "metadata": {},
   "source": [
    "시리즈 사칙연산 예제"
   ]
  },
  {
   "cell_type": "code",
   "execution_count": 9,
   "id": "fdc65e0a",
   "metadata": {},
   "outputs": [],
   "source": [
    "import pandas as pd\n",
    "\n",
    "# 딕셔너리 데이터로 판다스 시리즈 만들기\n",
    "student1 = pd.Series({'국어':100, '영어':80, '수학':90})\n",
    "student2 = pd.Series({'국어':80, '영어':90, '수학':80})\n",
    "\n",
    "# 두 학생의 과목별 점수로 사칙연산 수행\n",
    "add = student1 + student2\n",
    "sub = student1 - student2\n",
    "mult = student1 * student2\n",
    "div = student1 / student2\n",
    "\n",
    "# 사칙연산 결과를 데이터프레임으로 합치기(시리즈 -> 데이터프레임)\n",
    "result = pd.DataFrame([add,sub,mult,div],\n",
    "                     index = ['덧셈','뺄셈','곱셈','나눗셈'])\n"
   ]
  },
  {
   "cell_type": "code",
   "execution_count": 10,
   "id": "9bf8d1d5",
   "metadata": {},
   "outputs": [
    {
     "name": "stdout",
     "output_type": "stream",
     "text": [
      "국어    100\n",
      "영어     80\n",
      "수학     90\n",
      "dtype: int64\n",
      "국어    80\n",
      "영어    90\n",
      "수학    80\n",
      "dtype: int64\n",
      "          국어           영어        수학\n",
      "덧셈    180.00   170.000000   170.000\n",
      "뺄셈     20.00   -10.000000    10.000\n",
      "곱셈   8000.00  7200.000000  7200.000\n",
      "나눗셈     1.25     0.888889     1.125\n"
     ]
    }
   ],
   "source": [
    "print(student1)\n",
    "print(student2)\n",
    "print(result)"
   ]
  },
  {
   "cell_type": "markdown",
   "id": "e3a68806",
   "metadata": {},
   "source": [
    "- 시리즈의 인덱스에 해당하는 부분이 데이터프레임의 열 자리에 오게 됨"
   ]
  },
  {
   "cell_type": "code",
   "execution_count": 11,
   "id": "a5d9e6c3",
   "metadata": {},
   "outputs": [],
   "source": [
    "import pandas as pd\n",
    "import numpy as np\n",
    "\n",
    "# 딕셔너리 데이터로 판다스 시리즈 만들기\n",
    "student1 = pd.Series({'국어':100, '영어':80, '수학':90})\n",
    "student2 = pd.Series({'수학':80, '국어':80})\n",
    "\n",
    "# 두 학생의 과목별 점수로 사칙연산 수행\n",
    "add = student1 + student2\n",
    "sub = student1 - student2\n",
    "mult = student1 * student2\n",
    "div = student1 / student2\n",
    "\n",
    "# 사칙연산 결과를 데이터프레임으로 합치기(시리즈 -> 데이터프레임)\n",
    "result = pd.DataFrame([add,sub,mult,div],\n",
    "                     index = ['덧셈','뺄셈','곱셈','나눗셈'])\n"
   ]
  },
  {
   "cell_type": "code",
   "execution_count": 12,
   "id": "00479837",
   "metadata": {},
   "outputs": [
    {
     "name": "stdout",
     "output_type": "stream",
     "text": [
      "국어    100\n",
      "영어     80\n",
      "수학     90\n",
      "dtype: int64\n"
     ]
    }
   ],
   "source": [
    "print(student1)"
   ]
  },
  {
   "cell_type": "code",
   "execution_count": 13,
   "id": "1ead779d",
   "metadata": {},
   "outputs": [
    {
     "name": "stdout",
     "output_type": "stream",
     "text": [
      "수학    80\n",
      "국어    80\n",
      "dtype: int64\n"
     ]
    }
   ],
   "source": [
    "print(student2)"
   ]
  },
  {
   "cell_type": "code",
   "execution_count": 14,
   "id": "50e4e782",
   "metadata": {},
   "outputs": [
    {
     "name": "stdout",
     "output_type": "stream",
     "text": [
      "          국어        수학  영어\n",
      "덧셈    180.00   170.000 NaN\n",
      "뺄셈     20.00    10.000 NaN\n",
      "곱셈   8000.00  7200.000 NaN\n",
      "나눗셈     1.25     1.125 NaN\n"
     ]
    }
   ],
   "source": [
    "print(result)"
   ]
  },
  {
   "cell_type": "markdown",
   "id": "d154430d",
   "metadata": {},
   "source": [
    "연산 메소드\n",
    "- 연산 결과가 NaN으로 반환되지 않도록 하기 위해 연산 메소드에 fill_value 옵션을 설정하여 적용<br>\n",
    "<code> Serise 객체.사칙연산(Serise 객체,fill_value = 0)</code>"
   ]
  },
  {
   "cell_type": "code",
   "execution_count": 19,
   "id": "eca3e95c",
   "metadata": {},
   "outputs": [],
   "source": [
    "import pandas as pd\n",
    "import numpy as np\n",
    "\n",
    "# 딕셔너리 데이터로 판다스 시리즈 만들기\n",
    "student1 = pd.Series({'국어':np.nan, '영어':80, '수학':90})\n",
    "student2 = pd.Series({'수학':80, '국어':80})\n",
    "\n",
    "# 두 학생의 과목별 점수로 사칙연산 수행\n",
    "sr_add = student1.add(student2, fill_value = 0)\n",
    "sr_sub = student1.sub(student2, fill_value = 0)\n",
    "sr_mult = student1.mul(student2, fill_value = 0)\n",
    "sr_div = student1.div(student2, fill_value = 0)\n",
    "\n",
    "# 사칙연산 결과를 데이터프레임으로 합치기(시리즈 -> 데이터프레임)\n",
    "result = pd.DataFrame([sr_add,sr_sub,sr_mult,sr_div],\n",
    "                     index = ['덧셈','뺄셈','곱셈','나눗셈'])\n"
   ]
  },
  {
   "cell_type": "code",
   "execution_count": 20,
   "id": "07f0c291",
   "metadata": {},
   "outputs": [
    {
     "name": "stdout",
     "output_type": "stream",
     "text": [
      "       국어        수학    영어\n",
      "덧셈   80.0   170.000  80.0\n",
      "뺄셈  -80.0    10.000  80.0\n",
      "곱셈    0.0  7200.000   0.0\n",
      "나눗셈   0.0     1.125   inf\n"
     ]
    }
   ],
   "source": [
    "print(result)"
   ]
  },
  {
   "cell_type": "markdown",
   "id": "24ec15e2",
   "metadata": {},
   "source": [
    "- '영어' 열의 나눗셈 값은 80을 0으로 나누어서 inf(infinite)로 표기"
   ]
  },
  {
   "cell_type": "markdown",
   "id": "8e8ef182",
   "metadata": {},
   "source": [
    "## 데이터프레임 연산\n",
    "- 데이터프레임은 여러 시리즈가 한곳에 모인 것\n",
    "- 행/열 인덱스를 정렬하고 일대일 대응되는 원소끼리 연산 처리"
   ]
  },
  {
   "cell_type": "markdown",
   "id": "c693b276",
   "metadata": {},
   "source": [
    "데이터프레임 vs 숫자<br>\n",
    "<code>데이터프레임과 숫자 연산: DataFrame 객체 + 연산기호 + 숫자</code>"
   ]
  },
  {
   "cell_type": "markdown",
   "id": "6f9810f3",
   "metadata": {},
   "source": [
    "데이터프레임에 숫자 더하기 예제"
   ]
  },
  {
   "cell_type": "code",
   "execution_count": 22,
   "id": "1af682ab",
   "metadata": {},
   "outputs": [],
   "source": [
    "import pandas as pd\n",
    "import seaborn as sns\n",
    "\n",
    "# titanic 데이터셋에서 age, fare 2개 열을 선택하여 데이터프레임 만들기\n",
    "titanic = sns.load_dataset('titanic')\n",
    "df = titanic.loc[:,['age', 'fare']]\n"
   ]
  },
  {
   "cell_type": "code",
   "execution_count": 24,
   "id": "b4eff3c6",
   "metadata": {},
   "outputs": [
    {
     "name": "stdout",
     "output_type": "stream",
     "text": [
      "    age     fare\n",
      "0  22.0   7.2500\n",
      "1  38.0  71.2833\n",
      "2  26.0   7.9250\n",
      "3  35.0  53.1000\n",
      "4  35.0   8.0500\n"
     ]
    }
   ],
   "source": [
    "# 첫 5행만 표시\n",
    "print(df.head())"
   ]
  },
  {
   "cell_type": "code",
   "execution_count": 25,
   "id": "f72f633c",
   "metadata": {},
   "outputs": [],
   "source": [
    "# 데이터프레임에 숫자 10 더하기\n",
    "addition = df + 10"
   ]
  },
  {
   "cell_type": "code",
   "execution_count": 29,
   "id": "1c477865",
   "metadata": {},
   "outputs": [
    {
     "name": "stdout",
     "output_type": "stream",
     "text": [
      "    age     fare\n",
      "0  32.0  17.2500\n",
      "1  48.0  81.2833\n",
      "2  36.0  17.9250\n",
      "3  45.0  63.1000\n",
      "4  45.0  18.0500\n"
     ]
    }
   ],
   "source": [
    "print(addition.head())"
   ]
  },
  {
   "cell_type": "code",
   "execution_count": 35,
   "id": "8a445239",
   "metadata": {},
   "outputs": [
    {
     "name": "stdout",
     "output_type": "stream",
     "text": [
      "      age   fare\n",
      "886  37.0  23.00\n",
      "887  29.0  40.00\n",
      "888   NaN  33.45\n",
      "889  36.0  40.00\n",
      "890  42.0  17.75\n"
     ]
    }
   ],
   "source": [
    "print(addition.tail())"
   ]
  },
  {
   "cell_type": "markdown",
   "id": "ce7af6e6",
   "metadata": {},
   "source": [
    "데이터프레임 vs 데이터프레임\n",
    "- 각 데이터프레임의 같은 행, 같은 열 위치에 있는 원소끼리 계산\n",
    "- 데이터프레임에서 어느 한 쪽에 원소가 존재하지 않거나 NaN이면 연산 결과로 NaN으로 처리됨<br>\n",
    "<code>데이터프레임의 연산자 활용: DataFrame 객체1 + 사칙연산 + DataFrame 객체2</code>"
   ]
  },
  {
   "cell_type": "code",
   "execution_count": 30,
   "id": "453a3c39",
   "metadata": {},
   "outputs": [],
   "source": [
    "import pandas as pd\n",
    "import seaborn as sns\n",
    "\n",
    "# titanic 데이터셋에서 age, fare 2개 열을 선택하여 데이터프레임 만들기\n",
    "titanic = sns.load_dataset('titanic')\n",
    "df = titanic.loc[:,['age', 'fare']]\n",
    "\n",
    "# 데이터프레임에 숫자 10 더하기\n",
    "addition = df + 10"
   ]
  },
  {
   "cell_type": "code",
   "execution_count": 31,
   "id": "667cd437",
   "metadata": {},
   "outputs": [],
   "source": [
    "# 데이터프레임끼리 연산하기\n",
    "subtraction = addition - df"
   ]
  },
  {
   "cell_type": "code",
   "execution_count": 33,
   "id": "20d306d2",
   "metadata": {},
   "outputs": [
    {
     "name": "stdout",
     "output_type": "stream",
     "text": [
      "    age  fare\n",
      "0  10.0  10.0\n",
      "1  10.0  10.0\n",
      "2  10.0  10.0\n",
      "3  10.0  10.0\n",
      "4  10.0  10.0\n"
     ]
    }
   ],
   "source": [
    "print(subtraction.head())"
   ]
  },
  {
   "cell_type": "code",
   "execution_count": 34,
   "id": "d9b3b379",
   "metadata": {},
   "outputs": [
    {
     "name": "stdout",
     "output_type": "stream",
     "text": [
      "      age  fare\n",
      "886  10.0  10.0\n",
      "887  10.0  10.0\n",
      "888   NaN  10.0\n",
      "889  10.0  10.0\n",
      "890  10.0  10.0\n"
     ]
    }
   ],
   "source": [
    "print(subtraction.tail())"
   ]
  },
  {
   "cell_type": "markdown",
   "id": "fa8a10f1",
   "metadata": {},
   "source": [
    "연산 메소드 사용 예제(데이터프레임 연산)"
   ]
  },
  {
   "cell_type": "markdown",
   "id": "b9d192f1",
   "metadata": {},
   "source": [
    "데이터프레임 연산에서 NaN처리하기 예제 두번째 방법"
   ]
  },
  {
   "cell_type": "code",
   "execution_count": 46,
   "id": "080127f5",
   "metadata": {},
   "outputs": [],
   "source": [
    "import pandas as pd\n",
    "import seaborn as sns\n",
    "\n",
    "# titanic 데이터셋에서 age, fare 2개 열을 선택하여 데이터프레임 만들기\n",
    "titanic = sns.load_dataset('titanic')\n",
    "df = titanic.loc[:,['age', 'fare']]\n",
    "\n",
    "# 데이터프레임에 숫자 10 더하기\n",
    "addition = df + 10 # NaN(0) + 10"
   ]
  },
  {
   "cell_type": "code",
   "execution_count": 47,
   "id": "4d8749dd",
   "metadata": {},
   "outputs": [],
   "source": [
    "# 데이터프레임끼리 연산하기\n",
    "df_sub = addition.sub(df)"
   ]
  },
  {
   "cell_type": "markdown",
   "id": "6dda051c",
   "metadata": {},
   "source": [
    "- ffill() 함수 사용시 이전 연산에 대한 결과값을 NaN 대신 출력"
   ]
  },
  {
   "cell_type": "code",
   "execution_count": 48,
   "id": "57e832ab",
   "metadata": {},
   "outputs": [],
   "source": [
    "df_sub.ffill(inplace = True)"
   ]
  },
  {
   "cell_type": "code",
   "execution_count": 45,
   "id": "bb3b4b68",
   "metadata": {},
   "outputs": [
    {
     "name": "stdout",
     "output_type": "stream",
     "text": [
      "      age  fare\n",
      "886  10.0  10.0\n",
      "887  10.0  10.0\n",
      "888  10.0  10.0\n",
      "889  10.0  10.0\n",
      "890  10.0  10.0\n"
     ]
    }
   ],
   "source": [
    "print(df_sub.tail())"
   ]
  },
  {
   "cell_type": "markdown",
   "id": "8aa0d96e",
   "metadata": {},
   "source": [
    "데이터프레임 연산에서 NaN처리하기 예제 두번째 방법"
   ]
  },
  {
   "cell_type": "code",
   "execution_count": 57,
   "id": "fe029a25",
   "metadata": {},
   "outputs": [],
   "source": [
    "import pandas as pd\n",
    "import seaborn as sns\n",
    "\n",
    "# titanic 데이터셋에서 age, fare 2개 열을 선택하여 데이터프레임 만들기\n",
    "titanic = sns.load_dataset('titanic')\n",
    "df = titanic.loc[:,['age', 'fare']]\n",
    "\n",
    "# 데이터프레임에 NaN을 0으로 바꾸기\n",
    "df.fillna(0, inplace=True)\n",
    "\n",
    "# 데이터프레임에 숫자 10 더하기\n",
    "addition = df + 10 #"
   ]
  },
  {
   "cell_type": "code",
   "execution_count": 59,
   "id": "dc1116aa",
   "metadata": {},
   "outputs": [
    {
     "name": "stdout",
     "output_type": "stream",
     "text": [
      "      age   fare\n",
      "886  37.0  23.00\n",
      "887  29.0  40.00\n",
      "888  10.0  33.45\n",
      "889  36.0  40.00\n",
      "890  42.0  17.75\n"
     ]
    }
   ],
   "source": [
    "print(addition.tail())"
   ]
  },
  {
   "cell_type": "code",
   "execution_count": null,
   "id": "5a196008",
   "metadata": {},
   "outputs": [],
   "source": []
  }
 ],
 "metadata": {
  "kernelspec": {
   "display_name": "Python 3 (ipykernel)",
   "language": "python",
   "name": "python3"
  },
  "language_info": {
   "codemirror_mode": {
    "name": "ipython",
    "version": 3
   },
   "file_extension": ".py",
   "mimetype": "text/x-python",
   "name": "python",
   "nbconvert_exporter": "python",
   "pygments_lexer": "ipython3",
   "version": "3.9.7"
  }
 },
 "nbformat": 4,
 "nbformat_minor": 5
}
