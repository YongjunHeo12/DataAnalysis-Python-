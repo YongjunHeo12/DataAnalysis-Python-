{
 "cells": [
  {
   "cell_type": "markdown",
   "id": "6643e8cc",
   "metadata": {},
   "source": [
    "## if 실습"
   ]
  },
  {
   "cell_type": "code",
   "execution_count": 32,
   "id": "b88d3485",
   "metadata": {},
   "outputs": [
    {
     "name": "stdout",
     "output_type": "stream",
     "text": [
      "이겼다\n"
     ]
    }
   ],
   "source": [
    "#문제 1\n",
    "srp = \"가위\"\n",
    "if srp == \"바위\":\n",
    "    print(\"졌다\")\n",
    "elif srp == \"보\":\n",
    "    print(\"비겼다\")\n",
    "else:\n",
    "    print(\"이겼다\")"
   ]
  },
  {
   "cell_type": "code",
   "execution_count": 35,
   "id": "135ed408",
   "metadata": {},
   "outputs": [
    {
     "name": "stdout",
     "output_type": "stream",
     "text": [
      "태어난 연도를 입력하세요1996\n",
      "나이는 27 입니다\n"
     ]
    }
   ],
   "source": [
    "#문제 2(1 if 사용)\n",
    "year = int(input(\"태어난 연도를 입력하세요\"))\n",
    "if year:\n",
    "    age = 2022 - year + 1\n",
    "    print(\"나이는 %d 입니다\" %age)"
   ]
  },
  {
   "cell_type": "code",
   "execution_count": 3,
   "id": "72e9944b",
   "metadata": {},
   "outputs": [
    {
     "name": "stdout",
     "output_type": "stream",
     "text": [
      "태어난 연도를 입력하세요1996\n",
      "나이는 27 입니다\n"
     ]
    }
   ],
   "source": [
    "#문제 2(2 if 사용x)\n",
    "year2 = int(input(\"태어난 연도를 입력하세요\"))\n",
    "age2 = 2022 - year2 + 1\n",
    "print(\"나이는 %d 입니다\" %age2)"
   ]
  },
  {
   "cell_type": "markdown",
   "id": "78cf123b",
   "metadata": {},
   "source": [
    "## for문 실습"
   ]
  },
  {
   "cell_type": "code",
   "execution_count": 37,
   "id": "2487eafd",
   "metadata": {},
   "outputs": [
    {
     "name": "stdout",
     "output_type": "stream",
     "text": [
      "구구단 몇단을 계산할까요?\n",
      "10\n",
      "구구단 10단을 계산합니다.\n",
      "1 X 1 = 10\n",
      "1 X 2 = 20\n",
      "1 X 3 = 30\n",
      "1 X 4 = 40\n",
      "1 X 5 = 50\n",
      "1 X 6 = 60\n",
      "1 X 7 = 70\n",
      "1 X 8 = 80\n",
      "1 X 9 = 90\n"
     ]
    }
   ],
   "source": [
    "#문제 1(구구단 계산기 with for)\n",
    "gugu = int(input(\"구구단 몇단을 계산할까요?\\n\"))\n",
    "print(\"구구단 %d단을 계산합니다.\" %gugu)\n",
    "for i in range(1,10,1):\n",
    "    print(\"1 X %d = %d\" %(i, i*gugu))\n",
    "    "
   ]
  },
  {
   "cell_type": "code",
   "execution_count": 38,
   "id": "164e5fa7",
   "metadata": {},
   "outputs": [
    {
     "name": "stdout",
     "output_type": "stream",
     "text": [
      "2 * 1 =  2 3 * 1 =  3 4 * 1 =  4 5 * 1 =  5 6 * 1 =  6 7 * 1 =  7 8 * 1 =  8 9 * 1 =  9  \n",
      "2 * 2 =  4 3 * 2 =  6 4 * 2 =  8 5 * 2 = 10 6 * 2 = 12 7 * 2 = 14 8 * 2 = 16 9 * 2 = 18  \n",
      "2 * 3 =  6 3 * 3 =  9 4 * 3 = 12 5 * 3 = 15 6 * 3 = 18 7 * 3 = 21 8 * 3 = 24 9 * 3 = 27  \n",
      "2 * 4 =  8 3 * 4 = 12 4 * 4 = 16 5 * 4 = 20 6 * 4 = 24 7 * 4 = 28 8 * 4 = 32 9 * 4 = 36  \n",
      "2 * 5 = 10 3 * 5 = 15 4 * 5 = 20 5 * 5 = 25 6 * 5 = 30 7 * 5 = 35 8 * 5 = 40 9 * 5 = 45  \n",
      "2 * 6 = 12 3 * 6 = 18 4 * 6 = 24 5 * 6 = 30 6 * 6 = 36 7 * 6 = 42 8 * 6 = 48 9 * 6 = 54  \n",
      "2 * 7 = 14 3 * 7 = 21 4 * 7 = 28 5 * 7 = 35 6 * 7 = 42 7 * 7 = 49 8 * 7 = 56 9 * 7 = 63  \n",
      "2 * 8 = 16 3 * 8 = 24 4 * 8 = 32 5 * 8 = 40 6 * 8 = 48 7 * 8 = 56 8 * 8 = 64 9 * 8 = 72  \n",
      "2 * 9 = 18 3 * 9 = 27 4 * 9 = 36 5 * 9 = 45 6 * 9 = 54 7 * 9 = 63 8 * 9 = 72 9 * 9 = 81  \n"
     ]
    }
   ],
   "source": [
    "#문제 2(구구단 가로 출력- 2단부터 9단까지)\n",
    "for i in range(1,10,1):\n",
    "    for j in range(2,10,1):\n",
    "        print(\"%d * %d = %2d\" %(j,i,i*j),end = ' ')\n",
    "    print(\" \")"
   ]
  },
  {
   "cell_type": "code",
   "execution_count": 6,
   "id": "57e32648",
   "metadata": {},
   "outputs": [
    {
     "name": "stdout",
     "output_type": "stream",
     "text": [
      "현재 계절은 봄이 아닙니다.\n",
      "현재 계절은 여름이 아닙니다.\n",
      "현재 계절은 가을이 아닙니다.\n",
      "현재 계절은 겨울 입니다.\n"
     ]
    }
   ],
   "source": [
    "#문제 3\n",
    "season1 = ['봄', '여름', '가을', '겨울']\n",
    "for i in season1:\n",
    "    if i == \"겨울\":\n",
    "        print(\"현재 계절은 %s 입니다.\" %i)\n",
    "    else:\n",
    "        print(\"현재 계절은 %s이 아닙니다.\" %i)"
   ]
  },
  {
   "cell_type": "code",
   "execution_count": 40,
   "id": "32eb283f",
   "metadata": {},
   "outputs": [
    {
     "name": "stdout",
     "output_type": "stream",
     "text": [
      "★★★★★"
     ]
    }
   ],
   "source": [
    "#문제 4\n",
    "star = \"★\"\n",
    "for i in range(5):\n",
    "    print(\"%s\" %star, end = '')"
   ]
  },
  {
   "cell_type": "code",
   "execution_count": 41,
   "id": "289cbffc",
   "metadata": {},
   "outputs": [
    {
     "name": "stdout",
     "output_type": "stream",
     "text": [
      "★★★★★ \n",
      "★★★★★ \n",
      "★★★★★ \n",
      "★★★★★ \n",
      "★★★★★ \n"
     ]
    }
   ],
   "source": [
    "#문제 5\n",
    "for i in range(5):\n",
    "    for j in range(5):\n",
    "        print(\"%s\" %star, end= '')\n",
    "    print(\" \")"
   ]
  },
  {
   "cell_type": "code",
   "execution_count": 42,
   "id": "bc069ec5",
   "metadata": {},
   "outputs": [
    {
     "name": "stdout",
     "output_type": "stream",
     "text": [
      "★ \n",
      "★★ \n",
      "★★★ \n",
      "★★★★ \n",
      "★★★★★ \n"
     ]
    }
   ],
   "source": [
    "#문제 6\n",
    "for i in range(5):\n",
    "    for j in range(0, i+1):\n",
    "        print(\"%s\" %star, end = '')\n",
    "    print(\" \")"
   ]
  },
  {
   "cell_type": "code",
   "execution_count": 43,
   "id": "077d9c68",
   "metadata": {},
   "outputs": [
    {
     "name": "stdout",
     "output_type": "stream",
     "text": [
      "★★★★★ \n",
      "★★★★ \n",
      "★★★ \n",
      "★★ \n",
      "★ \n"
     ]
    }
   ],
   "source": [
    "#문제 7\n",
    "for i in range(5):\n",
    "    for j in range(5, i, -1):\n",
    "        print(\"%s\" %star, end = '')\n",
    "    print(\" \")"
   ]
  },
  {
   "cell_type": "code",
   "execution_count": 2,
   "id": "a2f89df9",
   "metadata": {},
   "outputs": [
    {
     "name": "stdout",
     "output_type": "stream",
     "text": [
      "☆☆☆☆★ \n",
      "☆☆☆★★ \n",
      "☆☆★★★ \n",
      "☆★★★★ \n",
      "★★★★★ \n"
     ]
    }
   ],
   "source": [
    "#문제 8\n",
    "star = \"★\" \n",
    "b_star = \"☆\"\n",
    "for i in range(5):\n",
    "    for j in range(4-i):\n",
    "        print(\"%s\" %b_star, end = '')\n",
    "    for k in range(i+1):\n",
    "        print(\"%s\" %star, end = '')\n",
    "    print(\" \")\n"
   ]
  },
  {
   "cell_type": "code",
   "execution_count": 3,
   "id": "d6f835cd",
   "metadata": {},
   "outputs": [
    {
     "name": "stdout",
     "output_type": "stream",
     "text": [
      "★★★★★ \n",
      "★★★★★ \n",
      "★★★★★ \n",
      "★★★★★ \n",
      "★★★★★ \n",
      "★★★★★ \n",
      "★ \n",
      "★★ \n",
      "★★★ \n",
      "★★★★ \n",
      "★★★★★ \n",
      "★★★★★ \n",
      "★★★★ \n",
      "★★★ \n",
      "★★ \n",
      "★ \n",
      " \n",
      "    ★ \n",
      "   ★★ \n",
      "  ★★★ \n",
      " ★★★★ \n",
      "★★★★★ \n",
      "☆☆☆☆★ \n",
      "☆☆☆★★ \n",
      "☆☆★★★ \n",
      "☆★★★★ \n",
      "★★★★★ \n"
     ]
    }
   ],
   "source": [
    "#문제 9\n",
    "for i in range(6): #6줄\n",
    "    for j in range(5): #별 5개씩\n",
    "        print(\"%s\" %star, end = '')\n",
    "    print(\" \")\n",
    "for k in range(10): #10줄\n",
    "    if k < 5: #1~5줄 증가\n",
    "        for n in range(1, k+2):\n",
    "            print(\"%s\" %star, end = '')\n",
    "        print(\" \")\n",
    "    else:  #6~10줄 감소\n",
    "        for m in range(10-k, 0, -1):\n",
    "            print(\"%s\" %star, end = '')\n",
    "        print(\" \")\n",
    "print(\" \")\n",
    "for x in range(5): #5줄 피라미드\n",
    "    for y in range(4, x, - 1): #별앞에 공간\n",
    "            print(\" \", end = '')\n",
    "    for z in range(0, x+1): #별\n",
    "        print(\"%s\" %star, end = '')\n",
    "    print(\" \")\n",
    "for i in range(5): #5줄 빈별, 별\n",
    "    for j in range(4-i): #빈 별 4개부터 1개 출력\n",
    "        print(\"%s\" %b_star, end = '')\n",
    "    for k in range(i+1): #별 1개부터 5개 출력\n",
    "        print(\"%s\" %star, end = '')\n",
    "    print(\" \")"
   ]
  },
  {
   "cell_type": "code",
   "execution_count": 42,
   "id": "9c50fede",
   "metadata": {},
   "outputs": [
    {
     "name": "stdout",
     "output_type": "stream",
     "text": [
      "★★★★★\n",
      "★★★★★\n",
      "★★★★★\n",
      "★★★★★\n",
      "★★★★★\n",
      "★★★★★\n",
      "★\n",
      "★★\n",
      "★★★\n",
      "★★★★\n",
      "★★★★★\n",
      "★★★★\n",
      "★★★\n",
      "★★\n",
      "★\n",
      " \n",
      "    ★\n",
      "   ★★\n",
      "  ★★★\n",
      " ★★★★\n",
      "★★★★★\n",
      "☆☆☆☆★\n",
      "☆☆☆★★\n",
      "☆☆★★★\n",
      "☆★★★★\n",
      "★★★★★\n"
     ]
    }
   ],
   "source": [
    "#문제 9(강사 풀이)\n",
    "for i in range(6):\n",
    "    print(\"★\"*5)\n",
    "for i in range(5):\n",
    "    print(\"★\"*(i+1))\n",
    "for i in range(4,0,-1):\n",
    "    print(\"★\"*(i))\n",
    "print(\" \")\n",
    "for i in range(5):\n",
    "    print(\"{:>5}\".format(\"★\"*(i+1)))\n",
    "    \n",
    "for i in range(5):\n",
    "    print(\"☆\"*(4-i) + \"★\"*(i+1))"
   ]
  },
  {
   "cell_type": "code",
   "execution_count": null,
   "id": "400d7cc8",
   "metadata": {},
   "outputs": [],
   "source": [
    "# 왼쪽정렬\n",
    "for i in range()"
   ]
  },
  {
   "cell_type": "code",
   "execution_count": 4,
   "id": "4b1e5249",
   "metadata": {},
   "outputs": [
    {
     "name": "stdout",
     "output_type": "stream",
     "text": [
      "***** \n",
      "**** \n",
      "*** \n",
      "** \n",
      "* \n"
     ]
    }
   ],
   "source": [
    "#문제 10\n",
    "small_star = \"*\"\n",
    "for i in range(5):\n",
    "    for j in range(0, 5-i):\n",
    "        print(\"%s\" %small_star, end=\"\")\n",
    "    print(\" \")"
   ]
  },
  {
   "cell_type": "code",
   "execution_count": 5,
   "id": "fec758d3",
   "metadata": {},
   "outputs": [
    {
     "name": "stdout",
     "output_type": "stream",
     "text": [
      "     * \n",
      "    ** \n",
      "   *** \n",
      "  **** \n",
      " ***** \n"
     ]
    }
   ],
   "source": [
    "#문제 11\n",
    "for i in range(5):\n",
    "    for j in range(0, 5-i):\n",
    "        print(\" \", end=\"\")\n",
    "    for k in range(0, i+1):\n",
    "        print(\"%s\" %small_star, end=\"\")\n",
    "    print(\" \")"
   ]
  },
  {
   "cell_type": "code",
   "execution_count": 45,
   "id": "a55ba602",
   "metadata": {},
   "outputs": [
    {
     "name": "stdout",
     "output_type": "stream",
     "text": [
      "                  ★ \n",
      "                ★★★ \n",
      "              ★★★★★ \n",
      "            ★★★★★★★ \n",
      "          ★★★★★★★★★ \n",
      "        ★★★★★★★★★★★ \n",
      "      ★★★★★★★★★★★★★ \n",
      "    ★★★★★★★★★★★★★★★ \n",
      "  ★★★★★★★★★★★★★★★★★ \n",
      "★★★★★★★★★★★★★★★★★★★ \n"
     ]
    }
   ],
   "source": [
    "#문제 12(피라미드)\n",
    "star = \"★\"\n",
    "for x in range(10):\n",
    "    for y in range(18, 2*x, -1):\n",
    "            print(\" \", end = '')\n",
    "    for z in range(0, 2*x+1):\n",
    "        print(\"%s\" %star, end = '')\n",
    "    print(\" \")"
   ]
  },
  {
   "cell_type": "code",
   "execution_count": 44,
   "id": "7952a6bf",
   "metadata": {},
   "outputs": [
    {
     "name": "stdout",
     "output_type": "stream",
     "text": [
      "           ★ \n",
      "         ★★★ \n",
      "       ★★★★★ \n",
      "     ★★★★★★★ \n",
      "         ★★★ \n",
      "       ★★★★★ \n",
      "     ★★★★★★★ \n",
      "   ★★★★★★★★★ \n",
      "       ★★★★★ \n",
      "     ★★★★★★★ \n",
      "   ★★★★★★★★★ \n",
      " ★★★★★★★★★★★ \n"
     ]
    }
   ],
   "source": [
    "#문제 13\n",
    "for x in range(3): \n",
    "    for a in range(4):\n",
    "        for y in range(11, 2*(a+x), -1):\n",
    "                print(\" \", end = '')\n",
    "        for z in range(2*(a+x)+1):\n",
    "            print(\"%s\" %star, end = '')\n",
    "        print(\" \")"
   ]
  },
  {
   "cell_type": "markdown",
   "id": "63ac7279",
   "metadata": {},
   "source": [
    "## while 실습"
   ]
  },
  {
   "cell_type": "code",
   "execution_count": 6,
   "id": "815c2ab0",
   "metadata": {
    "scrolled": true
   },
   "outputs": [
    {
     "name": "stdout",
     "output_type": "stream",
     "text": [
      "166833\n"
     ]
    }
   ],
   "source": [
    "#문제 1\n",
    "a = 0\n",
    "sum = 0\n",
    "while a < 1001:\n",
    "    a = a+1\n",
    "    if a % 3 ==0:\n",
    "        sum = sum +a\n",
    "        continue\n",
    "\n",
    "print(sum)"
   ]
  },
  {
   "cell_type": "code",
   "execution_count": 8,
   "id": "734449ec",
   "metadata": {},
   "outputs": [
    {
     "name": "stdout",
     "output_type": "stream",
     "text": [
      "0 불일치\n",
      "5 불일치\n",
      "10 불일치\n",
      "15 불일치\n",
      "20 불일치\n",
      "25 불일치\n",
      "30 불일치\n",
      "35 불일치\n",
      "40 불일치\n",
      "45 불일치\n",
      "50 불일치\n",
      "55 일치\n",
      "60 불일치\n",
      "65 불일치\n",
      "70 불일치\n",
      "75 불일치\n",
      "80 불일치\n",
      "85 불일치\n",
      "90 불일치\n",
      "95 불일치\n",
      "100 불일치\n"
     ]
    }
   ],
   "source": [
    "#문제 2\n",
    "num = 0\n",
    "while num < 101:\n",
    "    if num == 55:\n",
    "        print(\"%d 일치\" %num)\n",
    "    else:\n",
    "        print(\"%d 불일치\" %num)\n",
    "    num += 5\n",
    "    "
   ]
  },
  {
   "cell_type": "code",
   "execution_count": 50,
   "id": "3f3186df",
   "metadata": {},
   "outputs": [
    {
     "name": "stdout",
     "output_type": "stream",
     "text": [
      "보고싶은 구구단 단수를 입력하세요9\n",
      "9단\n",
      "9 * 1 = 9\n",
      "9 * 2 = 18\n",
      "9 * 3 = 27\n",
      "9 * 4 = 36\n",
      "9 * 5 = 45\n",
      "9 * 6 = 54\n",
      "9 * 7 = 63\n",
      "9 * 8 = 72\n",
      "9 * 9 = 81\n"
     ]
    }
   ],
   "source": [
    "#문제 3 (구구단 계산기)\n",
    "dan = int(input(\"보고싶은 구구단 단수를 입력하세요\"))\n",
    "print(\"%d단\" %dan)\n",
    "i=1\n",
    "while i<10:\n",
    "    print(\"%d * %d = %d\" %(dan,i,dan*i))  \n",
    "    i += 1    "
   ]
  },
  {
   "cell_type": "code",
   "execution_count": 53,
   "id": "e97b0b8a",
   "metadata": {},
   "outputs": [
    {
     "name": "stdout",
     "output_type": "stream",
     "text": [
      "1*1= 1  2*1= 2  3*1= 3  4*1= 4  5*1= 5  6*1= 6  7*1= 7  8*1= 8  9*1= 9   \n",
      "1*2= 2  2*2= 4  3*2= 6  4*2= 8  5*2=10  6*2=12  7*2=14  8*2=16  9*2=18   \n",
      "1*3= 3  2*3= 6  3*3= 9  4*3=12  5*3=15  6*3=18  7*3=21  8*3=24  9*3=27   \n",
      "1*4= 4  2*4= 8  3*4=12  4*4=16  5*4=20  6*4=24  7*4=28  8*4=32  9*4=36   \n",
      "1*5= 5  2*5=10  3*5=15  4*5=20  5*5=25  6*5=30  7*5=35  8*5=40  9*5=45   \n",
      "1*6= 6  2*6=12  3*6=18  4*6=24  5*6=30  6*6=36  7*6=42  8*6=48  9*6=54   \n",
      "1*7= 7  2*7=14  3*7=21  4*7=28  5*7=35  6*7=42  7*7=49  8*7=56  9*7=63   \n",
      "1*8= 8  2*8=16  3*8=24  4*8=32  5*8=40  6*8=48  7*8=56  8*8=64  9*8=72   \n",
      "1*9= 9  2*9=18  3*9=27  4*9=36  5*9=45  6*9=54  7*9=63  8*9=72  9*9=81   \n"
     ]
    }
   ],
   "source": [
    "#문제3 (구구단 1~9단 단별 세로정렬 - while만 사용)\n",
    "i = 1\n",
    "while i < 10:\n",
    "    j = 1\n",
    "    while j < 10:\n",
    "        print(\"%d*%d=%2d \" %(j, i, i*j), end =' ')\n",
    "        j += 1\n",
    "    print(\" \")\n",
    "    i += 1"
   ]
  },
  {
   "cell_type": "markdown",
   "id": "97794d98",
   "metadata": {},
   "source": [
    "random 모듈을 이용하여 up & down 게임 만들기\n",
    "- 숫자를 맞춰봐\n",
    "- 몇일까? (입력받기)\n",
    "- 숫자가 크다( 작다) - > 다시 입력 반복\n",
    "- 숫자가 맞아 -> 종료"
   ]
  },
  {
   "cell_type": "code",
   "execution_count": 55,
   "id": "152b020c",
   "metadata": {},
   "outputs": [
    {
     "name": "stdout",
     "output_type": "stream",
     "text": [
      "숫자 맞추기 게임 1 ~ 100\n",
      "숫자를 입력하세요.50\n",
      "숫자가 작습니다.\n",
      "다시 숫자를 입력하세요.75\n",
      "숫자가 큽니다.\n",
      "다시 숫자를 입력하세요.66\n",
      "숫자가 큽니다.\n",
      "다시 숫자를 입력하세요.60\n",
      "숫자가 작습니다.\n",
      "다시 숫자를 입력하세요.64\n",
      "정답입니다.\n"
     ]
    }
   ],
   "source": [
    "import random as rand\n",
    "print(\"숫자 맞추기 게임 1 ~ 100\")\n",
    "answer = rand.randint(1,100)\n",
    "number = int(input(\"숫자를 입력하세요.\"))\n",
    "while True:\n",
    "    if answer > number : \n",
    "        print(\"숫자가 작습니다.\")\n",
    "        number = int(input(\"다시 숫자를 입력하세요.\"))\n",
    "    elif answer < number:\n",
    "        print(\"숫자가 큽니다.\")\n",
    "        number = int(input(\"다시 숫자를 입력하세요.\"))\n",
    "    else:\n",
    "        print(\"정답입니다.\")\n",
    "        break"
   ]
  },
  {
   "cell_type": "markdown",
   "id": "db2ac09c",
   "metadata": {},
   "source": [
    "강사 풀이 while과 else도 같이 사용가능"
   ]
  },
  {
   "cell_type": "code",
   "execution_count": null,
   "id": "c745d577",
   "metadata": {},
   "outputs": [
    {
     "name": "stdout",
     "output_type": "stream",
     "text": [
      "숫자를 맞춰봐\n"
     ]
    }
   ],
   "source": [
    "import random\n",
    "random_num=random.randint(1,100)\n",
    "print(\"숫자를 맞춰봐\")\n",
    "user_input=int(input(\"몇일까? \"))\n",
    "\n",
    "while (user_input is not random_num):\n",
    "    if user_input > random_num:\n",
    "        print(\"숫자가 큽니다.\")\n",
    "    else:\n",
    "        print(\"숫자가 작습니다.\")\n",
    "    user_input=int(input(\"다시 맞춰봐 \"))\n",
    "else:\n",
    "    print(user_input,\"정답입니다.\")\n"
   ]
  },
  {
   "cell_type": "code",
   "execution_count": null,
   "id": "9e5ccff8",
   "metadata": {},
   "outputs": [],
   "source": []
  }
 ],
 "metadata": {
  "kernelspec": {
   "display_name": "Python 3",
   "language": "python",
   "name": "python3"
  },
  "language_info": {
   "codemirror_mode": {
    "name": "ipython",
    "version": 3
   },
   "file_extension": ".py",
   "mimetype": "text/x-python",
   "name": "python",
   "nbconvert_exporter": "python",
   "pygments_lexer": "ipython3",
   "version": "3.8.8"
  }
 },
 "nbformat": 4,
 "nbformat_minor": 5
}
