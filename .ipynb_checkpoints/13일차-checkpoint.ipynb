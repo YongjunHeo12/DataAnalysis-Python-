{
 "cells": [
  {
   "cell_type": "markdown",
   "id": "deef480b",
   "metadata": {},
   "source": [
    "# 판다스 자료구조\n",
    "- 서로 다른 형식을 갖는 여러 종류의 데이터를 컴퓨터가 이해할 수 있도록 동일한 형식을 갖는 구조로 통합할 필요가 있음\n",
    "- 판다스는 시리즈(Series)와 데이터프레임(DateFrame)이라는 데이터 형식을 제공\n",
    "- Numpy : 배열 및 연산\n",
    "- Pandas : 자료구조 및 시각화\n",
    "\n",
    "## 시리즈\n",
    "- 데이터가 순차적으로 나열된 1차원 배열(열벡터)\n",
    "- 인덱스(index)는 데이터 값(value)과 1대1 대응\n"
   ]
  },
  {
   "cell_type": "markdown",
   "id": "d6995f52",
   "metadata": {},
   "source": [
    "정리\n",
    "- 시리즈의 인덱스는 데이터 값의 위치를 나타내는 이름표(주소) 역할\n",
    "- 'index 2' 주소를 알고 있다면 'Data 2'라는 원소 데이터 값에 접근 가능\n"
   ]
  },
  {
   "cell_type": "markdown",
   "id": "024c7ef4",
   "metadata": {},
   "source": [
    "시리즈 만들기\n",
    "- 딕셔너리와 시리즈의 구조가 비슷하기 때문에 딕셔너리를 시리즈로 변환 하는 방법을 많이 사용\n",
    "- 판다스 내장 함수인 Series() 사용\n",
    " - 딕셔너리 함수의 인자로 전달\n",
    " \n",
    "형식<br>\n",
    " 딕셔너리 -> 시리즈 변환: pandas.Serise(딕셔너리)\n",
    "  <br><br>\n",
    "  \n",
    " 딕셔너리를 시리즈로 변환하는 예제"
   ]
  },
  {
   "cell_type": "code",
   "execution_count": 3,
   "id": "99bd3a11",
   "metadata": {},
   "outputs": [],
   "source": [
    "# pandas import\n",
    "import pandas as pd\n",
    "\n",
    "# key:valuse를 쌍으로 갖는 딕셔너리를 생성, 변수 dict_data에 저장\n",
    "dict_data = {'a':1, 'b':2, 'c': 3}\n",
    "\n",
    "# 판다스 Series()함수로 딕셔너리를 시리즈로 변환, 변수 sr에 저장\n",
    "sr = pd.Series(dict_data)"
   ]
  },
  {
   "cell_type": "code",
   "execution_count": 5,
   "id": "238f8c4c",
   "metadata": {},
   "outputs": [
    {
     "name": "stdout",
     "output_type": "stream",
     "text": [
      "<class 'pandas.core.series.Series'>\n"
     ]
    }
   ],
   "source": [
    "#sr의 자료형 출력\n",
    "print(type(sr))"
   ]
  },
  {
   "cell_type": "code",
   "execution_count": 6,
   "id": "5d2cb61f",
   "metadata": {},
   "outputs": [
    {
     "name": "stdout",
     "output_type": "stream",
     "text": [
      "a    1\n",
      "b    2\n",
      "c    3\n",
      "dtype: int64\n"
     ]
    }
   ],
   "source": [
    "# sr에 저장된 시리즈 객체 출력\n",
    "print(sr)"
   ]
  },
  {
   "cell_type": "markdown",
   "id": "cec8d31c",
   "metadata": {},
   "source": [
    "- 시리즈 객체 출력 시 인덱스 'a', 'b', 'c' 는 왼쪽에 표시\n",
    "- 인덱스와 짝을 이루는 데이터 값 1, 2, 3은 오른쪽에 표시\n",
    "- 시리즈를 구성하는 데이터 값의 자료형은 정수형(int64)"
   ]
  },
  {
   "cell_type": "markdown",
   "id": "a7b29aac",
   "metadata": {},
   "source": [
    "인덱스 구조\n",
    "- 인덱스는 자기와 짝을 이루는 데이터 값의 순서와 주소를 저장\n",
    "- 인덱스를 활용하여 데이터 ㄱ밧의 탐색, 정렬, 선택, 결합 등 데이터의 조작을 쉽게 할 수 있음\n",
    "\n",
    "판다스 serise() 함수를 사용하여 파이썬 리스트를 시리즈로 변환하느 예제"
   ]
  },
  {
   "cell_type": "code",
   "execution_count": 8,
   "id": "da1ed945",
   "metadata": {},
   "outputs": [],
   "source": [
    "import pandas as pd\n",
    "\n",
    "# 리스트 생성, 변수 list_data에 저장\n",
    "list_data = ['2020-02-21', 3.14, '허용준', 100, True]\n",
    "sr = pd.Series(list_data)"
   ]
  },
  {
   "cell_type": "code",
   "execution_count": 9,
   "id": "32329eee",
   "metadata": {},
   "outputs": [
    {
     "name": "stdout",
     "output_type": "stream",
     "text": [
      "0    2020-02-21\n",
      "1          3.14\n",
      "2           허용준\n",
      "3           100\n",
      "4          True\n",
      "dtype: object\n"
     ]
    }
   ],
   "source": [
    "print(sr)"
   ]
  },
  {
   "cell_type": "markdown",
   "id": "afaf6517",
   "metadata": {},
   "source": [
    "- 인덱스를 별도로 정의하지 않았기 때문에 디폴트로 정수형 위치 인덱스(0,1,2,3,4)가 자동 적용\n",
    "\n",
    "\n",
    "- 시리즈를 구성하는 원소 데이터 값의 자료형은 문자열(object)\n",
    " - 숫자와 문자열이 데이터에 혼합되어 있을 경우 자료형이 문자열로 표기됨\n",
    "\n",
    "\n",
    "- 리스트와 판다스의 시리즈는 둘 다 동일하게 인덱스를 소유\n",
    " \n",
    " \n",
    "- 리스트는 정수형 위치 인덱스만 존재\n",
    "  - ex) list_data[0]\n",
    "\n",
    "\n",
    "- 시리즈는 정수형 위치 인덱스와 인덱스 이름 둘 다 존재\n",
    "  - ex) sr[0]\n",
    "  - ex) sr['날짜']"
   ]
  },
  {
   "cell_type": "markdown",
   "id": "90eb1e85",
   "metadata": {},
   "source": [
    "시리즈에서 인덱스는 크게 두 가지가 존재\n",
    "- 정수형 위치 인덱스 and 인덱스 이름"
   ]
  },
  {
   "cell_type": "markdown",
   "id": "8ce181e0",
   "metadata": {},
   "source": [
    "시리즈의 index 속성을 이용하여 인덱스 배열 따로 선택 가능<br><br>\n",
    "시리즈의 valuse 속성을 이용하여 데이터 값 따로 선택 가능<br><br>\n",
    "시리즈의 인덱스와 데이터를 따로 확인하는 예제"
   ]
  },
  {
   "cell_type": "code",
   "execution_count": 10,
   "id": "a9785a42",
   "metadata": {},
   "outputs": [],
   "source": [
    "import pandas as pd\n",
    "\n",
    "# 리스트 생성, 변수 list_data에 저장\n",
    "list_data = ['2020-02-21', 3.14, '허용준', 100, True]\n",
    "sr = pd.Series(list_data)"
   ]
  },
  {
   "cell_type": "code",
   "execution_count": 12,
   "id": "7ec86353",
   "metadata": {},
   "outputs": [
    {
     "name": "stdout",
     "output_type": "stream",
     "text": [
      "RangeIndex(start=0, stop=5, step=1)\n",
      "['2020-02-21' 3.14 '허용준' 100 True]\n"
     ]
    }
   ],
   "source": [
    "# 인덱스 배열은 변수 idx에 저장, 데이터 값 배열은 변수 val에 저장\n",
    "idx = sr.index\n",
    "val = sr.values\n",
    "print(idx)\n",
    "print(val)"
   ]
  },
  {
   "cell_type": "code",
   "execution_count": 13,
   "id": "feee54fe",
   "metadata": {},
   "outputs": [
    {
     "name": "stdout",
     "output_type": "stream",
     "text": [
      "<class 'numpy.ndarray'>\n"
     ]
    }
   ],
   "source": [
    "print(type(val))"
   ]
  },
  {
   "cell_type": "markdown",
   "id": "9e202c77",
   "metadata": {},
   "source": [
    "- 인덱스는 0~4 범위의 정수를 갖는 RangeIndex 객체로 출력\n",
    "- 데이터 값은 1차원 배열 형태(array)로 출력"
   ]
  },
  {
   "cell_type": "markdown",
   "id": "038775bc",
   "metadata": {},
   "source": [
    "판다스 Series() 함수를 사용하여 파이썬 튜플을 시리즈로 변환하는 예제(인덱스 정의)"
   ]
  },
  {
   "cell_type": "code",
   "execution_count": 14,
   "id": "3f8c6b92",
   "metadata": {},
   "outputs": [],
   "source": [
    "import pandas as pd\n",
    "\n",
    "# 튜플 생성, 변수, tup_data에 저장\n",
    "tup_data = ('용준', '2022-02-21', '남', True)\n",
    "sr = pd.Series(tup_data, index=['이름', '날짜', '성별', '학생여부'])"
   ]
  },
  {
   "cell_type": "code",
   "execution_count": 15,
   "id": "8bf451a3",
   "metadata": {},
   "outputs": [
    {
     "name": "stdout",
     "output_type": "stream",
     "text": [
      "이름              용준\n",
      "날짜      2022-02-21\n",
      "성별               남\n",
      "학생여부          True\n",
      "dtype: object\n"
     ]
    }
   ],
   "source": [
    "print(sr)"
   ]
  },
  {
   "cell_type": "markdown",
   "id": "3f529936",
   "metadata": {},
   "source": [
    "시리즈 원소 선택 예제 1"
   ]
  },
  {
   "cell_type": "code",
   "execution_count": 16,
   "id": "1037a0f6",
   "metadata": {},
   "outputs": [
    {
     "name": "stdout",
     "output_type": "stream",
     "text": [
      "용준\n",
      "용준\n"
     ]
    }
   ],
   "source": [
    "# 원소를 1개 선택\n",
    "# 정수형 위치 인덱스 \n",
    "print(sr[0])\n",
    "\n",
    "# 인덱스 이름\n",
    "print(sr[\"이름\"])"
   ]
  },
  {
   "cell_type": "markdown",
   "id": "71c1e22e",
   "metadata": {},
   "source": [
    "시리즈 원소 선택 예제 2"
   ]
  },
  {
   "cell_type": "code",
   "execution_count": 86,
   "id": "896d13ed",
   "metadata": {},
   "outputs": [
    {
     "name": "stdout",
     "output_type": "stream",
     "text": [
      "날짜    2022-02-21\n",
      "성별             남\n",
      "dtype: object\n",
      "날짜    2022-02-21\n",
      "성별             남\n",
      "dtype: object\n"
     ]
    }
   ],
   "source": [
    "# 원소를 다중 선택(인덱스 리스트 활용)\n",
    "# 정수형 위치 인덱스\n",
    "print(sr[[1,2]])\n",
    "\n",
    "#인덱스 이름\n",
    "print(sr[['날짜', '성별']])"
   ]
  },
  {
   "cell_type": "markdown",
   "id": "95ab336e",
   "metadata": {},
   "source": [
    "시리즈 원소 선택 예제 3"
   ]
  },
  {
   "cell_type": "code",
   "execution_count": 20,
   "id": "4a07f8fd",
   "metadata": {},
   "outputs": [
    {
     "name": "stdout",
     "output_type": "stream",
     "text": [
      "날짜    2022-02-21\n",
      "dtype: object\n",
      "날짜    2022-02-21\n",
      "성별             남\n",
      "dtype: object\n"
     ]
    }
   ],
   "source": [
    "# 원소를 다중 선택(인덱스 범위 지정)\n",
    "# 정수형 위치 인덱스\n",
    "print(sr[1:2])\n",
    "\n",
    "# 인덱스 이름\n",
    "print(sr['날짜':'성별'])"
   ]
  },
  {
   "cell_type": "markdown",
   "id": "3bb4936d",
   "metadata": {},
   "source": [
    "- 정수형 위치 인덱스는 범위 끝은 미포함\n",
    "- 인덱스 이름을 사용하여 범위의 끝 포함"
   ]
  },
  {
   "cell_type": "markdown",
   "id": "e6127eee",
   "metadata": {},
   "source": [
    "## 데이터 프레임\n",
    "- 2차원 배열\n",
    "- 여러 개의 열벡터(시리즈)들이 같은 행 인덱스를 기준으로 결합된 2차원 벡터 또는 행렬(matrix)"
   ]
  },
  {
   "cell_type": "markdown",
   "id": "4e101982",
   "metadata": {},
   "source": [
    "행과 열을 나타내기 위해서는 행 인덱스와 열 이름(두가지 주소)이 필요하다\n",
    "- 열은 공통의 속성을 갖는 일련의 데이터의 집합\n",
    "- 행은 공통적이고 다양한 속성 데이터들의 모음인 레코드(record)"
   ]
  },
  {
   "cell_type": "markdown",
   "id": "085c8b7c",
   "metadata": {},
   "source": [
    "데이터프레임 만들기 전 생각해보기\n",
    "1. 데이터프레임을 만들기 위해서는 같은 길이의 1차원 배열(Serise)이 여러 개 필요\n",
    "2. 딕셔너리 값에 해당하는 각 리스트가 시리즈 배열로 변환되어 데이터프레임의 열이 됨\n",
    "3. 딕셔너리 키는 각 시리즈의 이름으로 변환되어 데이터프레임의 열 이름이 됨\n",
    "4. 데이터프레임을 만들 때는 판다스 DataFrame()함수를 사용\n",
    "<br><code> 딕셔너리 -> 데이터프레임 변환: pandas.DataFrame(딕셔너리 객체)"
   ]
  },
  {
   "cell_type": "code",
   "execution_count": 25,
   "id": "b1363433",
   "metadata": {},
   "outputs": [
    {
     "name": "stdout",
     "output_type": "stream",
     "text": [
      "<class 'pandas.core.frame.DataFrame'>\n",
      "   c0  c1  c2  c3  c4\n",
      "0   1   4   7  10  13\n",
      "1   2   5   8  11  14\n",
      "2   3   6   9  12  15\n"
     ]
    }
   ],
   "source": [
    "import pandas as pd\n",
    "\n",
    "# key:valuse를 쌍으로 갖는 딕셔너리를 생성, 변수 dict_data에 저장\n",
    "dict_data = {'c0':[1,2,3,], 'c1':[4,5,6], 'c2': [7,8,9],'c3':[10,11,12], 'c4':[13,14,15]}\n",
    "\n",
    "# 판다스 DataFrame 함수로 딕셔너리 -> Df\n",
    "df = pd.DataFrame(dict_data)\n",
    "print(type(df))\n",
    "print(df)"
   ]
  },
  {
   "cell_type": "markdown",
   "id": "a5265963",
   "metadata": {},
   "source": [
    "행 인덱스 / 열 이름 설정\n",
    "\n",
    "- 2차원 배열 -> 데이터프레임 변환할 때 인덱스와 열 이름 속성을 사용자가 직접 지정 가능\n",
    "<br><code> 행 인덱스, 열 이름 설정: pandas.DataFrame(2차원 배열, index=행 인덱스 배열, columns=열 인덱스 배열)"
   ]
  },
  {
   "cell_type": "markdown",
   "id": "96b64686",
   "metadata": {},
   "source": [
    "행 인덱스/ 열 이름 설정 예제"
   ]
  },
  {
   "cell_type": "code",
   "execution_count": 41,
   "id": "22ca3609",
   "metadata": {},
   "outputs": [],
   "source": [
    "import pandas as pd\n",
    "\n",
    "#행 인덱스 . 열 이름을 지정하여 데이터프레임 만들기\n",
    "df = pd.DataFrame([[22,'남','충남대'], [21,'여','서울대'],[20,'남','카이스트']],\n",
    "                  index=['용준','서은','쭌너'],\n",
    "                  columns=['나이', '성별', '학교'])"
   ]
  },
  {
   "cell_type": "code",
   "execution_count": 42,
   "id": "11bd74fe",
   "metadata": {},
   "outputs": [
    {
     "name": "stdout",
     "output_type": "stream",
     "text": [
      "    나이 성별    학교\n",
      "용준  22  남   충남대\n",
      "서은  21  여   서울대\n",
      "쭌너  20  남  카이스트\n"
     ]
    }
   ],
   "source": [
    "print(df)"
   ]
  },
  {
   "cell_type": "code",
   "execution_count": 36,
   "id": "c26994f3",
   "metadata": {},
   "outputs": [
    {
     "name": "stdout",
     "output_type": "stream",
     "text": [
      "Index(['용준', '서은', '쭌너'], dtype='object')\n"
     ]
    }
   ],
   "source": [
    "print(df.index)"
   ]
  },
  {
   "cell_type": "code",
   "execution_count": 37,
   "id": "39bd27f4",
   "metadata": {},
   "outputs": [
    {
     "name": "stdout",
     "output_type": "stream",
     "text": [
      "Index(['나이', '성별', '학교'], dtype='object')\n"
     ]
    }
   ],
   "source": [
    "print(df.columns)"
   ]
  },
  {
   "cell_type": "markdown",
   "id": "56f255d1",
   "metadata": {},
   "source": [
    "행 인덱스/ 열 이름 변경\n",
    "<br><code> 행 인덱스 변경: DataFrame 객체.index = 새로운 행 인덱스 배열</code>\n",
    "<br><code> 열 이름 변경: DataFrame 객체.columns = 새로운 열 이름 배열</code>"
   ]
  },
  {
   "cell_type": "markdown",
   "id": "0e12bcd2",
   "metadata": {},
   "source": [
    "행 인덱스 / 열 이름 변경 예제"
   ]
  },
  {
   "cell_type": "code",
   "execution_count": 38,
   "id": "3347c69c",
   "metadata": {},
   "outputs": [],
   "source": [
    "df.index = ['쭈너', '떠너', '쭈떠']\n",
    "df.columns = ['연령','성별','대학']"
   ]
  },
  {
   "cell_type": "code",
   "execution_count": 39,
   "id": "db63dca1",
   "metadata": {},
   "outputs": [
    {
     "name": "stdout",
     "output_type": "stream",
     "text": [
      "Index(['쭈너', '떠너', '쭈떠'], dtype='object')\n",
      "Index(['연령', '성별', '대학'], dtype='object')\n"
     ]
    }
   ],
   "source": [
    "print(df.index)\n",
    "print(df.columns)"
   ]
  },
  {
   "cell_type": "code",
   "execution_count": 40,
   "id": "7c665287",
   "metadata": {},
   "outputs": [
    {
     "name": "stdout",
     "output_type": "stream",
     "text": [
      "    연령 성별    대학\n",
      "쭈너  22  남   충남대\n",
      "떠너  21  여   서울대\n",
      "쭈떠  20  남  카이스트\n"
     ]
    }
   ],
   "source": [
    "print(df)"
   ]
  },
  {
   "cell_type": "markdown",
   "id": "fab58072",
   "metadata": {},
   "source": [
    "rename() 함수를 사용하여 행 인덱스 / 열 이름 변경 가능 \n",
    "<br><code> 행 인덱스 변경: DataFrame 객체.rename(index = {기존 인덱스: 새 인덱스,...})</code>\n",
    "<br><code> 열 인덱스 변경: DataFrame 객체.rename(columns = {기존 열 이름: 새 열 이름,...})</code>"
   ]
  },
  {
   "cell_type": "code",
   "execution_count": 49,
   "id": "b3020760",
   "metadata": {},
   "outputs": [],
   "source": [
    "# rename 함수 사용해서 바꾸기\n",
    "df.rename(index = {'용준':'쭈너','서은':'떠너','쭌너':'쭈떠'}, inplace = True)\n",
    "df.rename(columns = {'나이':'연령', '학교':'대학'}, inplace = True)"
   ]
  },
  {
   "cell_type": "code",
   "execution_count": 50,
   "id": "7b3ab502",
   "metadata": {},
   "outputs": [
    {
     "name": "stdout",
     "output_type": "stream",
     "text": [
      "    연령 성별    대학\n",
      "쭈너  22  남   충남대\n",
      "떠너  21  여   서울대\n",
      "쭈떠  20  남  카이스트\n"
     ]
    }
   ],
   "source": [
    "print(df)"
   ]
  },
  {
   "cell_type": "markdown",
   "id": "e337edba",
   "metadata": {},
   "source": [
    "- inplace = True 를 쓰면 기존 객체에 반영"
   ]
  },
  {
   "cell_type": "markdown",
   "id": "e3977547",
   "metadata": {},
   "source": [
    "행 / 열 삭제\n",
    "- 행 / 열 삭제 시 drop()함수 사용\n",
    "- 행을 삭제할 때 축(axis) 옵션으로 axis=0 또는 입력 x / 열을 삭제할 때 축(axis) 옵션으로 axis=1 입력\n",
    "<br><code>행 삭제 : 데이터프레임 객체.drop(행 인덱스 또는 배열, axis = 0(또는 생략))></code>\n",
    "<br><code>열 삭제 : 데이터프레임 객체.drop(열 이름 또는 배열, axis = 1)></code>"
   ]
  },
  {
   "cell_type": "code",
   "execution_count": 117,
   "id": "41af5cbb",
   "metadata": {},
   "outputs": [],
   "source": [
    "import pandas as pd\n",
    "\n",
    "# 데이터프레임 생성\n",
    "exam_data = {'수학': [90,85,80], '영어':[100, 80, 70], '과학':[100, 99, 92], '국어':[93, 88, 83]}\n",
    "df = pd.DataFrame(exam_data, index = ['용준','서은','쭈떠'])"
   ]
  },
  {
   "cell_type": "code",
   "execution_count": 118,
   "id": "772da336",
   "metadata": {},
   "outputs": [
    {
     "name": "stdout",
     "output_type": "stream",
     "text": [
      "    수학   영어   과학  국어\n",
      "용준  90  100  100  93\n",
      "서은  85   80   99  88\n",
      "쭈떠  80   70   92  83\n"
     ]
    }
   ],
   "source": [
    "print(df)"
   ]
  },
  {
   "cell_type": "markdown",
   "id": "510eecd5",
   "metadata": {},
   "source": [
    "행 삭제 예제"
   ]
  },
  {
   "cell_type": "code",
   "execution_count": 119,
   "id": "ad739244",
   "metadata": {},
   "outputs": [],
   "source": [
    "#데이터프레임 df를 복제하여 변수 df2에  저장, df2의 1개행 (row) 제거\n",
    "df2 = df\n",
    "df3 = df\n",
    "df2.drop(\"쭈떠\", inplace=True)"
   ]
  },
  {
   "cell_type": "code",
   "execution_count": 120,
   "id": "b0a2dbf7",
   "metadata": {},
   "outputs": [
    {
     "name": "stdout",
     "output_type": "stream",
     "text": [
      "    수학   영어   과학  국어\n",
      "용준  90  100  100  93\n",
      "서은  85   80   99  88\n"
     ]
    }
   ],
   "source": [
    "print(df2)"
   ]
  },
  {
   "cell_type": "code",
   "execution_count": 121,
   "id": "52c50b7c",
   "metadata": {},
   "outputs": [],
   "source": [
    "#데이터프레임 df를 복제하여 변수 df3에 저장, df2의 2개 행(row) 제거\n",
    "df3 = df\n",
    "df3.drop([\"용준\",\"서은\"], inplace =True)\n"
   ]
  },
  {
   "cell_type": "code",
   "execution_count": 73,
   "id": "0ad8c00c",
   "metadata": {},
   "outputs": [
    {
     "name": "stdout",
     "output_type": "stream",
     "text": [
      "    수학  영어  과학  국어\n",
      "쭈떠  80  70  92  83\n"
     ]
    }
   ],
   "source": [
    "print(df3)"
   ]
  },
  {
   "cell_type": "code",
   "execution_count": 122,
   "id": "a9594a0b",
   "metadata": {},
   "outputs": [],
   "source": [
    "# 열 삭제\n",
    "import pandas as pd\n",
    "\n",
    "# 데이터프레임 생성\n",
    "exam_data = {'수학': [90,85,80], '영어':[100, 80, 70], '과학':[100, 99, 92], '국어':[93, 88, 83]}\n",
    "df = pd.DataFrame(exam_data, index = ['용준','서은','쭈떠'])"
   ]
  },
  {
   "cell_type": "code",
   "execution_count": 123,
   "id": "173f61f9",
   "metadata": {},
   "outputs": [
    {
     "data": {
      "text/html": [
       "<div>\n",
       "<style scoped>\n",
       "    .dataframe tbody tr th:only-of-type {\n",
       "        vertical-align: middle;\n",
       "    }\n",
       "\n",
       "    .dataframe tbody tr th {\n",
       "        vertical-align: top;\n",
       "    }\n",
       "\n",
       "    .dataframe thead th {\n",
       "        text-align: right;\n",
       "    }\n",
       "</style>\n",
       "<table border=\"1\" class=\"dataframe\">\n",
       "  <thead>\n",
       "    <tr style=\"text-align: right;\">\n",
       "      <th></th>\n",
       "      <th>수학</th>\n",
       "      <th>영어</th>\n",
       "      <th>과학</th>\n",
       "    </tr>\n",
       "  </thead>\n",
       "  <tbody>\n",
       "  </tbody>\n",
       "</table>\n",
       "</div>"
      ],
      "text/plain": [
       "Empty DataFrame\n",
       "Columns: [수학, 영어, 과학]\n",
       "Index: []"
      ]
     },
     "execution_count": 123,
     "metadata": {},
     "output_type": "execute_result"
    }
   ],
   "source": [
    "df2.drop('국어', axis = 1)"
   ]
  },
  {
   "cell_type": "code",
   "execution_count": 124,
   "id": "01ae80d4",
   "metadata": {},
   "outputs": [
    {
     "data": {
      "text/html": [
       "<div>\n",
       "<style scoped>\n",
       "    .dataframe tbody tr th:only-of-type {\n",
       "        vertical-align: middle;\n",
       "    }\n",
       "\n",
       "    .dataframe tbody tr th {\n",
       "        vertical-align: top;\n",
       "    }\n",
       "\n",
       "    .dataframe thead th {\n",
       "        text-align: right;\n",
       "    }\n",
       "</style>\n",
       "<table border=\"1\" class=\"dataframe\">\n",
       "  <thead>\n",
       "    <tr style=\"text-align: right;\">\n",
       "      <th></th>\n",
       "      <th>수학</th>\n",
       "      <th>과학</th>\n",
       "    </tr>\n",
       "  </thead>\n",
       "  <tbody>\n",
       "  </tbody>\n",
       "</table>\n",
       "</div>"
      ],
      "text/plain": [
       "Empty DataFrame\n",
       "Columns: [수학, 과학]\n",
       "Index: []"
      ]
     },
     "execution_count": 124,
     "metadata": {},
     "output_type": "execute_result"
    }
   ],
   "source": [
    "df2.drop(['영어','국어'], axis = 1)"
   ]
  },
  {
   "cell_type": "markdown",
   "id": "7ff5d8d0",
   "metadata": {},
   "source": [
    "행 선택<br>\n",
    "데이터 시각화 부분에서 기준이 될 행을 선택할 수 있음\n",
    "- 인덱스 이름을 기준으로 행을 선택할 시 loc 이용\n",
    " - 범위 지정 시 범위 끝 포함\n",
    "- 정수형 위치 인덱스를 기준으로 행을 선택할 시 iloc 이용\n",
    " - 범위 지정 시 범위 끝 미포함"
   ]
  },
  {
   "cell_type": "code",
   "execution_count": 87,
   "id": "f1e2a6ab",
   "metadata": {},
   "outputs": [],
   "source": [
    "# 행 선택 예제\n",
    "import pandas as pd\n",
    "\n",
    "exam_data = {'수학': [90,85,80], '영어':[100, 80, 70], '과학':[100, 99, 92], '국어':[93, 88, 83]}\n",
    "df = pd.DataFrame(exam_data, index = ['용준','서은','쭈떠'])"
   ]
  },
  {
   "cell_type": "code",
   "execution_count": 91,
   "id": "1b898674",
   "metadata": {},
   "outputs": [],
   "source": [
    "# 행 인덱스 이름을 사용하여 행 1개 선택\n",
    "label1 = df.loc['용준']\n",
    "position1 = df.iloc[0]"
   ]
  },
  {
   "cell_type": "code",
   "execution_count": 92,
   "id": "4faf9853",
   "metadata": {},
   "outputs": [
    {
     "name": "stdout",
     "output_type": "stream",
     "text": [
      "수학     90\n",
      "영어    100\n",
      "과학    100\n",
      "국어     93\n",
      "Name: 용준, dtype: int64\n"
     ]
    }
   ],
   "source": [
    "print(label1)"
   ]
  },
  {
   "cell_type": "code",
   "execution_count": 93,
   "id": "34467171",
   "metadata": {},
   "outputs": [
    {
     "name": "stdout",
     "output_type": "stream",
     "text": [
      "수학     90\n",
      "영어    100\n",
      "과학    100\n",
      "국어     93\n",
      "Name: 용준, dtype: int64\n"
     ]
    }
   ],
   "source": [
    "print(position1)"
   ]
  },
  {
   "cell_type": "code",
   "execution_count": 100,
   "id": "f7fe571c",
   "metadata": {},
   "outputs": [],
   "source": [
    "# 행 인덱스 이름을 사용하여 행 2개 선택\n",
    "label2 = df.loc[['용준','서은']]\n",
    "position2 = df.iloc[[0,1]]"
   ]
  },
  {
   "cell_type": "code",
   "execution_count": 101,
   "id": "37bee197",
   "metadata": {},
   "outputs": [
    {
     "name": "stdout",
     "output_type": "stream",
     "text": [
      "    수학   영어   과학  국어\n",
      "용준  90  100  100  93\n",
      "서은  85   80   99  88\n"
     ]
    }
   ],
   "source": [
    "print(label2)\n"
   ]
  },
  {
   "cell_type": "code",
   "execution_count": 102,
   "id": "3bd0b6b9",
   "metadata": {},
   "outputs": [
    {
     "name": "stdout",
     "output_type": "stream",
     "text": [
      "    수학   영어   과학  국어\n",
      "용준  90  100  100  93\n",
      "서은  85   80   99  88\n"
     ]
    }
   ],
   "source": [
    "print(position2)"
   ]
  },
  {
   "cell_type": "markdown",
   "id": "70188942",
   "metadata": {},
   "source": [
    " - 행 2개 이상 선택 시 데이터프레임 형태로 출력"
   ]
  },
  {
   "cell_type": "code",
   "execution_count": 113,
   "id": "aeff2829",
   "metadata": {},
   "outputs": [
    {
     "name": "stdout",
     "output_type": "stream",
     "text": [
      "    수학  영어  과학  국어\n",
      "서은  85  80  99  88\n",
      "쭈떠  80  70  92  83\n"
     ]
    }
   ],
   "source": [
    "# 행 인덱스 이름을 사용하여 행 여러 개 선택\n",
    "label3 = df.loc['서은':'쭈떠']\n",
    "print(label3)"
   ]
  },
  {
   "cell_type": "code",
   "execution_count": 112,
   "id": "618fd6eb",
   "metadata": {},
   "outputs": [
    {
     "name": "stdout",
     "output_type": "stream",
     "text": [
      "    수학  영어  과학  국어\n",
      "서은  85  80  99  88\n",
      "쭈떠  80  70  92  83\n"
     ]
    }
   ],
   "source": [
    "position3 = df.iloc[1:3]\n",
    "print(position3)"
   ]
  },
  {
   "cell_type": "markdown",
   "id": "be9864a7",
   "metadata": {},
   "source": [
    "열 선택 예제\n",
    "- 열은 정수형 위치 인덱스라는 개념이 없음\n"
   ]
  },
  {
   "cell_type": "code",
   "execution_count": 156,
   "id": "6ca88b18",
   "metadata": {},
   "outputs": [],
   "source": [
    "import pandas as pd\n",
    "\n",
    "exam_data = {'수학': [90,85,80], '영어':[100, 80, 70], '과학':[100, 99, 92], '국어':[93, 88, 83]}\n",
    "df = pd.DataFrame(exam_data, index = ['용준','서은','쭈떠'])"
   ]
  },
  {
   "cell_type": "code",
   "execution_count": 157,
   "id": "0c238ed5",
   "metadata": {},
   "outputs": [
    {
     "name": "stdout",
     "output_type": "stream",
     "text": [
      "Index(['용준', '서은', '쭈떠'], dtype='object')\n"
     ]
    }
   ],
   "source": [
    "print(df.index)"
   ]
  },
  {
   "cell_type": "code",
   "execution_count": 126,
   "id": "3d1df2ac",
   "metadata": {},
   "outputs": [
    {
     "name": "stdout",
     "output_type": "stream",
     "text": [
      "용준    90\n",
      "서은    85\n",
      "쭈떠    80\n",
      "Name: 수학, dtype: int64\n"
     ]
    }
   ],
   "source": [
    "# 수학 점수 데이터만 선택(열 선택)\n",
    "math = df['수학']\n",
    "print(math)"
   ]
  },
  {
   "cell_type": "code",
   "execution_count": 127,
   "id": "3ce5d2b0",
   "metadata": {},
   "outputs": [
    {
     "name": "stdout",
     "output_type": "stream",
     "text": [
      "용준    100\n",
      "서은     80\n",
      "쭈떠     70\n",
      "Name: 영어, dtype: int64\n"
     ]
    }
   ],
   "source": [
    "# 영어 점수 \n",
    "eng = df.영어\n",
    "print(eng)"
   ]
  },
  {
   "cell_type": "code",
   "execution_count": 133,
   "id": "d4750aab",
   "metadata": {},
   "outputs": [
    {
     "name": "stdout",
     "output_type": "stream",
     "text": [
      "    수학   영어\n",
      "용준  90  100\n",
      "서은  85   80\n",
      "쭈떠  80   70\n"
     ]
    }
   ],
   "source": [
    "# 열 두개 선택(여러개 선택할 때 슬라이싱은 못씀 하나씩 지정해줘야됨)\n",
    "two_col = df[['수학','영어']]\n",
    "print(two_col)"
   ]
  },
  {
   "cell_type": "markdown",
   "id": "86003915",
   "metadata": {},
   "source": [
    "원소 선택\n",
    "- 데이터프레임의 행 인덱스와 열 이름을 [행, 열] 형식의 2차원 좌표로 입력하여 원소 위치를 지정<br>\n",
    "<code>인덱스 이름: DataFrame 객체.loc[행 인덱스 이름, 열 이름]</code><br>\n",
    "<code>정수 위치 인덱스: DataFrame 객체.iloc[행 번호, 열 번호]></code>\n",
    " - loc와 iloc는 행 때문에 사용"
   ]
  },
  {
   "cell_type": "markdown",
   "id": "44fa6697",
   "metadata": {},
   "source": [
    "원소 선택 예제"
   ]
  },
  {
   "cell_type": "code",
   "execution_count": 187,
   "id": "5731cca8",
   "metadata": {},
   "outputs": [],
   "source": [
    "import pandas as pd\n",
    "\n",
    "exam_data = {'이름':['용준','서은','쭈떠'],\n",
    "            '수학': [90,85,80], \n",
    "            '영어':[100, 80, 70], \n",
    "            '과학':[100, 99, 92], \n",
    "            '국어':[93, 88, 83]}\n",
    "\n",
    "df = pd.DataFrame(exam_data)"
   ]
  },
  {
   "cell_type": "code",
   "execution_count": 188,
   "id": "236600f6",
   "metadata": {},
   "outputs": [
    {
     "name": "stdout",
     "output_type": "stream",
     "text": [
      "   이름  수학   영어   과학  국어\n",
      "0  용준  90  100  100  93\n",
      "1  서은  85   80   99  88\n",
      "2  쭈떠  80   70   92  83\n"
     ]
    }
   ],
   "source": [
    "print(df)"
   ]
  },
  {
   "cell_type": "code",
   "execution_count": 189,
   "id": "44e3eb18",
   "metadata": {},
   "outputs": [
    {
     "name": "stdout",
     "output_type": "stream",
     "text": [
      "    수학   영어   과학  국어\n",
      "이름                  \n",
      "용준  90  100  100  93\n",
      "서은  85   80   99  88\n",
      "쭈떠  80   70   92  83\n"
     ]
    }
   ],
   "source": [
    "# '이름' 열을 새로운 인덱스로 지정, df 객체에 변경 사항 저장\n",
    "df.set_index('이름', inplace=True)\n",
    "print(df)"
   ]
  },
  {
   "cell_type": "code",
   "execution_count": 191,
   "id": "f2302294",
   "metadata": {},
   "outputs": [
    {
     "name": "stdout",
     "output_type": "stream",
     "text": [
      "    수학   영어   과학  국어\n",
      "성명                  \n",
      "용준  90  100  100  93\n",
      "서은  85   80   99  88\n",
      "쭈떠  80   70   92  83\n"
     ]
    }
   ],
   "source": [
    "df.index.rename(\"성명\", inplace = True)\n",
    "print(df)"
   ]
  },
  {
   "cell_type": "code",
   "execution_count": 182,
   "id": "f20c868a",
   "metadata": {},
   "outputs": [
    {
     "name": "stdout",
     "output_type": "stream",
     "text": [
      "Index(['용준', '서은', '쭈떠'], dtype='object', name='이름')\n"
     ]
    }
   ],
   "source": [
    "print(df.index)"
   ]
  },
  {
   "cell_type": "code",
   "execution_count": 170,
   "id": "28da73a6",
   "metadata": {},
   "outputs": [
    {
     "name": "stdout",
     "output_type": "stream",
     "text": [
      "Index(['수학', '영어', '과학', '국어'], dtype='object')\n"
     ]
    }
   ],
   "source": [
    "print(df.columns)"
   ]
  },
  {
   "cell_type": "code",
   "execution_count": 171,
   "id": "1cd3b1d7",
   "metadata": {},
   "outputs": [
    {
     "name": "stdout",
     "output_type": "stream",
     "text": [
      "100\n"
     ]
    }
   ],
   "source": [
    "# 데이터프레임 df의 특정 원소 1개를 선택('용준'의 '영어' 점수)\n",
    "# loc\n",
    "a = df.loc['용준', '영어']\n",
    "print(a)"
   ]
  },
  {
   "cell_type": "code",
   "execution_count": 172,
   "id": "350403e4",
   "metadata": {},
   "outputs": [
    {
     "name": "stdout",
     "output_type": "stream",
     "text": [
      "100\n"
     ]
    }
   ],
   "source": [
    "# iloc\n",
    "b = df.iloc[0,1]\n",
    "print(b)"
   ]
  },
  {
   "cell_type": "code",
   "execution_count": 173,
   "id": "9a9465af",
   "metadata": {},
   "outputs": [
    {
     "name": "stdout",
     "output_type": "stream",
     "text": [
      "수학    85\n",
      "국어    88\n",
      "Name: 서은, dtype: int64\n"
     ]
    }
   ],
   "source": [
    "# 데이터프레임 df의 특정 원소 2개를 선택('서은'의 '수학' 점수, '국어' 점수)\n",
    "c = df.loc['서은',['수학','국어']]\n",
    "print(c)"
   ]
  },
  {
   "cell_type": "code",
   "execution_count": 174,
   "id": "0826e8ba",
   "metadata": {},
   "outputs": [
    {
     "name": "stdout",
     "output_type": "stream",
     "text": [
      "수학    85\n",
      "국어    88\n",
      "Name: 서은, dtype: int64\n"
     ]
    }
   ],
   "source": [
    "d = df.iloc[1,[0, 3]]\n",
    "print(d)"
   ]
  },
  {
   "cell_type": "code",
   "execution_count": 175,
   "id": "f2077c30",
   "metadata": {},
   "outputs": [
    {
     "name": "stdout",
     "output_type": "stream",
     "text": [
      "     영어   과학\n",
      "이름          \n",
      "서은   80   99\n",
      "용준  100  100\n"
     ]
    }
   ],
   "source": [
    "# 데이터프레임 df의 2개 이상의 행과 열에 속하는 원소들 선택('서은', '용준'의 '영어', '과학' 점수)\n",
    "e = df.loc[['서은','용준'], ['영어','과학']]\n",
    "print(e)"
   ]
  },
  {
   "cell_type": "markdown",
   "id": "5b84ae38",
   "metadata": {},
   "source": [
    "직접 지정한 행 인덱스를 해제할 경우 reset_index() 사용"
   ]
  },
  {
   "cell_type": "code",
   "execution_count": 180,
   "id": "836d2470",
   "metadata": {},
   "outputs": [
    {
     "name": "stdout",
     "output_type": "stream",
     "text": [
      "   이름  수학   영어   과학  국어\n",
      "0  용준  90  100  100  93\n",
      "1  서은  85   80   99  88\n",
      "2  쭈떠  80   70   92  83\n"
     ]
    }
   ],
   "source": [
    "df.reset_index('이름', inplace = True)\n",
    "print(df)"
   ]
  },
  {
   "cell_type": "markdown",
   "id": "57cd8acd",
   "metadata": {},
   "source": [
    "열 추가<br>\n",
    "<code>DataFrame 객체['추가하려는 열 이름'] = 데이터 값</code>"
   ]
  },
  {
   "cell_type": "markdown",
   "id": "7eebcecc",
   "metadata": {},
   "source": [
    "열 추가 예제"
   ]
  },
  {
   "cell_type": "code",
   "execution_count": 192,
   "id": "5ef4212d",
   "metadata": {},
   "outputs": [],
   "source": [
    "import pandas as pd\n",
    "\n",
    "exam_data = {'이름':['용준','서은','쭈떠'],\n",
    "            '수학': [90,85,80], \n",
    "            '영어':[100, 80, 70], \n",
    "            '과학':[100, 99, 92], \n",
    "            '국어':[93, 88, 83]}\n",
    "\n",
    "df = pd.DataFrame(exam_data)"
   ]
  },
  {
   "cell_type": "code",
   "execution_count": 197,
   "id": "3e92df88",
   "metadata": {},
   "outputs": [],
   "source": [
    "# 데이터프레임 df에 '컴프' 점수 열(column) 추가\n",
    "df['컴프'] = [80, 90, 100]"
   ]
  },
  {
   "cell_type": "code",
   "execution_count": 198,
   "id": "c1f085ad",
   "metadata": {},
   "outputs": [
    {
     "name": "stdout",
     "output_type": "stream",
     "text": [
      "   이름  수학   영어   과학  국어   컴프\n",
      "0  용준  90  100  100  93   80\n",
      "1  서은  85   80   99  88   90\n",
      "2  쭈떠  80   70   92  83  100\n"
     ]
    }
   ],
   "source": [
    "print(df)"
   ]
  },
  {
   "cell_type": "markdown",
   "id": "a7c931be",
   "metadata": {},
   "source": [
    "행 추가\n",
    "- 추가하려는 행 이름과 데이터 값을 loc 인덱서를 사용하여 입력\n",
    "<br><code>DataFrame 객체.loc['새로운 행 이름'] = 데이터 값</code>"
   ]
  },
  {
   "cell_type": "markdown",
   "id": "b328857d",
   "metadata": {},
   "source": [
    "행 추가 예제"
   ]
  },
  {
   "cell_type": "code",
   "execution_count": 210,
   "id": "0921f4cf",
   "metadata": {},
   "outputs": [],
   "source": [
    "import pandas as pd\n",
    "\n",
    "exam_data = {'이름':['용준','서은','쭈떠'],\n",
    "            '수학': [90,85,80], \n",
    "            '영어':[100, 80, 70], \n",
    "            '과학':[100, 99, 92], \n",
    "            '국어':[93, 88, 83]}\n",
    "\n",
    "df = pd.DataFrame(exam_data)"
   ]
  },
  {
   "cell_type": "code",
   "execution_count": 226,
   "id": "dce471e4",
   "metadata": {},
   "outputs": [
    {
     "name": "stdout",
     "output_type": "stream",
     "text": [
      "   이름  수학   영어   과학  국어\n",
      "0  용준  90  100  100  93\n",
      "1  서은  85   80   99  88\n",
      "2  쭈떠  80   70   92  83\n"
     ]
    }
   ],
   "source": [
    "print(df)"
   ]
  },
  {
   "cell_type": "code",
   "execution_count": 227,
   "id": "24c51b6e",
   "metadata": {},
   "outputs": [],
   "source": [
    "# 새로운 행(row) 추가 - 같은 원소 값 입력\n",
    "df.loc[3] = 0"
   ]
  },
  {
   "cell_type": "code",
   "execution_count": 228,
   "id": "c131f1c3",
   "metadata": {},
   "outputs": [
    {
     "name": "stdout",
     "output_type": "stream",
     "text": [
      "   이름  수학   영어   과학  국어\n",
      "0  용준  90  100  100  93\n",
      "1  서은  85   80   99  88\n",
      "2  쭈떠  80   70   92  83\n",
      "3   0   0    0    0   0\n"
     ]
    }
   ],
   "source": [
    "print(df)"
   ]
  },
  {
   "cell_type": "code",
   "execution_count": 229,
   "id": "aa06ed6e",
   "metadata": {},
   "outputs": [],
   "source": [
    "# 새로운 행(row) 추가 - 원소 값 여러 개의 배열 입력\n",
    "df.loc[4] =[\"쭈떠쀼\", 100, 100, 100 ,100 ]"
   ]
  },
  {
   "cell_type": "code",
   "execution_count": 230,
   "id": "4b78d3d9",
   "metadata": {},
   "outputs": [
    {
     "name": "stdout",
     "output_type": "stream",
     "text": [
      "    이름   수학   영어   과학   국어\n",
      "0   용준   90  100  100   93\n",
      "1   서은   85   80   99   88\n",
      "2   쭈떠   80   70   92   83\n",
      "3    0    0    0    0    0\n",
      "4  쭈떠쀼  100  100  100  100\n"
     ]
    }
   ],
   "source": [
    "print(df)"
   ]
  },
  {
   "cell_type": "code",
   "execution_count": 237,
   "id": "a3cf9141",
   "metadata": {},
   "outputs": [],
   "source": [
    "# 새로운 행(row) 추가 - 기존 행 복사\n",
    "df.loc[5] = df.loc[3]"
   ]
  },
  {
   "cell_type": "code",
   "execution_count": 238,
   "id": "68768381",
   "metadata": {},
   "outputs": [
    {
     "name": "stdout",
     "output_type": "stream",
     "text": [
      "    이름   수학   영어   과학   국어\n",
      "0   용준   90  100  100   93\n",
      "1   서은   85   80   99   88\n",
      "2   쭈떠   80   70   92   83\n",
      "3    0    0    0    0    0\n",
      "4  쭈떠쀼  100  100  100  100\n",
      "5    0    0    0    0    0\n"
     ]
    }
   ],
   "source": [
    "print(df)"
   ]
  },
  {
   "cell_type": "code",
   "execution_count": 246,
   "id": "e0a8bad8",
   "metadata": {},
   "outputs": [],
   "source": [
    "df.drop(3, inplace=True)"
   ]
  },
  {
   "cell_type": "code",
   "execution_count": 247,
   "id": "13f94a55",
   "metadata": {},
   "outputs": [
    {
     "name": "stdout",
     "output_type": "stream",
     "text": [
      "    이름   수학   영어   과학   국어\n",
      "0   용준   90  100  100   93\n",
      "1   서은   85   80   99   88\n",
      "2   쭈떠   80   70   92   83\n",
      "4  쭈떠쀼  100  100  100  100\n",
      "5    0    0    0    0    0\n"
     ]
    }
   ],
   "source": [
    "print(df)"
   ]
  },
  {
   "cell_type": "markdown",
   "id": "3ef6be8d",
   "metadata": {},
   "source": [
    "원소 값 변경<br>\n",
    "<code>DataFrame 객체의 일부분 또는 원소를 선택 = 새로운 값</code>"
   ]
  },
  {
   "cell_type": "markdown",
   "id": "da4548aa",
   "metadata": {},
   "source": [
    "원소 값 변경 예제"
   ]
  },
  {
   "cell_type": "code",
   "execution_count": 248,
   "id": "941c96a0",
   "metadata": {},
   "outputs": [],
   "source": [
    "import pandas as pd\n",
    "\n",
    "exam_data = {'이름':['용준','서은','쭈떠'],\n",
    "            '수학': [90,85,80], \n",
    "            '영어':[100, 80, 70], \n",
    "            '과학':[100, 99, 92], \n",
    "            '국어':[93, 88, 83]}\n",
    "\n",
    "df = pd.DataFrame(exam_data)"
   ]
  },
  {
   "cell_type": "code",
   "execution_count": 249,
   "id": "d5115090",
   "metadata": {},
   "outputs": [],
   "source": [
    "df.set_index('이름', inplace=True)"
   ]
  },
  {
   "cell_type": "code",
   "execution_count": 250,
   "id": "74d98a1b",
   "metadata": {},
   "outputs": [
    {
     "name": "stdout",
     "output_type": "stream",
     "text": [
      "    수학   영어   과학  국어\n",
      "이름                  \n",
      "용준  90  100  100  93\n",
      "서은  85   80   99  88\n",
      "쭈떠  80   70   92  83\n"
     ]
    }
   ],
   "source": [
    "print(df)"
   ]
  },
  {
   "cell_type": "code",
   "execution_count": 251,
   "id": "9dda2462",
   "metadata": {},
   "outputs": [],
   "source": [
    "# 데이터프레임 df의 특정 원소를 변경('용준'의 '국어'점수)\n",
    "df.iloc[0, 3] = 99"
   ]
  },
  {
   "cell_type": "code",
   "execution_count": 252,
   "id": "aa1d0544",
   "metadata": {},
   "outputs": [
    {
     "name": "stdout",
     "output_type": "stream",
     "text": [
      "    수학   영어   과학  국어\n",
      "이름                  \n",
      "용준  90  100  100  99\n",
      "서은  85   80   99  88\n",
      "쭈떠  80   70   92  83\n"
     ]
    }
   ],
   "source": [
    "print(df)"
   ]
  },
  {
   "cell_type": "code",
   "execution_count": 256,
   "id": "e3cf2921",
   "metadata": {},
   "outputs": [],
   "source": [
    "df.drop(\"수학\", inplace=True)"
   ]
  },
  {
   "cell_type": "code",
   "execution_count": 257,
   "id": "d5d38e54",
   "metadata": {},
   "outputs": [
    {
     "name": "stdout",
     "output_type": "stream",
     "text": [
      "      수학     영어     과학    국어  용준\n",
      "이름                              \n",
      "용준  90.0  100.0  100.0  99.0 NaN\n",
      "서은  85.0   80.0   99.0  88.0 NaN\n",
      "쭈떠  80.0   70.0   92.0  83.0 NaN\n"
     ]
    }
   ],
   "source": [
    "print(df)"
   ]
  },
  {
   "cell_type": "code",
   "execution_count": 258,
   "id": "022df047",
   "metadata": {},
   "outputs": [],
   "source": [
    "df.drop(['용준'], axis = 1, inplace=True)"
   ]
  },
  {
   "cell_type": "code",
   "execution_count": 259,
   "id": "a87bea1d",
   "metadata": {},
   "outputs": [
    {
     "name": "stdout",
     "output_type": "stream",
     "text": [
      "      수학     영어     과학    국어\n",
      "이름                          \n",
      "용준  90.0  100.0  100.0  99.0\n",
      "서은  85.0   80.0   99.0  88.0\n",
      "쭈떠  80.0   70.0   92.0  83.0\n"
     ]
    }
   ],
   "source": [
    "print(df)"
   ]
  },
  {
   "cell_type": "code",
   "execution_count": 263,
   "id": "9260d35f",
   "metadata": {},
   "outputs": [],
   "source": [
    "# 데이터프레임 df의 원소 여러 개 변경('용준'의  '수학', '과학' 점수)\n",
    "df.loc[\"용준\",[\"수학\",\"과학\"]] = 100, 100"
   ]
  },
  {
   "cell_type": "code",
   "execution_count": 264,
   "id": "d89c16bb",
   "metadata": {},
   "outputs": [
    {
     "name": "stdout",
     "output_type": "stream",
     "text": [
      "       수학     영어     과학    국어\n",
      "이름                           \n",
      "용준  100.0  100.0  100.0  99.0\n",
      "서은   85.0   80.0   99.0  88.0\n",
      "쭈떠   80.0   70.0   92.0  83.0\n"
     ]
    }
   ],
   "source": [
    "print(df)"
   ]
  },
  {
   "cell_type": "markdown",
   "id": "f5f9501e",
   "metadata": {},
   "source": [
    "행, 열의 위치 바꾸기\n",
    "- 선형대수학의 전치행렬과 같은 개념<br>\n",
    "<code>행, 열 바꾸기: DataFrame 객체.transpose() or DataFrame 객체.T</code>"
   ]
  },
  {
   "cell_type": "code",
   "execution_count": 265,
   "id": "5d61d31f",
   "metadata": {},
   "outputs": [],
   "source": [
    "df_t = df.T"
   ]
  },
  {
   "cell_type": "code",
   "execution_count": 266,
   "id": "e2a3e85e",
   "metadata": {},
   "outputs": [
    {
     "name": "stdout",
     "output_type": "stream",
     "text": [
      "이름     용준    서은    쭈떠\n",
      "수학  100.0  85.0  80.0\n",
      "영어  100.0  80.0  70.0\n",
      "과학  100.0  99.0  92.0\n",
      "국어   99.0  88.0  83.0\n"
     ]
    }
   ],
   "source": [
    "print(df_t)"
   ]
  },
  {
   "cell_type": "code",
   "execution_count": 271,
   "id": "6809f9f0",
   "metadata": {},
   "outputs": [
    {
     "name": "stdout",
     "output_type": "stream",
     "text": [
      "Index(['수학', '영어', '과학', '국어'], dtype='object')\n"
     ]
    }
   ],
   "source": [
    "print(df_t.index)"
   ]
  },
  {
   "cell_type": "code",
   "execution_count": 269,
   "id": "668dc017",
   "metadata": {},
   "outputs": [],
   "source": [
    "# 데이터프레임 df를 다시 전치\n",
    "df = df_t.T"
   ]
  },
  {
   "cell_type": "code",
   "execution_count": 270,
   "id": "3dac0d8b",
   "metadata": {},
   "outputs": [
    {
     "name": "stdout",
     "output_type": "stream",
     "text": [
      "       수학     영어     과학    국어\n",
      "이름                           \n",
      "용준  100.0  100.0  100.0  99.0\n",
      "서은   85.0   80.0   99.0  88.0\n",
      "쭈떠   80.0   70.0   92.0  83.0\n"
     ]
    }
   ],
   "source": [
    "print(df)"
   ]
  },
  {
   "cell_type": "code",
   "execution_count": 273,
   "id": "0ad4ca0a",
   "metadata": {},
   "outputs": [
    {
     "name": "stdout",
     "output_type": "stream",
     "text": [
      "Index(['용준', '서은', '쭈떠'], dtype='object', name='이름')\n"
     ]
    }
   ],
   "source": [
    "print(df.index)"
   ]
  },
  {
   "cell_type": "code",
   "execution_count": null,
   "id": "1a4018d7",
   "metadata": {},
   "outputs": [],
   "source": []
  }
 ],
 "metadata": {
  "kernelspec": {
   "display_name": "Python 3 (ipykernel)",
   "language": "python",
   "name": "python3"
  },
  "language_info": {
   "codemirror_mode": {
    "name": "ipython",
    "version": 3
   },
   "file_extension": ".py",
   "mimetype": "text/x-python",
   "name": "python",
   "nbconvert_exporter": "python",
   "pygments_lexer": "ipython3",
   "version": "3.9.7"
  }
 },
 "nbformat": 4,
 "nbformat_minor": 5
}
