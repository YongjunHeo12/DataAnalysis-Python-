{
 "cells": [
  {
   "cell_type": "markdown",
   "id": "6377e500",
   "metadata": {},
   "source": [
    "# 크롤링"
   ]
  },
  {
   "cell_type": "markdown",
   "id": "fe87ad0f",
   "metadata": {},
   "source": [
    "- 인터넷에서 정보를 자동으로 수집하는 행위\n",
    "- 유명 검색 엔진들에서 크롤러를 활용\n",
    " - 네이버 구글 같은 대형 검색 엔진들 방대한 사이트의 저보를 수집, 한군데 정렬하여 제공\n",
    "- 크롤링: 정보를 수집하는 행위\n",
    "- 크롤러: 정보를 수집하는 도구"
   ]
  },
  {
   "cell_type": "markdown",
   "id": "d75b54b0",
   "metadata": {},
   "source": [
    "크롤링 시 주의사항\n",
    "- 크롤러는 신중하게 사용\n",
    " - 대부분의 웹페이지는 영리적인 목적으로 운영\n",
    " - ex) 네이버에서 무언가를 검색하면 화면 곳곳에서 광고를 발견\n",
    " - 네이버에서 광고를 클릭하는 순간 발생하는 트래픽에 의해 수익으로 연결\n",
    "- 크롤러는 알짜배기 정보만 가져오고 광고 클릭 x\n",
    "- 실습(연습)용으로 사용하는 것은 문제가 되지 않음\n",
    "- 무단 미러링은 법에 위반\n",
    " - 자료를 크롤링하여 무단으로 복제"
   ]
  },
  {
   "cell_type": "markdown",
   "id": "64b43a39",
   "metadata": {},
   "source": [
    "크롤러 제작\n",
    "- 만드는 방법은 다양\n",
    "- 여기서는 셀레늄을 이용\n",
    "\n",
    "셀레늄 라이브러리 설치\n",
    "- cmd 창에서 진행\n",
    "- pip install selenium\n",
    "\n",
    "크롬설치<br><br>\n",
    "크롤링을 위한 크롬 드라이버 설치\n",
    "1. 우측 상단 점 세 개 클릭\n",
    "2. [도움말] 클릭\n",
    "3. [Chrome 정보] 클릭\n",
    "4. 버전 확인 -->( 98.0.4758.82(공식 빌드) (64비트))\n",
    "5. https://chromedriver.chromium.org/\n",
    "6. 버전과 맞는 드라이버 설치 -> python폴더(주피터 노트북과 같은 위치)"
   ]
  },
  {
   "cell_type": "code",
   "execution_count": 6,
   "id": "cff2db13",
   "metadata": {},
   "outputs": [],
   "source": [
    "from selenium import webdriver"
   ]
  },
  {
   "cell_type": "code",
   "execution_count": 8,
   "id": "c921a0ca",
   "metadata": {},
   "outputs": [
    {
     "name": "stderr",
     "output_type": "stream",
     "text": [
      "C:\\Users\\82103\\AppData\\Local\\Temp/ipykernel_31732/3727980596.py:1: DeprecationWarning: executable_path has been deprecated, please pass in a Service object\n",
      "  driver = webdriver.Chrome(executable_path=\"chromedriver_win32/chromedriver.exe\")\n"
     ]
    }
   ],
   "source": [
    "driver = webdriver.Chrome(executable_path=\"chromedriver_win32/chromedriver.exe\")"
   ]
  },
  {
   "cell_type": "code",
   "execution_count": 11,
   "id": "50c7dd8f",
   "metadata": {},
   "outputs": [],
   "source": [
    "driver.get(\"https://www.naver.com\")"
   ]
  },
  {
   "cell_type": "markdown",
   "id": "30b234d2",
   "metadata": {},
   "source": [
    "알고리즘 순서도\n",
    "1. 시작\n",
    "2. 로그인 할 사이트를 입력 받음\n",
    "3. 아이디와 비밀번호를 입력 받음\n",
    "4. 로그인 사이트로 이동\n",
    "5. 아이디 입력\n",
    "6. tab 키 누름\n",
    "7. 비밀번호 입력\n",
    "8. 엔터키 누름\n",
    "9. 종료\n",
    "\n",
    "- 파일을 두 개 만들어서 진행"
   ]
  },
  {
   "cell_type": "code",
   "execution_count": 12,
   "id": "b16aeb6d",
   "metadata": {},
   "outputs": [
    {
     "ename": "IndentationError",
     "evalue": "expected an indented block (Temp/ipykernel_31732/161333802.py, line 32)",
     "output_type": "error",
     "traceback": [
      "\u001b[1;36m  File \u001b[1;32m\"C:\\Users\\82103\\AppData\\Local\\Temp/ipykernel_31732/161333802.py\"\u001b[1;36m, line \u001b[1;32m32\u001b[0m\n\u001b[1;33m    def login(self, id, ps):\u001b[0m\n\u001b[1;37m                                ^\u001b[0m\n\u001b[1;31mIndentationError\u001b[0m\u001b[1;31m:\u001b[0m expected an indented block\n"
     ]
    }
   ],
   "source": [
    "from selenium import webdriver\n",
    "from selenium.webdriver.chrome.options import Options\n",
    "import pywinmacro as pw\n",
    "import time\n",
    "\n",
    "#사이트의 로그인 주소를 미리 저장\n",
    "LOGIN_URLS = {\n",
    "    \"daum\" : \"https://logins.daum.net/accounts/signinform.do\",\n",
    "    \"naver\" : \"https://nid.naver.com/nidlogin.login?\"\n",
    "}\n",
    "\n",
    "class LoginBot:\n",
    "    def __init__(self, site):\n",
    "        #셀레늄 웹드라이버에 입력할 옵션을 지정\n",
    "        self.options = Options()\n",
    "        #옵션에 해상도를 입력\n",
    "        self.options.add_argument(\"--window-size=1920, 1080\")\n",
    "        #옵션을 이용하여 크롬 웹드라이버를 불러옴\n",
    "        self.driver = webdriver.Chrome(executable_path=\"chromedriver_win32/chromedriver.exe\", chrome_options = self.options)\n",
    "        #로그인 하려는 사이트로 이동해 로그인창을 켬\n",
    "        try:\n",
    "            self.driver.get(LOGIN_URLS[site.lower()])\n",
    "            #로딩이 오래 걸릴 것을 대비하여 잠시 대기\n",
    "            time.sleep(7)\n",
    "        except KeyError:\n",
    "            # 세팅되지 않은 주소가 나올 경우 주소창에 입력하게 함\n",
    "            self.driver.get(site)\n",
    "            #로딩이 오래 걸릴 것을 대비하여 잠시 대기\n",
    "            time.sleep(7)\n",
    "        \n",
    "    #로그인 메서드\n",
    "    def login(self, id, ps):    \n",
    "        # 아이디 입력\n",
    "        pw.typing(id)\n",
    "        #탭 키 입력\n",
    "        pw.key_press_once(\"tab\")\n",
    "        #비밀번호 입력\n",
    "        pw.typing(ps)\n",
    "        #로그인을 위한 엔터키 사용\n",
    "        pw.key_press_once(\"enter\")\n",
    "        #로딩이 오래 걸릴 것을 대비하여 잠시 대기\n",
    "        time.sleep(7)\n",
    "        \n",
    "    #크롤러 종료 메서드\n",
    "    def kill(self):\n",
    "        self.driver.quit()"
   ]
  },
  {
   "cell_type": "markdown",
   "id": "6a55bb38",
   "metadata": {},
   "source": [
    "실제 구동할 파일 작성"
   ]
  },
  {
   "cell_type": "code",
   "execution_count": 13,
   "id": "5a8c8042",
   "metadata": {},
   "outputs": [
    {
     "ename": "IndexError",
     "evalue": "list index out of range",
     "output_type": "error",
     "traceback": [
      "\u001b[1;31m---------------------------------------------------------------------------\u001b[0m",
      "\u001b[1;31mIndexError\u001b[0m                                Traceback (most recent call last)",
      "\u001b[1;32m~\\AppData\\Local\\Temp/ipykernel_31732/2610904263.py\u001b[0m in \u001b[0;36m<module>\u001b[1;34m\u001b[0m\n\u001b[0;32m      9\u001b[0m \u001b[1;33m\u001b[0m\u001b[0m\n\u001b[0;32m     10\u001b[0m \u001b[1;31m# 로그인 할 패스워드\u001b[0m\u001b[1;33m\u001b[0m\u001b[1;33m\u001b[0m\u001b[0m\n\u001b[1;32m---> 11\u001b[1;33m \u001b[0mps\u001b[0m \u001b[1;33m=\u001b[0m \u001b[0msys\u001b[0m\u001b[1;33m.\u001b[0m\u001b[0margv\u001b[0m\u001b[1;33m[\u001b[0m\u001b[1;36m3\u001b[0m\u001b[1;33m]\u001b[0m\u001b[1;33m\u001b[0m\u001b[1;33m\u001b[0m\u001b[0m\n\u001b[0m\u001b[0;32m     12\u001b[0m \u001b[1;33m\u001b[0m\u001b[0m\n\u001b[0;32m     13\u001b[0m \u001b[1;31m# lm 모듈에 있는 클래스를 객체화\u001b[0m\u001b[1;33m\u001b[0m\u001b[1;33m\u001b[0m\u001b[0m\n",
      "\u001b[1;31mIndexError\u001b[0m: list index out of range"
     ]
    }
   ],
   "source": [
    "import sys\n",
    "import login_macro as lm\n",
    "\n",
    "# 로그인 할 사이트를 입력\n",
    "site = sys.argv[1]\n",
    "\n",
    "# 로그인 할 아이디\n",
    "id = sys.argv[2]\n",
    "\n",
    "# 로그인 할 패스워드\n",
    "ps = sys.argv[3]\n",
    "\n",
    "# lm 모듈에 있는 클래스를 객체화\n",
    "crawler = lm.LoginBot(site)\n",
    "\n",
    "# 로그인\n",
    "crawler.login(id, ps)"
   ]
  },
  {
   "cell_type": "markdown",
   "id": "281b7652",
   "metadata": {},
   "source": [
    "주피터 노트북에서 코드를 실행시킬 때 입력해야 하는 명령어 코드"
   ]
  },
  {
   "cell_type": "code",
   "execution_count": 14,
   "id": "a7473bb6",
   "metadata": {},
   "outputs": [],
   "source": [
    "!python login.py naver id pw"
   ]
  },
  {
   "cell_type": "markdown",
   "id": "e504198f",
   "metadata": {},
   "source": [
    "매크로 없이 트위터에 로그인하는 코드"
   ]
  },
  {
   "cell_type": "markdown",
   "id": "4abb1cd9",
   "metadata": {},
   "source": [
    "목표\n",
    "1. 매크로 없이 데이터 입력\n",
    "2. 아이디 입력창에 아이디 입력\n",
    "3. 비밀번호 입력창에 비밀번호 입력\n",
    "4. 엔터키 입력\n",
    "\n",
    "작업을 위해 목표 쪼개기\n",
    "1. 로그인 아이디 입력창의 요소를 뽑아오기\n",
    "2. 로그인 비밀번호 입력창의 요소 뽑아오기\n",
    "3. 셀레늄으로 글자 입력\n",
    "4. 셀레늄으로 키 입력"
   ]
  },
  {
   "cell_type": "markdown",
   "id": "48e11b3b",
   "metadata": {},
   "source": [
    "로그인 창에서 아이디 입력창에 대한 정보 가져오기\n",
    "\n",
    "- https://twitter.com/i/flow/login?input_flow_data=%7B%22requested_variant%22%3A%22eyJsYW5nIjoia28ifQ%3D%3D%22%7D"
   ]
  },
  {
   "cell_type": "code",
   "execution_count": 16,
   "id": "a007224a",
   "metadata": {},
   "outputs": [
    {
     "name": "stderr",
     "output_type": "stream",
     "text": [
      "C:\\Users\\82103\\AppData\\Local\\Temp/ipykernel_31732/715120866.py:2: DeprecationWarning: executable_path has been deprecated, please pass in a Service object\n",
      "  driver = webdriver.Chrome(executable_path=\"chromedriver_win32/chromedriver.exe\")\n"
     ]
    }
   ],
   "source": [
    "from selenium import webdriver\n",
    "driver = webdriver.Chrome(executable_path=\"chromedriver_win32/chromedriver.exe\")\n",
    "driver.get(\"https://twitter.com/login\")"
   ]
  },
  {
   "cell_type": "markdown",
   "id": "b262b32e",
   "metadata": {},
   "source": [
    "인스타그램 특정 태그가 달린 게시물 캡쳐"
   ]
  },
  {
   "cell_type": "markdown",
   "id": "72496a90",
   "metadata": {},
   "source": [
    "목표\n",
    "1. 인스타그램 로그인\n",
    "2. 인스타그램에서 태그 검색\n",
    "3. 게시물 클릭\n",
    "4. 게시물 스크린샷 캡쳐\n",
    "5. 다음 게시물로 이동"
   ]
  },
  {
   "cell_type": "markdown",
   "id": "f679fe9e",
   "metadata": {},
   "source": [
    "인스타그램 로그인"
   ]
  },
  {
   "cell_type": "code",
   "execution_count": 160,
   "id": "f554c3c1",
   "metadata": {},
   "outputs": [
    {
     "name": "stderr",
     "output_type": "stream",
     "text": [
      "C:\\Users\\82103\\AppData\\Local\\Temp/ipykernel_31732/830898596.py:2: DeprecationWarning: executable_path has been deprecated, please pass in a Service object\n",
      "  driver = webdriver.Chrome(executable_path=\"chromedriver_win32/chromedriver.exe\")\n"
     ]
    }
   ],
   "source": [
    "from selenium import webdriver\n",
    "driver = webdriver.Chrome(executable_path=\"chromedriver_win32/chromedriver.exe\")"
   ]
  },
  {
   "cell_type": "markdown",
   "id": "3fdaaa99",
   "metadata": {},
   "source": [
    "열린 브라우저로 인스타그램 로그인 사이트 접속\n",
    "\n",
    "- https://www.instagram.com/accounts/login/"
   ]
  },
  {
   "cell_type": "markdown",
   "id": "70755f0c",
   "metadata": {},
   "source": [
    "3. input태그 찾기 "
   ]
  },
  {
   "cell_type": "code",
   "execution_count": 163,
   "id": "408c5cf4",
   "metadata": {},
   "outputs": [
    {
     "name": "stderr",
     "output_type": "stream",
     "text": [
      "C:\\Users\\82103\\AppData\\Local\\Temp/ipykernel_31732/4159672381.py:1: DeprecationWarning: find_elements_by_* commands are deprecated. Please use find_elements() instead\n",
      "  input_tags = driver.find_elements_by_tag_name(\"input\")\n"
     ]
    }
   ],
   "source": [
    "input_tags = driver.find_elements_by_tag_name(\"input\")"
   ]
  },
  {
   "cell_type": "markdown",
   "id": "508c7d6a",
   "metadata": {},
   "source": [
    "결과 <br>\n",
    "#<input arlia-label='전화번호, 사용자 이름 또는 이메일\" ...\n",
    "    "
   ]
  },
  {
   "cell_type": "markdown",
   "id": "d27b35ea",
   "metadata": {},
   "source": [
    "4. 해당 필드를 객체에 대입"
   ]
  },
  {
   "cell_type": "code",
   "execution_count": 164,
   "id": "9f253b8b",
   "metadata": {},
   "outputs": [
    {
     "data": {
      "text/plain": [
       "2"
      ]
     },
     "execution_count": 164,
     "metadata": {},
     "output_type": "execute_result"
    }
   ],
   "source": [
    "len(input_tags)"
   ]
  },
  {
   "cell_type": "code",
   "execution_count": 165,
   "id": "dcfdcb87",
   "metadata": {},
   "outputs": [],
   "source": [
    "id_field = input_tags[0] #아이디 필드\n",
    "ps_field = input_tags[1] #비밀번호 필드"
   ]
  },
  {
   "cell_type": "markdown",
   "id": "5ec067cd",
   "metadata": {},
   "source": [
    "5. 아이디 필드와 비밀번호 필드에 값을 입력"
   ]
  },
  {
   "cell_type": "code",
   "execution_count": 166,
   "id": "8e3d8e09",
   "metadata": {},
   "outputs": [],
   "source": [
    "id_field.send_keys(\"01031776475\")\n",
    "ps_field.send_keys(\"92dbfk4fkdgo!!\")"
   ]
  },
  {
   "cell_type": "markdown",
   "id": "982d9042",
   "metadata": {},
   "source": [
    "- send_keys: input태그에 자동으로 값을 입력"
   ]
  },
  {
   "cell_type": "markdown",
   "id": "dd146a8e",
   "metadata": {},
   "source": [
    "6. 로그인 진행"
   ]
  },
  {
   "cell_type": "markdown",
   "id": "6d11a4b8",
   "metadata": {},
   "source": [
    "7. 태그 검색\n",
    "- https://www.instagram.com/explore/tags/고양이\n",
    "- 인기 게시물 9개 -> 최근 게시물 \n",
    " - 최근 게시물이 하나씩 불러들여 크롤링하기 좋음"
   ]
  },
  {
   "cell_type": "markdown",
   "id": "36dcb549",
   "metadata": {},
   "source": [
    "8. 최근 게시물의 첫 번째 태그 찾기\n",
    "<div class = \"adafwfa\"..."
   ]
  },
  {
   "cell_type": "markdown",
   "id": "96e2f501",
   "metadata": {},
   "source": [
    "9. 찾은 태그에서 우클릭후 copy -> Xpath\n",
    "- Xpath는 마크업 언어에서 특정 요소를 찾기 위한 경로를 나타내는 것\n",
    "- Xpath를 이용하여 쉽게 특정 요소 지정 가능"
   ]
  },
  {
   "cell_type": "markdown",
   "id": "c744087d",
   "metadata": {},
   "source": [
    "10. 뽑은 Xpath 경로를 변수에 저장"
   ]
  },
  {
   "cell_type": "code",
   "execution_count": 167,
   "id": "61c57bcb",
   "metadata": {},
   "outputs": [],
   "source": [
    "xpath = '//*[@id=\"react-root\"]/section/main/article/div[2]/div/div[1]/div[1]'"
   ]
  },
  {
   "cell_type": "markdown",
   "id": "bbb65eeb",
   "metadata": {},
   "source": [
    "11. 게시물 클릭"
   ]
  },
  {
   "cell_type": "code",
   "execution_count": 168,
   "id": "994376d2",
   "metadata": {},
   "outputs": [
    {
     "name": "stderr",
     "output_type": "stream",
     "text": [
      "C:\\Users\\82103\\AppData\\Local\\Temp/ipykernel_31732/2110935984.py:1: DeprecationWarning: find_element_by_* commands are deprecated. Please use find_element() instead\n",
      "  el = driver.find_element_by_xpath(xpath)\n"
     ]
    },
    {
     "ename": "NoSuchElementException",
     "evalue": "Message: no such element: Unable to locate element: {\"method\":\"xpath\",\"selector\":\"//*[@id=\"react-root\"]/section/main/article/div[2]/div/div[1]/div[1]\"}\n  (Session info: chrome=98.0.4758.82)\nStacktrace:\nBacktrace:\n\tOrdinal0 [0x00A47AC3+2587331]\n\tOrdinal0 [0x009DADD1+2141649]\n\tOrdinal0 [0x008D3BB8+1063864]\n\tOrdinal0 [0x009001CE+1245646]\n\tOrdinal0 [0x009003CB+1246155]\n\tOrdinal0 [0x0092A612+1418770]\n\tOrdinal0 [0x009186D4+1345236]\n\tOrdinal0 [0x00928A0A+1411594]\n\tOrdinal0 [0x009184A6+1344678]\n\tOrdinal0 [0x008F53F6+1201142]\n\tOrdinal0 [0x008F62E6+1204966]\n\tGetHandleVerifier [0x00BEDF22+1680738]\n\tGetHandleVerifier [0x00CA0DBC+2413564]\n\tGetHandleVerifier [0x00ADD151+563089]\n\tGetHandleVerifier [0x00ADBF13+558419]\n\tOrdinal0 [0x009E081E+2164766]\n\tOrdinal0 [0x009E5508+2184456]\n\tOrdinal0 [0x009E5650+2184784]\n\tOrdinal0 [0x009EF5BC+2225596]\n\tBaseThreadInitThunk [0x768DFA29+25]\n\tRtlGetAppContainerNamedObjectPath [0x77BE7A9E+286]\n\tRtlGetAppContainerNamedObjectPath [0x77BE7A6E+238]\n",
     "output_type": "error",
     "traceback": [
      "\u001b[1;31m---------------------------------------------------------------------------\u001b[0m",
      "\u001b[1;31mNoSuchElementException\u001b[0m                    Traceback (most recent call last)",
      "\u001b[1;32m~\\AppData\\Local\\Temp/ipykernel_31732/2110935984.py\u001b[0m in \u001b[0;36m<module>\u001b[1;34m\u001b[0m\n\u001b[1;32m----> 1\u001b[1;33m \u001b[0mel\u001b[0m \u001b[1;33m=\u001b[0m \u001b[0mdriver\u001b[0m\u001b[1;33m.\u001b[0m\u001b[0mfind_element_by_xpath\u001b[0m\u001b[1;33m(\u001b[0m\u001b[0mxpath\u001b[0m\u001b[1;33m)\u001b[0m\u001b[1;33m\u001b[0m\u001b[1;33m\u001b[0m\u001b[0m\n\u001b[0m",
      "\u001b[1;32m~\\anaconda3\\lib\\site-packages\\selenium\\webdriver\\remote\\webdriver.py\u001b[0m in \u001b[0;36mfind_element_by_xpath\u001b[1;34m(self, xpath)\u001b[0m\n\u001b[0;32m    518\u001b[0m             \u001b[0mstacklevel\u001b[0m\u001b[1;33m=\u001b[0m\u001b[1;36m2\u001b[0m\u001b[1;33m,\u001b[0m\u001b[1;33m\u001b[0m\u001b[1;33m\u001b[0m\u001b[0m\n\u001b[0;32m    519\u001b[0m         )\n\u001b[1;32m--> 520\u001b[1;33m         \u001b[1;32mreturn\u001b[0m \u001b[0mself\u001b[0m\u001b[1;33m.\u001b[0m\u001b[0mfind_element\u001b[0m\u001b[1;33m(\u001b[0m\u001b[0mby\u001b[0m\u001b[1;33m=\u001b[0m\u001b[0mBy\u001b[0m\u001b[1;33m.\u001b[0m\u001b[0mXPATH\u001b[0m\u001b[1;33m,\u001b[0m \u001b[0mvalue\u001b[0m\u001b[1;33m=\u001b[0m\u001b[0mxpath\u001b[0m\u001b[1;33m)\u001b[0m\u001b[1;33m\u001b[0m\u001b[1;33m\u001b[0m\u001b[0m\n\u001b[0m\u001b[0;32m    521\u001b[0m \u001b[1;33m\u001b[0m\u001b[0m\n\u001b[0;32m    522\u001b[0m     \u001b[1;32mdef\u001b[0m \u001b[0mfind_elements_by_xpath\u001b[0m\u001b[1;33m(\u001b[0m\u001b[0mself\u001b[0m\u001b[1;33m,\u001b[0m \u001b[0mxpath\u001b[0m\u001b[1;33m)\u001b[0m \u001b[1;33m->\u001b[0m \u001b[0mWebElement\u001b[0m\u001b[1;33m:\u001b[0m\u001b[1;33m\u001b[0m\u001b[1;33m\u001b[0m\u001b[0m\n",
      "\u001b[1;32m~\\anaconda3\\lib\\site-packages\\selenium\\webdriver\\remote\\webdriver.py\u001b[0m in \u001b[0;36mfind_element\u001b[1;34m(self, by, value)\u001b[0m\n\u001b[0;32m   1242\u001b[0m             \u001b[0mvalue\u001b[0m \u001b[1;33m=\u001b[0m \u001b[1;34m'[name=\"%s\"]'\u001b[0m \u001b[1;33m%\u001b[0m \u001b[0mvalue\u001b[0m\u001b[1;33m\u001b[0m\u001b[1;33m\u001b[0m\u001b[0m\n\u001b[0;32m   1243\u001b[0m \u001b[1;33m\u001b[0m\u001b[0m\n\u001b[1;32m-> 1244\u001b[1;33m         return self.execute(Command.FIND_ELEMENT, {\n\u001b[0m\u001b[0;32m   1245\u001b[0m             \u001b[1;34m'using'\u001b[0m\u001b[1;33m:\u001b[0m \u001b[0mby\u001b[0m\u001b[1;33m,\u001b[0m\u001b[1;33m\u001b[0m\u001b[1;33m\u001b[0m\u001b[0m\n\u001b[0;32m   1246\u001b[0m             'value': value})['value']\n",
      "\u001b[1;32m~\\anaconda3\\lib\\site-packages\\selenium\\webdriver\\remote\\webdriver.py\u001b[0m in \u001b[0;36mexecute\u001b[1;34m(self, driver_command, params)\u001b[0m\n\u001b[0;32m    422\u001b[0m         \u001b[0mresponse\u001b[0m \u001b[1;33m=\u001b[0m \u001b[0mself\u001b[0m\u001b[1;33m.\u001b[0m\u001b[0mcommand_executor\u001b[0m\u001b[1;33m.\u001b[0m\u001b[0mexecute\u001b[0m\u001b[1;33m(\u001b[0m\u001b[0mdriver_command\u001b[0m\u001b[1;33m,\u001b[0m \u001b[0mparams\u001b[0m\u001b[1;33m)\u001b[0m\u001b[1;33m\u001b[0m\u001b[1;33m\u001b[0m\u001b[0m\n\u001b[0;32m    423\u001b[0m         \u001b[1;32mif\u001b[0m \u001b[0mresponse\u001b[0m\u001b[1;33m:\u001b[0m\u001b[1;33m\u001b[0m\u001b[1;33m\u001b[0m\u001b[0m\n\u001b[1;32m--> 424\u001b[1;33m             \u001b[0mself\u001b[0m\u001b[1;33m.\u001b[0m\u001b[0merror_handler\u001b[0m\u001b[1;33m.\u001b[0m\u001b[0mcheck_response\u001b[0m\u001b[1;33m(\u001b[0m\u001b[0mresponse\u001b[0m\u001b[1;33m)\u001b[0m\u001b[1;33m\u001b[0m\u001b[1;33m\u001b[0m\u001b[0m\n\u001b[0m\u001b[0;32m    425\u001b[0m             response['value'] = self._unwrap_value(\n\u001b[0;32m    426\u001b[0m                 response.get('value', None))\n",
      "\u001b[1;32m~\\anaconda3\\lib\\site-packages\\selenium\\webdriver\\remote\\errorhandler.py\u001b[0m in \u001b[0;36mcheck_response\u001b[1;34m(self, response)\u001b[0m\n\u001b[0;32m    245\u001b[0m                 \u001b[0malert_text\u001b[0m \u001b[1;33m=\u001b[0m \u001b[0mvalue\u001b[0m\u001b[1;33m[\u001b[0m\u001b[1;34m'alert'\u001b[0m\u001b[1;33m]\u001b[0m\u001b[1;33m.\u001b[0m\u001b[0mget\u001b[0m\u001b[1;33m(\u001b[0m\u001b[1;34m'text'\u001b[0m\u001b[1;33m)\u001b[0m\u001b[1;33m\u001b[0m\u001b[1;33m\u001b[0m\u001b[0m\n\u001b[0;32m    246\u001b[0m             \u001b[1;32mraise\u001b[0m \u001b[0mexception_class\u001b[0m\u001b[1;33m(\u001b[0m\u001b[0mmessage\u001b[0m\u001b[1;33m,\u001b[0m \u001b[0mscreen\u001b[0m\u001b[1;33m,\u001b[0m \u001b[0mstacktrace\u001b[0m\u001b[1;33m,\u001b[0m \u001b[0malert_text\u001b[0m\u001b[1;33m)\u001b[0m  \u001b[1;31m# type: ignore[call-arg]  # mypy is not smart enough here\u001b[0m\u001b[1;33m\u001b[0m\u001b[1;33m\u001b[0m\u001b[0m\n\u001b[1;32m--> 247\u001b[1;33m         \u001b[1;32mraise\u001b[0m \u001b[0mexception_class\u001b[0m\u001b[1;33m(\u001b[0m\u001b[0mmessage\u001b[0m\u001b[1;33m,\u001b[0m \u001b[0mscreen\u001b[0m\u001b[1;33m,\u001b[0m \u001b[0mstacktrace\u001b[0m\u001b[1;33m)\u001b[0m\u001b[1;33m\u001b[0m\u001b[1;33m\u001b[0m\u001b[0m\n\u001b[0m\u001b[0;32m    248\u001b[0m \u001b[1;33m\u001b[0m\u001b[0m\n\u001b[0;32m    249\u001b[0m     \u001b[1;32mdef\u001b[0m \u001b[0m_value_or_default\u001b[0m\u001b[1;33m(\u001b[0m\u001b[0mself\u001b[0m\u001b[1;33m,\u001b[0m \u001b[0mobj\u001b[0m\u001b[1;33m:\u001b[0m \u001b[0mMapping\u001b[0m\u001b[1;33m[\u001b[0m\u001b[0m_KT\u001b[0m\u001b[1;33m,\u001b[0m \u001b[0m_VT\u001b[0m\u001b[1;33m]\u001b[0m\u001b[1;33m,\u001b[0m \u001b[0mkey\u001b[0m\u001b[1;33m:\u001b[0m \u001b[0m_KT\u001b[0m\u001b[1;33m,\u001b[0m \u001b[0mdefault\u001b[0m\u001b[1;33m:\u001b[0m \u001b[0m_VT\u001b[0m\u001b[1;33m)\u001b[0m \u001b[1;33m->\u001b[0m \u001b[0m_VT\u001b[0m\u001b[1;33m:\u001b[0m\u001b[1;33m\u001b[0m\u001b[1;33m\u001b[0m\u001b[0m\n",
      "\u001b[1;31mNoSuchElementException\u001b[0m: Message: no such element: Unable to locate element: {\"method\":\"xpath\",\"selector\":\"//*[@id=\"react-root\"]/section/main/article/div[2]/div/div[1]/div[1]\"}\n  (Session info: chrome=98.0.4758.82)\nStacktrace:\nBacktrace:\n\tOrdinal0 [0x00A47AC3+2587331]\n\tOrdinal0 [0x009DADD1+2141649]\n\tOrdinal0 [0x008D3BB8+1063864]\n\tOrdinal0 [0x009001CE+1245646]\n\tOrdinal0 [0x009003CB+1246155]\n\tOrdinal0 [0x0092A612+1418770]\n\tOrdinal0 [0x009186D4+1345236]\n\tOrdinal0 [0x00928A0A+1411594]\n\tOrdinal0 [0x009184A6+1344678]\n\tOrdinal0 [0x008F53F6+1201142]\n\tOrdinal0 [0x008F62E6+1204966]\n\tGetHandleVerifier [0x00BEDF22+1680738]\n\tGetHandleVerifier [0x00CA0DBC+2413564]\n\tGetHandleVerifier [0x00ADD151+563089]\n\tGetHandleVerifier [0x00ADBF13+558419]\n\tOrdinal0 [0x009E081E+2164766]\n\tOrdinal0 [0x009E5508+2184456]\n\tOrdinal0 [0x009E5650+2184784]\n\tOrdinal0 [0x009EF5BC+2225596]\n\tBaseThreadInitThunk [0x768DFA29+25]\n\tRtlGetAppContainerNamedObjectPath [0x77BE7A9E+286]\n\tRtlGetAppContainerNamedObjectPath [0x77BE7A6E+238]\n"
     ]
    }
   ],
   "source": [
    "el = driver.find_element_by_xpath(xpath)"
   ]
  },
  {
   "cell_type": "markdown",
   "id": "68638f75",
   "metadata": {},
   "source": [
    "- xpath 요소들을 찾아서 el에 저장"
   ]
  },
  {
   "cell_type": "code",
   "execution_count": 133,
   "id": "3f6e33a0",
   "metadata": {},
   "outputs": [],
   "source": [
    "el.click()"
   ]
  },
  {
   "cell_type": "markdown",
   "id": "32d9e35f",
   "metadata": {},
   "source": [
    "12. 고양이 사진만 태그를 찾아서 xpath 지정(사진 우클릭 검사로 태그 찾을 수 있음)"
   ]
  },
  {
   "cell_type": "code",
   "execution_count": 134,
   "id": "4b1679b8",
   "metadata": {},
   "outputs": [],
   "source": [
    "xapth = '/html/body/div[6]/div[3]/div/article/div/div[2]/div/div/div[2]'"
   ]
  },
  {
   "cell_type": "code",
   "execution_count": 135,
   "id": "7f0a08af",
   "metadata": {},
   "outputs": [
    {
     "name": "stderr",
     "output_type": "stream",
     "text": [
      "C:\\Users\\82103\\AppData\\Local\\Temp/ipykernel_31732/3817762962.py:1: DeprecationWarning: find_element_by_* commands are deprecated. Please use find_element() instead\n",
      "  article = driver.find_element_by_xpath(xpath)\n"
     ]
    }
   ],
   "source": [
    "article = driver.find_element_by_xpath(xpath)"
   ]
  },
  {
   "cell_type": "code",
   "execution_count": 136,
   "id": "75616cfa",
   "metadata": {},
   "outputs": [
    {
     "data": {
      "text/plain": [
       "True"
      ]
     },
     "execution_count": 136,
     "metadata": {},
     "output_type": "execute_result"
    }
   ],
   "source": [
    "article.screenshot(\"test.png\")"
   ]
  },
  {
   "cell_type": "markdown",
   "id": "a64c84e7",
   "metadata": {},
   "source": [
    "다음 버튼 클릭"
   ]
  },
  {
   "cell_type": "code",
   "execution_count": 157,
   "id": "d1774b02",
   "metadata": {},
   "outputs": [],
   "source": [
    "xpath = '/html/body/div[6]/div[2]/div/div[2]/button/div/span/svg'"
   ]
  },
  {
   "cell_type": "code",
   "execution_count": 158,
   "id": "ba669a80",
   "metadata": {},
   "outputs": [
    {
     "name": "stderr",
     "output_type": "stream",
     "text": [
      "C:\\Users\\82103\\AppData\\Local\\Temp/ipykernel_31732/2110935984.py:1: DeprecationWarning: find_element_by_* commands are deprecated. Please use find_element() instead\n",
      "  el = driver.find_element_by_xpath(xpath)\n"
     ]
    },
    {
     "ename": "NoSuchElementException",
     "evalue": "Message: no such element: Unable to locate element: {\"method\":\"xpath\",\"selector\":\"/html/body/div[6]/div[2]/div/div[2]/button/div/span/svg\"}\n  (Session info: chrome=98.0.4758.82)\nStacktrace:\nBacktrace:\n\tOrdinal0 [0x00A47AC3+2587331]\n\tOrdinal0 [0x009DADD1+2141649]\n\tOrdinal0 [0x008D3BB8+1063864]\n\tOrdinal0 [0x009001CE+1245646]\n\tOrdinal0 [0x009003CB+1246155]\n\tOrdinal0 [0x0092A612+1418770]\n\tOrdinal0 [0x009186D4+1345236]\n\tOrdinal0 [0x00928A0A+1411594]\n\tOrdinal0 [0x009184A6+1344678]\n\tOrdinal0 [0x008F53F6+1201142]\n\tOrdinal0 [0x008F62E6+1204966]\n\tGetHandleVerifier [0x00BEDF22+1680738]\n\tGetHandleVerifier [0x00CA0DBC+2413564]\n\tGetHandleVerifier [0x00ADD151+563089]\n\tGetHandleVerifier [0x00ADBF13+558419]\n\tOrdinal0 [0x009E081E+2164766]\n\tOrdinal0 [0x009E5508+2184456]\n\tOrdinal0 [0x009E5650+2184784]\n\tOrdinal0 [0x009EF5BC+2225596]\n\tBaseThreadInitThunk [0x768DFA29+25]\n\tRtlGetAppContainerNamedObjectPath [0x77BE7A9E+286]\n\tRtlGetAppContainerNamedObjectPath [0x77BE7A6E+238]\n",
     "output_type": "error",
     "traceback": [
      "\u001b[1;31m---------------------------------------------------------------------------\u001b[0m",
      "\u001b[1;31mNoSuchElementException\u001b[0m                    Traceback (most recent call last)",
      "\u001b[1;32m~\\AppData\\Local\\Temp/ipykernel_31732/2110935984.py\u001b[0m in \u001b[0;36m<module>\u001b[1;34m\u001b[0m\n\u001b[1;32m----> 1\u001b[1;33m \u001b[0mel\u001b[0m \u001b[1;33m=\u001b[0m \u001b[0mdriver\u001b[0m\u001b[1;33m.\u001b[0m\u001b[0mfind_element_by_xpath\u001b[0m\u001b[1;33m(\u001b[0m\u001b[0mxpath\u001b[0m\u001b[1;33m)\u001b[0m\u001b[1;33m\u001b[0m\u001b[1;33m\u001b[0m\u001b[0m\n\u001b[0m",
      "\u001b[1;32m~\\anaconda3\\lib\\site-packages\\selenium\\webdriver\\remote\\webdriver.py\u001b[0m in \u001b[0;36mfind_element_by_xpath\u001b[1;34m(self, xpath)\u001b[0m\n\u001b[0;32m    518\u001b[0m             \u001b[0mstacklevel\u001b[0m\u001b[1;33m=\u001b[0m\u001b[1;36m2\u001b[0m\u001b[1;33m,\u001b[0m\u001b[1;33m\u001b[0m\u001b[1;33m\u001b[0m\u001b[0m\n\u001b[0;32m    519\u001b[0m         )\n\u001b[1;32m--> 520\u001b[1;33m         \u001b[1;32mreturn\u001b[0m \u001b[0mself\u001b[0m\u001b[1;33m.\u001b[0m\u001b[0mfind_element\u001b[0m\u001b[1;33m(\u001b[0m\u001b[0mby\u001b[0m\u001b[1;33m=\u001b[0m\u001b[0mBy\u001b[0m\u001b[1;33m.\u001b[0m\u001b[0mXPATH\u001b[0m\u001b[1;33m,\u001b[0m \u001b[0mvalue\u001b[0m\u001b[1;33m=\u001b[0m\u001b[0mxpath\u001b[0m\u001b[1;33m)\u001b[0m\u001b[1;33m\u001b[0m\u001b[1;33m\u001b[0m\u001b[0m\n\u001b[0m\u001b[0;32m    521\u001b[0m \u001b[1;33m\u001b[0m\u001b[0m\n\u001b[0;32m    522\u001b[0m     \u001b[1;32mdef\u001b[0m \u001b[0mfind_elements_by_xpath\u001b[0m\u001b[1;33m(\u001b[0m\u001b[0mself\u001b[0m\u001b[1;33m,\u001b[0m \u001b[0mxpath\u001b[0m\u001b[1;33m)\u001b[0m \u001b[1;33m->\u001b[0m \u001b[0mWebElement\u001b[0m\u001b[1;33m:\u001b[0m\u001b[1;33m\u001b[0m\u001b[1;33m\u001b[0m\u001b[0m\n",
      "\u001b[1;32m~\\anaconda3\\lib\\site-packages\\selenium\\webdriver\\remote\\webdriver.py\u001b[0m in \u001b[0;36mfind_element\u001b[1;34m(self, by, value)\u001b[0m\n\u001b[0;32m   1242\u001b[0m             \u001b[0mvalue\u001b[0m \u001b[1;33m=\u001b[0m \u001b[1;34m'[name=\"%s\"]'\u001b[0m \u001b[1;33m%\u001b[0m \u001b[0mvalue\u001b[0m\u001b[1;33m\u001b[0m\u001b[1;33m\u001b[0m\u001b[0m\n\u001b[0;32m   1243\u001b[0m \u001b[1;33m\u001b[0m\u001b[0m\n\u001b[1;32m-> 1244\u001b[1;33m         return self.execute(Command.FIND_ELEMENT, {\n\u001b[0m\u001b[0;32m   1245\u001b[0m             \u001b[1;34m'using'\u001b[0m\u001b[1;33m:\u001b[0m \u001b[0mby\u001b[0m\u001b[1;33m,\u001b[0m\u001b[1;33m\u001b[0m\u001b[1;33m\u001b[0m\u001b[0m\n\u001b[0;32m   1246\u001b[0m             'value': value})['value']\n",
      "\u001b[1;32m~\\anaconda3\\lib\\site-packages\\selenium\\webdriver\\remote\\webdriver.py\u001b[0m in \u001b[0;36mexecute\u001b[1;34m(self, driver_command, params)\u001b[0m\n\u001b[0;32m    422\u001b[0m         \u001b[0mresponse\u001b[0m \u001b[1;33m=\u001b[0m \u001b[0mself\u001b[0m\u001b[1;33m.\u001b[0m\u001b[0mcommand_executor\u001b[0m\u001b[1;33m.\u001b[0m\u001b[0mexecute\u001b[0m\u001b[1;33m(\u001b[0m\u001b[0mdriver_command\u001b[0m\u001b[1;33m,\u001b[0m \u001b[0mparams\u001b[0m\u001b[1;33m)\u001b[0m\u001b[1;33m\u001b[0m\u001b[1;33m\u001b[0m\u001b[0m\n\u001b[0;32m    423\u001b[0m         \u001b[1;32mif\u001b[0m \u001b[0mresponse\u001b[0m\u001b[1;33m:\u001b[0m\u001b[1;33m\u001b[0m\u001b[1;33m\u001b[0m\u001b[0m\n\u001b[1;32m--> 424\u001b[1;33m             \u001b[0mself\u001b[0m\u001b[1;33m.\u001b[0m\u001b[0merror_handler\u001b[0m\u001b[1;33m.\u001b[0m\u001b[0mcheck_response\u001b[0m\u001b[1;33m(\u001b[0m\u001b[0mresponse\u001b[0m\u001b[1;33m)\u001b[0m\u001b[1;33m\u001b[0m\u001b[1;33m\u001b[0m\u001b[0m\n\u001b[0m\u001b[0;32m    425\u001b[0m             response['value'] = self._unwrap_value(\n\u001b[0;32m    426\u001b[0m                 response.get('value', None))\n",
      "\u001b[1;32m~\\anaconda3\\lib\\site-packages\\selenium\\webdriver\\remote\\errorhandler.py\u001b[0m in \u001b[0;36mcheck_response\u001b[1;34m(self, response)\u001b[0m\n\u001b[0;32m    245\u001b[0m                 \u001b[0malert_text\u001b[0m \u001b[1;33m=\u001b[0m \u001b[0mvalue\u001b[0m\u001b[1;33m[\u001b[0m\u001b[1;34m'alert'\u001b[0m\u001b[1;33m]\u001b[0m\u001b[1;33m.\u001b[0m\u001b[0mget\u001b[0m\u001b[1;33m(\u001b[0m\u001b[1;34m'text'\u001b[0m\u001b[1;33m)\u001b[0m\u001b[1;33m\u001b[0m\u001b[1;33m\u001b[0m\u001b[0m\n\u001b[0;32m    246\u001b[0m             \u001b[1;32mraise\u001b[0m \u001b[0mexception_class\u001b[0m\u001b[1;33m(\u001b[0m\u001b[0mmessage\u001b[0m\u001b[1;33m,\u001b[0m \u001b[0mscreen\u001b[0m\u001b[1;33m,\u001b[0m \u001b[0mstacktrace\u001b[0m\u001b[1;33m,\u001b[0m \u001b[0malert_text\u001b[0m\u001b[1;33m)\u001b[0m  \u001b[1;31m# type: ignore[call-arg]  # mypy is not smart enough here\u001b[0m\u001b[1;33m\u001b[0m\u001b[1;33m\u001b[0m\u001b[0m\n\u001b[1;32m--> 247\u001b[1;33m         \u001b[1;32mraise\u001b[0m \u001b[0mexception_class\u001b[0m\u001b[1;33m(\u001b[0m\u001b[0mmessage\u001b[0m\u001b[1;33m,\u001b[0m \u001b[0mscreen\u001b[0m\u001b[1;33m,\u001b[0m \u001b[0mstacktrace\u001b[0m\u001b[1;33m)\u001b[0m\u001b[1;33m\u001b[0m\u001b[1;33m\u001b[0m\u001b[0m\n\u001b[0m\u001b[0;32m    248\u001b[0m \u001b[1;33m\u001b[0m\u001b[0m\n\u001b[0;32m    249\u001b[0m     \u001b[1;32mdef\u001b[0m \u001b[0m_value_or_default\u001b[0m\u001b[1;33m(\u001b[0m\u001b[0mself\u001b[0m\u001b[1;33m,\u001b[0m \u001b[0mobj\u001b[0m\u001b[1;33m:\u001b[0m \u001b[0mMapping\u001b[0m\u001b[1;33m[\u001b[0m\u001b[0m_KT\u001b[0m\u001b[1;33m,\u001b[0m \u001b[0m_VT\u001b[0m\u001b[1;33m]\u001b[0m\u001b[1;33m,\u001b[0m \u001b[0mkey\u001b[0m\u001b[1;33m:\u001b[0m \u001b[0m_KT\u001b[0m\u001b[1;33m,\u001b[0m \u001b[0mdefault\u001b[0m\u001b[1;33m:\u001b[0m \u001b[0m_VT\u001b[0m\u001b[1;33m)\u001b[0m \u001b[1;33m->\u001b[0m \u001b[0m_VT\u001b[0m\u001b[1;33m:\u001b[0m\u001b[1;33m\u001b[0m\u001b[1;33m\u001b[0m\u001b[0m\n",
      "\u001b[1;31mNoSuchElementException\u001b[0m: Message: no such element: Unable to locate element: {\"method\":\"xpath\",\"selector\":\"/html/body/div[6]/div[2]/div/div[2]/button/div/span/svg\"}\n  (Session info: chrome=98.0.4758.82)\nStacktrace:\nBacktrace:\n\tOrdinal0 [0x00A47AC3+2587331]\n\tOrdinal0 [0x009DADD1+2141649]\n\tOrdinal0 [0x008D3BB8+1063864]\n\tOrdinal0 [0x009001CE+1245646]\n\tOrdinal0 [0x009003CB+1246155]\n\tOrdinal0 [0x0092A612+1418770]\n\tOrdinal0 [0x009186D4+1345236]\n\tOrdinal0 [0x00928A0A+1411594]\n\tOrdinal0 [0x009184A6+1344678]\n\tOrdinal0 [0x008F53F6+1201142]\n\tOrdinal0 [0x008F62E6+1204966]\n\tGetHandleVerifier [0x00BEDF22+1680738]\n\tGetHandleVerifier [0x00CA0DBC+2413564]\n\tGetHandleVerifier [0x00ADD151+563089]\n\tGetHandleVerifier [0x00ADBF13+558419]\n\tOrdinal0 [0x009E081E+2164766]\n\tOrdinal0 [0x009E5508+2184456]\n\tOrdinal0 [0x009E5650+2184784]\n\tOrdinal0 [0x009EF5BC+2225596]\n\tBaseThreadInitThunk [0x768DFA29+25]\n\tRtlGetAppContainerNamedObjectPath [0x77BE7A9E+286]\n\tRtlGetAppContainerNamedObjectPath [0x77BE7A6E+238]\n"
     ]
    }
   ],
   "source": [
    "el = driver.find_element_by_xpath(xpath)"
   ]
  },
  {
   "cell_type": "code",
   "execution_count": 159,
   "id": "be764310",
   "metadata": {},
   "outputs": [
    {
     "ename": "ElementClickInterceptedException",
     "evalue": "Message: element click intercepted: Element <div class=\"v1Nh3 kIKUG _bz0w\">...</div> is not clickable at point (361, 735). Other element would receive the click: <div class=\"_9AhH0\"></div>\n  (Session info: chrome=98.0.4758.82)\nStacktrace:\nBacktrace:\n\tOrdinal0 [0x00A47AC3+2587331]\n\tOrdinal0 [0x009DADD1+2141649]\n\tOrdinal0 [0x008D3BB8+1063864]\n\tOrdinal0 [0x009065FF+1271295]\n\tOrdinal0 [0x00904849+1263689]\n\tOrdinal0 [0x0090248B+1254539]\n\tOrdinal0 [0x00901289+1249929]\n\tOrdinal0 [0x008F6DD3+1207763]\n\tOrdinal0 [0x0091868C+1345164]\n\tOrdinal0 [0x008F67A4+1206180]\n\tOrdinal0 [0x009187E4+1345508]\n\tOrdinal0 [0x00928A0A+1411594]\n\tOrdinal0 [0x009184A6+1344678]\n\tOrdinal0 [0x008F53F6+1201142]\n\tOrdinal0 [0x008F62E6+1204966]\n\tGetHandleVerifier [0x00BEDF22+1680738]\n\tGetHandleVerifier [0x00CA0DBC+2413564]\n\tGetHandleVerifier [0x00ADD151+563089]\n\tGetHandleVerifier [0x00ADBF13+558419]\n\tOrdinal0 [0x009E081E+2164766]\n\tOrdinal0 [0x009E5508+2184456]\n\tOrdinal0 [0x009E5650+2184784]\n\tOrdinal0 [0x009EF5BC+2225596]\n\tBaseThreadInitThunk [0x768DFA29+25]\n\tRtlGetAppContainerNamedObjectPath [0x77BE7A9E+286]\n\tRtlGetAppContainerNamedObjectPath [0x77BE7A6E+238]\n",
     "output_type": "error",
     "traceback": [
      "\u001b[1;31m---------------------------------------------------------------------------\u001b[0m",
      "\u001b[1;31mElementClickInterceptedException\u001b[0m          Traceback (most recent call last)",
      "\u001b[1;32m~\\AppData\\Local\\Temp/ipykernel_31732/777907161.py\u001b[0m in \u001b[0;36m<module>\u001b[1;34m\u001b[0m\n\u001b[1;32m----> 1\u001b[1;33m \u001b[0mel\u001b[0m\u001b[1;33m.\u001b[0m\u001b[0mclick\u001b[0m\u001b[1;33m(\u001b[0m\u001b[1;33m)\u001b[0m\u001b[1;33m\u001b[0m\u001b[1;33m\u001b[0m\u001b[0m\n\u001b[0m",
      "\u001b[1;32m~\\anaconda3\\lib\\site-packages\\selenium\\webdriver\\remote\\webelement.py\u001b[0m in \u001b[0;36mclick\u001b[1;34m(self)\u001b[0m\n\u001b[0;32m     79\u001b[0m     \u001b[1;32mdef\u001b[0m \u001b[0mclick\u001b[0m\u001b[1;33m(\u001b[0m\u001b[0mself\u001b[0m\u001b[1;33m)\u001b[0m \u001b[1;33m->\u001b[0m \u001b[1;32mNone\u001b[0m\u001b[1;33m:\u001b[0m\u001b[1;33m\u001b[0m\u001b[1;33m\u001b[0m\u001b[0m\n\u001b[0;32m     80\u001b[0m         \u001b[1;34m\"\"\"Clicks the element.\"\"\"\u001b[0m\u001b[1;33m\u001b[0m\u001b[1;33m\u001b[0m\u001b[0m\n\u001b[1;32m---> 81\u001b[1;33m         \u001b[0mself\u001b[0m\u001b[1;33m.\u001b[0m\u001b[0m_execute\u001b[0m\u001b[1;33m(\u001b[0m\u001b[0mCommand\u001b[0m\u001b[1;33m.\u001b[0m\u001b[0mCLICK_ELEMENT\u001b[0m\u001b[1;33m)\u001b[0m\u001b[1;33m\u001b[0m\u001b[1;33m\u001b[0m\u001b[0m\n\u001b[0m\u001b[0;32m     82\u001b[0m \u001b[1;33m\u001b[0m\u001b[0m\n\u001b[0;32m     83\u001b[0m     \u001b[1;32mdef\u001b[0m \u001b[0msubmit\u001b[0m\u001b[1;33m(\u001b[0m\u001b[0mself\u001b[0m\u001b[1;33m)\u001b[0m\u001b[1;33m:\u001b[0m\u001b[1;33m\u001b[0m\u001b[1;33m\u001b[0m\u001b[0m\n",
      "\u001b[1;32m~\\anaconda3\\lib\\site-packages\\selenium\\webdriver\\remote\\webelement.py\u001b[0m in \u001b[0;36m_execute\u001b[1;34m(self, command, params)\u001b[0m\n\u001b[0;32m    708\u001b[0m             \u001b[0mparams\u001b[0m \u001b[1;33m=\u001b[0m \u001b[1;33m{\u001b[0m\u001b[1;33m}\u001b[0m\u001b[1;33m\u001b[0m\u001b[1;33m\u001b[0m\u001b[0m\n\u001b[0;32m    709\u001b[0m         \u001b[0mparams\u001b[0m\u001b[1;33m[\u001b[0m\u001b[1;34m'id'\u001b[0m\u001b[1;33m]\u001b[0m \u001b[1;33m=\u001b[0m \u001b[0mself\u001b[0m\u001b[1;33m.\u001b[0m\u001b[0m_id\u001b[0m\u001b[1;33m\u001b[0m\u001b[1;33m\u001b[0m\u001b[0m\n\u001b[1;32m--> 710\u001b[1;33m         \u001b[1;32mreturn\u001b[0m \u001b[0mself\u001b[0m\u001b[1;33m.\u001b[0m\u001b[0m_parent\u001b[0m\u001b[1;33m.\u001b[0m\u001b[0mexecute\u001b[0m\u001b[1;33m(\u001b[0m\u001b[0mcommand\u001b[0m\u001b[1;33m,\u001b[0m \u001b[0mparams\u001b[0m\u001b[1;33m)\u001b[0m\u001b[1;33m\u001b[0m\u001b[1;33m\u001b[0m\u001b[0m\n\u001b[0m\u001b[0;32m    711\u001b[0m \u001b[1;33m\u001b[0m\u001b[0m\n\u001b[0;32m    712\u001b[0m     \u001b[1;32mdef\u001b[0m \u001b[0mfind_element\u001b[0m\u001b[1;33m(\u001b[0m\u001b[0mself\u001b[0m\u001b[1;33m,\u001b[0m \u001b[0mby\u001b[0m\u001b[1;33m=\u001b[0m\u001b[0mBy\u001b[0m\u001b[1;33m.\u001b[0m\u001b[0mID\u001b[0m\u001b[1;33m,\u001b[0m \u001b[0mvalue\u001b[0m\u001b[1;33m=\u001b[0m\u001b[1;32mNone\u001b[0m\u001b[1;33m)\u001b[0m\u001b[1;33m:\u001b[0m\u001b[1;33m\u001b[0m\u001b[1;33m\u001b[0m\u001b[0m\n",
      "\u001b[1;32m~\\anaconda3\\lib\\site-packages\\selenium\\webdriver\\remote\\webdriver.py\u001b[0m in \u001b[0;36mexecute\u001b[1;34m(self, driver_command, params)\u001b[0m\n\u001b[0;32m    422\u001b[0m         \u001b[0mresponse\u001b[0m \u001b[1;33m=\u001b[0m \u001b[0mself\u001b[0m\u001b[1;33m.\u001b[0m\u001b[0mcommand_executor\u001b[0m\u001b[1;33m.\u001b[0m\u001b[0mexecute\u001b[0m\u001b[1;33m(\u001b[0m\u001b[0mdriver_command\u001b[0m\u001b[1;33m,\u001b[0m \u001b[0mparams\u001b[0m\u001b[1;33m)\u001b[0m\u001b[1;33m\u001b[0m\u001b[1;33m\u001b[0m\u001b[0m\n\u001b[0;32m    423\u001b[0m         \u001b[1;32mif\u001b[0m \u001b[0mresponse\u001b[0m\u001b[1;33m:\u001b[0m\u001b[1;33m\u001b[0m\u001b[1;33m\u001b[0m\u001b[0m\n\u001b[1;32m--> 424\u001b[1;33m             \u001b[0mself\u001b[0m\u001b[1;33m.\u001b[0m\u001b[0merror_handler\u001b[0m\u001b[1;33m.\u001b[0m\u001b[0mcheck_response\u001b[0m\u001b[1;33m(\u001b[0m\u001b[0mresponse\u001b[0m\u001b[1;33m)\u001b[0m\u001b[1;33m\u001b[0m\u001b[1;33m\u001b[0m\u001b[0m\n\u001b[0m\u001b[0;32m    425\u001b[0m             response['value'] = self._unwrap_value(\n\u001b[0;32m    426\u001b[0m                 response.get('value', None))\n",
      "\u001b[1;32m~\\anaconda3\\lib\\site-packages\\selenium\\webdriver\\remote\\errorhandler.py\u001b[0m in \u001b[0;36mcheck_response\u001b[1;34m(self, response)\u001b[0m\n\u001b[0;32m    245\u001b[0m                 \u001b[0malert_text\u001b[0m \u001b[1;33m=\u001b[0m \u001b[0mvalue\u001b[0m\u001b[1;33m[\u001b[0m\u001b[1;34m'alert'\u001b[0m\u001b[1;33m]\u001b[0m\u001b[1;33m.\u001b[0m\u001b[0mget\u001b[0m\u001b[1;33m(\u001b[0m\u001b[1;34m'text'\u001b[0m\u001b[1;33m)\u001b[0m\u001b[1;33m\u001b[0m\u001b[1;33m\u001b[0m\u001b[0m\n\u001b[0;32m    246\u001b[0m             \u001b[1;32mraise\u001b[0m \u001b[0mexception_class\u001b[0m\u001b[1;33m(\u001b[0m\u001b[0mmessage\u001b[0m\u001b[1;33m,\u001b[0m \u001b[0mscreen\u001b[0m\u001b[1;33m,\u001b[0m \u001b[0mstacktrace\u001b[0m\u001b[1;33m,\u001b[0m \u001b[0malert_text\u001b[0m\u001b[1;33m)\u001b[0m  \u001b[1;31m# type: ignore[call-arg]  # mypy is not smart enough here\u001b[0m\u001b[1;33m\u001b[0m\u001b[1;33m\u001b[0m\u001b[0m\n\u001b[1;32m--> 247\u001b[1;33m         \u001b[1;32mraise\u001b[0m \u001b[0mexception_class\u001b[0m\u001b[1;33m(\u001b[0m\u001b[0mmessage\u001b[0m\u001b[1;33m,\u001b[0m \u001b[0mscreen\u001b[0m\u001b[1;33m,\u001b[0m \u001b[0mstacktrace\u001b[0m\u001b[1;33m)\u001b[0m\u001b[1;33m\u001b[0m\u001b[1;33m\u001b[0m\u001b[0m\n\u001b[0m\u001b[0;32m    248\u001b[0m \u001b[1;33m\u001b[0m\u001b[0m\n\u001b[0;32m    249\u001b[0m     \u001b[1;32mdef\u001b[0m \u001b[0m_value_or_default\u001b[0m\u001b[1;33m(\u001b[0m\u001b[0mself\u001b[0m\u001b[1;33m,\u001b[0m \u001b[0mobj\u001b[0m\u001b[1;33m:\u001b[0m \u001b[0mMapping\u001b[0m\u001b[1;33m[\u001b[0m\u001b[0m_KT\u001b[0m\u001b[1;33m,\u001b[0m \u001b[0m_VT\u001b[0m\u001b[1;33m]\u001b[0m\u001b[1;33m,\u001b[0m \u001b[0mkey\u001b[0m\u001b[1;33m:\u001b[0m \u001b[0m_KT\u001b[0m\u001b[1;33m,\u001b[0m \u001b[0mdefault\u001b[0m\u001b[1;33m:\u001b[0m \u001b[0m_VT\u001b[0m\u001b[1;33m)\u001b[0m \u001b[1;33m->\u001b[0m \u001b[0m_VT\u001b[0m\u001b[1;33m:\u001b[0m\u001b[1;33m\u001b[0m\u001b[1;33m\u001b[0m\u001b[0m\n",
      "\u001b[1;31mElementClickInterceptedException\u001b[0m: Message: element click intercepted: Element <div class=\"v1Nh3 kIKUG _bz0w\">...</div> is not clickable at point (361, 735). Other element would receive the click: <div class=\"_9AhH0\"></div>\n  (Session info: chrome=98.0.4758.82)\nStacktrace:\nBacktrace:\n\tOrdinal0 [0x00A47AC3+2587331]\n\tOrdinal0 [0x009DADD1+2141649]\n\tOrdinal0 [0x008D3BB8+1063864]\n\tOrdinal0 [0x009065FF+1271295]\n\tOrdinal0 [0x00904849+1263689]\n\tOrdinal0 [0x0090248B+1254539]\n\tOrdinal0 [0x00901289+1249929]\n\tOrdinal0 [0x008F6DD3+1207763]\n\tOrdinal0 [0x0091868C+1345164]\n\tOrdinal0 [0x008F67A4+1206180]\n\tOrdinal0 [0x009187E4+1345508]\n\tOrdinal0 [0x00928A0A+1411594]\n\tOrdinal0 [0x009184A6+1344678]\n\tOrdinal0 [0x008F53F6+1201142]\n\tOrdinal0 [0x008F62E6+1204966]\n\tGetHandleVerifier [0x00BEDF22+1680738]\n\tGetHandleVerifier [0x00CA0DBC+2413564]\n\tGetHandleVerifier [0x00ADD151+563089]\n\tGetHandleVerifier [0x00ADBF13+558419]\n\tOrdinal0 [0x009E081E+2164766]\n\tOrdinal0 [0x009E5508+2184456]\n\tOrdinal0 [0x009E5650+2184784]\n\tOrdinal0 [0x009EF5BC+2225596]\n\tBaseThreadInitThunk [0x768DFA29+25]\n\tRtlGetAppContainerNamedObjectPath [0x77BE7A9E+286]\n\tRtlGetAppContainerNamedObjectPath [0x77BE7A6E+238]\n"
     ]
    }
   ],
   "source": [
    "el.click()"
   ]
  },
  {
   "cell_type": "markdown",
   "id": "c231b924",
   "metadata": {},
   "source": [
    "위에서 진행한 작업을 코드로 옮기기"
   ]
  },
  {
   "cell_type": "markdown",
   "id": "ae491e91",
   "metadata": {},
   "source": [
    "모듈 파일 작성"
   ]
  },
  {
   "cell_type": "code",
   "execution_count": null,
   "id": "44c3d7ac",
   "metadata": {},
   "outputs": [],
   "source": [
    "from selenium import webdriver\n",
    "from selenium.webdriver.chrome.options import Options\n",
    "from selenium.webdriver.common.keys import Keys\n",
    "import time\n",
    "\n",
    "class CaptureBot:\n",
    "    def __init__(self):\n",
    "        # 홈페이지를 변수에 저장\n",
    "        self.query = \"https://www.instagram.com/explore/tags/\"\n",
    "        # 셀레늄 웹드라이버에 입력할 옵션을 지정\n",
    "        self.options =Options()\n",
    "        # 옵션에 해상도를 입력\n",
    "        self.options.add_argument(\"--window-size=1920, 1080\")\n",
    "        # 화면이 존재하지 않는 서버에서 사용한다면? 해상도 입력옵션 사용 x -> headless사용\n",
    "        # self.options.add_argument(\"headless\")\n",
    "        "
   ]
  }
 ],
 "metadata": {
  "kernelspec": {
   "display_name": "Python 3 (ipykernel)",
   "language": "python",
   "name": "python3"
  },
  "language_info": {
   "codemirror_mode": {
    "name": "ipython",
    "version": 3
   },
   "file_extension": ".py",
   "mimetype": "text/x-python",
   "name": "python",
   "nbconvert_exporter": "python",
   "pygments_lexer": "ipython3",
   "version": "3.9.7"
  }
 },
 "nbformat": 4,
 "nbformat_minor": 5
}
