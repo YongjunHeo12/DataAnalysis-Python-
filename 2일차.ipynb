{
 "cells": [
  {
   "cell_type": "markdown",
   "id": "6dffc42d",
   "metadata": {},
   "source": [
    "# print, input 등 간단한 내용\n",
    "\n",
    "### 실제로 코드 작성할때는 print를 써서 출력값을 내보내기"
   ]
  },
  {
   "cell_type": "code",
   "execution_count": 21,
   "id": "ec813f58",
   "metadata": {},
   "outputs": [
    {
     "data": {
      "text/plain": [
       "11"
      ]
     },
     "execution_count": 21,
     "metadata": {},
     "output_type": "execute_result"
    }
   ],
   "source": [
    "a = 5\n",
    "b = 6\n",
    "a+b"
   ]
  },
  {
   "cell_type": "code",
   "execution_count": 2,
   "id": "52fff8d1",
   "metadata": {},
   "outputs": [
    {
     "name": "stdout",
     "output_type": "stream",
     "text": [
      "11\n"
     ]
    }
   ],
   "source": [
    "print(a+b)"
   ]
  },
  {
   "cell_type": "markdown",
   "id": "738cfda5",
   "metadata": {},
   "source": [
    "input()\n",
    "- 입력값을 받음\n",
    "\n",
    "예제"
   ]
  },
  {
   "cell_type": "code",
   "execution_count": 19,
   "id": "22b29e74",
   "metadata": {},
   "outputs": [
    {
     "name": "stdout",
     "output_type": "stream",
     "text": [
      "a값을 입력해주세요20\n"
     ]
    }
   ],
   "source": [
    "a = input(\"a값을 입력해주세요\")"
   ]
  },
  {
   "cell_type": "code",
   "execution_count": 20,
   "id": "9afcfef6",
   "metadata": {},
   "outputs": [
    {
     "name": "stdout",
     "output_type": "stream",
     "text": [
      "20\n"
     ]
    }
   ],
   "source": [
    "print(a)"
   ]
  },
  {
   "cell_type": "markdown",
   "id": "c0e3b476",
   "metadata": {},
   "source": [
    "주석 예제"
   ]
  },
  {
   "cell_type": "code",
   "execution_count": 9,
   "id": "6c123ced",
   "metadata": {},
   "outputs": [
    {
     "name": "stdout",
     "output_type": "stream",
     "text": [
      "identitynumber_of_legs\n"
     ]
    }
   ],
   "source": [
    "identity = \"인간\" #정체\n",
    "number_of_legs = 2 #다리의 수\n",
    "print(\"identity\" + \"number_of_legs\")"
   ]
  },
  {
   "cell_type": "markdown",
   "id": "1f38ac2a",
   "metadata": {},
   "source": [
    "주석을 여러줄로 쓰는 방법"
   ]
  },
  {
   "cell_type": "code",
   "execution_count": 11,
   "id": "919d18e0",
   "metadata": {},
   "outputs": [
    {
     "name": "stdout",
     "output_type": "stream",
     "text": [
      "여러줄 주석\n"
     ]
    }
   ],
   "source": [
    "\"\"\"\n",
    "안녕하세요 이건 주석입니다\n",
    "여러 줄을 쓸 수 있어요\n",
    "\"\"\"\n",
    "print(\"여러줄 주석\")"
   ]
  },
  {
   "cell_type": "markdown",
   "id": "a4aba259",
   "metadata": {},
   "source": [
    "### 변수"
   ]
  },
  {
   "cell_type": "code",
   "execution_count": 13,
   "id": "16e5b54c",
   "metadata": {},
   "outputs": [
    {
     "name": "stdout",
     "output_type": "stream",
     "text": [
      "변수\n"
     ]
    }
   ],
   "source": [
    "var = \"변수\" #변수의 이름 = 값 '='은 변수에 값을 저장하라는 뜻\n",
    "print(var)"
   ]
  },
  {
   "cell_type": "markdown",
   "id": "7489c9df",
   "metadata": {},
   "source": [
    "이미 존재하는 변수에 새로운 값을 입력하는 것은 변수에 값을 변경하는 것이 아닌 새로 선언하는 것과 같음\n",
    "\n",
    "변수 생성시 특징\n",
    "- 변수명의 첫문자는 영문 또는 언더바로 시작\n"
   ]
  },
  {
   "cell_type": "markdown",
   "id": "1e35c5cb",
   "metadata": {},
   "source": [
    "변수 제거 예제"
   ]
  },
  {
   "cell_type": "code",
   "execution_count": 14,
   "id": "f2408c67",
   "metadata": {},
   "outputs": [
    {
     "name": "stdout",
     "output_type": "stream",
     "text": [
      "20\n",
      "6\n"
     ]
    }
   ],
   "source": [
    "print(a)\n",
    "print(b)"
   ]
  },
  {
   "cell_type": "code",
   "execution_count": 22,
   "id": "ade75f44",
   "metadata": {},
   "outputs": [],
   "source": [
    "del(a) #변수 a 삭제\n",
    "del(b) #변수 b 삭제"
   ]
  },
  {
   "cell_type": "markdown",
   "id": "8392e501",
   "metadata": {},
   "source": [
    "파이썬은 대소문자를 구분"
   ]
  },
  {
   "cell_type": "code",
   "execution_count": 23,
   "id": "9809fa68",
   "metadata": {},
   "outputs": [
    {
     "name": "stdout",
     "output_type": "stream",
     "text": [
      "Python\n"
     ]
    }
   ],
   "source": [
    "a = \"Python\"\n",
    "print(a)"
   ]
  },
  {
   "cell_type": "markdown",
   "id": "3b232696",
   "metadata": {},
   "source": [
    "if문 예제"
   ]
  },
  {
   "cell_type": "code",
   "execution_count": 24,
   "id": "f45cf1f3",
   "metadata": {},
   "outputs": [
    {
     "name": "stdout",
     "output_type": "stream",
     "text": [
      "a는 5보다 크다\n"
     ]
    }
   ],
   "source": [
    "a = 10\n",
    "if(a > 5):\n",
    "    print(\"a는 5보다 크다\")"
   ]
  },
  {
   "cell_type": "code",
   "execution_count": 25,
   "id": "890a0aec",
   "metadata": {},
   "outputs": [
    {
     "name": "stdout",
     "output_type": "stream",
     "text": [
      "b는 5보다 작거나 같다\n"
     ]
    }
   ],
   "source": [
    "b = 5\n",
    "if(b>5):\n",
    "    print(\"b는 5보다 크다\")\n",
    "else:\n",
    "    print(\"b는 5보다 작거나 같다\")"
   ]
  },
  {
   "cell_type": "markdown",
   "id": "06732701",
   "metadata": {},
   "source": [
    "for문 예제"
   ]
  },
  {
   "cell_type": "code",
   "execution_count": 26,
   "id": "4a00df31",
   "metadata": {},
   "outputs": [
    {
     "name": "stdout",
     "output_type": "stream",
     "text": [
      "1\n",
      "2\n",
      "3\n"
     ]
    }
   ],
   "source": [
    "for apple in [1,2,3]:\n",
    "    print(apple)"
   ]
  },
  {
   "cell_type": "code",
   "execution_count": 27,
   "id": "547bda7c",
   "metadata": {},
   "outputs": [
    {
     "name": "stdout",
     "output_type": "stream",
     "text": [
      "1\n",
      "23\n"
     ]
    }
   ],
   "source": [
    "for apple in [1,23]:\n",
    "    print(apple)"
   ]
  },
  {
   "cell_type": "markdown",
   "id": "a5d64e17",
   "metadata": {},
   "source": [
    "- for는 안에있는걸 호출해서 반복\n",
    "- while은 조건에 맞을땐 계속 반복"
   ]
  },
  {
   "cell_type": "markdown",
   "id": "e38b1b1c",
   "metadata": {},
   "source": [
    "while문 예제"
   ]
  },
  {
   "cell_type": "code",
   "execution_count": 38,
   "id": "404a7af6",
   "metadata": {},
   "outputs": [
    {
     "name": "stdout",
     "output_type": "stream",
     "text": [
      "tree 1 Hit\n",
      "tree 2 Hit\n",
      "tree 3 Hit\n",
      "tree 4 Hit\n",
      "tree 5 Hit\n",
      "tree 6 Hit\n",
      "tree 7 Hit\n",
      "tree 8 Hit\n",
      "tree 9 Hit\n",
      "tree 10 Hit\n",
      "tree brokedown after 10 Hit\n"
     ]
    }
   ],
   "source": [
    "treeHit = 0\n",
    "while treeHit < 10:\n",
    "    treeHit += 1\n",
    "    print(\"tree %d Hit\" %treeHit)\n",
    "    if(treeHit == 10):\n",
    "        print(\"tree brokedown after %d Hit\" %treeHit)"
   ]
  },
  {
   "cell_type": "markdown",
   "id": "19fa5cd3",
   "metadata": {},
   "source": [
    "- for문은 리스트. 튜플, 문자열과 함께 쓰이고\n",
    "- while은 조건문과 함께 쓰이는 반복문이다\n",
    "\n",
    "함수\n",
    "\n",
    "- 함수는 인자를 입력받아 결과를 도출하는 목적으로 사용\n",
    "\n",
    "함수만들기 예제"
   ]
  },
  {
   "cell_type": "code",
   "execution_count": 39,
   "id": "f40e4100",
   "metadata": {},
   "outputs": [],
   "source": [
    "def add(a, b):\n",
    "    return a+b"
   ]
  },
  {
   "cell_type": "code",
   "execution_count": 41,
   "id": "9ad2a226",
   "metadata": {},
   "outputs": [
    {
     "name": "stdout",
     "output_type": "stream",
     "text": [
      "9\n"
     ]
    }
   ],
   "source": [
    "print(add(3, 6))"
   ]
  },
  {
   "cell_type": "markdown",
   "id": "8c3d4624",
   "metadata": {},
   "source": [
    "파이썬이 객체 지향이라고 부르는 이유?<br>"
   ]
  },
  {
   "cell_type": "code",
   "execution_count": 43,
   "id": "bfbd9f58",
   "metadata": {},
   "outputs": [
    {
     "name": "stdout",
     "output_type": "stream",
     "text": [
      "140704094103632\n"
     ]
    }
   ],
   "source": [
    "a = 10\n",
    "print(id(a)) #a 변수의 메모리 주소 확인"
   ]
  },
  {
   "cell_type": "code",
   "execution_count": 44,
   "id": "26fe549b",
   "metadata": {},
   "outputs": [
    {
     "name": "stdout",
     "output_type": "stream",
     "text": [
      "140704094103632\n"
     ]
    }
   ],
   "source": [
    "b = 10\n",
    "print(id(b)) #b 변수의 메모리 주소 확인"
   ]
  },
  {
   "cell_type": "markdown",
   "id": "f54b481a",
   "metadata": {},
   "source": [
    "## 자료형"
   ]
  },
  {
   "cell_type": "markdown",
   "id": "82154d27",
   "metadata": {},
   "source": [
    "정수\n",
    "- 정수는 int로 나타냄\n",
    "- 파이썬 정수의 크기는 32bit(4bytes)\n",
    "\n",
    "정수 확인 예제"
   ]
  },
  {
   "cell_type": "code",
   "execution_count": 45,
   "id": "501fbd04",
   "metadata": {},
   "outputs": [],
   "source": [
    "a = 123"
   ]
  },
  {
   "cell_type": "code",
   "execution_count": 46,
   "id": "2f76aeff",
   "metadata": {},
   "outputs": [
    {
     "name": "stdout",
     "output_type": "stream",
     "text": [
      "<class 'type'>\n"
     ]
    }
   ],
   "source": [
    "print(type(int))"
   ]
  },
  {
   "cell_type": "code",
   "execution_count": 48,
   "id": "dec1f04b",
   "metadata": {},
   "outputs": [
    {
     "name": "stdout",
     "output_type": "stream",
     "text": [
      "4\n"
     ]
    }
   ],
   "source": [
    "print((9).bit_length()) #정수의 길이는 4byte"
   ]
  },
  {
   "cell_type": "markdown",
   "id": "06049952",
   "metadata": {},
   "source": [
    "부동소수점(실수)\n",
    "- 부동소수점의 float으로 나타냄\n",
    "\n",
    "부동소수점(실수) 확인 예제"
   ]
  },
  {
   "cell_type": "code",
   "execution_count": 49,
   "id": "9894688e",
   "metadata": {},
   "outputs": [
    {
     "name": "stdout",
     "output_type": "stream",
     "text": [
      "<class 'float'>\n"
     ]
    }
   ],
   "source": [
    "b = -1.23\n",
    "print(type(b))"
   ]
  },
  {
   "cell_type": "markdown",
   "id": "a7bc2fb5",
   "metadata": {},
   "source": [
    "2진수 0b10 -> 2   bin() 이용 bin(2) -> 0b10<br>\n",
    "8진수 0o10 -> 8   oct() 이용 oct(8) -> 0o10 or 010<br>\n",
    "16진수 0x10 -> 16 hex() 이용 hex(16) -> 0x10<br><br>\n",
    "\n",
    "2진수 8진수 16진수 확인 예제"
   ]
  },
  {
   "cell_type": "code",
   "execution_count": 52,
   "id": "d516c187",
   "metadata": {},
   "outputs": [
    {
     "name": "stdout",
     "output_type": "stream",
     "text": [
      "0b1100\n",
      "0o14\n",
      "0xc\n"
     ]
    }
   ],
   "source": [
    "print(bin(12))\n",
    "print(oct(12))\n",
    "print(hex(12))"
   ]
  },
  {
   "cell_type": "markdown",
   "id": "33073ce0",
   "metadata": {},
   "source": [
    "x의 y제곱을 나타내는 연산자"
   ]
  },
  {
   "cell_type": "code",
   "execution_count": 53,
   "id": "74d53ece",
   "metadata": {},
   "outputs": [
    {
     "name": "stdout",
     "output_type": "stream",
     "text": [
      "8\n"
     ]
    }
   ],
   "source": [
    "print(2**3)"
   ]
  },
  {
   "cell_type": "markdown",
   "id": "f07e5530",
   "metadata": {},
   "source": [
    "나눗셈"
   ]
  },
  {
   "cell_type": "code",
   "execution_count": 54,
   "id": "18282587",
   "metadata": {},
   "outputs": [
    {
     "name": "stdout",
     "output_type": "stream",
     "text": [
      "4.0\n"
     ]
    }
   ],
   "source": [
    "print(8/2)"
   ]
  },
  {
   "cell_type": "markdown",
   "id": "ba6b4af6",
   "metadata": {},
   "source": [
    "나눗셈 후 나머지"
   ]
  },
  {
   "cell_type": "code",
   "execution_count": 55,
   "id": "c6460328",
   "metadata": {},
   "outputs": [
    {
     "name": "stdout",
     "output_type": "stream",
     "text": [
      "1\n"
     ]
    }
   ],
   "source": [
    "print(3%2)"
   ]
  },
  {
   "cell_type": "markdown",
   "id": "7dc0d282",
   "metadata": {},
   "source": [
    "나눗셈 후 몫 만 출력"
   ]
  },
  {
   "cell_type": "code",
   "execution_count": 56,
   "id": "06397b3c",
   "metadata": {},
   "outputs": [
    {
     "name": "stdout",
     "output_type": "stream",
     "text": [
      "2\n"
     ]
    }
   ],
   "source": [
    "print(8//3)"
   ]
  },
  {
   "cell_type": "markdown",
   "id": "a4c65f04",
   "metadata": {},
   "source": [
    "### 33페이지 6번째 줄 \n",
    "-> 문자열 끼리의 덧셈, 문자와 숫자의 곱셈이 가능"
   ]
  },
  {
   "cell_type": "code",
   "execution_count": 60,
   "id": "7193d5e2",
   "metadata": {},
   "outputs": [
    {
     "name": "stdout",
     "output_type": "stream",
     "text": [
      "10000\\\n"
     ]
    }
   ],
   "source": [
    "print(\"10000\\\\\")"
   ]
  },
  {
   "cell_type": "markdown",
   "id": "6047d0b6",
   "metadata": {},
   "source": [
    " - 특수 기호의 역할을 하지 못하게 하고 싶을때 앞에 \\를 붙여줌\n",
    " \n",
    " 여러 줄인 문자열을 변수에 대입하고 싶은경우\n",
    " \n",
    " 1. 줄을 바꾸기 위한 이스케이프 문자 사용\n"
   ]
  },
  {
   "cell_type": "code",
   "execution_count": 57,
   "id": "d22f90aa",
   "metadata": {},
   "outputs": [
    {
     "name": "stdout",
     "output_type": "stream",
     "text": [
      "testtest \n",
      " testtest\n"
     ]
    }
   ],
   "source": [
    "print(\"testtest \\n testtest\")"
   ]
  },
  {
   "cell_type": "markdown",
   "id": "64c10c38",
   "metadata": {},
   "source": [
    "- 읽기가 불편하고 줄이 길어짐"
   ]
  },
  {
   "cell_type": "markdown",
   "id": "57bd9961",
   "metadata": {},
   "source": [
    "2. 연속된 작은 따움표(''') or 큰 따움표(\"\"\") 세 개 사용"
   ]
  },
  {
   "cell_type": "code",
   "execution_count": 58,
   "id": "e87d870c",
   "metadata": {},
   "outputs": [],
   "source": [
    "multiline= \"\"\"testset\n",
    "test\n",
    "test\"\"\""
   ]
  },
  {
   "cell_type": "code",
   "execution_count": 59,
   "id": "54d2d694",
   "metadata": {},
   "outputs": [
    {
     "name": "stdout",
     "output_type": "stream",
     "text": [
      "testset\n",
      "test\n",
      "test\n"
     ]
    }
   ],
   "source": [
    "print(multiline)"
   ]
  },
  {
   "cell_type": "markdown",
   "id": "9b4bd656",
   "metadata": {},
   "source": [
    "문자열 합치지 예제"
   ]
  },
  {
   "cell_type": "code",
   "execution_count": 61,
   "id": "7e9b1306",
   "metadata": {},
   "outputs": [
    {
     "name": "stdout",
     "output_type": "stream",
     "text": [
      "headtail\n"
     ]
    }
   ],
   "source": [
    "head = \"head\"\n",
    "tail= \"tail\"\n",
    "print(head+tail)"
   ]
  },
  {
   "cell_type": "markdown",
   "id": "363b941e",
   "metadata": {},
   "source": [
    "문자열 곱하기 예제"
   ]
  },
  {
   "cell_type": "code",
   "execution_count": 62,
   "id": "04d692cd",
   "metadata": {},
   "outputs": [
    {
     "name": "stdout",
     "output_type": "stream",
     "text": [
      "testtest\n"
     ]
    }
   ],
   "source": [
    "a = \"test\"\n",
    "print(a*2)"
   ]
  },
  {
   "cell_type": "markdown",
   "id": "5fc29869",
   "metadata": {},
   "source": [
    "문자열 곱하기 응용 예제"
   ]
  },
  {
   "cell_type": "code",
   "execution_count": 65,
   "id": "91b58d3a",
   "metadata": {},
   "outputs": [
    {
     "name": "stdout",
     "output_type": "stream",
     "text": [
      "==============================\n",
      "\tmy program\n",
      "==============================\n"
     ]
    }
   ],
   "source": [
    "print(\"=\" * 30)\n",
    "print(\"\\tmy program\")\n",
    "print(\"=\" * 30)"
   ]
  },
  {
   "cell_type": "markdown",
   "id": "16646323",
   "metadata": {},
   "source": [
    "문자열 길이 구하기 예제"
   ]
  },
  {
   "cell_type": "code",
   "execution_count": 66,
   "id": "d316bc5b",
   "metadata": {},
   "outputs": [
    {
     "name": "stdout",
     "output_type": "stream",
     "text": [
      "8\n"
     ]
    }
   ],
   "source": [
    "a = \"testtest\"\n",
    "print(len(a))"
   ]
  },
  {
   "cell_type": "markdown",
   "id": "bb2b401f",
   "metadata": {},
   "source": [
    "문자열 인덱싱 예제"
   ]
  },
  {
   "cell_type": "code",
   "execution_count": 67,
   "id": "c7dc3cc6",
   "metadata": {},
   "outputs": [],
   "source": [
    "a = \"life is too short, you need python\""
   ]
  },
  {
   "cell_type": "code",
   "execution_count": 68,
   "id": "493720ac",
   "metadata": {},
   "outputs": [
    {
     "name": "stdout",
     "output_type": "stream",
     "text": [
      "e\n"
     ]
    }
   ],
   "source": [
    "print(a[3])"
   ]
  },
  {
   "cell_type": "code",
   "execution_count": 70,
   "id": "2f138ae9",
   "metadata": {},
   "outputs": [
    {
     "name": "stdout",
     "output_type": "stream",
     "text": [
      "e\n"
     ]
    }
   ],
   "source": [
    "print(a[-10])"
   ]
  },
  {
   "cell_type": "markdown",
   "id": "b8ce7ac5",
   "metadata": {},
   "source": [
    "문자열 슬라이싱 예제"
   ]
  },
  {
   "cell_type": "code",
   "execution_count": 71,
   "id": "4ae42d02",
   "metadata": {},
   "outputs": [
    {
     "name": "stdout",
     "output_type": "stream",
     "text": [
      "life\n"
     ]
    }
   ],
   "source": [
    "print(a[0:4])"
   ]
  },
  {
   "cell_type": "code",
   "execution_count": 73,
   "id": "ab38d55c",
   "metadata": {},
   "outputs": [
    {
     "name": "stdout",
     "output_type": "stream",
     "text": [
      "o short, you need python\n"
     ]
    }
   ],
   "source": [
    "print(a[10:])"
   ]
  },
  {
   "cell_type": "code",
   "execution_count": 74,
   "id": "e65b6f5e",
   "metadata": {},
   "outputs": [],
   "source": [
    "a = \"pithon\" # pithon -> python"
   ]
  },
  {
   "cell_type": "code",
   "execution_count": 77,
   "id": "eb8ed408",
   "metadata": {},
   "outputs": [
    {
     "name": "stdout",
     "output_type": "stream",
     "text": [
      "python\n"
     ]
    }
   ],
   "source": [
    "print(a[0]+ \"y\"+a[2:6])"
   ]
  },
  {
   "cell_type": "code",
   "execution_count": 85,
   "id": "40a3a4cf",
   "metadata": {},
   "outputs": [],
   "source": [
    "a = a.replace(\"i\", \"y\")"
   ]
  },
  {
   "cell_type": "code",
   "execution_count": 86,
   "id": "005f4005",
   "metadata": {},
   "outputs": [
    {
     "name": "stdout",
     "output_type": "stream",
     "text": [
      "python\n"
     ]
    }
   ],
   "source": [
    "print(a)"
   ]
  },
  {
   "cell_type": "markdown",
   "id": "8a099eac",
   "metadata": {},
   "source": [
    "문자열 포매팅 예제\\n\n",
    "1. 숫자 바로 대입"
   ]
  },
  {
   "cell_type": "code",
   "execution_count": 87,
   "id": "9f5853f2",
   "metadata": {},
   "outputs": [
    {
     "name": "stdout",
     "output_type": "stream",
     "text": [
      "i deat 3 apples\n"
     ]
    }
   ],
   "source": [
    "print(\"i eat %d apples\" %3)"
   ]
  },
  {
   "cell_type": "markdown",
   "id": "4ca0394a",
   "metadata": {},
   "source": [
    "2. 문자열 바로 대입"
   ]
  },
  {
   "cell_type": "code",
   "execution_count": 88,
   "id": "0335cd17",
   "metadata": {},
   "outputs": [
    {
     "name": "stdout",
     "output_type": "stream",
     "text": [
      "i eat three apples\n"
     ]
    }
   ],
   "source": [
    "print(\"i eat %s apples\" %\"three\")"
   ]
  },
  {
   "cell_type": "markdown",
   "id": "a8967e3c",
   "metadata": {},
   "source": [
    "3. 숫자 값을 나타내는 변수로 대입"
   ]
  },
  {
   "cell_type": "code",
   "execution_count": 89,
   "id": "14d9515c",
   "metadata": {},
   "outputs": [
    {
     "name": "stdout",
     "output_type": "stream",
     "text": [
      "i eat 3 apples\n"
     ]
    }
   ],
   "source": [
    "number = 3\n",
    "print(\"i eat %d apples\" %number)"
   ]
  },
  {
   "cell_type": "markdown",
   "id": "47f16d62",
   "metadata": {},
   "source": [
    "4. 2개 이상의 값을 대입"
   ]
  },
  {
   "cell_type": "code",
   "execution_count": 92,
   "id": "d41e7a39",
   "metadata": {},
   "outputs": [
    {
     "name": "stdout",
     "output_type": "stream",
     "text": [
      "i eat 3 apples, so i was sick for three days\n"
     ]
    }
   ],
   "source": [
    "number = 3\n",
    "day = \"three\"\n",
    "print(\"i eat %d apples, so i was sick for %s days\" % (number, day))"
   ]
  },
  {
   "cell_type": "markdown",
   "id": "738684f6",
   "metadata": {},
   "source": [
    "%d와 %를 같이 사용하는 예제"
   ]
  },
  {
   "cell_type": "code",
   "execution_count": 98,
   "id": "e5e81a39",
   "metadata": {},
   "outputs": [
    {
     "name": "stdout",
     "output_type": "stream",
     "text": [
      "Error is 99%\n"
     ]
    }
   ],
   "source": [
    "print(\"Error is %d%%\" % (99))"
   ]
  },
  {
   "cell_type": "markdown",
   "id": "608989e4",
   "metadata": {},
   "source": [
    "### 40page 3번째 줄 글짜 깨짐 --> \"\n",
    "### 5번째 줄 글자 깨짐 -> 소수점\n"
   ]
  },
  {
   "cell_type": "code",
   "execution_count": 99,
   "id": "862f1b9d",
   "metadata": {},
   "outputs": [
    {
     "name": "stdout",
     "output_type": "stream",
     "text": [
      "hi\n"
     ]
    }
   ],
   "source": [
    "print(\"%s\" %'hi')"
   ]
  },
  {
   "cell_type": "code",
   "execution_count": 100,
   "id": "03005a36",
   "metadata": {},
   "outputs": [
    {
     "name": "stdout",
     "output_type": "stream",
     "text": [
      "        hi\n"
     ]
    }
   ],
   "source": [
    "print(\"%10s\" %'hi')"
   ]
  },
  {
   "cell_type": "code",
   "execution_count": 106,
   "id": "05f246f0",
   "metadata": {
    "scrolled": true
   },
   "outputs": [
    {
     "name": "stdout",
     "output_type": "stream",
     "text": [
      "hi         a\n"
     ]
    }
   ],
   "source": [
    "print(\"%-10s a\" %'hi')"
   ]
  },
  {
   "cell_type": "markdown",
   "id": "9fbc9060",
   "metadata": {},
   "source": [
    "소수점 표현하기 예제"
   ]
  },
  {
   "cell_type": "code",
   "execution_count": 109,
   "id": "a0ca8856",
   "metadata": {},
   "outputs": [
    {
     "name": "stdout",
     "output_type": "stream",
     "text": [
      "3.141592\n"
     ]
    }
   ],
   "source": [
    "print(\"%f\" %3.141592)"
   ]
  },
  {
   "cell_type": "code",
   "execution_count": 111,
   "id": "47f2a3a5",
   "metadata": {},
   "outputs": [
    {
     "name": "stdout",
     "output_type": "stream",
     "text": [
      "3.1416\n"
     ]
    }
   ],
   "source": [
    "print(\"%0.4f\" %3.141592)"
   ]
  },
  {
   "cell_type": "code",
   "execution_count": 112,
   "id": "1498de87",
   "metadata": {},
   "outputs": [
    {
     "name": "stdout",
     "output_type": "stream",
     "text": [
      "    3.1416\n"
     ]
    }
   ],
   "source": [
    "print(\"%10.4f\" %3.141592)"
   ]
  },
  {
   "cell_type": "markdown",
   "id": "bc2e8cdf",
   "metadata": {},
   "source": [
    "format() 함수를 이용한 포매팅 예제"
   ]
  },
  {
   "cell_type": "code",
   "execution_count": 113,
   "id": "a07abb31",
   "metadata": {},
   "outputs": [
    {
     "name": "stdout",
     "output_type": "stream",
     "text": [
      "11 22 33\n"
     ]
    }
   ],
   "source": [
    "print(\"{} {} {}\" .format(11, 22, 33))"
   ]
  },
  {
   "cell_type": "code",
   "execution_count": 114,
   "id": "26403dfe",
   "metadata": {},
   "outputs": [
    {
     "name": "stdout",
     "output_type": "stream",
     "text": [
      "i eat three apples, so i was sick for 3 days\n"
     ]
    }
   ],
   "source": [
    "number = 3\n",
    "day =\"three\"\n",
    "print(\"i eat {1} apples, so i was sick for {0} days\" .format(number, day))"
   ]
  },
  {
   "cell_type": "code",
   "execution_count": 118,
   "id": "e8d6ffc7",
   "metadata": {},
   "outputs": [
    {
     "name": "stdout",
     "output_type": "stream",
     "text": [
      "i eat 10 apples, so i was sick for four days\n"
     ]
    }
   ],
   "source": [
    "print(\"i eat {number} apples, so i was sick for {day} days\" .format(number = 10, day = \"four\"))"
   ]
  },
  {
   "cell_type": "markdown",
   "id": "59955b8c",
   "metadata": {},
   "source": [
    "f 문자열 포매팅 예제"
   ]
  },
  {
   "cell_type": "code",
   "execution_count": 120,
   "id": "39aab01b",
   "metadata": {},
   "outputs": [
    {
     "name": "stdout",
     "output_type": "stream",
     "text": [
      "나의이름은홍길동. 나이는 19\n"
     ]
    }
   ],
   "source": [
    "name = \"홍길동\"\n",
    "age = 19\n",
    "print(f'나의이름은{name}. 나이는 {age}')"
   ]
  },
  {
   "cell_type": "code",
   "execution_count": 121,
   "id": "e4280206",
   "metadata": {},
   "outputs": [
    {
     "name": "stdout",
     "output_type": "stream",
     "text": [
      "나의이름은홍길동. 나이는 20\n"
     ]
    }
   ],
   "source": [
    "name = \"홍길동\"\n",
    "age = 19\n",
    "print(f'나의이름은{name}. 나이는 {age+1}')"
   ]
  },
  {
   "cell_type": "markdown",
   "id": "a552d502",
   "metadata": {},
   "source": [
    "문자열 개수 세기 예제(count)"
   ]
  },
  {
   "cell_type": "code",
   "execution_count": 122,
   "id": "08b7fc1c",
   "metadata": {},
   "outputs": [
    {
     "name": "stdout",
     "output_type": "stream",
     "text": [
      "2\n"
     ]
    }
   ],
   "source": [
    "a = \"hobby\"\n",
    "print(a.count(\"b\"))"
   ]
  },
  {
   "cell_type": "markdown",
   "id": "35eb0252",
   "metadata": {},
   "source": [
    "문자 위치 알려주기 예제1(find)"
   ]
  },
  {
   "cell_type": "code",
   "execution_count": 125,
   "id": "4a2e6c4a",
   "metadata": {},
   "outputs": [
    {
     "name": "stdout",
     "output_type": "stream",
     "text": [
      "10\n"
     ]
    }
   ],
   "source": [
    "a = \"Python is best choice\"\n",
    "print(a.find(\"b\"))"
   ]
  },
  {
   "cell_type": "markdown",
   "id": "d19cbf2a",
   "metadata": {},
   "source": [
    "- 문자열 중 문자 b가 처음 나온 위치를 반환. 찾는 문자나 문자열이 없으면 -1을 반환"
   ]
  },
  {
   "cell_type": "markdown",
   "id": "5516a578",
   "metadata": {},
   "source": [
    "문자 위치 알려주기 예제2(index)"
   ]
  },
  {
   "cell_type": "code",
   "execution_count": 126,
   "id": "c361f652",
   "metadata": {},
   "outputs": [
    {
     "name": "stdout",
     "output_type": "stream",
     "text": [
      "10\n"
     ]
    }
   ],
   "source": [
    "a = \"Python is best choice\"\n",
    "print(a.index(\"b\"))"
   ]
  },
  {
   "cell_type": "markdown",
   "id": "f30f4cdc",
   "metadata": {},
   "source": [
    "- 찾는 문자나 문자열이 없으면 에러를 반환"
   ]
  },
  {
   "cell_type": "markdown",
   "id": "41980a41",
   "metadata": {},
   "source": [
    "문자열 삽입 예제(join)"
   ]
  },
  {
   "cell_type": "code",
   "execution_count": 127,
   "id": "9d6de1f7",
   "metadata": {},
   "outputs": [
    {
     "name": "stdout",
     "output_type": "stream",
     "text": [
      "a.b.c.d\n"
     ]
    }
   ],
   "source": [
    "a = \".\"\n",
    "print(a.join(\"abcd\"))"
   ]
  },
  {
   "cell_type": "code",
   "execution_count": 128,
   "id": "f699b60d",
   "metadata": {},
   "outputs": [
    {
     "name": "stdout",
     "output_type": "stream",
     "text": [
      "a:b:c:d\n"
     ]
    }
   ],
   "source": [
    "a = \":\"\n",
    "print(a.join([\"a\", \"b\", \"c\", \"d\"]))"
   ]
  },
  {
   "cell_type": "markdown",
   "id": "947bcbf0",
   "metadata": {},
   "source": [
    "대문자 소문자 변환 "
   ]
  },
  {
   "cell_type": "code",
   "execution_count": 129,
   "id": "99018e70",
   "metadata": {},
   "outputs": [
    {
     "name": "stdout",
     "output_type": "stream",
     "text": [
      "HI\n"
     ]
    }
   ],
   "source": [
    "a = \"hi\"\n",
    "print(a.upper())"
   ]
  },
  {
   "cell_type": "code",
   "execution_count": 130,
   "id": "df609410",
   "metadata": {},
   "outputs": [
    {
     "name": "stdout",
     "output_type": "stream",
     "text": [
      "hi\n"
     ]
    }
   ],
   "source": [
    "a = \"HI\"\n",
    "print(a.lower())"
   ]
  },
  {
   "cell_type": "markdown",
   "id": "b5a64545",
   "metadata": {},
   "source": [
    "왼쪽 공백 지우기(lstrip)"
   ]
  },
  {
   "cell_type": "code",
   "execution_count": 131,
   "id": "475bea51",
   "metadata": {},
   "outputs": [
    {
     "name": "stdout",
     "output_type": "stream",
     "text": [
      "hi   \n"
     ]
    }
   ],
   "source": [
    "a = \"  hi   \"\n",
    "print(a.lstrip())"
   ]
  },
  {
   "cell_type": "markdown",
   "id": "f63c7209",
   "metadata": {},
   "source": [
    "오른쪽 공백 지우기(rstrip)"
   ]
  },
  {
   "cell_type": "code",
   "execution_count": 134,
   "id": "0f557773",
   "metadata": {
    "scrolled": true
   },
   "outputs": [
    {
     "name": "stdout",
     "output_type": "stream",
     "text": [
      "   hi\n"
     ]
    }
   ],
   "source": [
    "a = \"   hi   \"\n",
    "print(a.rstrip())"
   ]
  },
  {
   "cell_type": "markdown",
   "id": "cd68bca4",
   "metadata": {},
   "source": [
    "양쪽 공백 지우기(strip)"
   ]
  },
  {
   "cell_type": "code",
   "execution_count": 135,
   "id": "93730335",
   "metadata": {},
   "outputs": [
    {
     "name": "stdout",
     "output_type": "stream",
     "text": [
      "hi\n"
     ]
    }
   ],
   "source": [
    "a = \"   hi   \"\n",
    "print(a.strip())"
   ]
  },
  {
   "cell_type": "markdown",
   "id": "9b2ab6da",
   "metadata": {},
   "source": [
    "44page 첫번째 줄 글자 깨짐 -> 문자열\n",
    "\n",
    "문자열 바꾸기 예제(replace)"
   ]
  },
  {
   "cell_type": "code",
   "execution_count": 136,
   "id": "0e267317",
   "metadata": {},
   "outputs": [
    {
     "name": "stdout",
     "output_type": "stream",
     "text": [
      "your leg is too short\n"
     ]
    }
   ],
   "source": [
    "a = \"Life is too short\"\n",
    "print(a.replace(\"Life\", \"your leg\"))"
   ]
  },
  {
   "cell_type": "markdown",
   "id": "b8a86b7a",
   "metadata": {},
   "source": [
    "문자열 나누기 예제(split)"
   ]
  },
  {
   "cell_type": "code",
   "execution_count": 138,
   "id": "8317fade",
   "metadata": {},
   "outputs": [
    {
     "name": "stdout",
     "output_type": "stream",
     "text": [
      "['Life', 'is', 'too', 'short']\n"
     ]
    }
   ],
   "source": [
    "a = \"Life is too short\"\n",
    "print(a.split())"
   ]
  },
  {
   "cell_type": "code",
   "execution_count": 141,
   "id": "e49fca6f",
   "metadata": {},
   "outputs": [
    {
     "name": "stdout",
     "output_type": "stream",
     "text": [
      "['a', 'b', 'c', 'd']\n"
     ]
    }
   ],
   "source": [
    "b = \"a:b:c:d\"\n",
    "print(b.split(\":\"))"
   ]
  },
  {
   "cell_type": "markdown",
   "id": "9a50201e",
   "metadata": {},
   "source": [
    "- split() 함수는 괄호 안에 아무것도 넣어 주지 않을 경우 공백을 기준을 나눔\n",
    "- split() 함수의 괄호 안에 특정 값이 있는 경우 특정 값을 기준으로 나눔"
   ]
  },
  {
   "cell_type": "code",
   "execution_count": null,
   "id": "0972c60b",
   "metadata": {},
   "outputs": [],
   "source": []
  }
 ],
 "metadata": {
  "kernelspec": {
   "display_name": "Python 3",
   "language": "python",
   "name": "python3"
  },
  "language_info": {
   "codemirror_mode": {
    "name": "ipython",
    "version": 3
   },
   "file_extension": ".py",
   "mimetype": "text/x-python",
   "name": "python",
   "nbconvert_exporter": "python",
   "pygments_lexer": "ipython3",
   "version": "3.8.8"
  }
 },
 "nbformat": 4,
 "nbformat_minor": 5
}
