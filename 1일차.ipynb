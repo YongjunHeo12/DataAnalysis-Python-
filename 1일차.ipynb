{
 "cells": [
  {
   "cell_type": "markdown",
   "id": "edf44b43",
   "metadata": {},
   "source": [
    "안녕하세요\n",
    "\n",
    "- 노트 : 서브메모\n",
    "\n",
    "## 안녕하세요\n",
    "\n",
    "\n",
    "### 안녕하세요\n"
   ]
  },
  {
   "cell_type": "code",
   "execution_count": null,
   "id": "47cf3247",
   "metadata": {},
   "outputs": [],
   "source": []
  },
  {
   "cell_type": "code",
   "execution_count": null,
   "id": "3b887c1a",
   "metadata": {},
   "outputs": [],
   "source": []
  },
  {
   "cell_type": "code",
   "execution_count": null,
   "id": "eb47c861",
   "metadata": {},
   "outputs": [],
   "source": []
  }
 ],
 "metadata": {
  "kernelspec": {
   "display_name": "Python 3",
   "language": "python",
   "name": "python3"
  },
  "language_info": {
   "codemirror_mode": {
    "name": "ipython",
    "version": 3
   },
   "file_extension": ".py",
   "mimetype": "text/x-python",
   "name": "python",
   "nbconvert_exporter": "python",
   "pygments_lexer": "ipython3",
   "version": "3.8.8"
  }
 },
 "nbformat": 4,
 "nbformat_minor": 5
}
