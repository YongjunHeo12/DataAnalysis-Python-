{
 "cells": [
  {
   "cell_type": "markdown",
   "id": "98e19fa4",
   "metadata": {},
   "source": [
    "함수 안에서 함수 밖의 변수를 변경하는 방법"
   ]
  },
  {
   "cell_type": "code",
   "execution_count": 1,
   "id": "a458d6cf",
   "metadata": {},
   "outputs": [],
   "source": [
    "a = 1\n",
    "def vartest(b):\n",
    "    b = b + 1\n",
    "    return b"
   ]
  },
  {
   "cell_type": "code",
   "execution_count": 3,
   "id": "47043d5d",
   "metadata": {},
   "outputs": [
    {
     "data": {
      "text/plain": [
       "3"
      ]
     },
     "execution_count": 3,
     "metadata": {},
     "output_type": "execute_result"
    }
   ],
   "source": [
    "vartest(2)"
   ]
  },
  {
   "cell_type": "code",
   "execution_count": 4,
   "id": "679847c7",
   "metadata": {},
   "outputs": [],
   "source": [
    "a = vartest(1)"
   ]
  },
  {
   "cell_type": "code",
   "execution_count": 5,
   "id": "883d6f34",
   "metadata": {},
   "outputs": [
    {
     "name": "stdout",
     "output_type": "stream",
     "text": [
      "2\n"
     ]
    }
   ],
   "source": [
    "print(a)"
   ]
  },
  {
   "cell_type": "markdown",
   "id": "7042f809",
   "metadata": {},
   "source": [
    "- 함수에서 나온 결과값으로 기존에 만든 전역 변수를 변경"
   ]
  },
  {
   "cell_type": "code",
   "execution_count": 6,
   "id": "5b5ade83",
   "metadata": {},
   "outputs": [],
   "source": [
    "a = 1\n",
    "def vartest(a):\n",
    "    a = a + 1\n",
    "    return a"
   ]
  },
  {
   "cell_type": "code",
   "execution_count": 7,
   "id": "009bbf43",
   "metadata": {},
   "outputs": [
    {
     "data": {
      "text/plain": [
       "2"
      ]
     },
     "execution_count": 7,
     "metadata": {},
     "output_type": "execute_result"
    }
   ],
   "source": [
    "vartest(a)"
   ]
  },
  {
   "cell_type": "code",
   "execution_count": 8,
   "id": "17f6ece2",
   "metadata": {},
   "outputs": [
    {
     "name": "stdout",
     "output_type": "stream",
     "text": [
      "1\n"
     ]
    }
   ],
   "source": [
    "print(a)"
   ]
  },
  {
   "cell_type": "code",
   "execution_count": 9,
   "id": "30b400d2",
   "metadata": {},
   "outputs": [],
   "source": [
    "a = vartest(a)"
   ]
  },
  {
   "cell_type": "code",
   "execution_count": 10,
   "id": "b69cda83",
   "metadata": {},
   "outputs": [
    {
     "name": "stdout",
     "output_type": "stream",
     "text": [
      "2\n"
     ]
    }
   ],
   "source": [
    "print(a)"
   ]
  },
  {
   "cell_type": "markdown",
   "id": "feee7b92",
   "metadata": {},
   "source": [
    "함수 안에서 함수 밖의 변수를 변경하는 방법(두번째 global)"
   ]
  },
  {
   "cell_type": "code",
   "execution_count": 11,
   "id": "0d38069c",
   "metadata": {},
   "outputs": [],
   "source": [
    "a = 1\n",
    "def vartest():\n",
    "    global a\n",
    "    a = a+1"
   ]
  },
  {
   "cell_type": "code",
   "execution_count": 12,
   "id": "96d1fe85",
   "metadata": {},
   "outputs": [],
   "source": [
    "vartest()"
   ]
  },
  {
   "cell_type": "code",
   "execution_count": 13,
   "id": "e1fd95aa",
   "metadata": {},
   "outputs": [
    {
     "name": "stdout",
     "output_type": "stream",
     "text": [
      "2\n"
     ]
    }
   ],
   "source": [
    "print(a)"
   ]
  },
  {
   "cell_type": "markdown",
   "id": "517b2b0f",
   "metadata": {},
   "source": [
    "함수 - 람다\n",
    "- 람다 : 간단한 함수를 쉽게 선언하는 방법\n",
    "- 형식\n",
    " - lambda <매개변수>:<리턴값>\n",
    " \n",
    "함수 만들기 람다사용"
   ]
  },
  {
   "cell_type": "code",
   "execution_count": 14,
   "id": "7a044ea5",
   "metadata": {},
   "outputs": [],
   "source": [
    "sum = lambda a,b:a+b"
   ]
  },
  {
   "cell_type": "code",
   "execution_count": 15,
   "id": "e123e071",
   "metadata": {},
   "outputs": [
    {
     "data": {
      "text/plain": [
       "3"
      ]
     },
     "execution_count": 15,
     "metadata": {},
     "output_type": "execute_result"
    }
   ],
   "source": [
    "sum(1,2)"
   ]
  },
  {
   "cell_type": "markdown",
   "id": "e95b94c6",
   "metadata": {},
   "source": [
    "람다를 이용하여 리스트 내에 함수 만들기 예제"
   ]
  },
  {
   "cell_type": "code",
   "execution_count": 16,
   "id": "f55f87c1",
   "metadata": {},
   "outputs": [],
   "source": [
    "myList = [lambda a, b:a+b, lambda a,b:a*b]"
   ]
  },
  {
   "cell_type": "code",
   "execution_count": 17,
   "id": "9fafdba4",
   "metadata": {},
   "outputs": [
    {
     "name": "stdout",
     "output_type": "stream",
     "text": [
      "[<function <lambda> at 0x0000027CBEC25040>, <function <lambda> at 0x0000027CBEC251F0>]\n"
     ]
    }
   ],
   "source": [
    "print(myList)"
   ]
  },
  {
   "cell_type": "code",
   "execution_count": 18,
   "id": "ecf2466a",
   "metadata": {},
   "outputs": [
    {
     "data": {
      "text/plain": [
       "7"
      ]
     },
     "execution_count": 18,
     "metadata": {},
     "output_type": "execute_result"
    }
   ],
   "source": [
    "myList[0](3,4)"
   ]
  },
  {
   "cell_type": "code",
   "execution_count": 19,
   "id": "f344180d",
   "metadata": {},
   "outputs": [
    {
     "data": {
      "text/plain": [
       "12"
      ]
     },
     "execution_count": 19,
     "metadata": {},
     "output_type": "execute_result"
    }
   ],
   "source": [
    "myList[1](3,4)"
   ]
  },
  {
   "cell_type": "code",
   "execution_count": 20,
   "id": "ca6708bc",
   "metadata": {},
   "outputs": [
    {
     "data": {
      "text/plain": [
       "<function __main__.<lambda>(a, b)>"
      ]
     },
     "execution_count": 20,
     "metadata": {},
     "output_type": "execute_result"
    }
   ],
   "source": [
    "myList[0]"
   ]
  },
  {
   "cell_type": "markdown",
   "id": "89ae9ba3",
   "metadata": {},
   "source": [
    "## 파일입출력\n",
    "파일 생성하기 예제"
   ]
  },
  {
   "cell_type": "code",
   "execution_count": 22,
   "id": "f02c3311",
   "metadata": {},
   "outputs": [],
   "source": [
    "f = open(\"새 파일.txt\", \"w\")\n",
    "f.close()"
   ]
  },
  {
   "cell_type": "markdown",
   "id": "18d02b7d",
   "metadata": {},
   "source": [
    "파일 생성 후 내용 넣기 예제"
   ]
  },
  {
   "cell_type": "code",
   "execution_count": 23,
   "id": "c99a40c6",
   "metadata": {},
   "outputs": [],
   "source": [
    "f = open(\"test.txt\", \"w\")\n",
    "for i in range(1,11):\n",
    "    data = \"%d번째 줄입니다.\\n\" %i\n",
    "    f.write(data)\n",
    "f.close()"
   ]
  },
  {
   "cell_type": "raw",
   "id": "16a1e49b",
   "metadata": {},
   "source": [
    "readline() 함수를 사용하여 파일 첫번째 줄 읽기"
   ]
  },
  {
   "cell_type": "code",
   "execution_count": 25,
   "id": "034417e1",
   "metadata": {},
   "outputs": [
    {
     "name": "stdout",
     "output_type": "stream",
     "text": [
      "1번째 줄입니다.\n",
      "\n"
     ]
    }
   ],
   "source": [
    "f = open(\"test.txt\", \"r\")\n",
    "line = f.readline() #readline()은 한줄만 읽음\n",
    "print(line)\n",
    "f.close()"
   ]
  },
  {
   "cell_type": "markdown",
   "id": "c04bc372",
   "metadata": {},
   "source": [
    "폴더가 없을 경우 폴더를 생성하면서 파일을 만드는 방법"
   ]
  },
  {
   "cell_type": "code",
   "execution_count": 26,
   "id": "95c2cf91",
   "metadata": {},
   "outputs": [],
   "source": [
    "#import os 써서 하는것"
   ]
  },
  {
   "cell_type": "markdown",
   "id": "7977126b",
   "metadata": {},
   "source": [
    "파일의 모든 내용 읽기 예제"
   ]
  },
  {
   "cell_type": "code",
   "execution_count": 34,
   "id": "09881c2b",
   "metadata": {},
   "outputs": [
    {
     "name": "stdout",
     "output_type": "stream",
     "text": [
      "1번째 줄입니다.\n",
      "2번째 줄입니다.\n",
      "3번째 줄입니다.\n",
      "4번째 줄입니다.\n",
      "5번째 줄입니다.\n",
      "6번째 줄입니다.\n",
      "7번째 줄입니다.\n",
      "8번째 줄입니다.\n",
      "9번째 줄입니다.\n",
      "10번째 줄입니다.\n"
     ]
    }
   ],
   "source": [
    "f = open(\"test.txt\", \"r\")\n",
    "while True:\n",
    "    line = f.readline().strip() #readline()은 한줄만 읽으므로 반복문으로 다 받아오기\n",
    "    if not line: break\n",
    "    print(line)"
   ]
  },
  {
   "cell_type": "code",
   "execution_count": 42,
   "id": "8568182e",
   "metadata": {
    "scrolled": true
   },
   "outputs": [
    {
     "name": "stdout",
     "output_type": "stream",
     "text": [
      "1번째 줄입니다.\n",
      "2번째 줄입니다.\n",
      "3번째 줄입니다.\n",
      "4번째 줄입니다.\n",
      "5번째 줄입니다.\n",
      "6번째 줄입니다.\n",
      "7번째 줄입니다.\n",
      "8번째 줄입니다.\n",
      "9번째 줄입니다.\n",
      "10번째 줄입니다.\n"
     ]
    }
   ],
   "source": [
    "f = open(\"test.txt\", \"r\")\n",
    "lines = f.readlines() #readlines()는 s가 붙었으므로 다 받아옴\n",
    "for line in lines:\n",
    "    print(line, end='') #print에서 \\n을 한 번 더 하므로 없앴음\n",
    "f.close()"
   ]
  },
  {
   "cell_type": "markdown",
   "id": "a693eb77",
   "metadata": {},
   "source": [
    "- 파이썬에서 데이터를 만들어서 파일을 쓸 경우 만들어진 최종 데이터를 파일에 씀\n",
    "- 다시 파일을 읽을 경우 파이썬에 맞춰 파일의 데이터가 보여지게 됨"
   ]
  },
  {
   "cell_type": "code",
   "execution_count": 45,
   "id": "b3648f87",
   "metadata": {},
   "outputs": [
    {
     "name": "stdout",
     "output_type": "stream",
     "text": [
      "1번째 줄입니다.\n",
      "2번째 줄입니다.\n",
      "3번째 줄입니다.\n",
      "4번째 줄입니다.\n",
      "5번째 줄입니다.\n",
      "6번째 줄입니다.\n",
      "7번째 줄입니다.\n",
      "8번째 줄입니다.\n",
      "9번째 줄입니다.\n",
      "10번째 줄입니다.\n",
      "\n",
      "<class 'str'>\n"
     ]
    }
   ],
   "source": [
    "f = open(\"test.txt\", \"r\")\n",
    "data = f.read() #문자열 전체를 받아옴(전체를)\n",
    "print(data)\n",
    "print(type(data))\n",
    "f.close()"
   ]
  },
  {
   "cell_type": "markdown",
   "id": "b86ecb0d",
   "metadata": {},
   "source": [
    "- readline() 함수는 파일의 한 줄 관련 함수\n",
    " - 한 줄 읽고 나서 포인터가 다음 줄로 이동\n",
    "- readlines() 함수는 파일 내용 전체를 가져와서 리스트로 반환\n",
    " - 각 줄은 문자열 형태로 리스트의 요소로 저장\n",
    "- read() 함수는 파일 내용 전체를 하나의 문자열로 반환"
   ]
  },
  {
   "cell_type": "markdown",
   "id": "717cf373",
   "metadata": {},
   "source": [
    "파일에 새로운 내용 추가하기"
   ]
  },
  {
   "cell_type": "code",
   "execution_count": 46,
   "id": "964e1bff",
   "metadata": {},
   "outputs": [],
   "source": [
    "f = open(\"test.txt\", \"a\")\n",
    "for i in range(11,20):\n",
    "    data = \"%d번째 줄입니다\\n\" %i\n",
    "    f.write(data)\n",
    "f.close()"
   ]
  },
  {
   "cell_type": "code",
   "execution_count": 47,
   "id": "14d78d8b",
   "metadata": {},
   "outputs": [
    {
     "name": "stdout",
     "output_type": "stream",
     "text": [
      "1번째 줄입니다.\n",
      "2번째 줄입니다.\n",
      "3번째 줄입니다.\n",
      "4번째 줄입니다.\n",
      "5번째 줄입니다.\n",
      "6번째 줄입니다.\n",
      "7번째 줄입니다.\n",
      "8번째 줄입니다.\n",
      "9번째 줄입니다.\n",
      "10번째 줄입니다.\n",
      "11번째 줄입니다\n",
      "12번째 줄입니다\n",
      "13번째 줄입니다\n",
      "14번째 줄입니다\n",
      "15번째 줄입니다\n",
      "16번째 줄입니다\n",
      "17번째 줄입니다\n",
      "18번째 줄입니다\n",
      "19번째 줄입니다\n",
      "\n"
     ]
    }
   ],
   "source": [
    "f = open(\"test.txt\", \"r\")\n",
    "print(f.read())"
   ]
  },
  {
   "cell_type": "markdown",
   "id": "ec1eb417",
   "metadata": {},
   "source": [
    "with문과 함께 사용하기"
   ]
  },
  {
   "cell_type": "code",
   "execution_count": 48,
   "id": "52f4fe6b",
   "metadata": {},
   "outputs": [],
   "source": [
    "with open(\"foo.txt\", \"w\") as f:\n",
    "    f.write('life is too short. tou need python')"
   ]
  },
  {
   "cell_type": "code",
   "execution_count": 49,
   "id": "c9192485",
   "metadata": {},
   "outputs": [
    {
     "name": "stdout",
     "output_type": "stream",
     "text": [
      "life is too short. tou need python\n"
     ]
    }
   ],
   "source": [
    "with open(\"foo.txt\", \"r\") as f:\n",
    "    data = f.read()\n",
    "    print(data)"
   ]
  },
  {
   "cell_type": "code",
   "execution_count": 61,
   "id": "f3338010",
   "metadata": {},
   "outputs": [],
   "source": [
    "f = open(\"test.txt\", \"r\")\n",
    "\n",
    "lines = f.readlines()\n",
    "\n",
    "\n",
    "del lines[10:]\n",
    "\n",
    "new_file = open(\"new_test.txt\", \"w\")\n",
    "for line in lines:\n",
    "    new_file.write(line)\n",
    "    \n",
    "      \n",
    "new_file.close()"
   ]
  },
  {
   "cell_type": "code",
   "execution_count": 62,
   "id": "f3881f69",
   "metadata": {},
   "outputs": [
    {
     "name": "stdout",
     "output_type": "stream",
     "text": [
      "1번째 줄입니다.\n",
      "2번째 줄입니다.\n",
      "3번째 줄입니다.\n",
      "4번째 줄입니다.\n",
      "5번째 줄입니다.\n",
      "6번째 줄입니다.\n",
      "7번째 줄입니다.\n",
      "8번째 줄입니다.\n",
      "9번째 줄입니다.\n",
      "10번째 줄입니다.\n",
      "\n",
      "\n"
     ]
    }
   ],
   "source": [
    "new_file = open(\"new_test.txt\", \"r\")\n",
    "\n",
    "print(new_file.read())\n",
    "print(f.read())"
   ]
  },
  {
   "cell_type": "markdown",
   "id": "e4ce4b80",
   "metadata": {},
   "source": [
    "## 클래스"
   ]
  },
  {
   "cell_type": "markdown",
   "id": "064a50fe",
   "metadata": {},
   "source": [
    "객체(object)\n",
    "- 파이썬에서는 객체(object)라는 단위로 메모리 위의 정보를 관리\n",
    "- 일단 메모리에 올라가면 객체"
   ]
  },
  {
   "cell_type": "code",
   "execution_count": 63,
   "id": "dd17999e",
   "metadata": {},
   "outputs": [
    {
     "name": "stdout",
     "output_type": "stream",
     "text": [
      "123\n"
     ]
    }
   ],
   "source": [
    "a = 123\n",
    "print(a)"
   ]
  },
  {
   "cell_type": "code",
   "execution_count": 64,
   "id": "f43d5ead",
   "metadata": {},
   "outputs": [
    {
     "name": "stdout",
     "output_type": "stream",
     "text": [
      "140712180921968\n"
     ]
    }
   ],
   "source": [
    "print(id(a))"
   ]
  },
  {
   "cell_type": "markdown",
   "id": "ed0956c7",
   "metadata": {},
   "source": [
    "클래스(class)\n",
    "- 객체들의 집합\n",
    "\n",
    "클래스를 사용하는 이유(클래스 사용 전)"
   ]
  },
  {
   "cell_type": "code",
   "execution_count": 65,
   "id": "f59c99f7",
   "metadata": {},
   "outputs": [],
   "source": [
    "result = 0\n",
    "\n",
    "def add(num):\n",
    "    global result\n",
    "    result = num +result\n",
    "    return result"
   ]
  },
  {
   "cell_type": "code",
   "execution_count": 66,
   "id": "c0ebec6f",
   "metadata": {},
   "outputs": [
    {
     "name": "stdout",
     "output_type": "stream",
     "text": [
      "3\n"
     ]
    }
   ],
   "source": [
    "print(add(3))"
   ]
  },
  {
   "cell_type": "code",
   "execution_count": 67,
   "id": "a7acbb7c",
   "metadata": {},
   "outputs": [
    {
     "name": "stdout",
     "output_type": "stream",
     "text": [
      "7\n"
     ]
    }
   ],
   "source": [
    "print(add(4))"
   ]
  },
  {
   "cell_type": "code",
   "execution_count": 71,
   "id": "d2b8bda3",
   "metadata": {},
   "outputs": [],
   "source": [
    "result2 = 0\n",
    "\n",
    "def add2(num2):\n",
    "    global result2\n",
    "    result2 = num2 +result2\n",
    "    return result2"
   ]
  },
  {
   "cell_type": "code",
   "execution_count": 72,
   "id": "9f05fc36",
   "metadata": {},
   "outputs": [
    {
     "name": "stdout",
     "output_type": "stream",
     "text": [
      "3\n"
     ]
    }
   ],
   "source": [
    "print(add2(3))"
   ]
  },
  {
   "cell_type": "markdown",
   "id": "1de06db8",
   "metadata": {},
   "source": [
    "- 코드를 재실행 할 때마다 함수들이 서로 영향을 받음\n",
    "- 결과값 초기화에 문제가 발생\n",
    "- add를 사용하려고 할때마다 새로 함수를 만들어야되는 불편"
   ]
  },
  {
   "cell_type": "markdown",
   "id": "8569c10f",
   "metadata": {},
   "source": [
    "클래스 사용 이유"
   ]
  },
  {
   "cell_type": "code",
   "execution_count": 79,
   "id": "cd075d2b",
   "metadata": {},
   "outputs": [],
   "source": [
    "class Calculator:\n",
    "    def __init__(self):\n",
    "        self.result = 0\n",
    "        \n",
    "    def add(self, num):\n",
    "        self.result = num + self.result\n",
    "        return self.result"
   ]
  },
  {
   "cell_type": "code",
   "execution_count": 80,
   "id": "0d0af20a",
   "metadata": {},
   "outputs": [],
   "source": [
    "cal1 = Calculator()\n",
    "cal2 = Calculator()"
   ]
  },
  {
   "cell_type": "code",
   "execution_count": 81,
   "id": "d0a303fa",
   "metadata": {},
   "outputs": [
    {
     "name": "stdout",
     "output_type": "stream",
     "text": [
      "3\n"
     ]
    }
   ],
   "source": [
    "print(cal1.add(3))"
   ]
  },
  {
   "cell_type": "code",
   "execution_count": 82,
   "id": "206a6810",
   "metadata": {},
   "outputs": [
    {
     "name": "stdout",
     "output_type": "stream",
     "text": [
      "7\n"
     ]
    }
   ],
   "source": [
    "print(cal1.add(4))"
   ]
  },
  {
   "cell_type": "code",
   "execution_count": 84,
   "id": "aaa842eb",
   "metadata": {},
   "outputs": [
    {
     "name": "stdout",
     "output_type": "stream",
     "text": [
      "2734822261280\n",
      "2734822262048\n"
     ]
    }
   ],
   "source": [
    "print(id(cal1))\n",
    "print(id(cal2))\n",
    "#서로 영향을 미치지않음"
   ]
  },
  {
   "cell_type": "markdown",
   "id": "da9f470b",
   "metadata": {},
   "source": [
    "- 클래스를 사용하여 객체를 만 경우 서로의 객체에 영향을 미치지 않음\n",
    "- 코드가 간결해진다\n",
    "\n",
    "클래스 생성 예제\n",
    "a,b는 객체 a,b는 Cookie클래스의 인스턴스"
   ]
  },
  {
   "cell_type": "code",
   "execution_count": 85,
   "id": "ee4e45db",
   "metadata": {},
   "outputs": [],
   "source": [
    "class Cookie:\n",
    "    pass"
   ]
  },
  {
   "cell_type": "code",
   "execution_count": 86,
   "id": "4b2b2f13",
   "metadata": {},
   "outputs": [],
   "source": [
    "a = Cookie()\n",
    "b = Cookie()"
   ]
  },
  {
   "cell_type": "code",
   "execution_count": 88,
   "id": "e7d52e8b",
   "metadata": {},
   "outputs": [
    {
     "name": "stdout",
     "output_type": "stream",
     "text": [
      "<class '__main__.Cookie'>\n"
     ]
    }
   ],
   "source": [
    "print(type(a))"
   ]
  },
  {
   "cell_type": "markdown",
   "id": "9ee781a0",
   "metadata": {},
   "source": [
    "144page 6번쨰 줄 글자 깨짐 -> -"
   ]
  },
  {
   "cell_type": "markdown",
   "id": "61fd8dd6",
   "metadata": {},
   "source": [
    "사칙연산 클래스 만들기 예제"
   ]
  },
  {
   "cell_type": "code",
   "execution_count": 89,
   "id": "8b8449b5",
   "metadata": {},
   "outputs": [],
   "source": [
    "class four_cal:\n",
    "    pass"
   ]
  },
  {
   "cell_type": "markdown",
   "id": "fa0c6b79",
   "metadata": {},
   "source": [
    "- 빈 클래스 생성 후 어떤 용도로 사용하고 어떤 코드를 넣을 것인지 생각해보는 것이 좋음\n",
    "\n",
    "클래스 안에 들어온 함수는 메서드"
   ]
  },
  {
   "cell_type": "code",
   "execution_count": 128,
   "id": "91a00188",
   "metadata": {},
   "outputs": [],
   "source": [
    "class four_cal:\n",
    "    def setdata(self, first, second):\n",
    "        self.first = first\n",
    "        self.second = second\n",
    "    "
   ]
  },
  {
   "cell_type": "code",
   "execution_count": 127,
   "id": "922dc724",
   "metadata": {},
   "outputs": [
    {
     "name": "stdout",
     "output_type": "stream",
     "text": [
      "5\n",
      "3\n",
      "7\n",
      "5\n"
     ]
    }
   ],
   "source": [
    "a = four_cal()\n",
    "# four_cal().setdata(3,4)는 맞지 않는 코드, 객체를 지정해서 호출해야됨\n",
    "a.setdata(5,3)\n",
    "\n",
    "#또는\n",
    "b = four_cal()\n",
    "four_cal.setdata(b, 7, 5) \n",
    "#self.first == b.first == 매개변수 first ==7\n",
    "#self.second == b.second == 매개변수 second ==5\n",
    "\n",
    "#각 객체에 객체 변수 생성 확인\n",
    "print(a.first)\n",
    "print(a.second)\n",
    "print(b.first)\n",
    "print(b.second)"
   ]
  },
  {
   "cell_type": "markdown",
   "id": "25bf30a2",
   "metadata": {},
   "source": [
    "self\n",
    "- 인스턴스 자기 자신을 가리키고, 우선적으로 self라고 지정해 놓는 것\n",
    "\n",
    "a = four_cal()같이 해놓으면 a가 객체를 받는 인스턴스라는 것을 알았으므로 그 인스턴스 내의 메서드를 가져올 때(예: a.setdata(5,4)) self를 쓰지 않아도 됨."
   ]
  },
  {
   "cell_type": "markdown",
   "id": "0cc2e9fe",
   "metadata": {},
   "source": [
    "사칙연산 클래스에 더하기 기능 추가하기 예제"
   ]
  },
  {
   "cell_type": "code",
   "execution_count": 129,
   "id": "e58dc62e",
   "metadata": {},
   "outputs": [],
   "source": [
    "class four_cal:\n",
    "    def setdata(self, first, second):\n",
    "        self.first = first\n",
    "        self.second = second\n",
    "    def add(self):\n",
    "        result = self.first + self.second\n",
    "        return result"
   ]
  },
  {
   "cell_type": "code",
   "execution_count": 130,
   "id": "c687bd28",
   "metadata": {},
   "outputs": [
    {
     "name": "stdout",
     "output_type": "stream",
     "text": [
      "6\n"
     ]
    }
   ],
   "source": [
    "a = four_cal()\n",
    "a.setdata(4,2)\n",
    "print(a.add())"
   ]
  },
  {
   "cell_type": "markdown",
   "id": "c491e729",
   "metadata": {},
   "source": [
    "사칙연산 클래스에 곱하기, 빼기, 나누기 기능 추가"
   ]
  },
  {
   "cell_type": "code",
   "execution_count": 136,
   "id": "eefb50bd",
   "metadata": {},
   "outputs": [],
   "source": [
    "class four_cal:\n",
    "    def setdata(self, first, second):\n",
    "        self.first = first\n",
    "        self.second = second\n",
    "    def add(self):\n",
    "        result = self.first + self.second\n",
    "        return result\n",
    "    def mul(self):\n",
    "        result = self.first * self.second\n",
    "        return result\n",
    "    def sub(self):\n",
    "        result = self.first - self.second\n",
    "        return result\n",
    "    def div(self):\n",
    "        result = self.first / self.second\n",
    "        return result"
   ]
  },
  {
   "cell_type": "code",
   "execution_count": 137,
   "id": "e1c3a649",
   "metadata": {},
   "outputs": [],
   "source": [
    "a = four_cal()\n",
    "a.setdata(4,2)"
   ]
  },
  {
   "cell_type": "code",
   "execution_count": 138,
   "id": "58011894",
   "metadata": {},
   "outputs": [
    {
     "name": "stdout",
     "output_type": "stream",
     "text": [
      "8\n"
     ]
    }
   ],
   "source": [
    "print(a.mul())"
   ]
  },
  {
   "cell_type": "code",
   "execution_count": 139,
   "id": "00253480",
   "metadata": {},
   "outputs": [
    {
     "name": "stdout",
     "output_type": "stream",
     "text": [
      "2\n"
     ]
    }
   ],
   "source": [
    "print(a.sub())"
   ]
  },
  {
   "cell_type": "markdown",
   "id": "7b65dbc8",
   "metadata": {},
   "source": [
    "생성자"
   ]
  },
  {
   "cell_type": "code",
   "execution_count": 140,
   "id": "0c807475",
   "metadata": {},
   "outputs": [
    {
     "data": {
      "text/plain": [
       "<function print>"
      ]
     },
     "execution_count": 140,
     "metadata": {},
     "output_type": "execute_result"
    }
   ],
   "source": [
    "a = four_cal()\n",
    "print"
   ]
  },
  {
   "cell_type": "markdown",
   "id": "e587db7b",
   "metadata": {},
   "source": [
    "- 매번 연산을 할 때마다 setdata() 함수를 호출해야함\n",
    "<br><br>\n",
    "생성자\n",
    "- 인스턴스 객체가 생성될 때 초기화를 위해서 자동으로 호출되는 초기화 메서드\n",
    "<br>\n",
    "__init__\n",
    "- 메서드 : 함수처럼 어떠한 기능을 수행\n",
    " - 함수와 메서드의 차이점 : 메서드는 클래스 및 객체와 연관되어 있는 함수"
   ]
  },
  {
   "cell_type": "markdown",
   "id": "21c5b7d5",
   "metadata": {},
   "source": [
    "생성자 생성 예제"
   ]
  },
  {
   "cell_type": "code",
   "execution_count": 153,
   "id": "90025f45",
   "metadata": {},
   "outputs": [],
   "source": [
    "class test:\n",
    "    def __init__(self, first, second):\n",
    "        self.first = first\n",
    "        self.second = second"
   ]
  },
  {
   "cell_type": "code",
   "execution_count": 154,
   "id": "cee37693",
   "metadata": {},
   "outputs": [
    {
     "ename": "TypeError",
     "evalue": "__init__() missing 2 required positional arguments: 'first' and 'second'",
     "output_type": "error",
     "traceback": [
      "\u001b[1;31m---------------------------------------------------------------------------\u001b[0m",
      "\u001b[1;31mTypeError\u001b[0m                                 Traceback (most recent call last)",
      "\u001b[1;32m<ipython-input-154-30cfc0963538>\u001b[0m in \u001b[0;36m<module>\u001b[1;34m\u001b[0m\n\u001b[1;32m----> 1\u001b[1;33m \u001b[0ma\u001b[0m \u001b[1;33m=\u001b[0m \u001b[0mtest\u001b[0m\u001b[1;33m(\u001b[0m\u001b[1;33m)\u001b[0m\u001b[1;33m\u001b[0m\u001b[1;33m\u001b[0m\u001b[0m\n\u001b[0m",
      "\u001b[1;31mTypeError\u001b[0m: __init__() missing 2 required positional arguments: 'first' and 'second'"
     ]
    }
   ],
   "source": [
    "a = test()"
   ]
  },
  {
   "cell_type": "code",
   "execution_count": 159,
   "id": "ea659c54",
   "metadata": {},
   "outputs": [
    {
     "name": "stdout",
     "output_type": "stream",
     "text": [
      "5\n"
     ]
    }
   ],
   "source": [
    "b = test(2,3)\n",
    "print(b.first + b.second)"
   ]
  },
  {
   "cell_type": "markdown",
   "id": "29c4a834",
   "metadata": {},
   "source": [
    "__init__ 메서드는 객체를 만드는 순간 동작하는 메서드"
   ]
  },
  {
   "cell_type": "markdown",
   "id": "44311f43",
   "metadata": {},
   "source": [
    "\\__init__ 메소드 예제"
   ]
  },
  {
   "cell_type": "code",
   "execution_count": 163,
   "id": "db040e70",
   "metadata": {},
   "outputs": [],
   "source": [
    "class Calculator:\n",
    "    def __init__(self):\n",
    "        self.result = 1\n",
    "        \n",
    "    def add(self, num):\n",
    "        self.result = num + self.result\n",
    "        return self.result"
   ]
  },
  {
   "cell_type": "code",
   "execution_count": 164,
   "id": "35fd8d4c",
   "metadata": {},
   "outputs": [],
   "source": [
    "a = Calculator()\n",
    "#객체 a를 생성하는 순간 __ini__ 메서드가 실행됨"
   ]
  },
  {
   "cell_type": "code",
   "execution_count": 165,
   "id": "59df6b27",
   "metadata": {},
   "outputs": [
    {
     "name": "stdout",
     "output_type": "stream",
     "text": [
      "1\n",
      "4\n"
     ]
    }
   ],
   "source": [
    "print(a.result)\n",
    "print(a.add(3))"
   ]
  },
  {
   "cell_type": "markdown",
   "id": "3bfb3a2e",
   "metadata": {},
   "source": [
    "160page 2번째 줄 글자 깨짐 --> 상속"
   ]
  },
  {
   "cell_type": "markdown",
   "id": "d881e2ef",
   "metadata": {},
   "source": [
    "four_cal 클래스를 상속하는 More_four_cal 클래스 생성"
   ]
  },
  {
   "cell_type": "code",
   "execution_count": 171,
   "id": "4222ad7b",
   "metadata": {},
   "outputs": [],
   "source": [
    "class four_cal:\n",
    "    def __init__(self, first, second):\n",
    "        self.first = first\n",
    "        self.second = second\n",
    "    def add(self):\n",
    "        result = self.first + self.second\n",
    "        return result\n",
    "    def mul(self):\n",
    "        result = self.first * self.second\n",
    "        return result\n",
    "    def sub(self):\n",
    "        result = self.first - self.second\n",
    "        return result\n",
    "    def div(self):\n",
    "        result = self.first / self.second\n",
    "        return result"
   ]
  },
  {
   "cell_type": "code",
   "execution_count": 180,
   "id": "6ced8d19",
   "metadata": {},
   "outputs": [],
   "source": [
    "class More_four_cal(four_cal): #괄호 안에 부모 클래스(상속 받을 클래스) 써주기 \n",
    "    pass"
   ]
  },
  {
   "cell_type": "markdown",
   "id": "2f41992f",
   "metadata": {},
   "source": [
    " - four_car 클래스는 부모 클래스\n",
    " - More_four_car 클래스는 자식 클래스"
   ]
  },
  {
   "cell_type": "code",
   "execution_count": 181,
   "id": "5acd8c00",
   "metadata": {},
   "outputs": [],
   "source": [
    "a = More_four_cal(4,2)"
   ]
  },
  {
   "cell_type": "code",
   "execution_count": 182,
   "id": "13d2d9be",
   "metadata": {},
   "outputs": [
    {
     "data": {
      "text/plain": [
       "6"
      ]
     },
     "execution_count": 182,
     "metadata": {},
     "output_type": "execute_result"
    }
   ],
   "source": [
    "a.add()"
   ]
  },
  {
   "cell_type": "markdown",
   "id": "87bc9be3",
   "metadata": {},
   "source": [
    "- 상속에 상속도 가능\n",
    "\n",
    "자식 클래스에 제곱 기능 추가"
   ]
  },
  {
   "cell_type": "code",
   "execution_count": 183,
   "id": "bba6ddaf",
   "metadata": {},
   "outputs": [],
   "source": [
    "class More_four_cal(four_cal):\n",
    "    def pow(self):\n",
    "        result = self.first ** self.second\n",
    "        return result"
   ]
  },
  {
   "cell_type": "code",
   "execution_count": 186,
   "id": "31616aba",
   "metadata": {},
   "outputs": [],
   "source": [
    "a = More_four_cal(2,3)"
   ]
  },
  {
   "cell_type": "code",
   "execution_count": 187,
   "id": "1b05f6d3",
   "metadata": {},
   "outputs": [
    {
     "data": {
      "text/plain": [
       "8"
      ]
     },
     "execution_count": 187,
     "metadata": {},
     "output_type": "execute_result"
    }
   ],
   "source": [
    "a.pow()"
   ]
  },
  {
   "cell_type": "markdown",
   "id": "1b6f9090",
   "metadata": {},
   "source": [
    " - 자식 클래스에 기능이 추가 되어도 부모 클래스에는 영향을 미치지 않음\n",
    " - 자식 클래스에 부모 클래스 메서드가 동일하게 존재하는 경우 부모 클래스의 메서드를 사용하지 않고 자식클래스의 메서드를 사용함"
   ]
  },
  {
   "cell_type": "markdown",
   "id": "431da016",
   "metadata": {},
   "source": [
    "메서드 오버라이딩\n",
    "- 메서드 덮어쓰기 or 메서드 재정의"
   ]
  },
  {
   "cell_type": "code",
   "execution_count": 188,
   "id": "a6710a57",
   "metadata": {},
   "outputs": [],
   "source": [
    "class four_cal:\n",
    "    def __init__(self, first, second):\n",
    "        self.first = first\n",
    "        self.second = second\n",
    "    def add(self):\n",
    "        result = self.first + self.second\n",
    "        return result\n",
    "    def mul(self):\n",
    "        result = self.first * self.second\n",
    "        return result\n",
    "    def sub(self):\n",
    "        result = self.first - self.second\n",
    "        return result\n",
    "    def div(self):\n",
    "        result = self.first / self.second\n",
    "        return result"
   ]
  },
  {
   "cell_type": "code",
   "execution_count": 189,
   "id": "24a06b01",
   "metadata": {},
   "outputs": [],
   "source": [
    "a = four_cal(3,0)"
   ]
  },
  {
   "cell_type": "code",
   "execution_count": 190,
   "id": "ca555f3f",
   "metadata": {},
   "outputs": [
    {
     "ename": "ZeroDivisionError",
     "evalue": "division by zero",
     "output_type": "error",
     "traceback": [
      "\u001b[1;31m---------------------------------------------------------------------------\u001b[0m",
      "\u001b[1;31mZeroDivisionError\u001b[0m                         Traceback (most recent call last)",
      "\u001b[1;32m<ipython-input-190-656340726662>\u001b[0m in \u001b[0;36m<module>\u001b[1;34m\u001b[0m\n\u001b[1;32m----> 1\u001b[1;33m \u001b[0ma\u001b[0m\u001b[1;33m.\u001b[0m\u001b[0mdiv\u001b[0m\u001b[1;33m(\u001b[0m\u001b[1;33m)\u001b[0m\u001b[1;33m\u001b[0m\u001b[1;33m\u001b[0m\u001b[0m\n\u001b[0m",
      "\u001b[1;32m<ipython-input-188-16b585f3638d>\u001b[0m in \u001b[0;36mdiv\u001b[1;34m(self)\u001b[0m\n\u001b[0;32m     13\u001b[0m         \u001b[1;32mreturn\u001b[0m \u001b[0mresult\u001b[0m\u001b[1;33m\u001b[0m\u001b[1;33m\u001b[0m\u001b[0m\n\u001b[0;32m     14\u001b[0m     \u001b[1;32mdef\u001b[0m \u001b[0mdiv\u001b[0m\u001b[1;33m(\u001b[0m\u001b[0mself\u001b[0m\u001b[1;33m)\u001b[0m\u001b[1;33m:\u001b[0m\u001b[1;33m\u001b[0m\u001b[1;33m\u001b[0m\u001b[0m\n\u001b[1;32m---> 15\u001b[1;33m         \u001b[0mresult\u001b[0m \u001b[1;33m=\u001b[0m \u001b[0mself\u001b[0m\u001b[1;33m.\u001b[0m\u001b[0mfirst\u001b[0m \u001b[1;33m/\u001b[0m \u001b[0mself\u001b[0m\u001b[1;33m.\u001b[0m\u001b[0msecond\u001b[0m\u001b[1;33m\u001b[0m\u001b[1;33m\u001b[0m\u001b[0m\n\u001b[0m\u001b[0;32m     16\u001b[0m         \u001b[1;32mreturn\u001b[0m \u001b[0mresult\u001b[0m\u001b[1;33m\u001b[0m\u001b[1;33m\u001b[0m\u001b[0m\n",
      "\u001b[1;31mZeroDivisionError\u001b[0m: division by zero"
     ]
    }
   ],
   "source": [
    "a.div()"
   ]
  },
  {
   "cell_type": "code",
   "execution_count": 191,
   "id": "f872654e",
   "metadata": {},
   "outputs": [],
   "source": [
    "class Safe_four_cal(four_cal):\n",
    "    def div(self):\n",
    "        if(self.second == 0):\n",
    "            return 0\n",
    "        else:\n",
    "            return self.first/self.second\n",
    "    "
   ]
  },
  {
   "cell_type": "code",
   "execution_count": 192,
   "id": "62005243",
   "metadata": {},
   "outputs": [],
   "source": [
    "b = Safe_four_cal(2,0)"
   ]
  },
  {
   "cell_type": "code",
   "execution_count": 193,
   "id": "13f70a69",
   "metadata": {},
   "outputs": [
    {
     "data": {
      "text/plain": [
       "0"
      ]
     },
     "execution_count": 193,
     "metadata": {},
     "output_type": "execute_result"
    }
   ],
   "source": [
    "b.div()"
   ]
  }
 ],
 "metadata": {
  "kernelspec": {
   "display_name": "Python 3",
   "language": "python",
   "name": "python3"
  },
  "language_info": {
   "codemirror_mode": {
    "name": "ipython",
    "version": 3
   },
   "file_extension": ".py",
   "mimetype": "text/x-python",
   "name": "python",
   "nbconvert_exporter": "python",
   "pygments_lexer": "ipython3",
   "version": "3.8.8"
  }
 },
 "nbformat": 4,
 "nbformat_minor": 5
}
