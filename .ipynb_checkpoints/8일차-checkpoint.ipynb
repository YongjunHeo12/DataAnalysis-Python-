{
 "cells": [
  {
   "cell_type": "markdown",
   "id": "ef80108c",
   "metadata": {},
   "source": [
    "csv 파일\n",
    "- 엑셀 파일\n",
    " - 어디서나 사용할 수 있는 텍스트 데이터를 사용\n",
    "- 일반 엑셀 파일(xlsx)과 다른점\n",
    " - MS 오피스에서만 동작\n",
    "- csv 파일 만든 다음 xlsx 파일로 변환 후 사용하면 됨"
   ]
  },
  {
   "cell_type": "markdown",
   "id": "58d3fce7",
   "metadata": {},
   "source": [
    "csv 파일 만들기 예제"
   ]
  },
  {
   "cell_type": "code",
   "execution_count": 1,
   "id": "4fcdfb49",
   "metadata": {},
   "outputs": [],
   "source": [
    "header = \",\".join([\"name\", \"age\", \"email\"])"
   ]
  },
  {
   "cell_type": "code",
   "execution_count": 2,
   "id": "882f357f",
   "metadata": {},
   "outputs": [
    {
     "name": "stdout",
     "output_type": "stream",
     "text": [
      "name,age,email\n"
     ]
    }
   ],
   "source": [
    "print(header)"
   ]
  },
  {
   "cell_type": "markdown",
   "id": "c9dfca1b",
   "metadata": {},
   "source": [
    "- 텍스트 기반의 데이터를 csv 파일로 저장하기 위해서는 데이터가 ,(쉼표)로 구분지어 있어야 함\n",
    "- 쉼표가 셀을 구분 지어주는 역할"
   ]
  },
  {
   "cell_type": "code",
   "execution_count": 4,
   "id": "a42a3e2a",
   "metadata": {},
   "outputs": [],
   "source": [
    "f = open(\"test.csv\", \"w\")\n",
    "f.write(header)\n",
    "f.close()"
   ]
  },
  {
   "cell_type": "markdown",
   "id": "9fb14c61",
   "metadata": {},
   "source": [
    "예제용 CSV 파일 100개, 1초 만에 만들어보기"
   ]
  },
  {
   "cell_type": "code",
   "execution_count": 2,
   "id": "e85bfe3c",
   "metadata": {},
   "outputs": [
    {
     "name": "stdout",
     "output_type": "stream",
     "text": [
      "작업을 시작합니다\n",
      "작업이 끝났습니다\n",
      "0.19519877433776855초 만큼 걸렸습니다.\n"
     ]
    }
   ],
   "source": [
    "import time as t\n",
    "import random as rand\n",
    "import os\n",
    "\n",
    "# 작업 시작 메세지를 출력\n",
    "print(\"작업을 시작합니다\")\n",
    "\n",
    "# 시작 지점의 시간을 기록\n",
    "start_time = t.time()\n",
    "\n",
    "# 파일의 갯수를 지정\n",
    "FILE_NUM = 100\n",
    "\n",
    "# 이메일 생성에 사용할 샘플 글자 정의\n",
    "alphabet_samples = \"abcdefghijklmnopqrstuvwxyz12345677890\"\n",
    "\n",
    "# 이름 샘플 지정\n",
    "first_name_samples = \"허장이\"\n",
    "middle_name_samples = \"용서지\"\n",
    "last_name_samples = \"준은금\"\n",
    "\n",
    "# 핸드폰 번호 생성에 사용할 샘플 번호 정의\n",
    "int_sample = '1234567890'\n",
    "\n",
    "# 무작위로 선택된 영어 글자를 생성하는 함수\n",
    "def random_string(length):\n",
    "    result = ''\n",
    "    for i in range(length):\n",
    "        result += rand.choice(alphabet_samples)\n",
    "    return result\n",
    "\n",
    "# 무작위 사람 이름을 생성하는 함수\n",
    "def random_name():\n",
    "    result = ''\n",
    "    result += rand.choice(first_name_samples)\n",
    "    result += rand.choice(middle_name_samples)\n",
    "    result += rand.choice(last_name_samples)\n",
    "    return result\n",
    "\n",
    "#무작위로 선택된 숫자(문자열 형태)를 생성하는 함수\n",
    "def random_int(length):\n",
    "    result=''\n",
    "    for i in range(length):\n",
    "        result += rand.choice(int_sample)\n",
    "    return result\n",
    "\n",
    "\n",
    "# 결과물을 저장할 폴더 생성\n",
    "folder = \"sample_folder\"\n",
    "if folder not in os.listdir():\n",
    "    os.mkdir(folder)\n",
    "\n",
    "# 헤더 정의(첫번째 행에 들어갈 내용)\n",
    "header = \",\".join([\"name\", \"age\", \"email\", \"division\", \"telephone\", \"sex\"]) + \"\\n\"\n",
    "\n",
    "# 개인정보 파일을 csv 파일로 자동 생성\n",
    "# FILE_NUM의 수만큼 반복하여 생성\n",
    "for i in range(FILE_NUM):\n",
    "    #무작위 사람 이름 생성\n",
    "    name = random_name()\n",
    "    \n",
    "    #파일 이름 정의(경로도 정해줘야됨)\n",
    "    filename = \"sample_folder/\" + str(i) + \"_\" + name + \".csv\"\n",
    "    #ex) sample_folder/0_허지금.csv\n",
    "    \n",
    "    #작성할 빈 파일을 생성\n",
    "    outfile = open(filename, \"w\")\n",
    "    \n",
    "    #파일에 헤더 기재(1번 행)\n",
    "    outfile.write (header)\n",
    "    \n",
    "    #파일에 무작위로 이름 기재(2번 행, 1열)\n",
    "    outfile.write(name+\", \")\n",
    "    \n",
    "    #파일에 무작위로 나이 기재(2번 행, 2열)\n",
    "    outfile.write(str(rand.randint(1,100))+\",\")\n",
    "    \n",
    "    #파일에 무작위로 이메일 기재(2번 행, 3열)\n",
    "    outfile.write(random_string(8)+\"@gmail.com\"+\",\")\n",
    "    \n",
    "    #파일에 무작위로 부서명 기재(2번 행, 4열)\n",
    "    outfile.write(random_string(3)+\"dep\"+\",\")\n",
    "    \n",
    "    #파일에 무작위로 핸드폰 번호 기재(2번행, 5열)\n",
    "    outfile.write(\"010-\"+random_int(4)+\"-\"+random_int(4)+\",\")\n",
    "    \n",
    "    #파일에 무작위로 성별 기재(2번행, 6열)\n",
    "    outfile.write(rand.choice([\"m\", \"f\"]))\n",
    "    \n",
    "    #파일 수정 마무리\n",
    "    outfile.close()\n",
    "\n",
    "# 작업 끝 메세지를 출력\n",
    "print(\"작업이 끝났습니다\")\n",
    "\n",
    "# 끝 지점의 시간을 기록\n",
    "end_time = t.time()\n",
    "\n",
    "print(str(end_time-start_time)+\"초 만큼 걸렸습니다.\")"
   ]
  },
  {
   "cell_type": "markdown",
   "id": "f5c21ac6",
   "metadata": {},
   "source": [
    "코딩 에러가 날 경우<br>\n",
    "#-*-coding:utf-8<br>\n",
    "#-*-coding:euc-kr"
   ]
  },
  {
   "cell_type": "markdown",
   "id": "43dc1d39",
   "metadata": {},
   "source": [
    "작성한 csv 파일 읽기"
   ]
  },
  {
   "cell_type": "code",
   "execution_count": 18,
   "id": "eb623ae7",
   "metadata": {},
   "outputs": [
    {
     "name": "stdout",
     "output_type": "stream",
     "text": [
      "['name', 'age', 'email', 'division', 'telephone', 'sex']\n",
      "['허용준', ' 93', 'u9krnpjw@gmail.com', 'g4bdep', '010-7417-0642', 'f']\n"
     ]
    }
   ],
   "source": [
    "#-*-coding:utf-8\n",
    "#-*-coding:euc-kr\n",
    "import csv\n",
    "\n",
    "f = open(\"sample_folder/0_허용준.csv\", \"r\")\n",
    "rdc = csv.reader(f)\n",
    "for i in rdc:\n",
    "    print(i)\n",
    "f.close()"
   ]
  },
  {
   "cell_type": "markdown",
   "id": "45300416",
   "metadata": {},
   "source": [
    "csv 파일을 하나로 합쳐보기 예제(cmd에서 실행) 경로에서 Pyhton merge.py sample_folder"
   ]
  },
  {
   "cell_type": "code",
   "execution_count": 1,
   "id": "4ef375a0",
   "metadata": {},
   "outputs": [
    {
     "ename": "FileNotFoundError",
     "evalue": "[WinError 3] 지정된 경로를 찾을 수 없습니다: '-f'",
     "output_type": "error",
     "traceback": [
      "\u001b[1;31m---------------------------------------------------------------------------\u001b[0m",
      "\u001b[1;31mFileNotFoundError\u001b[0m                         Traceback (most recent call last)",
      "\u001b[1;32m<ipython-input-1-fa89fd4074c1>\u001b[0m in \u001b[0;36m<module>\u001b[1;34m\u001b[0m\n\u001b[0;32m     12\u001b[0m \u001b[1;33m\u001b[0m\u001b[0m\n\u001b[0;32m     13\u001b[0m \u001b[1;31m# 폴더의 내용물을 열람해서 목록을 생성\u001b[0m\u001b[1;33m\u001b[0m\u001b[1;33m\u001b[0m\u001b[1;33m\u001b[0m\u001b[0m\n\u001b[1;32m---> 14\u001b[1;33m \u001b[0minput_files\u001b[0m \u001b[1;33m=\u001b[0m \u001b[0mos\u001b[0m\u001b[1;33m.\u001b[0m\u001b[0mlistdir\u001b[0m\u001b[1;33m(\u001b[0m\u001b[0mdirectory\u001b[0m\u001b[1;33m)\u001b[0m\u001b[1;33m\u001b[0m\u001b[1;33m\u001b[0m\u001b[0m\n\u001b[0m\u001b[0;32m     15\u001b[0m \u001b[1;33m\u001b[0m\u001b[0m\n\u001b[0;32m     16\u001b[0m \u001b[1;31m# 헤더를 분리하기 위한 변수를 정의\u001b[0m\u001b[1;33m\u001b[0m\u001b[1;33m\u001b[0m\u001b[1;33m\u001b[0m\u001b[0m\n",
      "\u001b[1;31mFileNotFoundError\u001b[0m: [WinError 3] 지정된 경로를 찾을 수 없습니다: '-f'"
     ]
    }
   ],
   "source": [
    "import os\n",
    "import sys\n",
    "\n",
    "#하나로 합칠 파일들이 저장된 폴더 이름을 시스템으로부터 입력\n",
    "directory = sys.argv[1]\n",
    "\n",
    "# 하나로 합쳐진 파일의 이름을 정의\n",
    "outfile_name = \"merge_file.csv\"\n",
    "\n",
    "# 결과물 파일을 생성 \n",
    "output_file = open(outfile_name, \"w\")\n",
    "\n",
    "# 폴더의 내용물을 열람해서 목록을 생성\n",
    "input_files = os.listdir(directory)\n",
    "\n",
    "# 헤더를 분리하기 위한 변수를 정의\n",
    "outfile_header = False\n",
    "\n",
    "for filename in input_files:\n",
    "    #csv 파일이 아닌 것은 걸러줌\n",
    "    if \".csv\" not in filename:\n",
    "        continue\n",
    "    \n",
    "    #csv 파일이 맞다면, 파일을 읽어옴\n",
    "    file = open(directory + \"/\" + filename)\n",
    "    \n",
    "    # 첫 번째 줄 헤더를 정의\n",
    "    header = file.readline()\n",
    "    \n",
    "    # 첫 번째 줄 헤더를 최초 1회 파일에 입력\n",
    "    if not outfile_header:\n",
    "        output_file.write(header.strip()) #strip으로 공백없애기\n",
    "        outfile_header = True\n",
    "        \n",
    "    #결과물 파일에 내용물을 입력\n",
    "    output_file.write('\\n'+ file.read())\n",
    "\n",
    "    #읽어온 파일들을 종료\n",
    "    file.close()\n",
    "\n",
    "#결과물 파일을 쓰기를 종료\n",
    "output_file.close()"
   ]
  },
  {
   "cell_type": "code",
   "execution_count": null,
   "id": "fe446828",
   "metadata": {},
   "outputs": [],
   "source": []
  }
 ],
 "metadata": {
  "kernelspec": {
   "display_name": "Python 3",
   "language": "python",
   "name": "python3"
  },
  "language_info": {
   "codemirror_mode": {
    "name": "ipython",
    "version": 3
   },
   "file_extension": ".py",
   "mimetype": "text/x-python",
   "name": "python",
   "nbconvert_exporter": "python",
   "pygments_lexer": "ipython3",
   "version": "3.8.8"
  }
 },
 "nbformat": 4,
 "nbformat_minor": 5
}
