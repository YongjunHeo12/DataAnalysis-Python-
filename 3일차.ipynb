{
 "cells": [
  {
   "cell_type": "markdown",
   "id": "9da71afa",
   "metadata": {},
   "source": [
    "리스트\n",
    "- 여러 요소값을 담을 수 있는 자료형\n",
    "- \\[\\](대괄호)를 이용하여 생성\n",
    "\n",
    "리스트 생성 예제"
   ]
  },
  {
   "cell_type": "code",
   "execution_count": 1,
   "id": "6320aff1",
   "metadata": {},
   "outputs": [],
   "source": [
    "a = [1, 2, 3]"
   ]
  },
  {
   "cell_type": "code",
   "execution_count": 2,
   "id": "cad53e63",
   "metadata": {},
   "outputs": [
    {
     "name": "stdout",
     "output_type": "stream",
     "text": [
      "[1, 2, 3]\n"
     ]
    }
   ],
   "source": [
    "print(a)"
   ]
  },
  {
   "cell_type": "markdown",
   "id": "a86aab9a",
   "metadata": {},
   "source": [
    "리스트 인덱싱 예제"
   ]
  },
  {
   "cell_type": "code",
   "execution_count": 3,
   "id": "62803429",
   "metadata": {},
   "outputs": [
    {
     "name": "stdout",
     "output_type": "stream",
     "text": [
      "1\n"
     ]
    }
   ],
   "source": [
    "print(a[0])"
   ]
  },
  {
   "cell_type": "code",
   "execution_count": 4,
   "id": "3e2a8b3d",
   "metadata": {},
   "outputs": [
    {
     "name": "stdout",
     "output_type": "stream",
     "text": [
      "4\n"
     ]
    }
   ],
   "source": [
    "print(a[0]+a[2])"
   ]
  },
  {
   "cell_type": "code",
   "execution_count": 5,
   "id": "1653566f",
   "metadata": {},
   "outputs": [
    {
     "name": "stdout",
     "output_type": "stream",
     "text": [
      "3\n"
     ]
    }
   ],
   "source": [
    "print(a[-1])"
   ]
  },
  {
   "cell_type": "code",
   "execution_count": 6,
   "id": "82df9502",
   "metadata": {},
   "outputs": [],
   "source": [
    "b = ['Life','is','too', 'short']"
   ]
  },
  {
   "cell_type": "code",
   "execution_count": 8,
   "id": "b7a202fe",
   "metadata": {},
   "outputs": [
    {
     "name": "stdout",
     "output_type": "stream",
     "text": [
      "Lifeis\n"
     ]
    }
   ],
   "source": [
    "print(b[0]+b[1])"
   ]
  },
  {
   "cell_type": "code",
   "execution_count": 11,
   "id": "65a3c6aa",
   "metadata": {},
   "outputs": [],
   "source": [
    "a=[1, 2, 3, ['a','b','c']]"
   ]
  },
  {
   "cell_type": "raw",
   "id": "998cfcef",
   "metadata": {},
   "source": []
  },
  {
   "cell_type": "code",
   "execution_count": 12,
   "id": "fd20431d",
   "metadata": {},
   "outputs": [
    {
     "name": "stdout",
     "output_type": "stream",
     "text": [
      "1\n"
     ]
    }
   ],
   "source": [
    "print(a[0])"
   ]
  },
  {
   "cell_type": "code",
   "execution_count": 14,
   "id": "21d9639c",
   "metadata": {},
   "outputs": [
    {
     "name": "stdout",
     "output_type": "stream",
     "text": [
      "['a', 'b', 'c']\n"
     ]
    }
   ],
   "source": [
    "print(a[-1])"
   ]
  },
  {
   "cell_type": "code",
   "execution_count": 17,
   "id": "aeacd631",
   "metadata": {},
   "outputs": [
    {
     "name": "stdout",
     "output_type": "stream",
     "text": [
      "a\n"
     ]
    }
   ],
   "source": [
    "print(a[-1][0])"
   ]
  },
  {
   "cell_type": "code",
   "execution_count": 18,
   "id": "6d148a16",
   "metadata": {},
   "outputs": [],
   "source": [
    "a=[1, 2, ['a', 'b',['life','is']]]"
   ]
  },
  {
   "cell_type": "code",
   "execution_count": 20,
   "id": "3f27b6a1",
   "metadata": {},
   "outputs": [
    {
     "name": "stdout",
     "output_type": "stream",
     "text": [
      "['a', 'b', ['life', 'is']]\n"
     ]
    }
   ],
   "source": [
    "print(a[2])"
   ]
  },
  {
   "cell_type": "code",
   "execution_count": 21,
   "id": "4d21c86c",
   "metadata": {},
   "outputs": [
    {
     "name": "stdout",
     "output_type": "stream",
     "text": [
      "life\n"
     ]
    }
   ],
   "source": [
    "print(a[2][2][0])"
   ]
  },
  {
   "cell_type": "markdown",
   "id": "5941962b",
   "metadata": {},
   "source": [
    "리스트 슬라이싱 예제"
   ]
  },
  {
   "cell_type": "code",
   "execution_count": 22,
   "id": "189c85cf",
   "metadata": {},
   "outputs": [],
   "source": [
    "a = [1, 2, 3, 4, 5]"
   ]
  },
  {
   "cell_type": "code",
   "execution_count": 23,
   "id": "2f2f32a7",
   "metadata": {},
   "outputs": [
    {
     "name": "stdout",
     "output_type": "stream",
     "text": [
      "[1, 2]\n"
     ]
    }
   ],
   "source": [
    "print(a[0:2])"
   ]
  },
  {
   "cell_type": "code",
   "execution_count": 24,
   "id": "ee0a6b10",
   "metadata": {},
   "outputs": [],
   "source": [
    "b = a[:2]"
   ]
  },
  {
   "cell_type": "code",
   "execution_count": 25,
   "id": "631d6338",
   "metadata": {},
   "outputs": [
    {
     "name": "stdout",
     "output_type": "stream",
     "text": [
      "[1, 2]\n"
     ]
    }
   ],
   "source": [
    "print(b)"
   ]
  },
  {
   "cell_type": "code",
   "execution_count": 26,
   "id": "cb6fddb3",
   "metadata": {},
   "outputs": [],
   "source": [
    "c = a[2:]"
   ]
  },
  {
   "cell_type": "code",
   "execution_count": 28,
   "id": "1bbe47aa",
   "metadata": {},
   "outputs": [
    {
     "name": "stdout",
     "output_type": "stream",
     "text": [
      "[3, 4, 5]\n"
     ]
    }
   ],
   "source": [
    "print(c)"
   ]
  },
  {
   "cell_type": "code",
   "execution_count": 31,
   "id": "9df6634c",
   "metadata": {},
   "outputs": [],
   "source": [
    "a = [1, 2, 3, ['a', 'b', 'c'], 4, 5]"
   ]
  },
  {
   "cell_type": "code",
   "execution_count": 32,
   "id": "f770cb09",
   "metadata": {},
   "outputs": [
    {
     "name": "stdout",
     "output_type": "stream",
     "text": [
      "[3, ['a', 'b', 'c'], 4]\n"
     ]
    }
   ],
   "source": [
    "print(a[2:5])"
   ]
  },
  {
   "cell_type": "code",
   "execution_count": 33,
   "id": "43b8f1bb",
   "metadata": {},
   "outputs": [
    {
     "name": "stdout",
     "output_type": "stream",
     "text": [
      "['a', 'b', 'c']\n"
     ]
    }
   ],
   "source": [
    "print(a[3])"
   ]
  },
  {
   "cell_type": "code",
   "execution_count": 34,
   "id": "854d3688",
   "metadata": {},
   "outputs": [
    {
     "name": "stdout",
     "output_type": "stream",
     "text": [
      "['a', 'b']\n"
     ]
    }
   ],
   "source": [
    "print(a[3][:2])"
   ]
  },
  {
   "cell_type": "markdown",
   "id": "721bb175",
   "metadata": {},
   "source": [
    "리스트 합치기 예제"
   ]
  },
  {
   "cell_type": "code",
   "execution_count": 36,
   "id": "bae86aa9",
   "metadata": {},
   "outputs": [],
   "source": [
    "a = [1, 2, 3]\n",
    "b = [4, 5, 6]"
   ]
  },
  {
   "cell_type": "code",
   "execution_count": 37,
   "id": "d45d7357",
   "metadata": {},
   "outputs": [
    {
     "name": "stdout",
     "output_type": "stream",
     "text": [
      "[1, 2, 3, 4, 5, 6]\n"
     ]
    }
   ],
   "source": [
    "print(a+b)"
   ]
  },
  {
   "cell_type": "markdown",
   "id": "e1742006",
   "metadata": {},
   "source": [
    "리스트 반복 예제"
   ]
  },
  {
   "cell_type": "code",
   "execution_count": 38,
   "id": "403944d9",
   "metadata": {},
   "outputs": [
    {
     "name": "stdout",
     "output_type": "stream",
     "text": [
      "[1, 2, 3, 1, 2, 3]\n"
     ]
    }
   ],
   "source": [
    "print(a*2)"
   ]
  },
  {
   "cell_type": "markdown",
   "id": "407bb19e",
   "metadata": {},
   "source": [
    "리스트 요소 수정 예제"
   ]
  },
  {
   "cell_type": "code",
   "execution_count": 39,
   "id": "9a4496bf",
   "metadata": {},
   "outputs": [],
   "source": [
    "a = [1, 2, 3]"
   ]
  },
  {
   "cell_type": "code",
   "execution_count": 40,
   "id": "741fcfd7",
   "metadata": {},
   "outputs": [
    {
     "name": "stdout",
     "output_type": "stream",
     "text": [
      "3\n"
     ]
    }
   ],
   "source": [
    "print(a[2])"
   ]
  },
  {
   "cell_type": "code",
   "execution_count": 41,
   "id": "cc63cca3",
   "metadata": {},
   "outputs": [],
   "source": [
    "a[2] = 4"
   ]
  },
  {
   "cell_type": "code",
   "execution_count": 42,
   "id": "c4b1e9e1",
   "metadata": {},
   "outputs": [
    {
     "name": "stdout",
     "output_type": "stream",
     "text": [
      "[1, 2, 4]\n"
     ]
    }
   ],
   "source": [
    "print(a)"
   ]
  },
  {
   "cell_type": "code",
   "execution_count": 43,
   "id": "adf1c622",
   "metadata": {},
   "outputs": [],
   "source": [
    "a[1:2] = ['a', ' b', 'c']"
   ]
  },
  {
   "cell_type": "code",
   "execution_count": 44,
   "id": "67f98bc1",
   "metadata": {},
   "outputs": [
    {
     "name": "stdout",
     "output_type": "stream",
     "text": [
      "[1, 'a', ' b', 'c', 4]\n"
     ]
    }
   ],
   "source": [
    "print(a)"
   ]
  },
  {
   "cell_type": "code",
   "execution_count": 45,
   "id": "0be50ab8",
   "metadata": {},
   "outputs": [],
   "source": [
    "a[0] = ['a1', 'a2', 'a3']"
   ]
  },
  {
   "cell_type": "code",
   "execution_count": 46,
   "id": "abb8b8be",
   "metadata": {},
   "outputs": [
    {
     "name": "stdout",
     "output_type": "stream",
     "text": [
      "[['a1', 'a2', 'a3'], 'a', ' b', 'c', 4]\n"
     ]
    }
   ],
   "source": [
    "print(a)"
   ]
  },
  {
   "cell_type": "markdown",
   "id": "e1a390ac",
   "metadata": {},
   "source": [
    "슬라이싱 형태로 나눈 리스트에 값을 넣으면 요소 값만이 그대로 들어가고\n",
    "인덱싱은 콕 집어서 요소 값이 리스트 형태로 들어간다"
   ]
  },
  {
   "cell_type": "code",
   "execution_count": 47,
   "id": "4420a696",
   "metadata": {},
   "outputs": [
    {
     "name": "stdout",
     "output_type": "stream",
     "text": [
      "['a1', 'a2', 'a3']\n"
     ]
    }
   ],
   "source": [
    "print(a[0])"
   ]
  },
  {
   "cell_type": "code",
   "execution_count": 48,
   "id": "3e37da84",
   "metadata": {},
   "outputs": [
    {
     "name": "stdout",
     "output_type": "stream",
     "text": [
      "a\n"
     ]
    }
   ],
   "source": [
    "print(a[1])"
   ]
  },
  {
   "cell_type": "markdown",
   "id": "54c65465",
   "metadata": {},
   "source": [
    "리스트 요소 제거 예제"
   ]
  },
  {
   "cell_type": "code",
   "execution_count": 49,
   "id": "1ae03944",
   "metadata": {},
   "outputs": [
    {
     "name": "stdout",
     "output_type": "stream",
     "text": [
      "[['a1', 'a2', 'a3'], 'a', ' b', 'c', 4]\n"
     ]
    }
   ],
   "source": [
    "print(a)"
   ]
  },
  {
   "cell_type": "code",
   "execution_count": 50,
   "id": "19a0f469",
   "metadata": {},
   "outputs": [],
   "source": [
    "a[1:3] =[]"
   ]
  },
  {
   "cell_type": "code",
   "execution_count": 51,
   "id": "8003b79b",
   "metadata": {},
   "outputs": [
    {
     "name": "stdout",
     "output_type": "stream",
     "text": [
      "[['a1', 'a2', 'a3'], 'c', 4]\n"
     ]
    }
   ],
   "source": [
    "print(a)"
   ]
  },
  {
   "cell_type": "code",
   "execution_count": 52,
   "id": "fb787de8",
   "metadata": {},
   "outputs": [],
   "source": [
    "del a[1]"
   ]
  },
  {
   "cell_type": "code",
   "execution_count": 53,
   "id": "55597d3d",
   "metadata": {},
   "outputs": [
    {
     "name": "stdout",
     "output_type": "stream",
     "text": [
      "[['a1', 'a2', 'a3'], 4]\n"
     ]
    }
   ],
   "source": [
    "print(a)"
   ]
  },
  {
   "cell_type": "code",
   "execution_count": 54,
   "id": "030d668f",
   "metadata": {},
   "outputs": [],
   "source": [
    "del a[0:2]"
   ]
  },
  {
   "cell_type": "code",
   "execution_count": 55,
   "id": "10f3b1fb",
   "metadata": {},
   "outputs": [
    {
     "name": "stdout",
     "output_type": "stream",
     "text": [
      "[]\n"
     ]
    }
   ],
   "source": [
    "print(a)"
   ]
  },
  {
   "cell_type": "markdown",
   "id": "69f0cb7b",
   "metadata": {},
   "source": [
    "리스트 관련 함수\n",
    "\n",
    "- 리시트 요소 추가 예제"
   ]
  },
  {
   "cell_type": "code",
   "execution_count": 56,
   "id": "af32ff12",
   "metadata": {},
   "outputs": [],
   "source": [
    "a = [1, 2, 3]"
   ]
  },
  {
   "cell_type": "code",
   "execution_count": 57,
   "id": "ec98d3a1",
   "metadata": {},
   "outputs": [],
   "source": [
    "a.append(4)"
   ]
  },
  {
   "cell_type": "code",
   "execution_count": 58,
   "id": "abdae7a9",
   "metadata": {},
   "outputs": [
    {
     "name": "stdout",
     "output_type": "stream",
     "text": [
      "[1, 2, 3, 4]\n"
     ]
    }
   ],
   "source": [
    "print(a)"
   ]
  },
  {
   "cell_type": "code",
   "execution_count": 60,
   "id": "2af6dd09",
   "metadata": {},
   "outputs": [],
   "source": [
    "a.append([5,6])"
   ]
  },
  {
   "cell_type": "code",
   "execution_count": 61,
   "id": "54590128",
   "metadata": {},
   "outputs": [
    {
     "name": "stdout",
     "output_type": "stream",
     "text": [
      "[1, 2, 3, 4, [5, 6]]\n"
     ]
    }
   ],
   "source": [
    "print(a)"
   ]
  },
  {
   "cell_type": "markdown",
   "id": "6fa7c36f",
   "metadata": {},
   "source": [
    "리스트 정렬 예제"
   ]
  },
  {
   "cell_type": "code",
   "execution_count": 62,
   "id": "525ccc47",
   "metadata": {},
   "outputs": [],
   "source": [
    "a = [1, 4, 3, 2]"
   ]
  },
  {
   "cell_type": "code",
   "execution_count": 63,
   "id": "a331021c",
   "metadata": {},
   "outputs": [],
   "source": [
    "a.sort()"
   ]
  },
  {
   "cell_type": "code",
   "execution_count": 64,
   "id": "ae72ba6e",
   "metadata": {},
   "outputs": [
    {
     "name": "stdout",
     "output_type": "stream",
     "text": [
      "[1, 2, 3, 4]\n"
     ]
    }
   ],
   "source": [
    "print(a)"
   ]
  },
  {
   "cell_type": "code",
   "execution_count": 65,
   "id": "21ccde9f",
   "metadata": {},
   "outputs": [],
   "source": [
    "a = ['abc', '123', 'you need python']"
   ]
  },
  {
   "cell_type": "code",
   "execution_count": 66,
   "id": "2c2ba2fe",
   "metadata": {},
   "outputs": [],
   "source": [
    "a.sort()"
   ]
  },
  {
   "cell_type": "code",
   "execution_count": 67,
   "id": "1bd12af1",
   "metadata": {},
   "outputs": [
    {
     "name": "stdout",
     "output_type": "stream",
     "text": [
      "['123', 'abc', 'you need python']\n"
     ]
    }
   ],
   "source": [
    "print(a)"
   ]
  },
  {
   "cell_type": "code",
   "execution_count": 68,
   "id": "f2a2564a",
   "metadata": {},
   "outputs": [],
   "source": [
    "a = ['abc', 123, 'you need python']"
   ]
  },
  {
   "cell_type": "markdown",
   "id": "1e5dff71",
   "metadata": {},
   "source": [
    "위와 같이 리스트 내의 요소들의 type이 다르면 정렬이 불가능"
   ]
  },
  {
   "cell_type": "code",
   "execution_count": 70,
   "id": "0135d309",
   "metadata": {},
   "outputs": [],
   "source": [
    "a = ['abc', '123', 'You need python']"
   ]
  },
  {
   "cell_type": "code",
   "execution_count": 71,
   "id": "301d90ed",
   "metadata": {},
   "outputs": [
    {
     "name": "stdout",
     "output_type": "stream",
     "text": [
      "['123', 'You need python', 'abc']\n"
     ]
    }
   ],
   "source": [
    "a.sort()\n",
    "print(a)"
   ]
  },
  {
   "cell_type": "code",
   "execution_count": 72,
   "id": "54225371",
   "metadata": {},
   "outputs": [],
   "source": [
    "a = ['abc', '123', 'you need python', '안녕']"
   ]
  },
  {
   "cell_type": "code",
   "execution_count": 73,
   "id": "e44e866c",
   "metadata": {},
   "outputs": [
    {
     "name": "stdout",
     "output_type": "stream",
     "text": [
      "['123', 'abc', 'you need python', '안녕']\n"
     ]
    }
   ],
   "source": [
    "a.sort()\n",
    "print(a)"
   ]
  },
  {
   "cell_type": "markdown",
   "id": "39e8de62",
   "metadata": {},
   "source": [
    "숫자 -> 영어(대문자 -> 소문자) -> 한글 순서로 정렬됨"
   ]
  },
  {
   "cell_type": "markdown",
   "id": "d08cb806",
   "metadata": {},
   "source": [
    "리스트 뒤집기 예제"
   ]
  },
  {
   "cell_type": "code",
   "execution_count": 74,
   "id": "50bf6b3a",
   "metadata": {},
   "outputs": [],
   "source": [
    "a = [1, 2, 3]"
   ]
  },
  {
   "cell_type": "code",
   "execution_count": 75,
   "id": "e90d321c",
   "metadata": {},
   "outputs": [],
   "source": [
    "a.reverse()"
   ]
  },
  {
   "cell_type": "code",
   "execution_count": 77,
   "id": "1c7ef469",
   "metadata": {},
   "outputs": [
    {
     "name": "stdout",
     "output_type": "stream",
     "text": [
      "[3, 2, 1]\n"
     ]
    }
   ],
   "source": [
    "print(a)"
   ]
  },
  {
   "cell_type": "markdown",
   "id": "84c60777",
   "metadata": {},
   "source": [
    "리스트 index 예제 값을 입력하면 리스트 내의 그 값이 어느자리에 있는지 알려줌"
   ]
  },
  {
   "cell_type": "code",
   "execution_count": 80,
   "id": "e612e046",
   "metadata": {},
   "outputs": [
    {
     "name": "stdout",
     "output_type": "stream",
     "text": [
      "1\n"
     ]
    }
   ],
   "source": [
    "print(a.index(2))"
   ]
  },
  {
   "cell_type": "markdown",
   "id": "2636ff9d",
   "metadata": {},
   "source": [
    "리스트 중간에 요소를 추가하기(insert)"
   ]
  },
  {
   "cell_type": "code",
   "execution_count": 81,
   "id": "c234e03f",
   "metadata": {},
   "outputs": [],
   "source": [
    "a = [1, 2, 3]"
   ]
  },
  {
   "cell_type": "code",
   "execution_count": 82,
   "id": "ce138a41",
   "metadata": {},
   "outputs": [],
   "source": [
    "a.insert(0,1)"
   ]
  },
  {
   "cell_type": "code",
   "execution_count": 84,
   "id": "923332dd",
   "metadata": {},
   "outputs": [
    {
     "name": "stdout",
     "output_type": "stream",
     "text": [
      "[1, 1, 2, 3]\n"
     ]
    }
   ],
   "source": [
    "print(a)"
   ]
  },
  {
   "cell_type": "code",
   "execution_count": 85,
   "id": "5d271e0b",
   "metadata": {},
   "outputs": [],
   "source": [
    "a.insert(0, [1,2,3])"
   ]
  },
  {
   "cell_type": "code",
   "execution_count": 86,
   "id": "8ec57b97",
   "metadata": {},
   "outputs": [
    {
     "name": "stdout",
     "output_type": "stream",
     "text": [
      "[[1, 2, 3], 1, 1, 2, 3]\n"
     ]
    }
   ],
   "source": [
    "print(a)"
   ]
  },
  {
   "cell_type": "markdown",
   "id": "876fbd93",
   "metadata": {},
   "source": [
    "리스트 요소 제거 예제"
   ]
  },
  {
   "cell_type": "code",
   "execution_count": 87,
   "id": "8f218bd2",
   "metadata": {},
   "outputs": [],
   "source": [
    "a = [1, 2, 3, 1, 2, 3 ]"
   ]
  },
  {
   "cell_type": "code",
   "execution_count": 88,
   "id": "c3599e17",
   "metadata": {},
   "outputs": [],
   "source": [
    "a. remove(3)"
   ]
  },
  {
   "cell_type": "code",
   "execution_count": 89,
   "id": "863e09c5",
   "metadata": {},
   "outputs": [
    {
     "name": "stdout",
     "output_type": "stream",
     "text": [
      "[1, 2, 1, 2, 3]\n"
     ]
    }
   ],
   "source": [
    "print(a)"
   ]
  },
  {
   "cell_type": "code",
   "execution_count": 90,
   "id": "075d993b",
   "metadata": {},
   "outputs": [],
   "source": [
    "a.remove(3)"
   ]
  },
  {
   "cell_type": "code",
   "execution_count": 91,
   "id": "b099e6a8",
   "metadata": {},
   "outputs": [
    {
     "name": "stdout",
     "output_type": "stream",
     "text": [
      "[1, 2, 1, 2]\n"
     ]
    }
   ],
   "source": [
    "print(a)"
   ]
  },
  {
   "cell_type": "markdown",
   "id": "625e3838",
   "metadata": {},
   "source": [
    "리스트 요소 끄집어내기 예제"
   ]
  },
  {
   "cell_type": "code",
   "execution_count": 92,
   "id": "d126442b",
   "metadata": {},
   "outputs": [],
   "source": [
    "a = [1,2,3]"
   ]
  },
  {
   "cell_type": "code",
   "execution_count": 93,
   "id": "525ab78e",
   "metadata": {},
   "outputs": [
    {
     "data": {
      "text/plain": [
       "3"
      ]
     },
     "execution_count": 93,
     "metadata": {},
     "output_type": "execute_result"
    }
   ],
   "source": [
    "a.pop()"
   ]
  },
  {
   "cell_type": "code",
   "execution_count": 94,
   "id": "d96760e0",
   "metadata": {},
   "outputs": [
    {
     "name": "stdout",
     "output_type": "stream",
     "text": [
      "[1, 2]\n"
     ]
    }
   ],
   "source": [
    "print(a)"
   ]
  },
  {
   "cell_type": "markdown",
   "id": "8912092f",
   "metadata": {},
   "source": [
    "리스트 개수 세기 예제"
   ]
  },
  {
   "cell_type": "code",
   "execution_count": 95,
   "id": "3e471b92",
   "metadata": {},
   "outputs": [],
   "source": [
    "a = [1, 2, 3, 1]"
   ]
  },
  {
   "cell_type": "code",
   "execution_count": 96,
   "id": "09961439",
   "metadata": {},
   "outputs": [
    {
     "data": {
      "text/plain": [
       "2"
      ]
     },
     "execution_count": 96,
     "metadata": {},
     "output_type": "execute_result"
    }
   ],
   "source": [
    "a.count(1)"
   ]
  },
  {
   "cell_type": "markdown",
   "id": "9bcfc5cd",
   "metadata": {},
   "source": [
    "리스트 extend(확장)는 리스트를 합침"
   ]
  },
  {
   "cell_type": "code",
   "execution_count": 97,
   "id": "ddc2dda4",
   "metadata": {},
   "outputs": [],
   "source": [
    "a = [1,2,3]"
   ]
  },
  {
   "cell_type": "code",
   "execution_count": 99,
   "id": "2f9f9571",
   "metadata": {},
   "outputs": [],
   "source": [
    "a.extend([4,5])"
   ]
  },
  {
   "cell_type": "code",
   "execution_count": 100,
   "id": "c0722a23",
   "metadata": {},
   "outputs": [
    {
     "name": "stdout",
     "output_type": "stream",
     "text": [
      "[1, 2, 3, 4, 5]\n"
     ]
    }
   ],
   "source": [
    "print(a)"
   ]
  },
  {
   "cell_type": "markdown",
   "id": "165db3a8",
   "metadata": {},
   "source": [
    "61page 제목 --> Tuple(튜플)\n",
    "\n",
    "튜플은 이런식으로 선언 가능"
   ]
  },
  {
   "cell_type": "code",
   "execution_count": 101,
   "id": "edbbfa58",
   "metadata": {},
   "outputs": [],
   "source": [
    "t1 = ()"
   ]
  },
  {
   "cell_type": "code",
   "execution_count": 104,
   "id": "a8275e8f",
   "metadata": {},
   "outputs": [],
   "source": [
    "t1 =(1,2, 3)"
   ]
  },
  {
   "cell_type": "code",
   "execution_count": 105,
   "id": "40f7f7d3",
   "metadata": {},
   "outputs": [
    {
     "name": "stdout",
     "output_type": "stream",
     "text": [
      "(1, 2, 3)\n"
     ]
    }
   ],
   "source": [
    "print(t1)"
   ]
  },
  {
   "cell_type": "code",
   "execution_count": 106,
   "id": "971f61f0",
   "metadata": {},
   "outputs": [],
   "source": [
    "t1 = 2, 3, 4"
   ]
  },
  {
   "cell_type": "code",
   "execution_count": 107,
   "id": "52d5090f",
   "metadata": {},
   "outputs": [
    {
     "name": "stdout",
     "output_type": "stream",
     "text": [
      "(2, 3, 4)\n"
     ]
    }
   ],
   "source": [
    "print(t1)"
   ]
  },
  {
   "cell_type": "code",
   "execution_count": 108,
   "id": "51aa99df",
   "metadata": {},
   "outputs": [],
   "source": [
    "t2 = (2,)"
   ]
  },
  {
   "cell_type": "code",
   "execution_count": 109,
   "id": "ecff7c5f",
   "metadata": {},
   "outputs": [
    {
     "name": "stdout",
     "output_type": "stream",
     "text": [
      "(2,)\n"
     ]
    }
   ],
   "source": [
    "print(t2)"
   ]
  },
  {
   "cell_type": "code",
   "execution_count": 111,
   "id": "a00f30cf",
   "metadata": {},
   "outputs": [
    {
     "name": "stdout",
     "output_type": "stream",
     "text": [
      "<class 'tuple'>\n"
     ]
    }
   ],
   "source": [
    "print(type(t2))"
   ]
  },
  {
   "cell_type": "code",
   "execution_count": 112,
   "id": "2a3f97f8",
   "metadata": {},
   "outputs": [],
   "source": [
    "t3=(1, 2, (1,2,3))"
   ]
  },
  {
   "cell_type": "code",
   "execution_count": 113,
   "id": "c630437d",
   "metadata": {},
   "outputs": [
    {
     "name": "stdout",
     "output_type": "stream",
     "text": [
      "(1, 2, (1, 2, 3))\n"
     ]
    }
   ],
   "source": [
    "print(t3)"
   ]
  },
  {
   "cell_type": "markdown",
   "id": "3061df7f",
   "metadata": {},
   "source": [
    "리스트와 유사하지만 읽기전용임\n",
    "요소를 지우거나 변경불가 -> 안전하고 빠르게 사용<br>\n",
    "인덱싱 슬라이싱 가능<br>\n",
    "더하기 곱하기 가능<br>\n",
    "길이 구하기 가능<br>"
   ]
  },
  {
   "cell_type": "markdown",
   "id": "251c56b6",
   "metadata": {},
   "source": [
    "튜플의 패킹과 언패킹\n",
    "- 패킹 : 한 데이터에서 여러 개의 데이터를 넣는 것\n",
    " - 실습을 통해 만들어본 리스트, 튜플 자료형이 패킹에 속함\n",
    "- 언패킹 : 한 데이터에서 데이터를 각각 꺼내오는 것\n",
    " - 튜플, 리스트 둘다 패킹 언패킹이 가능하다"
   ]
  },
  {
   "cell_type": "code",
   "execution_count": 115,
   "id": "28194687",
   "metadata": {},
   "outputs": [],
   "source": [
    "T = (1,2,3,4,5)"
   ]
  },
  {
   "cell_type": "code",
   "execution_count": 116,
   "id": "5fa9f642",
   "metadata": {},
   "outputs": [],
   "source": [
    "a, *b = T"
   ]
  },
  {
   "cell_type": "code",
   "execution_count": 117,
   "id": "f8cb8d31",
   "metadata": {},
   "outputs": [
    {
     "name": "stdout",
     "output_type": "stream",
     "text": [
      "1 [2, 3, 4, 5]\n"
     ]
    }
   ],
   "source": [
    "print(a, b)"
   ]
  },
  {
   "cell_type": "code",
   "execution_count": 118,
   "id": "adb9f218",
   "metadata": {},
   "outputs": [],
   "source": [
    "a, b, *c = T"
   ]
  },
  {
   "cell_type": "code",
   "execution_count": 119,
   "id": "6722e561",
   "metadata": {},
   "outputs": [
    {
     "name": "stdout",
     "output_type": "stream",
     "text": [
      "1 2 [3, 4, 5]\n"
     ]
    }
   ],
   "source": [
    "print(a,b,c)"
   ]
  },
  {
   "cell_type": "code",
   "execution_count": 120,
   "id": "7c45c16c",
   "metadata": {},
   "outputs": [],
   "source": [
    "L = [1,2,3,4,5]"
   ]
  },
  {
   "cell_type": "code",
   "execution_count": 121,
   "id": "15a7f4e2",
   "metadata": {},
   "outputs": [],
   "source": [
    "a, b, c, d, e =L"
   ]
  },
  {
   "cell_type": "code",
   "execution_count": 122,
   "id": "8ec86663",
   "metadata": {},
   "outputs": [
    {
     "name": "stdout",
     "output_type": "stream",
     "text": [
      "1 2 3 4 5\n"
     ]
    }
   ],
   "source": [
    "print(a,b,c,d,e)"
   ]
  },
  {
   "cell_type": "markdown",
   "id": "c8987721",
   "metadata": {},
   "source": [
    "리스트 -> 튜플 변경 예제"
   ]
  },
  {
   "cell_type": "code",
   "execution_count": 123,
   "id": "a98d72c4",
   "metadata": {},
   "outputs": [],
   "source": [
    "L = [1,2,3,4,5]"
   ]
  },
  {
   "cell_type": "code",
   "execution_count": 124,
   "id": "ed7133c1",
   "metadata": {},
   "outputs": [],
   "source": [
    "T = tuple(L)"
   ]
  },
  {
   "cell_type": "code",
   "execution_count": 125,
   "id": "cd15f78b",
   "metadata": {},
   "outputs": [
    {
     "name": "stdout",
     "output_type": "stream",
     "text": [
      "(1, 2, 3, 4, 5)\n"
     ]
    }
   ],
   "source": [
    "print(T)"
   ]
  },
  {
   "cell_type": "markdown",
   "id": "38e884bf",
   "metadata": {},
   "source": [
    "튜플 -> 리스트 변경 예제"
   ]
  },
  {
   "cell_type": "code",
   "execution_count": 126,
   "id": "c402ca9b",
   "metadata": {},
   "outputs": [],
   "source": [
    "T =(1,2,3,4,5)"
   ]
  },
  {
   "cell_type": "code",
   "execution_count": 128,
   "id": "fbc844ff",
   "metadata": {},
   "outputs": [],
   "source": [
    "L=list(T)"
   ]
  },
  {
   "cell_type": "code",
   "execution_count": 129,
   "id": "a5c29cbe",
   "metadata": {},
   "outputs": [
    {
     "name": "stdout",
     "output_type": "stream",
     "text": [
      "[1, 2, 3, 4, 5]\n"
     ]
    }
   ],
   "source": [
    "print(L)"
   ]
  },
  {
   "cell_type": "markdown",
   "id": "bed39dd1",
   "metadata": {},
   "source": [
    "딕셔너리\n",
    " - 사전\n",
    " - key-value 형식으로 이루어진 자료형\n",
    " \n",
    "딕셔너리 생성예제"
   ]
  },
  {
   "cell_type": "code",
   "execution_count": 133,
   "id": "ba9ec71f",
   "metadata": {},
   "outputs": [],
   "source": [
    "dic = {'name':'yong', 'phone': 1031776475, 'birth': 1222}"
   ]
  },
  {
   "cell_type": "code",
   "execution_count": 134,
   "id": "96b88577",
   "metadata": {},
   "outputs": [
    {
     "name": "stdout",
     "output_type": "stream",
     "text": [
      "{'name': 'yong', 'phone': 1031776475, 'birth': 1222}\n"
     ]
    }
   ],
   "source": [
    "print(dic)"
   ]
  },
  {
   "cell_type": "code",
   "execution_count": 135,
   "id": "b6bd0414",
   "metadata": {},
   "outputs": [],
   "source": [
    "a = { 1: 'a', 2:'b'}"
   ]
  },
  {
   "cell_type": "code",
   "execution_count": 136,
   "id": "3799aff3",
   "metadata": {},
   "outputs": [
    {
     "name": "stdout",
     "output_type": "stream",
     "text": [
      "{1: 'a', 2: 'b'}\n"
     ]
    }
   ],
   "source": [
    "print(a)"
   ]
  },
  {
   "cell_type": "code",
   "execution_count": 137,
   "id": "088444be",
   "metadata": {},
   "outputs": [],
   "source": [
    "a['name'] = 'ad'"
   ]
  },
  {
   "cell_type": "code",
   "execution_count": 138,
   "id": "2761f766",
   "metadata": {},
   "outputs": [
    {
     "name": "stdout",
     "output_type": "stream",
     "text": [
      "{1: 'a', 2: 'b', 'name': 'ad'}\n"
     ]
    }
   ],
   "source": [
    "print(a)"
   ]
  },
  {
   "cell_type": "code",
   "execution_count": 139,
   "id": "0f301fcb",
   "metadata": {},
   "outputs": [],
   "source": [
    "a[3] = [1,2,3]"
   ]
  },
  {
   "cell_type": "code",
   "execution_count": 140,
   "id": "7423a3ff",
   "metadata": {},
   "outputs": [
    {
     "name": "stdout",
     "output_type": "stream",
     "text": [
      "{1: 'a', 2: 'b', 'name': 'ad', 3: [1, 2, 3]}\n"
     ]
    }
   ],
   "source": [
    "print(a)"
   ]
  },
  {
   "cell_type": "markdown",
   "id": "179acdb8",
   "metadata": {},
   "source": [
    "함수를 만들어서 키와 값으로 활용하기 예제"
   ]
  },
  {
   "cell_type": "code",
   "execution_count": 143,
   "id": "6088bff6",
   "metadata": {},
   "outputs": [],
   "source": [
    "def add(a, b):\n",
    "    return a+b\n",
    "def sub(a, b):\n",
    "    return a-b\n",
    "\n",
    "action = {0:add, 1:sub}"
   ]
  },
  {
   "cell_type": "code",
   "execution_count": 145,
   "id": "d194a08c",
   "metadata": {},
   "outputs": [
    {
     "data": {
      "text/plain": [
       "5"
      ]
     },
     "execution_count": 145,
     "metadata": {},
     "output_type": "execute_result"
    }
   ],
   "source": [
    "action[0](2,3)"
   ]
  },
  {
   "cell_type": "markdown",
   "id": "c3b3f538",
   "metadata": {},
   "source": [
    " - 0번 키를 호출, 값에 2, 3을 대입한 결과 출력"
   ]
  },
  {
   "cell_type": "markdown",
   "id": "28fe78ab",
   "metadata": {},
   "source": [
    "딕셔너리를 만드는 다른 방법(함수)"
   ]
  },
  {
   "cell_type": "code",
   "execution_count": 146,
   "id": "c2674ccf",
   "metadata": {},
   "outputs": [],
   "source": [
    "a = dict(one=1, two=2)"
   ]
  },
  {
   "cell_type": "code",
   "execution_count": 147,
   "id": "cee15810",
   "metadata": {},
   "outputs": [
    {
     "name": "stdout",
     "output_type": "stream",
     "text": [
      "{'one': 1, 'two': 2}\n"
     ]
    }
   ],
   "source": [
    "print(a)"
   ]
  },
  {
   "cell_type": "code",
   "execution_count": 149,
   "id": "9b2cb033",
   "metadata": {},
   "outputs": [],
   "source": [
    "b = dict([('one',1), ('two',2)])"
   ]
  },
  {
   "cell_type": "code",
   "execution_count": 150,
   "id": "28dbc045",
   "metadata": {},
   "outputs": [
    {
     "name": "stdout",
     "output_type": "stream",
     "text": [
      "{'one': 1, 'two': 2}\n"
     ]
    }
   ],
   "source": [
    "print(b)"
   ]
  },
  {
   "cell_type": "code",
   "execution_count": 190,
   "id": "896cf3e9",
   "metadata": {},
   "outputs": [
    {
     "ename": "SyntaxError",
     "evalue": "expression cannot contain assignment, perhaps you meant \"==\"? (<ipython-input-190-ec4e2aaba7a1>, line 1)",
     "output_type": "error",
     "traceback": [
      "\u001b[1;36m  File \u001b[1;32m\"<ipython-input-190-ec4e2aaba7a1>\"\u001b[1;36m, line \u001b[1;32m1\u001b[0m\n\u001b[1;33m    al = dict(1='one', two=2)\u001b[0m\n\u001b[1;37m              ^\u001b[0m\n\u001b[1;31mSyntaxError\u001b[0m\u001b[1;31m:\u001b[0m expression cannot contain assignment, perhaps you meant \"==\"?\n"
     ]
    }
   ],
   "source": [
    "al = dict(1='one', two=2)"
   ]
  },
  {
   "cell_type": "markdown",
   "id": "97ea630a",
   "metadata": {},
   "source": [
    "- dict() 함수는 '키워드 인수'를 사용하기 때문에 키가 문자열일 경우 동작"
   ]
  },
  {
   "cell_type": "code",
   "execution_count": 153,
   "id": "7bfc556d",
   "metadata": {},
   "outputs": [],
   "source": [
    "c = dict([['one',1],['two',2]])"
   ]
  },
  {
   "cell_type": "code",
   "execution_count": 154,
   "id": "ba3431dc",
   "metadata": {},
   "outputs": [
    {
     "name": "stdout",
     "output_type": "stream",
     "text": [
      "{'one': 1, 'two': 2}\n"
     ]
    }
   ],
   "source": [
    "print(c)"
   ]
  },
  {
   "cell_type": "code",
   "execution_count": 156,
   "id": "11de7a5c",
   "metadata": {},
   "outputs": [],
   "source": [
    "keys = ['one','two','three']\n",
    "values = (1,2,3)\n",
    "zip(keys, values)\n",
    "d = dict(zip(keys, values))"
   ]
  },
  {
   "cell_type": "code",
   "execution_count": 157,
   "id": "dda0e910",
   "metadata": {},
   "outputs": [
    {
     "name": "stdout",
     "output_type": "stream",
     "text": [
      "{'one': 1, 'two': 2, 'three': 3}\n"
     ]
    }
   ],
   "source": [
    "print(d)"
   ]
  },
  {
   "cell_type": "markdown",
   "id": "a52db7f7",
   "metadata": {},
   "source": [
    "실제로는 첫번째랑 마지막 방법이 자주 사용"
   ]
  },
  {
   "cell_type": "markdown",
   "id": "07d6f230",
   "metadata": {},
   "source": [
    "딕셔너리 키 제거 예제"
   ]
  },
  {
   "cell_type": "code",
   "execution_count": 158,
   "id": "e3b5325d",
   "metadata": {},
   "outputs": [],
   "source": [
    "a = {1:'a', 2:'b','name':'yong', 3:[1,2,3]}"
   ]
  },
  {
   "cell_type": "code",
   "execution_count": 159,
   "id": "a46c118d",
   "metadata": {},
   "outputs": [
    {
     "name": "stdout",
     "output_type": "stream",
     "text": [
      "{1: 'a', 2: 'b', 'name': 'yong', 3: [1, 2, 3]}\n"
     ]
    }
   ],
   "source": [
    "print(a)"
   ]
  },
  {
   "cell_type": "code",
   "execution_count": 160,
   "id": "ad1019a8",
   "metadata": {},
   "outputs": [],
   "source": [
    "del a[1]"
   ]
  },
  {
   "cell_type": "code",
   "execution_count": 161,
   "id": "b16aa00d",
   "metadata": {},
   "outputs": [
    {
     "name": "stdout",
     "output_type": "stream",
     "text": [
      "{2: 'b', 'name': 'yong', 3: [1, 2, 3]}\n"
     ]
    }
   ],
   "source": [
    "print(a)"
   ]
  },
  {
   "cell_type": "raw",
   "id": "31ae476a",
   "metadata": {},
   "source": [
    "딕셔너리에서 키를 이용하여 값을 얻기 예제"
   ]
  },
  {
   "cell_type": "code",
   "execution_count": 162,
   "id": "90fe50cb",
   "metadata": {},
   "outputs": [],
   "source": [
    "a = {1:'a', 2:'b'}"
   ]
  },
  {
   "cell_type": "code",
   "execution_count": 164,
   "id": "94bad02f",
   "metadata": {},
   "outputs": [
    {
     "name": "stdout",
     "output_type": "stream",
     "text": [
      "a\n"
     ]
    }
   ],
   "source": [
    "print(a[1])"
   ]
  },
  {
   "cell_type": "markdown",
   "id": "49ff5ddf",
   "metadata": {},
   "source": [
    "키 리스트 만들기 예제"
   ]
  },
  {
   "cell_type": "code",
   "execution_count": 166,
   "id": "2ab055fb",
   "metadata": {},
   "outputs": [],
   "source": [
    "a = {'name':'yong', 'phone': 1031776475, 'birth': 1222}"
   ]
  },
  {
   "cell_type": "code",
   "execution_count": 168,
   "id": "e9d7c404",
   "metadata": {},
   "outputs": [
    {
     "name": "stdout",
     "output_type": "stream",
     "text": [
      "dict_keys(['name', 'phone', 'birth'])\n"
     ]
    }
   ],
   "source": [
    "print(a.keys())"
   ]
  },
  {
   "cell_type": "code",
   "execution_count": 171,
   "id": "b961ab09",
   "metadata": {},
   "outputs": [
    {
     "name": "stdout",
     "output_type": "stream",
     "text": [
      "<class 'dict_keys'>\n"
     ]
    }
   ],
   "source": [
    "print(type(a.keys()))"
   ]
  },
  {
   "cell_type": "code",
   "execution_count": 172,
   "id": "34dbeea3",
   "metadata": {},
   "outputs": [],
   "source": [
    "b = list(a.keys())"
   ]
  },
  {
   "cell_type": "code",
   "execution_count": 173,
   "id": "99b79972",
   "metadata": {},
   "outputs": [
    {
     "name": "stdout",
     "output_type": "stream",
     "text": [
      "['name', 'phone', 'birth']\n"
     ]
    }
   ],
   "source": [
    "print(b)"
   ]
  },
  {
   "cell_type": "code",
   "execution_count": 174,
   "id": "b7059099",
   "metadata": {},
   "outputs": [
    {
     "name": "stdout",
     "output_type": "stream",
     "text": [
      "name\n",
      "phone\n",
      "birth\n"
     ]
    }
   ],
   "source": [
    "for k in a.keys():\n",
    "    print(k)"
   ]
  },
  {
   "cell_type": "code",
   "execution_count": 175,
   "id": "42291f48",
   "metadata": {},
   "outputs": [
    {
     "name": "stdout",
     "output_type": "stream",
     "text": [
      "yong\n",
      "1031776475\n",
      "1222\n"
     ]
    }
   ],
   "source": [
    "for k in a.values():\n",
    "    print(k)"
   ]
  },
  {
   "cell_type": "code",
   "execution_count": 176,
   "id": "37ce7423",
   "metadata": {},
   "outputs": [
    {
     "name": "stdout",
     "output_type": "stream",
     "text": [
      "dict_items([('name', 'yong'), ('phone', 1031776475), ('birth', 1222)])\n"
     ]
    }
   ],
   "source": [
    "print(a.items())"
   ]
  },
  {
   "cell_type": "markdown",
   "id": "76bce5f6",
   "metadata": {},
   "source": [
    "키를 이용하여 값 출력하기\n",
    " - get을 입력했는데 없으면 none, 그냥 값 출력했는데 없으면 오류"
   ]
  },
  {
   "cell_type": "code",
   "execution_count": 177,
   "id": "2d098fa1",
   "metadata": {},
   "outputs": [],
   "source": [
    "a = {'name':'yong', 'phone': 1031776475, 'birth': 1222}"
   ]
  },
  {
   "cell_type": "code",
   "execution_count": 178,
   "id": "09185fef",
   "metadata": {},
   "outputs": [
    {
     "name": "stdout",
     "output_type": "stream",
     "text": [
      "yong\n"
     ]
    }
   ],
   "source": [
    "print(a.get('name'))"
   ]
  },
  {
   "cell_type": "code",
   "execution_count": 179,
   "id": "1b1e6d4d",
   "metadata": {},
   "outputs": [
    {
     "name": "stdout",
     "output_type": "stream",
     "text": [
      "1031776475\n"
     ]
    }
   ],
   "source": [
    "print(a.get('phone'))"
   ]
  },
  {
   "cell_type": "markdown",
   "id": "5b3d2d57",
   "metadata": {},
   "source": [
    "get함수 사용과 미사용 차이 "
   ]
  },
  {
   "cell_type": "code",
   "execution_count": 180,
   "id": "797c16c1",
   "metadata": {},
   "outputs": [],
   "source": [
    "a = {'name':'yong', 'phone': 1031776475, 'birth': 1222}"
   ]
  },
  {
   "cell_type": "code",
   "execution_count": 182,
   "id": "4b37e2d5",
   "metadata": {},
   "outputs": [
    {
     "name": "stdout",
     "output_type": "stream",
     "text": [
      "None\n"
     ]
    }
   ],
   "source": [
    "print(a.get('nonekey'))"
   ]
  },
  {
   "cell_type": "code",
   "execution_count": 183,
   "id": "895b438e",
   "metadata": {},
   "outputs": [
    {
     "ename": "KeyError",
     "evalue": "'nonekey'",
     "output_type": "error",
     "traceback": [
      "\u001b[1;31m---------------------------------------------------------------------------\u001b[0m",
      "\u001b[1;31mKeyError\u001b[0m                                  Traceback (most recent call last)",
      "\u001b[1;32m<ipython-input-183-fdd517011fb1>\u001b[0m in \u001b[0;36m<module>\u001b[1;34m\u001b[0m\n\u001b[1;32m----> 1\u001b[1;33m \u001b[0mprint\u001b[0m\u001b[1;33m(\u001b[0m\u001b[0ma\u001b[0m\u001b[1;33m[\u001b[0m\u001b[1;34m'nonekey'\u001b[0m\u001b[1;33m]\u001b[0m\u001b[1;33m)\u001b[0m\u001b[1;33m\u001b[0m\u001b[1;33m\u001b[0m\u001b[0m\n\u001b[0m",
      "\u001b[1;31mKeyError\u001b[0m: 'nonekey'"
     ]
    }
   ],
   "source": [
    "print(a['nonekey'])"
   ]
  },
  {
   "cell_type": "markdown",
   "id": "c82fee84",
   "metadata": {},
   "source": [
    "딕셔너리 안에 키가 없는 경우 디폴트 값 가져오기"
   ]
  },
  {
   "cell_type": "code",
   "execution_count": 184,
   "id": "66ba7d0a",
   "metadata": {},
   "outputs": [],
   "source": [
    "a = {'name':'yong', 'phone': 1031776475, 'birth': 1222}"
   ]
  },
  {
   "cell_type": "code",
   "execution_count": 185,
   "id": "7de946a0",
   "metadata": {},
   "outputs": [
    {
     "name": "stdout",
     "output_type": "stream",
     "text": [
      "None\n"
     ]
    }
   ],
   "source": [
    "print(a.get('foo'))"
   ]
  },
  {
   "cell_type": "code",
   "execution_count": 186,
   "id": "8855cb05",
   "metadata": {},
   "outputs": [
    {
     "name": "stdout",
     "output_type": "stream",
     "text": [
      "bar\n"
     ]
    }
   ],
   "source": [
    "print(a.get('foo','bar'))"
   ]
  },
  {
   "cell_type": "markdown",
   "id": "0b39c23f",
   "metadata": {},
   "source": [
    "해당 키의 존재 유무 예제"
   ]
  },
  {
   "cell_type": "code",
   "execution_count": 187,
   "id": "ee118af5",
   "metadata": {},
   "outputs": [],
   "source": [
    "a = {'name':'yong', 'phone': 1031776475, 'birth': 1222}"
   ]
  },
  {
   "cell_type": "code",
   "execution_count": 188,
   "id": "a969aa63",
   "metadata": {},
   "outputs": [
    {
     "name": "stdout",
     "output_type": "stream",
     "text": [
      "True\n"
     ]
    }
   ],
   "source": [
    "print('name' in a)"
   ]
  },
  {
   "cell_type": "code",
   "execution_count": 189,
   "id": "36a51602",
   "metadata": {},
   "outputs": [
    {
     "name": "stdout",
     "output_type": "stream",
     "text": [
      "False\n"
     ]
    }
   ],
   "source": [
    "print('email' in a)"
   ]
  },
  {
   "cell_type": "markdown",
   "id": "94c7a214",
   "metadata": {},
   "source": [
    "집합\n",
    "- 여러 값을 순서 없이 그리고 중복 없이 모아 놓은 자료형\n",
    "\n",
    "집합 생성 예제"
   ]
  },
  {
   "cell_type": "code",
   "execution_count": 191,
   "id": "7f5cad32",
   "metadata": {},
   "outputs": [],
   "source": [
    "s1 = set([1,2,3])"
   ]
  },
  {
   "cell_type": "code",
   "execution_count": 192,
   "id": "62b8d2ba",
   "metadata": {},
   "outputs": [
    {
     "name": "stdout",
     "output_type": "stream",
     "text": [
      "{1, 2, 3}\n"
     ]
    }
   ],
   "source": [
    "print(s1)"
   ]
  },
  {
   "cell_type": "code",
   "execution_count": 193,
   "id": "f232258d",
   "metadata": {},
   "outputs": [
    {
     "name": "stdout",
     "output_type": "stream",
     "text": [
      "<class 'set'>\n"
     ]
    }
   ],
   "source": [
    "print(type(s1))"
   ]
  },
  {
   "cell_type": "code",
   "execution_count": 194,
   "id": "c0171d0b",
   "metadata": {},
   "outputs": [],
   "source": [
    "s2 = set(\"Hello\")"
   ]
  },
  {
   "cell_type": "code",
   "execution_count": 195,
   "id": "4575febd",
   "metadata": {},
   "outputs": [
    {
     "name": "stdout",
     "output_type": "stream",
     "text": [
      "{'H', 'o', 'e', 'l'}\n"
     ]
    }
   ],
   "source": [
    "print(s2)"
   ]
  },
  {
   "cell_type": "code",
   "execution_count": 196,
   "id": "74e5dbfe",
   "metadata": {},
   "outputs": [],
   "source": [
    "s3 = set((1,2,3))"
   ]
  },
  {
   "cell_type": "code",
   "execution_count": 197,
   "id": "6d5abcd4",
   "metadata": {},
   "outputs": [
    {
     "name": "stdout",
     "output_type": "stream",
     "text": [
      "<class 'set'>\n"
     ]
    }
   ],
   "source": [
    "print(type(s3))"
   ]
  },
  {
   "cell_type": "markdown",
   "id": "cb8ce155",
   "metadata": {},
   "source": [
    "집합은 순서 x 중복 x "
   ]
  },
  {
   "cell_type": "markdown",
   "id": "4ca013a3",
   "metadata": {},
   "source": [
    "교집합 예제"
   ]
  },
  {
   "cell_type": "code",
   "execution_count": 203,
   "id": "e7748028",
   "metadata": {},
   "outputs": [],
   "source": [
    "s1 = set([1,2,3,4,5,6])\n",
    "s2 = set([4,5,6,7,8,9])"
   ]
  },
  {
   "cell_type": "code",
   "execution_count": 207,
   "id": "1622f4b1",
   "metadata": {},
   "outputs": [
    {
     "name": "stdout",
     "output_type": "stream",
     "text": [
      "{4, 5, 6}\n",
      "{4, 5, 6}\n"
     ]
    }
   ],
   "source": [
    "print(s1&s2)\n",
    "print(s1.intersection(s2))"
   ]
  },
  {
   "cell_type": "markdown",
   "id": "75ff7207",
   "metadata": {},
   "source": [
    "합집합 예제"
   ]
  },
  {
   "cell_type": "code",
   "execution_count": 208,
   "id": "aa0681cb",
   "metadata": {},
   "outputs": [
    {
     "name": "stdout",
     "output_type": "stream",
     "text": [
      "{1, 2, 3, 4, 5, 6, 7, 8, 9}\n",
      "{1, 2, 3, 4, 5, 6, 7, 8, 9}\n"
     ]
    }
   ],
   "source": [
    "print(s1|s2)\n",
    "print(s1.union(s2))"
   ]
  },
  {
   "cell_type": "markdown",
   "id": "28c43213",
   "metadata": {},
   "source": [
    "차집합 예제"
   ]
  },
  {
   "cell_type": "code",
   "execution_count": 211,
   "id": "4ee3c13c",
   "metadata": {},
   "outputs": [
    {
     "name": "stdout",
     "output_type": "stream",
     "text": [
      "{1, 2, 3}\n",
      "{1, 2, 3}\n"
     ]
    }
   ],
   "source": [
    "print(s1-s2)\n",
    "print(s1.difference(s2))"
   ]
  },
  {
   "cell_type": "markdown",
   "id": "818638bf",
   "metadata": {},
   "source": [
    "집합에 값 1개 추가하기 예제"
   ]
  },
  {
   "cell_type": "code",
   "execution_count": 212,
   "id": "f7a2c670",
   "metadata": {},
   "outputs": [],
   "source": [
    "s1 = set([1, 2, 3])"
   ]
  },
  {
   "cell_type": "code",
   "execution_count": 213,
   "id": "1bc92dcd",
   "metadata": {},
   "outputs": [],
   "source": [
    "s1.add(4)"
   ]
  },
  {
   "cell_type": "code",
   "execution_count": 216,
   "id": "dc0a2cba",
   "metadata": {},
   "outputs": [
    {
     "name": "stdout",
     "output_type": "stream",
     "text": [
      "{1, 2, 3, 4}\n"
     ]
    }
   ],
   "source": [
    "print(s1)"
   ]
  },
  {
   "cell_type": "markdown",
   "id": "7c951c12",
   "metadata": {},
   "source": [
    "집합에 값 여러개 추가하기 예제"
   ]
  },
  {
   "cell_type": "code",
   "execution_count": 217,
   "id": "fba08aab",
   "metadata": {},
   "outputs": [],
   "source": [
    "s2 = set([1, 2, 3])"
   ]
  },
  {
   "cell_type": "code",
   "execution_count": 219,
   "id": "8f6c7243",
   "metadata": {},
   "outputs": [],
   "source": [
    "s2.update([4,5,6])"
   ]
  },
  {
   "cell_type": "code",
   "execution_count": 221,
   "id": "013ae1f1",
   "metadata": {},
   "outputs": [
    {
     "name": "stdout",
     "output_type": "stream",
     "text": [
      "{1, 2, 3, 4, 5, 6}\n"
     ]
    }
   ],
   "source": [
    "print(s2)"
   ]
  },
  {
   "cell_type": "markdown",
   "id": "4777969f",
   "metadata": {},
   "source": [
    "집합에 특정 값 제거 예제"
   ]
  },
  {
   "cell_type": "code",
   "execution_count": 222,
   "id": "379cbe0b",
   "metadata": {},
   "outputs": [],
   "source": [
    "s3 = set([1, 2, 3])"
   ]
  },
  {
   "cell_type": "code",
   "execution_count": 223,
   "id": "98b0eff9",
   "metadata": {},
   "outputs": [],
   "source": [
    "s3.remove(3)"
   ]
  },
  {
   "cell_type": "code",
   "execution_count": 224,
   "id": "28a32317",
   "metadata": {},
   "outputs": [
    {
     "name": "stdout",
     "output_type": "stream",
     "text": [
      "{1, 2}\n"
     ]
    }
   ],
   "source": [
    "print(s3)"
   ]
  },
  {
   "cell_type": "markdown",
   "id": "8ea7009e",
   "metadata": {},
   "source": [
    "논리 연산자와 비교 연산자를 함께 사용하기 예제"
   ]
  },
  {
   "cell_type": "code",
   "execution_count": 226,
   "id": "9feb0857",
   "metadata": {},
   "outputs": [
    {
     "name": "stdout",
     "output_type": "stream",
     "text": [
      "True\n"
     ]
    }
   ],
   "source": [
    "print(10 == 10)"
   ]
  },
  {
   "cell_type": "code",
   "execution_count": 227,
   "id": "ef100a18",
   "metadata": {},
   "outputs": [
    {
     "name": "stdout",
     "output_type": "stream",
     "text": [
      "False\n"
     ]
    }
   ],
   "source": [
    "print(5==10)"
   ]
  },
  {
   "cell_type": "code",
   "execution_count": 231,
   "id": "60c63579",
   "metadata": {},
   "outputs": [
    {
     "name": "stdout",
     "output_type": "stream",
     "text": [
      "True\n",
      "True\n"
     ]
    }
   ],
   "source": [
    "print(10==10 & 10 !=5)\n",
    "print(10==10 and 10 !=5)"
   ]
  },
  {
   "cell_type": "markdown",
   "id": "1b6788d5",
   "metadata": {},
   "source": [
    "and는 둘 다 참이라 참이라는 결과 출력"
   ]
  },
  {
   "cell_type": "code",
   "execution_count": 240,
   "id": "856c0b51",
   "metadata": {},
   "outputs": [
    {
     "name": "stdout",
     "output_type": "stream",
     "text": [
      "True\n",
      "True\n"
     ]
    }
   ],
   "source": [
    "print((10>5) or (12<4))\n",
    "print((10>5) | (12<4))"
   ]
  },
  {
   "cell_type": "markdown",
   "id": "a3599528",
   "metadata": {},
   "source": [
    "or는 하나라도 참이면 참 출력"
   ]
  },
  {
   "cell_type": "code",
   "execution_count": 241,
   "id": "3ae9965d",
   "metadata": {},
   "outputs": [
    {
     "name": "stdout",
     "output_type": "stream",
     "text": [
      "True\n"
     ]
    }
   ],
   "source": [
    "print(not 10<5)"
   ]
  },
  {
   "cell_type": "markdown",
   "id": "881b79fa",
   "metadata": {},
   "source": [
    "not은 결과를 뒤집음"
   ]
  },
  {
   "cell_type": "markdown",
   "id": "f3893be7",
   "metadata": {},
   "source": [
    "## 제어문"
   ]
  },
  {
   "cell_type": "markdown",
   "id": "675147a2",
   "metadata": {},
   "source": [
    "if문 예제 <br>\n",
    "if문 조건에 0이 들어가면 false 0 이외의 수는 Ture String은 무조건 참"
   ]
  },
  {
   "cell_type": "code",
   "execution_count": 242,
   "id": "2717100e",
   "metadata": {},
   "outputs": [
    {
     "name": "stdout",
     "output_type": "stream",
     "text": [
      "택시타\n"
     ]
    }
   ],
   "source": [
    "money = True\n",
    "if (money == True):\n",
    "    print(\"택시타\")\n",
    "else :\n",
    "    print(\"걸어가\")"
   ]
  },
  {
   "cell_type": "markdown",
   "id": "4f74dc03",
   "metadata": {},
   "source": [
    "pass 예제"
   ]
  },
  {
   "cell_type": "code",
   "execution_count": 244,
   "id": "3d1abe2a",
   "metadata": {},
   "outputs": [],
   "source": [
    "pocket = ['paper', 'money', 'cellphone']\n",
    "if 'money' in pocket:\n",
    "    pass\n",
    "else:\n",
    "    print(\"카드를 꺼내라\")"
   ]
  },
  {
   "cell_type": "markdown",
   "id": "f3c756bb",
   "metadata": {},
   "source": [
    "pass 응용 예제"
   ]
  },
  {
   "cell_type": "code",
   "execution_count": 250,
   "id": "5df40eb6",
   "metadata": {},
   "outputs": [
    {
     "name": "stdout",
     "output_type": "stream",
     "text": [
      "현금을 꺼내라\n",
      "종이를 꺼내라\n"
     ]
    }
   ],
   "source": [
    "pocket = ['paper', 'money', 'cellphone']\n",
    "if 'money' in pocket:\n",
    "    print(\"현금을 꺼내라\")\n",
    "    pass\n",
    "    print(\"종이를 꺼내라\")\n",
    "else:\n",
    "    print(\"카드를 꺼내라\")"
   ]
  },
  {
   "cell_type": "markdown",
   "id": "79a07cf0",
   "metadata": {},
   "source": [
    "- 코드 중간에 pass 구문이 있어도 전체 코드가 실행됨"
   ]
  },
  {
   "cell_type": "markdown",
   "id": "f8f04292",
   "metadata": {},
   "source": [
    "elif 구문 예제"
   ]
  },
  {
   "cell_type": "code",
   "execution_count": 251,
   "id": "c868c29b",
   "metadata": {},
   "outputs": [
    {
     "name": "stdout",
     "output_type": "stream",
     "text": [
      "택시 ㄱ 카드 ㄱ\n"
     ]
    }
   ],
   "source": [
    "pocket = ['paper', 'cellphone']\n",
    "card = True\n",
    "if 'money' in pocket:\n",
    "    print(\"택시 ㄱ\")\n",
    "else:\n",
    "    if card:\n",
    "        print(\"택시 ㄱ 카드 ㄱ\")\n",
    "    else:\n",
    "        print(\"걸어가\")"
   ]
  },
  {
   "cell_type": "markdown",
   "id": "efc6cbf6",
   "metadata": {},
   "source": [
    "문자열이 들어가면 기본적으로 True임 <br>\n",
    "예를 들어 if 'string' : 이면 무조건 if문안으로 들어온다는 뜻"
   ]
  },
  {
   "cell_type": "markdown",
   "id": "6aa30840",
   "metadata": {},
   "source": [
    "## while문"
   ]
  },
  {
   "cell_type": "code",
   "execution_count": 253,
   "id": "ce06db63",
   "metadata": {},
   "outputs": [
    {
     "name": "stdout",
     "output_type": "stream",
     "text": [
      "반복문 0회 동작\n",
      "반복문 1회 동작\n",
      "반복문 2회 동작\n",
      "반복문 3회 동작\n",
      "반복문 4회 동작\n",
      "반복문 5회 동작\n",
      "반복문 6회 동작\n",
      "반복문 7회 동작\n",
      "반복문 8회 동작\n",
      "반복문 9회 동작\n"
     ]
    }
   ],
   "source": [
    "i = 0\n",
    "while i<10:\n",
    "    print(\"반복문 %d회 동작\" %i)\n",
    "    i += 1"
   ]
  },
  {
   "cell_type": "markdown",
   "id": "8ec36e8b",
   "metadata": {},
   "source": [
    "Break 문 사용"
   ]
  },
  {
   "cell_type": "code",
   "execution_count": 4,
   "id": "d1710561",
   "metadata": {},
   "outputs": [
    {
     "name": "stdout",
     "output_type": "stream",
     "text": [
      "커피의 개수10\n",
      "내 재산5000\n",
      "돈 차감하고 커피 주문\n",
      "남은 커피 양은 9 입니다\n",
      "돈 차감하고 커피 주문\n",
      "남은 커피 양은 8 입니다\n",
      "돈 차감하고 커피 주문\n",
      "남은 커피 양은 7 입니다\n",
      "돈 차감하고 커피 주문\n",
      "남은 커피 양은 6 입니다\n",
      "돈 차감하고 커피 주문\n",
      "남은 커피 양은 5 입니다\n",
      "돈 차감하고 커피 주문\n",
      "남은 커피 양은 4 입니다\n",
      "돈 차감하고 커피 주문\n",
      "남은 커피 양은 3 입니다\n",
      "돈 차감하고 커피 주문\n",
      "남은 커피 양은 2 입니다\n",
      "돈 차감하고 커피 주문\n",
      "남은 커피 양은 1 입니다\n",
      "돈 차감하고 커피 주문\n",
      "남은 커피 양은 0 입니다\n",
      "커피 재고 소진\n"
     ]
    }
   ],
   "source": [
    "coffee =int(input(\"커피의 개수\"))\n",
    "money = int(input(\"내 재산\"))\n",
    "while money:\n",
    "    print(\"돈 차감하고 커피 주문\")\n",
    "    coffee -= 1\n",
    "    print(\"남은 커피 양은 %d 입니다\" %coffee)\n",
    "    money -= 50\n",
    "    if not coffee:\n",
    "        print(\"커피 재고 소진\")\n",
    "        break\n",
    "    if not money:\n",
    "        print(\"커피 살 돈 없음\")\n",
    "        break\n",
    "        \n",
    "    "
   ]
  },
  {
   "cell_type": "markdown",
   "id": "026a5c2c",
   "metadata": {},
   "source": [
    "continue문 예제(2의 배수 넘기기)"
   ]
  },
  {
   "cell_type": "code",
   "execution_count": 6,
   "id": "9bc51bf4",
   "metadata": {},
   "outputs": [
    {
     "name": "stdout",
     "output_type": "stream",
     "text": [
      "1\n",
      "3\n",
      "5\n",
      "7\n",
      "9\n"
     ]
    }
   ],
   "source": [
    "a = 0\n",
    "while a <10:\n",
    "    a=a+1\n",
    "    if a%2==0:\n",
    "        continue\n",
    "    print(a)"
   ]
  },
  {
   "cell_type": "markdown",
   "id": "38cc2486",
   "metadata": {},
   "source": [
    "for <br>\n",
    "for문 예제 <br>\n",
    "리스트 내의 요소가 다 소모될 때 가지 반복"
   ]
  },
  {
   "cell_type": "code",
   "execution_count": 14,
   "id": "0ad30d67",
   "metadata": {},
   "outputs": [
    {
     "name": "stdout",
     "output_type": "stream",
     "text": [
      "one\n",
      "two\n",
      "three\n"
     ]
    }
   ],
   "source": [
    "test_list = ['one', 'two', 'three']\n",
    "for i in test_list:\n",
    "    print(i)"
   ]
  },
  {
   "cell_type": "markdown",
   "id": "b1b4fb52",
   "metadata": {},
   "source": [
    "리스트에 있는 처음 인덱스 만큼만 나옴"
   ]
  },
  {
   "cell_type": "code",
   "execution_count": 15,
   "id": "39e77145",
   "metadata": {},
   "outputs": [
    {
     "name": "stdout",
     "output_type": "stream",
     "text": [
      "3\n",
      "7\n",
      "11\n"
     ]
    }
   ],
   "source": [
    "a = [(1,2),(3,4),(5,6)]\n",
    "for (first, last) in a:\n",
    "    print(first+last)"
   ]
  },
  {
   "cell_type": "markdown",
   "id": "e71a27a2",
   "metadata": {},
   "source": [
    "for문의 응용\n",
    " - for + if"
   ]
  },
  {
   "cell_type": "code",
   "execution_count": 17,
   "id": "ec9c5f27",
   "metadata": {},
   "outputs": [
    {
     "name": "stdout",
     "output_type": "stream",
     "text": [
      "1번 학생 55점으로 불합격!\n",
      "2번 학생 65점으로 통과!\n",
      "3번 학생 70점으로 통과!\n",
      "4번 학생 90점으로 통과!\n",
      "5번 학생 33점으로 불합격!\n"
     ]
    }
   ],
   "source": [
    "test_score = [55, 65, 70, 90, 33]\n",
    "stu_num = 0\n",
    "for i in test_score:\n",
    "    stu_num += 1\n",
    "    if i> 60:\n",
    "        print(\"%d번 학생 %d점으로 통과!\" %(stu_num, i))\n",
    "    else:\n",
    "        print(\"%d번 학생 %d점으로 불합격!\" %(stu_num, i))"
   ]
  },
  {
   "cell_type": "markdown",
   "id": "9065055f",
   "metadata": {},
   "source": [
    "for문 예제 (continue)"
   ]
  },
  {
   "cell_type": "code",
   "execution_count": 18,
   "id": "c4fad43d",
   "metadata": {},
   "outputs": [
    {
     "name": "stdout",
     "output_type": "stream",
     "text": [
      "2번 학생 65점으로 통과!\n",
      "3번 학생 70점으로 통과!\n",
      "4번 학생 90점으로 통과!\n",
      "불합격 한 사람 명단은 나오지 않습니다\n"
     ]
    }
   ],
   "source": [
    "test_score = [55, 65, 70, 90, 33]\n",
    "stu_num = 0\n",
    "for i in test_score:\n",
    "    stu_num += 1\n",
    "    if i> 60:\n",
    "        print(\"%d번 학생 %d점으로 통과!\" %(stu_num, i))\n",
    "        continue\n",
    "print(\"불합격한 사람 명단은 나오지 않습니다\")"
   ]
  },
  {
   "cell_type": "markdown",
   "id": "d4316f4b",
   "metadata": {},
   "source": [
    "pass 구문 이용"
   ]
  },
  {
   "cell_type": "code",
   "execution_count": 19,
   "id": "71426001",
   "metadata": {},
   "outputs": [
    {
     "name": "stdout",
     "output_type": "stream",
     "text": [
      "2번 학생 65점으로 통과!\n",
      "3번 학생 70점으로 통과!\n",
      "4번 학생 90점으로 통과!\n",
      "불합격 한 사람 명단은 나오지 않습니다\n"
     ]
    }
   ],
   "source": [
    "test_score = [55, 65, 70, 90, 33]\n",
    "stu_num = 0\n",
    "for i in test_score:\n",
    "    stu_num += 1\n",
    "    if i< 60:\n",
    "        pass\n",
    "    else:\n",
    "        print(\"%d번 학생 %d점으로 통과!\" %(stu_num, i))\n",
    "print(\"불합격한 사람 명단은 나오지 않습니다\")"
   ]
  },
  {
   "cell_type": "markdown",
   "id": "a353ead6",
   "metadata": {},
   "source": [
    "range 예제"
   ]
  },
  {
   "cell_type": "code",
   "execution_count": 21,
   "id": "5d1d34fa",
   "metadata": {},
   "outputs": [
    {
     "name": "stdout",
     "output_type": "stream",
     "text": [
      "range(0, 10)\n"
     ]
    }
   ],
   "source": [
    "a = range(10)\n",
    "print(a)"
   ]
  },
  {
   "cell_type": "code",
   "execution_count": 22,
   "id": "c440fa49",
   "metadata": {},
   "outputs": [
    {
     "name": "stdout",
     "output_type": "stream",
     "text": [
      "[0, 1, 2, 3, 4, 5, 6, 7, 8, 9]\n"
     ]
    }
   ],
   "source": [
    "print(list(a))"
   ]
  },
  {
   "cell_type": "code",
   "execution_count": 23,
   "id": "53ff1b94",
   "metadata": {},
   "outputs": [
    {
     "name": "stdout",
     "output_type": "stream",
     "text": [
      "[1, 2, 3, 4, 5, 6, 7, 8, 9, 10]\n"
     ]
    }
   ],
   "source": [
    "a = range(1, 11)\n",
    "print(list(a))"
   ]
  },
  {
   "cell_type": "code",
   "execution_count": 24,
   "id": "0a582443",
   "metadata": {},
   "outputs": [
    {
     "name": "stdout",
     "output_type": "stream",
     "text": [
      "1\n",
      "2\n",
      "3\n",
      "4\n",
      "5\n",
      "6\n",
      "7\n",
      "8\n",
      "9\n",
      "10\n"
     ]
    }
   ],
   "source": [
    "for i in a:\n",
    "    print(i)"
   ]
  },
  {
   "cell_type": "markdown",
   "id": "d485e7a4",
   "metadata": {},
   "source": [
    "range()를 이용한 for 문 예제"
   ]
  },
  {
   "cell_type": "code",
   "execution_count": 29,
   "id": "ff8b82a3",
   "metadata": {},
   "outputs": [
    {
     "name": "stdout",
     "output_type": "stream",
     "text": [
      "2번 학생 65점으로 통과!\n",
      "3번 학생 70점으로 통과!\n",
      "4번 학생 90점으로 통과!\n",
      "불합격한 사람 명단은 나오지 않습니다\n"
     ]
    }
   ],
   "source": [
    "test_score = [55, 65, 70, 90, 33]\n",
    "stu_num = 0\n",
    "for i in range(len(test_score)):\n",
    "    stu_num += 1\n",
    "    if test_score[i]> 60:\n",
    "        print(\"%d번 학생 %d점으로 통과!\" %(stu_num, test_score[i]))\n",
    "        continue\n",
    "print(\"불합격한 사람 명단은 나오지 않습니다\")"
   ]
  },
  {
   "cell_type": "code",
   "execution_count": 5,
   "id": "04614133",
   "metadata": {},
   "outputs": [
    {
     "name": "stdout",
     "output_type": "stream",
     "text": [
      "2 4 6 8 10 12 14 16 18  \n",
      "3 6 9 12 15 18 21 24 27  \n",
      "4 8 12 16 20 24 28 32 36  \n",
      "5 10 15 20 25 30 35 40 45  \n",
      "6 12 18 24 30 36 42 48 54  \n",
      "7 14 21 28 35 42 49 "
     ]
    }
   ],
   "source": [
    "for i in range(2,10):\n",
    "    for j in range(1, 10):\n",
    "        a = i*j\n",
    "        print(i*j, end=\" \")\n",
    "        if a == 49 : break\n",
    "    if a == 49: break\n",
    "    print(' ')"
   ]
  },
  {
   "cell_type": "code",
   "execution_count": null,
   "id": "99aaacfe",
   "metadata": {},
   "outputs": [],
   "source": []
  }
 ],
 "metadata": {
  "kernelspec": {
   "display_name": "Python 3",
   "language": "python",
   "name": "python3"
  },
  "language_info": {
   "codemirror_mode": {
    "name": "ipython",
    "version": 3
   },
   "file_extension": ".py",
   "mimetype": "text/x-python",
   "name": "python",
   "nbconvert_exporter": "python",
   "pygments_lexer": "ipython3",
   "version": "3.8.8"
  }
 },
 "nbformat": 4,
 "nbformat_minor": 5
}
