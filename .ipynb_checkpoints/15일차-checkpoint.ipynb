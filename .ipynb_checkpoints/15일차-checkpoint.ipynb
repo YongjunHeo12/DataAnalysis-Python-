{
 "cells": [
  {
   "cell_type": "markdown",
   "id": "e628d948",
   "metadata": {},
   "source": [
    "# 데이터프레임의 구조\n",
    "- atuo-mpg.csv 데이터셋 사용\n",
    "- 열 -> mpg(연비), cylinders(실린더 수), displacement(배기량), horsepower(마력), weight(차중), acceleration(가속 능력), model_year(출시 년도), origin(제조국), model_name(모델 명) 순"
   ]
  },
  {
   "cell_type": "markdown",
   "id": "babb99c0",
   "metadata": {},
   "source": [
    "## 데이터프레임의 내용 확인\n",
    "- 앞부분 미리보기 : Df.head() or Df.head(n)\n",
    "- 뒷부분 미리보기 : Df.tail() or Df.tail(n)"
   ]
  },
  {
   "cell_type": "code",
   "execution_count": 18,
   "id": "0c9a7e84",
   "metadata": {},
   "outputs": [
    {
     "name": "stdout",
     "output_type": "stream",
     "text": [
      "        0  1      2      3       4     5   6  7                          8\n",
      "0    18.0  8  307.0  130.0  3504.0  12.0  70  1  chevrolet chevelle malibu\n",
      "1    15.0  8  350.0  165.0  3693.0  11.5  70  1          buick skylark 320\n",
      "2    18.0  8  318.0  150.0  3436.0  11.0  70  1         plymouth satellite\n",
      "3    16.0  8  304.0  150.0  3433.0  12.0  70  1              amc rebel sst\n",
      "4    17.0  8  302.0  140.0  3449.0  10.5  70  1                ford torino\n",
      "..    ... ..    ...    ...     ...   ...  .. ..                        ...\n",
      "393  27.0  4  140.0  86.00  2790.0  15.6  82  1            ford mustang gl\n",
      "394  44.0  4   97.0  52.00  2130.0  24.6  82  2                  vw pickup\n",
      "395  32.0  4  135.0  84.00  2295.0  11.6  82  1              dodge rampage\n",
      "396  28.0  4  120.0  79.00  2625.0  18.6  82  1                ford ranger\n",
      "397  31.0  4  119.0  82.00  2720.0  19.4  82  1                 chevy s-10\n",
      "\n",
      "[398 rows x 9 columns]\n"
     ]
    }
   ],
   "source": [
    "import pandas as pd \n",
    "\n",
    "auto = pd.read_csv('data/auto-mpg.csv', header= None)\n",
    "print(auto)"
   ]
  },
  {
   "cell_type": "code",
   "execution_count": 19,
   "id": "ffc7c794",
   "metadata": {},
   "outputs": [
    {
     "name": "stdout",
     "output_type": "stream",
     "text": [
      "<class 'pandas.core.frame.DataFrame'>\n",
      "RangeIndex: 398 entries, 0 to 397\n",
      "Data columns (total 9 columns):\n",
      " #   Column  Non-Null Count  Dtype  \n",
      "---  ------  --------------  -----  \n",
      " 0   0       398 non-null    float64\n",
      " 1   1       398 non-null    int64  \n",
      " 2   2       398 non-null    float64\n",
      " 3   3       398 non-null    object \n",
      " 4   4       398 non-null    float64\n",
      " 5   5       398 non-null    float64\n",
      " 6   6       398 non-null    int64  \n",
      " 7   7       398 non-null    int64  \n",
      " 8   8       398 non-null    object \n",
      "dtypes: float64(4), int64(3), object(2)\n",
      "memory usage: 28.1+ KB\n"
     ]
    }
   ],
   "source": [
    "auto.info()"
   ]
  },
  {
   "cell_type": "code",
   "execution_count": 20,
   "id": "b5f4325b",
   "metadata": {},
   "outputs": [],
   "source": [
    "auto.columns = ['mpg', 'cylinders', 'displacement', 'horespower', 'weight', 'acceleration', 'model_year', 'origin', 'model_name']"
   ]
  },
  {
   "cell_type": "code",
   "execution_count": 23,
   "id": "c1be684d",
   "metadata": {},
   "outputs": [
    {
     "data": {
      "text/html": [
       "<div>\n",
       "<style scoped>\n",
       "    .dataframe tbody tr th:only-of-type {\n",
       "        vertical-align: middle;\n",
       "    }\n",
       "\n",
       "    .dataframe tbody tr th {\n",
       "        vertical-align: top;\n",
       "    }\n",
       "\n",
       "    .dataframe thead th {\n",
       "        text-align: right;\n",
       "    }\n",
       "</style>\n",
       "<table border=\"1\" class=\"dataframe\">\n",
       "  <thead>\n",
       "    <tr style=\"text-align: right;\">\n",
       "      <th></th>\n",
       "      <th>mpg</th>\n",
       "      <th>cylinders</th>\n",
       "      <th>displacement</th>\n",
       "      <th>horespower</th>\n",
       "      <th>weight</th>\n",
       "      <th>acceleration</th>\n",
       "      <th>model_year</th>\n",
       "      <th>origin</th>\n",
       "      <th>model_name</th>\n",
       "    </tr>\n",
       "  </thead>\n",
       "  <tbody>\n",
       "    <tr>\n",
       "      <th>0</th>\n",
       "      <td>18.0</td>\n",
       "      <td>8</td>\n",
       "      <td>307.0</td>\n",
       "      <td>130.0</td>\n",
       "      <td>3504.0</td>\n",
       "      <td>12.0</td>\n",
       "      <td>70</td>\n",
       "      <td>1</td>\n",
       "      <td>chevrolet chevelle malibu</td>\n",
       "    </tr>\n",
       "    <tr>\n",
       "      <th>1</th>\n",
       "      <td>15.0</td>\n",
       "      <td>8</td>\n",
       "      <td>350.0</td>\n",
       "      <td>165.0</td>\n",
       "      <td>3693.0</td>\n",
       "      <td>11.5</td>\n",
       "      <td>70</td>\n",
       "      <td>1</td>\n",
       "      <td>buick skylark 320</td>\n",
       "    </tr>\n",
       "    <tr>\n",
       "      <th>2</th>\n",
       "      <td>18.0</td>\n",
       "      <td>8</td>\n",
       "      <td>318.0</td>\n",
       "      <td>150.0</td>\n",
       "      <td>3436.0</td>\n",
       "      <td>11.0</td>\n",
       "      <td>70</td>\n",
       "      <td>1</td>\n",
       "      <td>plymouth satellite</td>\n",
       "    </tr>\n",
       "    <tr>\n",
       "      <th>3</th>\n",
       "      <td>16.0</td>\n",
       "      <td>8</td>\n",
       "      <td>304.0</td>\n",
       "      <td>150.0</td>\n",
       "      <td>3433.0</td>\n",
       "      <td>12.0</td>\n",
       "      <td>70</td>\n",
       "      <td>1</td>\n",
       "      <td>amc rebel sst</td>\n",
       "    </tr>\n",
       "    <tr>\n",
       "      <th>4</th>\n",
       "      <td>17.0</td>\n",
       "      <td>8</td>\n",
       "      <td>302.0</td>\n",
       "      <td>140.0</td>\n",
       "      <td>3449.0</td>\n",
       "      <td>10.5</td>\n",
       "      <td>70</td>\n",
       "      <td>1</td>\n",
       "      <td>ford torino</td>\n",
       "    </tr>\n",
       "  </tbody>\n",
       "</table>\n",
       "</div>"
      ],
      "text/plain": [
       "    mpg  cylinders  displacement horespower  weight  acceleration  model_year  \\\n",
       "0  18.0          8         307.0      130.0  3504.0          12.0          70   \n",
       "1  15.0          8         350.0      165.0  3693.0          11.5          70   \n",
       "2  18.0          8         318.0      150.0  3436.0          11.0          70   \n",
       "3  16.0          8         304.0      150.0  3433.0          12.0          70   \n",
       "4  17.0          8         302.0      140.0  3449.0          10.5          70   \n",
       "\n",
       "   origin                 model_name  \n",
       "0       1  chevrolet chevelle malibu  \n",
       "1       1          buick skylark 320  \n",
       "2       1         plymouth satellite  \n",
       "3       1              amc rebel sst  \n",
       "4       1                ford torino  "
      ]
     },
     "execution_count": 23,
     "metadata": {},
     "output_type": "execute_result"
    }
   ],
   "source": [
    "auto.head()"
   ]
  },
  {
   "cell_type": "markdown",
   "id": "c54c91f2",
   "metadata": {},
   "source": [
    "# 데이터의 요약정보 확인하기\n",
    "## 데이터프레임의 크기 (행, 열)\n",
    "- 데이터프레임의 shape속성은 행과 열의 개수를 튜플 형태로 출력\n",
    "- Df.shape\n",
    "\n",
    "데이터 살펴보기 예제"
   ]
  },
  {
   "cell_type": "code",
   "execution_count": 24,
   "id": "0403ee05",
   "metadata": {},
   "outputs": [
    {
     "data": {
      "text/plain": [
       "(398, 9)"
      ]
     },
     "execution_count": 24,
     "metadata": {},
     "output_type": "execute_result"
    }
   ],
   "source": [
    "auto.shape"
   ]
  },
  {
   "cell_type": "markdown",
   "id": "ae7453b8",
   "metadata": {},
   "source": [
    "## 데이터프레임의 기본 정보\n",
    "- info() 함수를 데이터프레임에 적용하면 데이터프레임에 관한 기본 정보를 화면에 출력\n",
    " - 클래스 유형(판다스의 데이터프레임)\n",
    " - 행 인덱스 구성 \n",
    " - 데이터의 각 열들의 개수와 이름 null이 아닌 갯수와 데이터 타입\n",
    " - 각 데이터 타입의 개수\n",
    " - 메모리 사용량"
   ]
  },
  {
   "cell_type": "code",
   "execution_count": 25,
   "id": "a9e26ca8",
   "metadata": {},
   "outputs": [
    {
     "name": "stdout",
     "output_type": "stream",
     "text": [
      "<class 'pandas.core.frame.DataFrame'>\n",
      "RangeIndex: 398 entries, 0 to 397\n",
      "Data columns (total 9 columns):\n",
      " #   Column        Non-Null Count  Dtype  \n",
      "---  ------        --------------  -----  \n",
      " 0   mpg           398 non-null    float64\n",
      " 1   cylinders     398 non-null    int64  \n",
      " 2   displacement  398 non-null    float64\n",
      " 3   horespower    398 non-null    object \n",
      " 4   weight        398 non-null    float64\n",
      " 5   acceleration  398 non-null    float64\n",
      " 6   model_year    398 non-null    int64  \n",
      " 7   origin        398 non-null    int64  \n",
      " 8   model_name    398 non-null    object \n",
      "dtypes: float64(4), int64(3), object(2)\n",
      "memory usage: 28.1+ KB\n"
     ]
    }
   ],
   "source": [
    "auto.info()"
   ]
  },
  {
   "cell_type": "markdown",
   "id": "9c7ae226",
   "metadata": {},
   "source": [
    " - 판다스 자료형\n",
    "  - int64: 정수\n",
    "  - float64: 실수\n",
    "  - object :문자열\n",
    "  - datetime64, timedelta64: 시간\n",
    " - dtypes 속성에는 각 열에 대한 자료형의 개수가 포함"
   ]
  },
  {
   "cell_type": "markdown",
   "id": "d037b468",
   "metadata": {},
   "source": [
    "dtypes 속성을 활용하여 각 열의 자료형 확인 예제"
   ]
  },
  {
   "cell_type": "code",
   "execution_count": 29,
   "id": "4625d1b8",
   "metadata": {},
   "outputs": [
    {
     "data": {
      "text/plain": [
       "mpg             float64\n",
       "cylinders         int64\n",
       "displacement    float64\n",
       "horespower       object\n",
       "weight          float64\n",
       "acceleration    float64\n",
       "model_year        int64\n",
       "origin            int64\n",
       "model_name       object\n",
       "dtype: object"
      ]
     },
     "execution_count": 29,
     "metadata": {},
     "output_type": "execute_result"
    }
   ],
   "source": [
    "# 데이터프레임의 자료형 확인\n",
    "auto.dtypes"
   ]
  },
  {
   "cell_type": "code",
   "execution_count": 30,
   "id": "38c18a28",
   "metadata": {},
   "outputs": [
    {
     "name": "stdout",
     "output_type": "stream",
     "text": [
      "float64\n"
     ]
    }
   ],
   "source": [
    "# 데이터프레임의 특정 열(mpg)의 자료형 확인\n",
    "print(auto.mpg.dtypes)"
   ]
  },
  {
   "cell_type": "markdown",
   "id": "6db82040",
   "metadata": {},
   "source": [
    "## 데이터프레임의 기술 통계 정보 요약\n",
    "- 데이터프레임에 describe() 함수 적용시, 산술(숫자) 데이터를 갖는 열에 대한 주요 기술 통계 정보(평균, 표준편차, 최대값, 중간값 등)을 요약하여 출력<br>\n",
    "<code>데이터프레임의 기술 통계 정보 요약: Df.describe()</code>"
   ]
  },
  {
   "cell_type": "code",
   "execution_count": 32,
   "id": "a7e27fd5",
   "metadata": {},
   "outputs": [
    {
     "data": {
      "text/html": [
       "<div>\n",
       "<style scoped>\n",
       "    .dataframe tbody tr th:only-of-type {\n",
       "        vertical-align: middle;\n",
       "    }\n",
       "\n",
       "    .dataframe tbody tr th {\n",
       "        vertical-align: top;\n",
       "    }\n",
       "\n",
       "    .dataframe thead th {\n",
       "        text-align: right;\n",
       "    }\n",
       "</style>\n",
       "<table border=\"1\" class=\"dataframe\">\n",
       "  <thead>\n",
       "    <tr style=\"text-align: right;\">\n",
       "      <th></th>\n",
       "      <th>mpg</th>\n",
       "      <th>cylinders</th>\n",
       "      <th>displacement</th>\n",
       "      <th>weight</th>\n",
       "      <th>acceleration</th>\n",
       "      <th>model_year</th>\n",
       "      <th>origin</th>\n",
       "    </tr>\n",
       "  </thead>\n",
       "  <tbody>\n",
       "    <tr>\n",
       "      <th>count</th>\n",
       "      <td>398.000000</td>\n",
       "      <td>398.000000</td>\n",
       "      <td>398.000000</td>\n",
       "      <td>398.000000</td>\n",
       "      <td>398.000000</td>\n",
       "      <td>398.000000</td>\n",
       "      <td>398.000000</td>\n",
       "    </tr>\n",
       "    <tr>\n",
       "      <th>mean</th>\n",
       "      <td>23.514573</td>\n",
       "      <td>5.454774</td>\n",
       "      <td>193.425879</td>\n",
       "      <td>2970.424623</td>\n",
       "      <td>15.568090</td>\n",
       "      <td>76.010050</td>\n",
       "      <td>1.572864</td>\n",
       "    </tr>\n",
       "    <tr>\n",
       "      <th>std</th>\n",
       "      <td>7.815984</td>\n",
       "      <td>1.701004</td>\n",
       "      <td>104.269838</td>\n",
       "      <td>846.841774</td>\n",
       "      <td>2.757689</td>\n",
       "      <td>3.697627</td>\n",
       "      <td>0.802055</td>\n",
       "    </tr>\n",
       "    <tr>\n",
       "      <th>min</th>\n",
       "      <td>9.000000</td>\n",
       "      <td>3.000000</td>\n",
       "      <td>68.000000</td>\n",
       "      <td>1613.000000</td>\n",
       "      <td>8.000000</td>\n",
       "      <td>70.000000</td>\n",
       "      <td>1.000000</td>\n",
       "    </tr>\n",
       "    <tr>\n",
       "      <th>25%</th>\n",
       "      <td>17.500000</td>\n",
       "      <td>4.000000</td>\n",
       "      <td>104.250000</td>\n",
       "      <td>2223.750000</td>\n",
       "      <td>13.825000</td>\n",
       "      <td>73.000000</td>\n",
       "      <td>1.000000</td>\n",
       "    </tr>\n",
       "    <tr>\n",
       "      <th>50%</th>\n",
       "      <td>23.000000</td>\n",
       "      <td>4.000000</td>\n",
       "      <td>148.500000</td>\n",
       "      <td>2803.500000</td>\n",
       "      <td>15.500000</td>\n",
       "      <td>76.000000</td>\n",
       "      <td>1.000000</td>\n",
       "    </tr>\n",
       "    <tr>\n",
       "      <th>75%</th>\n",
       "      <td>29.000000</td>\n",
       "      <td>8.000000</td>\n",
       "      <td>262.000000</td>\n",
       "      <td>3608.000000</td>\n",
       "      <td>17.175000</td>\n",
       "      <td>79.000000</td>\n",
       "      <td>2.000000</td>\n",
       "    </tr>\n",
       "    <tr>\n",
       "      <th>max</th>\n",
       "      <td>46.600000</td>\n",
       "      <td>8.000000</td>\n",
       "      <td>455.000000</td>\n",
       "      <td>5140.000000</td>\n",
       "      <td>24.800000</td>\n",
       "      <td>82.000000</td>\n",
       "      <td>3.000000</td>\n",
       "    </tr>\n",
       "  </tbody>\n",
       "</table>\n",
       "</div>"
      ],
      "text/plain": [
       "              mpg   cylinders  displacement       weight  acceleration  \\\n",
       "count  398.000000  398.000000    398.000000   398.000000    398.000000   \n",
       "mean    23.514573    5.454774    193.425879  2970.424623     15.568090   \n",
       "std      7.815984    1.701004    104.269838   846.841774      2.757689   \n",
       "min      9.000000    3.000000     68.000000  1613.000000      8.000000   \n",
       "25%     17.500000    4.000000    104.250000  2223.750000     13.825000   \n",
       "50%     23.000000    4.000000    148.500000  2803.500000     15.500000   \n",
       "75%     29.000000    8.000000    262.000000  3608.000000     17.175000   \n",
       "max     46.600000    8.000000    455.000000  5140.000000     24.800000   \n",
       "\n",
       "       model_year      origin  \n",
       "count  398.000000  398.000000  \n",
       "mean    76.010050    1.572864  \n",
       "std      3.697627    0.802055  \n",
       "min     70.000000    1.000000  \n",
       "25%     73.000000    1.000000  \n",
       "50%     76.000000    1.000000  \n",
       "75%     79.000000    2.000000  \n",
       "max     82.000000    3.000000  "
      ]
     },
     "execution_count": 32,
     "metadata": {},
     "output_type": "execute_result"
    }
   ],
   "source": [
    "auto.describe()"
   ]
  },
  {
   "cell_type": "code",
   "execution_count": 34,
   "id": "505ef849",
   "metadata": {},
   "outputs": [
    {
     "data": {
      "text/html": [
       "<div>\n",
       "<style scoped>\n",
       "    .dataframe tbody tr th:only-of-type {\n",
       "        vertical-align: middle;\n",
       "    }\n",
       "\n",
       "    .dataframe tbody tr th {\n",
       "        vertical-align: top;\n",
       "    }\n",
       "\n",
       "    .dataframe thead th {\n",
       "        text-align: right;\n",
       "    }\n",
       "</style>\n",
       "<table border=\"1\" class=\"dataframe\">\n",
       "  <thead>\n",
       "    <tr style=\"text-align: right;\">\n",
       "      <th></th>\n",
       "      <th>mpg</th>\n",
       "      <th>cylinders</th>\n",
       "      <th>displacement</th>\n",
       "      <th>horespower</th>\n",
       "      <th>weight</th>\n",
       "      <th>acceleration</th>\n",
       "      <th>model_year</th>\n",
       "      <th>origin</th>\n",
       "      <th>model_name</th>\n",
       "    </tr>\n",
       "  </thead>\n",
       "  <tbody>\n",
       "    <tr>\n",
       "      <th>count</th>\n",
       "      <td>398.000000</td>\n",
       "      <td>398.000000</td>\n",
       "      <td>398.000000</td>\n",
       "      <td>398</td>\n",
       "      <td>398.000000</td>\n",
       "      <td>398.000000</td>\n",
       "      <td>398.000000</td>\n",
       "      <td>398.000000</td>\n",
       "      <td>398</td>\n",
       "    </tr>\n",
       "    <tr>\n",
       "      <th>unique</th>\n",
       "      <td>NaN</td>\n",
       "      <td>NaN</td>\n",
       "      <td>NaN</td>\n",
       "      <td>94</td>\n",
       "      <td>NaN</td>\n",
       "      <td>NaN</td>\n",
       "      <td>NaN</td>\n",
       "      <td>NaN</td>\n",
       "      <td>305</td>\n",
       "    </tr>\n",
       "    <tr>\n",
       "      <th>top</th>\n",
       "      <td>NaN</td>\n",
       "      <td>NaN</td>\n",
       "      <td>NaN</td>\n",
       "      <td>150.0</td>\n",
       "      <td>NaN</td>\n",
       "      <td>NaN</td>\n",
       "      <td>NaN</td>\n",
       "      <td>NaN</td>\n",
       "      <td>ford pinto</td>\n",
       "    </tr>\n",
       "    <tr>\n",
       "      <th>freq</th>\n",
       "      <td>NaN</td>\n",
       "      <td>NaN</td>\n",
       "      <td>NaN</td>\n",
       "      <td>22</td>\n",
       "      <td>NaN</td>\n",
       "      <td>NaN</td>\n",
       "      <td>NaN</td>\n",
       "      <td>NaN</td>\n",
       "      <td>6</td>\n",
       "    </tr>\n",
       "    <tr>\n",
       "      <th>mean</th>\n",
       "      <td>23.514573</td>\n",
       "      <td>5.454774</td>\n",
       "      <td>193.425879</td>\n",
       "      <td>NaN</td>\n",
       "      <td>2970.424623</td>\n",
       "      <td>15.568090</td>\n",
       "      <td>76.010050</td>\n",
       "      <td>1.572864</td>\n",
       "      <td>NaN</td>\n",
       "    </tr>\n",
       "    <tr>\n",
       "      <th>std</th>\n",
       "      <td>7.815984</td>\n",
       "      <td>1.701004</td>\n",
       "      <td>104.269838</td>\n",
       "      <td>NaN</td>\n",
       "      <td>846.841774</td>\n",
       "      <td>2.757689</td>\n",
       "      <td>3.697627</td>\n",
       "      <td>0.802055</td>\n",
       "      <td>NaN</td>\n",
       "    </tr>\n",
       "    <tr>\n",
       "      <th>min</th>\n",
       "      <td>9.000000</td>\n",
       "      <td>3.000000</td>\n",
       "      <td>68.000000</td>\n",
       "      <td>NaN</td>\n",
       "      <td>1613.000000</td>\n",
       "      <td>8.000000</td>\n",
       "      <td>70.000000</td>\n",
       "      <td>1.000000</td>\n",
       "      <td>NaN</td>\n",
       "    </tr>\n",
       "    <tr>\n",
       "      <th>25%</th>\n",
       "      <td>17.500000</td>\n",
       "      <td>4.000000</td>\n",
       "      <td>104.250000</td>\n",
       "      <td>NaN</td>\n",
       "      <td>2223.750000</td>\n",
       "      <td>13.825000</td>\n",
       "      <td>73.000000</td>\n",
       "      <td>1.000000</td>\n",
       "      <td>NaN</td>\n",
       "    </tr>\n",
       "    <tr>\n",
       "      <th>50%</th>\n",
       "      <td>23.000000</td>\n",
       "      <td>4.000000</td>\n",
       "      <td>148.500000</td>\n",
       "      <td>NaN</td>\n",
       "      <td>2803.500000</td>\n",
       "      <td>15.500000</td>\n",
       "      <td>76.000000</td>\n",
       "      <td>1.000000</td>\n",
       "      <td>NaN</td>\n",
       "    </tr>\n",
       "    <tr>\n",
       "      <th>75%</th>\n",
       "      <td>29.000000</td>\n",
       "      <td>8.000000</td>\n",
       "      <td>262.000000</td>\n",
       "      <td>NaN</td>\n",
       "      <td>3608.000000</td>\n",
       "      <td>17.175000</td>\n",
       "      <td>79.000000</td>\n",
       "      <td>2.000000</td>\n",
       "      <td>NaN</td>\n",
       "    </tr>\n",
       "    <tr>\n",
       "      <th>max</th>\n",
       "      <td>46.600000</td>\n",
       "      <td>8.000000</td>\n",
       "      <td>455.000000</td>\n",
       "      <td>NaN</td>\n",
       "      <td>5140.000000</td>\n",
       "      <td>24.800000</td>\n",
       "      <td>82.000000</td>\n",
       "      <td>3.000000</td>\n",
       "      <td>NaN</td>\n",
       "    </tr>\n",
       "  </tbody>\n",
       "</table>\n",
       "</div>"
      ],
      "text/plain": [
       "               mpg   cylinders  displacement horespower       weight  \\\n",
       "count   398.000000  398.000000    398.000000        398   398.000000   \n",
       "unique         NaN         NaN           NaN         94          NaN   \n",
       "top            NaN         NaN           NaN      150.0          NaN   \n",
       "freq           NaN         NaN           NaN         22          NaN   \n",
       "mean     23.514573    5.454774    193.425879        NaN  2970.424623   \n",
       "std       7.815984    1.701004    104.269838        NaN   846.841774   \n",
       "min       9.000000    3.000000     68.000000        NaN  1613.000000   \n",
       "25%      17.500000    4.000000    104.250000        NaN  2223.750000   \n",
       "50%      23.000000    4.000000    148.500000        NaN  2803.500000   \n",
       "75%      29.000000    8.000000    262.000000        NaN  3608.000000   \n",
       "max      46.600000    8.000000    455.000000        NaN  5140.000000   \n",
       "\n",
       "        acceleration  model_year      origin  model_name  \n",
       "count     398.000000  398.000000  398.000000         398  \n",
       "unique           NaN         NaN         NaN         305  \n",
       "top              NaN         NaN         NaN  ford pinto  \n",
       "freq             NaN         NaN         NaN           6  \n",
       "mean       15.568090   76.010050    1.572864         NaN  \n",
       "std         2.757689    3.697627    0.802055         NaN  \n",
       "min         8.000000   70.000000    1.000000         NaN  \n",
       "25%        13.825000   73.000000    1.000000         NaN  \n",
       "50%        15.500000   76.000000    1.000000         NaN  \n",
       "75%        17.175000   79.000000    2.000000         NaN  \n",
       "max        24.800000   82.000000    3.000000         NaN  "
      ]
     },
     "execution_count": 34,
     "metadata": {},
     "output_type": "execute_result"
    }
   ],
   "source": [
    "auto.describe(include='all')"
   ]
  },
  {
   "cell_type": "markdown",
   "id": "37a199cf",
   "metadata": {},
   "source": [
    "- 기본 describe() 함수 사용시 데이터 수(count), 평균(meadn), 표준편차(std), 분위수(25%, 50%, 75%), 최대최소(max, min) 출력\n",
    "- include = 'all' 옵션 사용시 고유값 개수(unique), 최빈값(top), 빈도수(freq) 추가로 출력"
   ]
  },
  {
   "cell_type": "markdown",
   "id": "8b3600c7",
   "metadata": {},
   "source": [
    "## 통계 함수 적용\n",
    "### 평균값\n",
    "- 데이터프레임에 mean() 함수를 사용하면, 산술 데이터를 갖는 모든 열의 평균값을 계산하여 시리즈 객체로 반환\n",
    "- 전체 평균값을 확인 가능, 특정 열의 평균값도 확인 가능<br>\n",
    "<code>모든 열의 평균값 : Df.mean()</code><br>\n",
    "<code>특정 열의 평균값 : Df[\"열 이름\"].mean()</code>"
   ]
  },
  {
   "cell_type": "code",
   "execution_count": 36,
   "id": "174cad10",
   "metadata": {},
   "outputs": [
    {
     "name": "stderr",
     "output_type": "stream",
     "text": [
      "C:\\Users\\82103\\AppData\\Local\\Temp/ipykernel_17992/2601072796.py:1: FutureWarning: Dropping of nuisance columns in DataFrame reductions (with 'numeric_only=None') is deprecated; in a future version this will raise TypeError.  Select only valid columns before calling the reduction.\n",
      "  auto.mean()\n"
     ]
    },
    {
     "data": {
      "text/plain": [
       "mpg               23.514573\n",
       "cylinders          5.454774\n",
       "displacement     193.425879\n",
       "weight          2970.424623\n",
       "acceleration      15.568090\n",
       "model_year        76.010050\n",
       "origin             1.572864\n",
       "dtype: float64"
      ]
     },
     "execution_count": 36,
     "metadata": {},
     "output_type": "execute_result"
    }
   ],
   "source": [
    "auto.mean()"
   ]
  },
  {
   "cell_type": "code",
   "execution_count": 38,
   "id": "70b269eb",
   "metadata": {},
   "outputs": [
    {
     "data": {
      "text/plain": [
       "23.514572864321615"
      ]
     },
     "execution_count": 38,
     "metadata": {},
     "output_type": "execute_result"
    }
   ],
   "source": [
    "auto['mpg'].mean()"
   ]
  },
  {
   "cell_type": "code",
   "execution_count": 40,
   "id": "d422a12a",
   "metadata": {},
   "outputs": [
    {
     "data": {
      "text/plain": [
       "mpg         23.514573\n",
       "weight    2970.424623\n",
       "dtype: float64"
      ]
     },
     "execution_count": 40,
     "metadata": {},
     "output_type": "execute_result"
    }
   ],
   "source": [
    "auto[['mpg', 'weight']].mean()"
   ]
  },
  {
   "cell_type": "markdown",
   "id": "1be7825f",
   "metadata": {},
   "source": [
    "### 중간값\n",
    "- 데이터프레임에 median() 함수를 사용하면 산술 데이터가 갖는 모든 열의 중간값을 계산하여 시리즈로 반환\n",
    "- 데이터프레임의 모든 열의 중간값 계산 가능, 특정 열의 중간값 계산 가능<br>\n",
    "<code>모든 열의 중간값: Df.median()</code><br>\n",
    "<code>특정 열의 중간값: Df[\"열 이름\"].median()</code>"
   ]
  },
  {
   "cell_type": "code",
   "execution_count": 41,
   "id": "b82d8638",
   "metadata": {},
   "outputs": [
    {
     "name": "stderr",
     "output_type": "stream",
     "text": [
      "C:\\Users\\82103\\AppData\\Local\\Temp/ipykernel_17992/390566574.py:1: FutureWarning: Dropping of nuisance columns in DataFrame reductions (with 'numeric_only=None') is deprecated; in a future version this will raise TypeError.  Select only valid columns before calling the reduction.\n",
      "  auto.median()\n"
     ]
    },
    {
     "data": {
      "text/plain": [
       "mpg               23.0\n",
       "cylinders          4.0\n",
       "displacement     148.5\n",
       "weight          2803.5\n",
       "acceleration      15.5\n",
       "model_year        76.0\n",
       "origin             1.0\n",
       "dtype: float64"
      ]
     },
     "execution_count": 41,
     "metadata": {},
     "output_type": "execute_result"
    }
   ],
   "source": [
    "auto.median()"
   ]
  },
  {
   "cell_type": "code",
   "execution_count": 42,
   "id": "4525c7dc",
   "metadata": {},
   "outputs": [
    {
     "data": {
      "text/plain": [
       "23.0"
      ]
     },
     "execution_count": 42,
     "metadata": {},
     "output_type": "execute_result"
    }
   ],
   "source": [
    "auto[\"mpg\"].mediann()"
   ]
  },
  {
   "cell_type": "code",
   "execution_count": 44,
   "id": "53109346",
   "metadata": {},
   "outputs": [
    {
     "data": {
      "text/plain": [
       "mpg             23.0\n",
       "acceleration    15.5\n",
       "dtype: float64"
      ]
     },
     "execution_count": 44,
     "metadata": {},
     "output_type": "execute_result"
    }
   ],
   "source": [
    "auto[[\"mpg\",\"acceleration\"]].median()"
   ]
  },
  {
   "cell_type": "markdown",
   "id": "193b1fdc",
   "metadata": {},
   "source": [
    "데이터의 개수가 짝수일 경우 중간값 구하기 예제"
   ]
  },
  {
   "cell_type": "code",
   "execution_count": 47,
   "id": "627f0021",
   "metadata": {},
   "outputs": [],
   "source": [
    "df = pd.DataFrame({'X': [1,2,3,4,5,6], 'Y': [2,4,6,8,10,12]})\n",
    "\n",
    "median = df.median()"
   ]
  },
  {
   "cell_type": "code",
   "execution_count": 48,
   "id": "5ab023bd",
   "metadata": {},
   "outputs": [
    {
     "name": "stdout",
     "output_type": "stream",
     "text": [
      "X    3.5\n",
      "Y    7.0\n",
      "dtype: float64\n"
     ]
    }
   ],
   "source": [
    "print(median)"
   ]
  },
  {
   "cell_type": "markdown",
   "id": "f983fd98",
   "metadata": {},
   "source": [
    "- 데이터의 갯수가 짝수일 경우 중간값(2개) 사이의 평균값을 출력해줌"
   ]
  },
  {
   "cell_type": "markdown",
   "id": "c1f82b75",
   "metadata": {},
   "source": [
    "### 최대값\n",
    "- 데이터프레임에 max() 함수를 사용하면 산술 데이터를 갖는 모든 열의 최대값을 계산하여 시리즈로 반환\n",
    "- 데이터프레임의 모든 열의 최대값 계산 가능, 특정 열의 최대값 계산 가능\n",
    "<code>모든 열의 최대값: Df.max()</code><br>\n",
    "<code>특정 열의 최대값: Df[\"열 이름\"].max()</code>"
   ]
  },
  {
   "cell_type": "code",
   "execution_count": 49,
   "id": "50d4aed4",
   "metadata": {},
   "outputs": [
    {
     "name": "stdout",
     "output_type": "stream",
     "text": [
      "mpg                         46.6\n",
      "cylinders                      8\n",
      "displacement               455.0\n",
      "horespower                     ?\n",
      "weight                    5140.0\n",
      "acceleration                24.8\n",
      "model_year                    82\n",
      "origin                         3\n",
      "model_name      vw rabbit custom\n",
      "dtype: object\n"
     ]
    }
   ],
   "source": [
    "print(auto.max())"
   ]
  },
  {
   "cell_type": "code",
   "execution_count": 51,
   "id": "9a9b4176",
   "metadata": {},
   "outputs": [
    {
     "name": "stdout",
     "output_type": "stream",
     "text": [
      "46.6\n"
     ]
    }
   ],
   "source": [
    "print(auto['mpg'].max())"
   ]
  },
  {
   "cell_type": "markdown",
   "id": "818add5c",
   "metadata": {},
   "source": [
    "- 문자열은 ASCII 숫자로 변환하여 크고 작음을 비교\n",
    "- horsepower 열은 ? 문자가 포함되어 있어서 최대값도 ? 가 출력됨"
   ]
  },
  {
   "cell_type": "markdown",
   "id": "f6c948a7",
   "metadata": {},
   "source": [
    "### 최소값\n",
    "- 데이터프레임에 min() 함수를 사용하면 산술 데이터가 갖는 모든 열의 최소값을 계산하여 시리즈로 반환\n",
    "- 데이터프레임의 모든 열의 최소값 계산 가능, 특정 열의 최소값 계산 가능<br>\n",
    "<code>모든 열의 중간값: Df.min()</code><br>\n",
    "<code>특정 열의 중간값: Df[\"열 이름\"].min()</code>"
   ]
  },
  {
   "cell_type": "code",
   "execution_count": 52,
   "id": "421a57e6",
   "metadata": {},
   "outputs": [
    {
     "name": "stdout",
     "output_type": "stream",
     "text": [
      "9.0\n"
     ]
    }
   ],
   "source": [
    "print(auto['mpg'].min())"
   ]
  },
  {
   "cell_type": "code",
   "execution_count": 53,
   "id": "0185f051",
   "metadata": {},
   "outputs": [
    {
     "name": "stdout",
     "output_type": "stream",
     "text": [
      "mpg                                 9.0\n",
      "cylinders                             3\n",
      "displacement                       68.0\n",
      "horespower                        100.0\n",
      "weight                           1613.0\n",
      "acceleration                        8.0\n",
      "model_year                           70\n",
      "origin                                1\n",
      "model_name      amc ambassador brougham\n",
      "dtype: object\n"
     ]
    }
   ],
   "source": [
    "print(auto.min())"
   ]
  },
  {
   "cell_type": "markdown",
   "id": "20db2545",
   "metadata": {},
   "source": [
    "### 표준편차\n",
    "- 데이터프레임에 std() 함수를 사용하면 산술 데이터가 갖는 모든 열의 표준편차를 계산하여 시리즈로 반환\n",
    "- 데이터프레임의 모든 열의 표준편차 계산 가능, 특정 열의 표준편차 계산 가능<br>\n",
    "<code>모든 열의 중간값: Df.std()</code><br>\n",
    "<code>특정 열의 중간값: Df[\"열 이름\"].std()</code>"
   ]
  },
  {
   "cell_type": "code",
   "execution_count": 54,
   "id": "6dd0110e",
   "metadata": {},
   "outputs": [
    {
     "name": "stdout",
     "output_type": "stream",
     "text": [
      "mpg               7.815984\n",
      "cylinders         1.701004\n",
      "displacement    104.269838\n",
      "weight          846.841774\n",
      "acceleration      2.757689\n",
      "model_year        3.697627\n",
      "origin            0.802055\n",
      "dtype: float64\n"
     ]
    },
    {
     "name": "stderr",
     "output_type": "stream",
     "text": [
      "C:\\Users\\82103\\AppData\\Local\\Temp/ipykernel_17992/1868692908.py:1: FutureWarning: Dropping of nuisance columns in DataFrame reductions (with 'numeric_only=None') is deprecated; in a future version this will raise TypeError.  Select only valid columns before calling the reduction.\n",
      "  print(auto.std())\n"
     ]
    }
   ],
   "source": [
    "print(auto.std())"
   ]
  },
  {
   "cell_type": "code",
   "execution_count": 56,
   "id": "1edc0b24",
   "metadata": {},
   "outputs": [
    {
     "name": "stdout",
     "output_type": "stream",
     "text": [
      "7.815984312565782\n"
     ]
    }
   ],
   "source": [
    "print(auto['mpg'].std())"
   ]
  },
  {
   "cell_type": "markdown",
   "id": "855c7cd4",
   "metadata": {},
   "source": [
    "### 상관계수\n",
    "- 데이터프레임에 corr() 함수를 사용하면 두 열 간의 상관계수를 계산\n",
    "- 산술 데이터를 갖는 모든 열에 대해서 2개씩 서로 짝을 짓고, 각각의 경우에 대하여 상관 계수를 계산<br>\n",
    "<code>모든 열의 상관계수: Df.corr()</code><br>\n",
    "<code>특정 열의 중간값: Df[\"열 이름\"].corr()</code>\n",
    "- 상관계수 절대값의 크기는 직선관계와 가까운 정도를 표현, 부호는 직선관계의 방향을 나타냄\n",
    " - r > 0 : 양의 상관관계, 산점도에서 점들이 우상향방향으로 띠를 형성(기울기 양수)\n",
    " - r < 0 : 음의 상관관계, 산점도에서 점들이 우하향방향으로 띠를 형성(기울기 음수)\n",
    " - r = +1 : 모든 점이 정확히 기울기가 양수인 직선 위에 위치\n",
    " - r = -1 : 모든 점이 정확히 기울기가 음수인 직선 위에 위치"
   ]
  },
  {
   "cell_type": "code",
   "execution_count": 57,
   "id": "a24aaf2b",
   "metadata": {},
   "outputs": [
    {
     "name": "stdout",
     "output_type": "stream",
     "text": [
      "                   mpg  cylinders  displacement    weight  acceleration  \\\n",
      "mpg           1.000000  -0.775396     -0.804203 -0.831741      0.420289   \n",
      "cylinders    -0.775396   1.000000      0.950721  0.896017     -0.505419   \n",
      "displacement -0.804203   0.950721      1.000000  0.932824     -0.543684   \n",
      "weight       -0.831741   0.896017      0.932824  1.000000     -0.417457   \n",
      "acceleration  0.420289  -0.505419     -0.543684 -0.417457      1.000000   \n",
      "model_year    0.579267  -0.348746     -0.370164 -0.306564      0.288137   \n",
      "origin        0.563450  -0.562543     -0.609409 -0.581024      0.205873   \n",
      "\n",
      "              model_year    origin  \n",
      "mpg             0.579267  0.563450  \n",
      "cylinders      -0.348746 -0.562543  \n",
      "displacement   -0.370164 -0.609409  \n",
      "weight         -0.306564 -0.581024  \n",
      "acceleration    0.288137  0.205873  \n",
      "model_year      1.000000  0.180662  \n",
      "origin          0.180662  1.000000  \n"
     ]
    }
   ],
   "source": [
    "print(auto.corr())"
   ]
  },
  {
   "cell_type": "code",
   "execution_count": 59,
   "id": "a9357440",
   "metadata": {},
   "outputs": [
    {
     "data": {
      "text/html": [
       "<div>\n",
       "<style scoped>\n",
       "    .dataframe tbody tr th:only-of-type {\n",
       "        vertical-align: middle;\n",
       "    }\n",
       "\n",
       "    .dataframe tbody tr th {\n",
       "        vertical-align: top;\n",
       "    }\n",
       "\n",
       "    .dataframe thead th {\n",
       "        text-align: right;\n",
       "    }\n",
       "</style>\n",
       "<table border=\"1\" class=\"dataframe\">\n",
       "  <thead>\n",
       "    <tr style=\"text-align: right;\">\n",
       "      <th></th>\n",
       "      <th>mpg</th>\n",
       "      <th>cylinders</th>\n",
       "    </tr>\n",
       "  </thead>\n",
       "  <tbody>\n",
       "    <tr>\n",
       "      <th>mpg</th>\n",
       "      <td>1.000000</td>\n",
       "      <td>-0.775396</td>\n",
       "    </tr>\n",
       "    <tr>\n",
       "      <th>cylinders</th>\n",
       "      <td>-0.775396</td>\n",
       "      <td>1.000000</td>\n",
       "    </tr>\n",
       "  </tbody>\n",
       "</table>\n",
       "</div>"
      ],
      "text/plain": [
       "                mpg  cylinders\n",
       "mpg        1.000000  -0.775396\n",
       "cylinders -0.775396   1.000000"
      ]
     },
     "execution_count": 59,
     "metadata": {},
     "output_type": "execute_result"
    }
   ],
   "source": [
    "auto[[\"mpg\",\"cylinders\"]].corr()"
   ]
  },
  {
   "cell_type": "markdown",
   "id": "24905f49",
   "metadata": {},
   "source": [
    "## 판다스 내장 그래프 도구 활용\n",
    "- 데이터를 그래프로 표현하는 것은 매우 효과적인 정보 전달 방식이다\n",
    "- 시리즈 또는 데이터프레임 객체에 plot() 함수를 적용하여 그래프를 생성\n",
    "- kind 옵션으로 그래프의 종류 선택\n",
    " - \"line\" : 선 그래프\n",
    " - \"bar\" : 수직 막대 그래프\n",
    " - \"bath\" : 수평 막대 그래프\n",
    " - \"hist\" : 히스토그램\n",
    " - \"box\" : 박스 플롯\n",
    " - \"kde\" : 커널 밀도 그래프\n",
    " - \"area\" : 면적 그래프\n",
    " - \"pie\" : 파이 그래프\n",
    " - \"scatter\" : 산점도\n",
    " - \"hexbin\" : 고밀도 산점도"
   ]
  },
  {
   "cell_type": "markdown",
   "id": "93f4a3ba",
   "metadata": {},
   "source": [
    "### 선 그래프\n",
    "- 데이터프레임(또는 시리즈) 객체에 plot() 함수를 사용할 경우, 다른 옵션을 추가하지 않으면 가장 기본적인 선 그래프를 그림<br>\n",
    "<code>선 그래프 : Df.plot()</code>"
   ]
  },
  {
   "cell_type": "code",
   "execution_count": 80,
   "id": "607d2181",
   "metadata": {},
   "outputs": [],
   "source": [
    "elect = pd.read_excel(\"data/남북한발전전력량.xlsx\")"
   ]
  },
  {
   "cell_type": "code",
   "execution_count": 81,
   "id": "bc97ec4a",
   "metadata": {},
   "outputs": [
    {
     "data": {
      "text/html": [
       "<div>\n",
       "<style scoped>\n",
       "    .dataframe tbody tr th:only-of-type {\n",
       "        vertical-align: middle;\n",
       "    }\n",
       "\n",
       "    .dataframe tbody tr th {\n",
       "        vertical-align: top;\n",
       "    }\n",
       "\n",
       "    .dataframe thead th {\n",
       "        text-align: right;\n",
       "    }\n",
       "</style>\n",
       "<table border=\"1\" class=\"dataframe\">\n",
       "  <thead>\n",
       "    <tr style=\"text-align: right;\">\n",
       "      <th></th>\n",
       "      <th>전력량 (억㎾h)</th>\n",
       "      <th>발전 전력별</th>\n",
       "      <th>1990</th>\n",
       "      <th>1991</th>\n",
       "      <th>1992</th>\n",
       "      <th>1993</th>\n",
       "      <th>1994</th>\n",
       "      <th>1995</th>\n",
       "      <th>1996</th>\n",
       "      <th>1997</th>\n",
       "      <th>...</th>\n",
       "      <th>2007</th>\n",
       "      <th>2008</th>\n",
       "      <th>2009</th>\n",
       "      <th>2010</th>\n",
       "      <th>2011</th>\n",
       "      <th>2012</th>\n",
       "      <th>2013</th>\n",
       "      <th>2014</th>\n",
       "      <th>2015</th>\n",
       "      <th>2016</th>\n",
       "    </tr>\n",
       "  </thead>\n",
       "  <tbody>\n",
       "    <tr>\n",
       "      <th>0</th>\n",
       "      <td>남한</td>\n",
       "      <td>합계</td>\n",
       "      <td>1077</td>\n",
       "      <td>1186</td>\n",
       "      <td>1310</td>\n",
       "      <td>1444</td>\n",
       "      <td>1650</td>\n",
       "      <td>1847</td>\n",
       "      <td>2055</td>\n",
       "      <td>2244</td>\n",
       "      <td>...</td>\n",
       "      <td>4031</td>\n",
       "      <td>4224</td>\n",
       "      <td>4336</td>\n",
       "      <td>4747</td>\n",
       "      <td>4969</td>\n",
       "      <td>5096</td>\n",
       "      <td>5171</td>\n",
       "      <td>5220</td>\n",
       "      <td>5281</td>\n",
       "      <td>5404</td>\n",
       "    </tr>\n",
       "    <tr>\n",
       "      <th>1</th>\n",
       "      <td>NaN</td>\n",
       "      <td>수력</td>\n",
       "      <td>64</td>\n",
       "      <td>51</td>\n",
       "      <td>49</td>\n",
       "      <td>60</td>\n",
       "      <td>41</td>\n",
       "      <td>55</td>\n",
       "      <td>52</td>\n",
       "      <td>54</td>\n",
       "      <td>...</td>\n",
       "      <td>50</td>\n",
       "      <td>56</td>\n",
       "      <td>56</td>\n",
       "      <td>65</td>\n",
       "      <td>78</td>\n",
       "      <td>77</td>\n",
       "      <td>84</td>\n",
       "      <td>78</td>\n",
       "      <td>58</td>\n",
       "      <td>66</td>\n",
       "    </tr>\n",
       "    <tr>\n",
       "      <th>2</th>\n",
       "      <td>NaN</td>\n",
       "      <td>화력</td>\n",
       "      <td>484</td>\n",
       "      <td>573</td>\n",
       "      <td>696</td>\n",
       "      <td>803</td>\n",
       "      <td>1022</td>\n",
       "      <td>1122</td>\n",
       "      <td>1264</td>\n",
       "      <td>1420</td>\n",
       "      <td>...</td>\n",
       "      <td>2551</td>\n",
       "      <td>2658</td>\n",
       "      <td>2802</td>\n",
       "      <td>3196</td>\n",
       "      <td>3343</td>\n",
       "      <td>3430</td>\n",
       "      <td>3581</td>\n",
       "      <td>3427</td>\n",
       "      <td>3402</td>\n",
       "      <td>3523</td>\n",
       "    </tr>\n",
       "    <tr>\n",
       "      <th>3</th>\n",
       "      <td>NaN</td>\n",
       "      <td>원자력</td>\n",
       "      <td>529</td>\n",
       "      <td>563</td>\n",
       "      <td>565</td>\n",
       "      <td>581</td>\n",
       "      <td>587</td>\n",
       "      <td>670</td>\n",
       "      <td>739</td>\n",
       "      <td>771</td>\n",
       "      <td>...</td>\n",
       "      <td>1429</td>\n",
       "      <td>1510</td>\n",
       "      <td>1478</td>\n",
       "      <td>1486</td>\n",
       "      <td>1547</td>\n",
       "      <td>1503</td>\n",
       "      <td>1388</td>\n",
       "      <td>1564</td>\n",
       "      <td>1648</td>\n",
       "      <td>1620</td>\n",
       "    </tr>\n",
       "    <tr>\n",
       "      <th>4</th>\n",
       "      <td>NaN</td>\n",
       "      <td>신재생</td>\n",
       "      <td>-</td>\n",
       "      <td>-</td>\n",
       "      <td>-</td>\n",
       "      <td>-</td>\n",
       "      <td>-</td>\n",
       "      <td>-</td>\n",
       "      <td>-</td>\n",
       "      <td>-</td>\n",
       "      <td>...</td>\n",
       "      <td>-</td>\n",
       "      <td>-</td>\n",
       "      <td>-</td>\n",
       "      <td>-</td>\n",
       "      <td>-</td>\n",
       "      <td>86</td>\n",
       "      <td>118</td>\n",
       "      <td>151</td>\n",
       "      <td>173</td>\n",
       "      <td>195</td>\n",
       "    </tr>\n",
       "    <tr>\n",
       "      <th>5</th>\n",
       "      <td>북한</td>\n",
       "      <td>합계</td>\n",
       "      <td>277</td>\n",
       "      <td>263</td>\n",
       "      <td>247</td>\n",
       "      <td>221</td>\n",
       "      <td>231</td>\n",
       "      <td>230</td>\n",
       "      <td>213</td>\n",
       "      <td>193</td>\n",
       "      <td>...</td>\n",
       "      <td>236</td>\n",
       "      <td>255</td>\n",
       "      <td>235</td>\n",
       "      <td>237</td>\n",
       "      <td>211</td>\n",
       "      <td>215</td>\n",
       "      <td>221</td>\n",
       "      <td>216</td>\n",
       "      <td>190</td>\n",
       "      <td>239</td>\n",
       "    </tr>\n",
       "    <tr>\n",
       "      <th>6</th>\n",
       "      <td>NaN</td>\n",
       "      <td>수력</td>\n",
       "      <td>156</td>\n",
       "      <td>150</td>\n",
       "      <td>142</td>\n",
       "      <td>133</td>\n",
       "      <td>138</td>\n",
       "      <td>142</td>\n",
       "      <td>125</td>\n",
       "      <td>107</td>\n",
       "      <td>...</td>\n",
       "      <td>133</td>\n",
       "      <td>141</td>\n",
       "      <td>125</td>\n",
       "      <td>134</td>\n",
       "      <td>132</td>\n",
       "      <td>135</td>\n",
       "      <td>139</td>\n",
       "      <td>130</td>\n",
       "      <td>100</td>\n",
       "      <td>128</td>\n",
       "    </tr>\n",
       "    <tr>\n",
       "      <th>7</th>\n",
       "      <td>NaN</td>\n",
       "      <td>화력</td>\n",
       "      <td>121</td>\n",
       "      <td>113</td>\n",
       "      <td>105</td>\n",
       "      <td>88</td>\n",
       "      <td>93</td>\n",
       "      <td>88</td>\n",
       "      <td>88</td>\n",
       "      <td>86</td>\n",
       "      <td>...</td>\n",
       "      <td>103</td>\n",
       "      <td>114</td>\n",
       "      <td>110</td>\n",
       "      <td>103</td>\n",
       "      <td>79</td>\n",
       "      <td>80</td>\n",
       "      <td>82</td>\n",
       "      <td>86</td>\n",
       "      <td>90</td>\n",
       "      <td>111</td>\n",
       "    </tr>\n",
       "    <tr>\n",
       "      <th>8</th>\n",
       "      <td>NaN</td>\n",
       "      <td>원자력</td>\n",
       "      <td>-</td>\n",
       "      <td>-</td>\n",
       "      <td>-</td>\n",
       "      <td>-</td>\n",
       "      <td>-</td>\n",
       "      <td>-</td>\n",
       "      <td>-</td>\n",
       "      <td>-</td>\n",
       "      <td>...</td>\n",
       "      <td>-</td>\n",
       "      <td>-</td>\n",
       "      <td>-</td>\n",
       "      <td>-</td>\n",
       "      <td>-</td>\n",
       "      <td>-</td>\n",
       "      <td>-</td>\n",
       "      <td>-</td>\n",
       "      <td>-</td>\n",
       "      <td>-</td>\n",
       "    </tr>\n",
       "  </tbody>\n",
       "</table>\n",
       "<p>9 rows × 29 columns</p>\n",
       "</div>"
      ],
      "text/plain": [
       "  전력량 (억㎾h) 발전 전력별  1990  1991  1992  1993  1994  1995  1996  1997  ...  2007  \\\n",
       "0        남한     합계  1077  1186  1310  1444  1650  1847  2055  2244  ...  4031   \n",
       "1       NaN     수력    64    51    49    60    41    55    52    54  ...    50   \n",
       "2       NaN     화력   484   573   696   803  1022  1122  1264  1420  ...  2551   \n",
       "3       NaN    원자력   529   563   565   581   587   670   739   771  ...  1429   \n",
       "4       NaN    신재생     -     -     -     -     -     -     -     -  ...     -   \n",
       "5        북한     합계   277   263   247   221   231   230   213   193  ...   236   \n",
       "6       NaN     수력   156   150   142   133   138   142   125   107  ...   133   \n",
       "7       NaN     화력   121   113   105    88    93    88    88    86  ...   103   \n",
       "8       NaN    원자력     -     -     -     -     -     -     -     -  ...     -   \n",
       "\n",
       "   2008  2009  2010  2011  2012  2013  2014  2015  2016  \n",
       "0  4224  4336  4747  4969  5096  5171  5220  5281  5404  \n",
       "1    56    56    65    78    77    84    78    58    66  \n",
       "2  2658  2802  3196  3343  3430  3581  3427  3402  3523  \n",
       "3  1510  1478  1486  1547  1503  1388  1564  1648  1620  \n",
       "4     -     -     -     -    86   118   151   173   195  \n",
       "5   255   235   237   211   215   221   216   190   239  \n",
       "6   141   125   134   132   135   139   130   100   128  \n",
       "7   114   110   103    79    80    82    86    90   111  \n",
       "8     -     -     -     -     -     -     -     -     -  \n",
       "\n",
       "[9 rows x 29 columns]"
      ]
     },
     "execution_count": 81,
     "metadata": {},
     "output_type": "execute_result"
    }
   ],
   "source": [
    "elect"
   ]
  },
  {
   "cell_type": "code",
   "execution_count": 82,
   "id": "690dde90",
   "metadata": {},
   "outputs": [],
   "source": [
    "# 남북한 발전량 합계 데이터를 추출\n",
    "elect_ns = elect.iloc[[0, 5], 2:]\n",
    "    \n",
    "# 행 인덱스 변경\n",
    "elect_ns.index = ['South', 'North']\n",
    "\n",
    "# 열 이름의 자료형을 정수형으로 변경\n",
    "elect_ns.columns = elect_ns.columns.map(int)\n"
   ]
  },
  {
   "cell_type": "code",
   "execution_count": 83,
   "id": "dafe47d2",
   "metadata": {},
   "outputs": [
    {
     "name": "stdout",
     "output_type": "stream",
     "text": [
      "       1990  1991  1992  1993  1994  1995  1996  1997  1998  1999  ...  2007  \\\n",
      "South  1077  1186  1310  1444  1650  1847  2055  2244  2153  2393  ...  4031   \n",
      "North   277   263   247   221   231   230   213   193   170   186  ...   236   \n",
      "\n",
      "       2008  2009  2010  2011  2012  2013  2014  2015  2016  \n",
      "South  4224  4336  4747  4969  5096  5171  5220  5281  5404  \n",
      "North   255   235   237   211   215   221   216   190   239  \n",
      "\n",
      "[2 rows x 27 columns]\n"
     ]
    }
   ],
   "source": [
    "# 추출 데이터 확인\n",
    "print(elect_ns)"
   ]
  },
  {
   "cell_type": "code",
   "execution_count": 89,
   "id": "3f0c86ce",
   "metadata": {},
   "outputs": [
    {
     "data": {
      "text/plain": [
       "<AxesSubplot:>"
      ]
     },
     "execution_count": 89,
     "metadata": {},
     "output_type": "execute_result"
    },
    {
     "data": {
      "image/png": "[encoded data removed]",
      "text/plain": [
       "<Figure size 432x288 with 1 Axes>"
      ]
     },
     "metadata": {
      "needs_background": "light"
     },
     "output_type": "display_data"
    }
   ],
   "source": [
    "# 선 그래프 그리기\n",
    "elect_ns.plot()"
   ]
  },
  {
   "cell_type": "markdown",
   "id": "eb42ea11",
   "metadata": {},
   "source": [
    "- 시간의 흐름에 따른 연도별 발전량 변화 추이를 보기 위해서는 연도 값을 x축에 표시하는 것이 적절\n",
    "- 연도 값이 행 인덱스에 위치하도록 행렬을 전치하여 데이터프레임을 제작"
   ]
  },
  {
   "cell_type": "code",
   "execution_count": 91,
   "id": "953fe029",
   "metadata": {},
   "outputs": [
    {
     "data": {
      "text/plain": [
       "<AxesSubplot:>"
      ]
     },
     "execution_count": 91,
     "metadata": {},
     "output_type": "execute_result"
    },
    {
     "data": {
      "image/png": "[encoded data removed]",
      "text/plain": [
       "<Figure size 432x288 with 1 Axes>"
      ]
     },
     "metadata": {
      "needs_background": "light"
     },
     "output_type": "display_data"
    }
   ],
   "source": [
    "# 행 열 transpose\n",
    "elect_ns.T.plot()"
   ]
  },
  {
   "cell_type": "code",
   "execution_count": 92,
   "id": "3ce8613d",
   "metadata": {},
   "outputs": [
    {
     "name": "stdout",
     "output_type": "stream",
     "text": [
      "     South North\n",
      "1990  1077   277\n",
      "1991  1186   263\n",
      "1992  1310   247\n",
      "1993  1444   221\n",
      "1994  1650   231\n",
      "1995  1847   230\n",
      "1996  2055   213\n",
      "1997  2244   193\n",
      "1998  2153   170\n",
      "1999  2393   186\n",
      "2000  2664   194\n",
      "2001  2852   202\n",
      "2002  3065   190\n",
      "2003  3225   196\n",
      "2004  3421   206\n",
      "2005  3646   215\n",
      "2006  3812   225\n",
      "2007  4031   236\n",
      "2008  4224   255\n",
      "2009  4336   235\n",
      "2010  4747   237\n",
      "2011  4969   211\n",
      "2012  5096   215\n",
      "2013  5171   221\n",
      "2014  5220   216\n",
      "2015  5281   190\n",
      "2016  5404   239\n"
     ]
    }
   ],
   "source": [
    "print(elect_ns.T)"
   ]
  },
  {
   "cell_type": "markdown",
   "id": "ab4e3d6c",
   "metadata": {},
   "source": [
    "### 막대 그래프\n",
    "- plot() 함수로 선 그래프가 아닌 다른 종류의 그래프를 그리려면 kinde 옵션에 그래프 종류를 지정\n",
    "<br>kind=\"bar\"<br>\n",
    "<code> Df.plot(kind = \"bar\")</code>"
   ]
  },
  {
   "cell_type": "code",
   "execution_count": 93,
   "id": "e9aa2974",
   "metadata": {},
   "outputs": [
    {
     "data": {
      "text/plain": [
       "<AxesSubplot:>"
      ]
     },
     "execution_count": 93,
     "metadata": {},
     "output_type": "execute_result"
    },
    {
     "data": {
      "image/png": "[encoded data removed]",
      "text/plain": [
       "<Figure size 432x288 with 1 Axes>"
      ]
     },
     "metadata": {
      "needs_background": "light"
     },
     "output_type": "display_data"
    }
   ],
   "source": [
    "elect_ns.T.plot(kind = \"bar\")"
   ]
  },
  {
   "cell_type": "markdown",
   "id": "633380bd",
   "metadata": {},
   "source": [
    "## 히스토그램\n",
    "- 빈도와 관련\n",
    "- plot() 함수에 kind = \"hist\" 옵션 추가<br>\n",
    "<code>히스토그램 : Df.plot(kind = \"hist\")</code>"
   ]
  },
  {
   "cell_type": "code",
   "execution_count": 94,
   "id": "adc52789",
   "metadata": {},
   "outputs": [
    {
     "data": {
      "text/plain": [
       "<AxesSubplot:ylabel='Frequency'>"
      ]
     },
     "execution_count": 94,
     "metadata": {},
     "output_type": "execute_result"
    },
    {
     "data": {
      "image/png": "[encoded data removed]",
      "text/plain": [
       "<Figure size 432x288 with 1 Axes>"
      ]
     },
     "metadata": {
      "needs_background": "light"
     },
     "output_type": "display_data"
    }
   ],
   "source": [
    "elect_ns.T.plot(kind = \"hist\")"
   ]
  },
  {
   "cell_type": "markdown",
   "id": "045aeb19",
   "metadata": {},
   "source": [
    "### 산점도\n",
    "- 자동차 연비 데이터셋을 이용하여 두 변수의 관계를 나타내는 산점도 제작\n",
    "\n",
    "코드 항목\n",
    "1. plot() 함수에 kind = \"scatter\" 옵션 추가\n",
    "2. 데이터프레임의 열 중에서 서로 비교할 두 변수를 선택\n",
    "- x축에 차량 무게 'weight' 열을 지정\n",
    "- y축에 연비 'mpg' 열을 지정"
   ]
  },
  {
   "cell_type": "code",
   "execution_count": 103,
   "id": "97d643d7",
   "metadata": {},
   "outputs": [
    {
     "data": {
      "text/html": [
       "<div>\n",
       "<style scoped>\n",
       "    .dataframe tbody tr th:only-of-type {\n",
       "        vertical-align: middle;\n",
       "    }\n",
       "\n",
       "    .dataframe tbody tr th {\n",
       "        vertical-align: top;\n",
       "    }\n",
       "\n",
       "    .dataframe thead th {\n",
       "        text-align: right;\n",
       "    }\n",
       "</style>\n",
       "<table border=\"1\" class=\"dataframe\">\n",
       "  <thead>\n",
       "    <tr style=\"text-align: right;\">\n",
       "      <th></th>\n",
       "      <th>weight</th>\n",
       "      <th>mpg</th>\n",
       "    </tr>\n",
       "  </thead>\n",
       "  <tbody>\n",
       "    <tr>\n",
       "      <th>weight</th>\n",
       "      <td>1.000000</td>\n",
       "      <td>-0.831741</td>\n",
       "    </tr>\n",
       "    <tr>\n",
       "      <th>mpg</th>\n",
       "      <td>-0.831741</td>\n",
       "      <td>1.000000</td>\n",
       "    </tr>\n",
       "  </tbody>\n",
       "</table>\n",
       "</div>"
      ],
      "text/plain": [
       "          weight       mpg\n",
       "weight  1.000000 -0.831741\n",
       "mpg    -0.831741  1.000000"
      ]
     },
     "execution_count": 103,
     "metadata": {},
     "output_type": "execute_result"
    },
    {
     "data": {
      "image/png": "[encoded data removed]",
      "text/plain": [
       "<Figure size 432x288 with 1 Axes>"
      ]
     },
     "metadata": {
      "needs_background": "light"
     },
     "output_type": "display_data"
    }
   ],
   "source": [
    "auto.plot(x='weight',y='mpg',kind = \"scatter\")\n",
    "auto[['weight','mpg']].corr()"
   ]
  },
  {
   "cell_type": "markdown",
   "id": "918b1904",
   "metadata": {},
   "source": [
    "### 박스 플롯\n",
    "- 특정 변수의 데이터 분포와 분산 정도에 대한 정보를 제공\n",
    " - 변수들의 데이터가 퍼져 있는 정도를 확인할 때 사용\n",
    "- plot() 함수에 kind=\"box\" 옵션을 입력"
   ]
  },
  {
   "cell_type": "code",
   "execution_count": 108,
   "id": "36408001",
   "metadata": {},
   "outputs": [
    {
     "data": {
      "text/plain": [
       "<AxesSubplot:>"
      ]
     },
     "execution_count": 108,
     "metadata": {},
     "output_type": "execute_result"
    },
    {
     "data": {
      "image/png": "[encoded data removed]",
      "text/plain": [
       "<Figure size 432x288 with 1 Axes>"
      ]
     },
     "metadata": {
      "needs_background": "light"
     },
     "output_type": "display_data"
    }
   ],
   "source": [
    "# 열을 선택하여 박스 플롯 그리기\n",
    "auto[['mpg', 'cylinders']].plot(kind = 'box')"
   ]
  },
  {
   "cell_type": "markdown",
   "id": "cce8a6bf",
   "metadata": {},
   "source": [
    "- 맨 위에 원은 수치에서 벗어난 수 표현\n",
    "- 박스 플롯 최상단은 최댓값 max를 의미\n",
    "- 박스의 윗부분은 분위수 75%를 의미\n",
    "- 박스의 가운데 부분은 중간값 50%를 의미\n",
    "- 박스의 아랫부분은 분위수 25%를 의미\n",
    "- 박스 플롯 최하단은 최솟값 min을 의미<br><br>\n",
    "\n",
    "- cylinders의 박스 플롯\n",
    " - 최대값 == 분위수 75%\n",
    " - 중간값 == 분위수 25%\n",
    " "
   ]
  },
  {
   "cell_type": "markdown",
   "id": "61bed8b3",
   "metadata": {},
   "source": [
    "# Matplotlib - 기본 그래프 도구\n",
    "- 시각화 도구를 사용하면 다양한 종류의 데이터 분석 가능\n",
    " - 데이터에는 수천, 수만 개를 넘기는 경우가 많음\n",
    "- 그래프를 이용하면 데이터의 구조와 패턴을 파악하기가 용이\n",
    "- 다양한 관점에서 데이터에 관한 통찰력 제공\n",
    "- 판다스는 데이터 시각화를 지원하는 내장 기능이 존재하지만 풍부하진 않음\n",
    " - 다른 시각화 도구와 함께 사용하는 것을 추천"
   ]
  },
  {
   "cell_type": "markdown",
   "id": "72a6f97c",
   "metadata": {},
   "source": [
    "## Matplotlib\n",
    "- 2D 평면 그래프에 관한 다양한 포맷과 기능을 지원\n",
    "- 그래프 요소를 세세하게 꾸미기 가능"
   ]
  },
  {
   "cell_type": "markdown",
   "id": "ea6b38d0",
   "metadata": {},
   "source": [
    "### 선그래프\n",
    "- 선 그래프(line plot)는 연속하는 데이터 값들을 직선 또는 곡선으로 연결하여 데이터 값 사이의 관계를 표현\n",
    "- 시계열 데이터와 같이 연속적인 값의 변화와 패턴을 파악하는데 적합"
   ]
  },
  {
   "cell_type": "code",
   "execution_count": 128,
   "id": "e9ea2756",
   "metadata": {},
   "outputs": [
    {
     "data": {
      "text/html": [
       "<div>\n",
       "<style scoped>\n",
       "    .dataframe tbody tr th:only-of-type {\n",
       "        vertical-align: middle;\n",
       "    }\n",
       "\n",
       "    .dataframe tbody tr th {\n",
       "        vertical-align: top;\n",
       "    }\n",
       "\n",
       "    .dataframe thead th {\n",
       "        text-align: right;\n",
       "    }\n",
       "</style>\n",
       "<table border=\"1\" class=\"dataframe\">\n",
       "  <thead>\n",
       "    <tr style=\"text-align: right;\">\n",
       "      <th></th>\n",
       "      <th>전출지별</th>\n",
       "      <th>전입지별</th>\n",
       "      <th>1970</th>\n",
       "      <th>1971</th>\n",
       "      <th>1972</th>\n",
       "      <th>1973</th>\n",
       "      <th>1974</th>\n",
       "      <th>1975</th>\n",
       "      <th>1976</th>\n",
       "      <th>1977</th>\n",
       "      <th>...</th>\n",
       "      <th>2008</th>\n",
       "      <th>2009</th>\n",
       "      <th>2010</th>\n",
       "      <th>2011</th>\n",
       "      <th>2012</th>\n",
       "      <th>2013</th>\n",
       "      <th>2014</th>\n",
       "      <th>2015</th>\n",
       "      <th>2016</th>\n",
       "      <th>2017</th>\n",
       "    </tr>\n",
       "  </thead>\n",
       "  <tbody>\n",
       "    <tr>\n",
       "      <th>0</th>\n",
       "      <td>전출지별</td>\n",
       "      <td>전입지별</td>\n",
       "      <td>이동자수 (명)</td>\n",
       "      <td>이동자수 (명)</td>\n",
       "      <td>이동자수 (명)</td>\n",
       "      <td>이동자수 (명)</td>\n",
       "      <td>이동자수 (명)</td>\n",
       "      <td>이동자수 (명)</td>\n",
       "      <td>이동자수 (명)</td>\n",
       "      <td>이동자수 (명)</td>\n",
       "      <td>...</td>\n",
       "      <td>이동자수 (명)</td>\n",
       "      <td>이동자수 (명)</td>\n",
       "      <td>이동자수 (명)</td>\n",
       "      <td>이동자수 (명)</td>\n",
       "      <td>이동자수 (명)</td>\n",
       "      <td>이동자수 (명)</td>\n",
       "      <td>이동자수 (명)</td>\n",
       "      <td>이동자수 (명)</td>\n",
       "      <td>이동자수 (명)</td>\n",
       "      <td>이동자수 (명)</td>\n",
       "    </tr>\n",
       "    <tr>\n",
       "      <th>1</th>\n",
       "      <td>전국</td>\n",
       "      <td>전국</td>\n",
       "      <td>4046536</td>\n",
       "      <td>4210164</td>\n",
       "      <td>3687938</td>\n",
       "      <td>4860418</td>\n",
       "      <td>5297969</td>\n",
       "      <td>9011440</td>\n",
       "      <td>6773250</td>\n",
       "      <td>7397623</td>\n",
       "      <td>...</td>\n",
       "      <td>8808256</td>\n",
       "      <td>8487275</td>\n",
       "      <td>8226594</td>\n",
       "      <td>8127195</td>\n",
       "      <td>7506691</td>\n",
       "      <td>7411784</td>\n",
       "      <td>7629098</td>\n",
       "      <td>7755286</td>\n",
       "      <td>7378430</td>\n",
       "      <td>7154226</td>\n",
       "    </tr>\n",
       "    <tr>\n",
       "      <th>2</th>\n",
       "      <td>NaN</td>\n",
       "      <td>서울특별시</td>\n",
       "      <td>1742813</td>\n",
       "      <td>1671705</td>\n",
       "      <td>1349333</td>\n",
       "      <td>1831858</td>\n",
       "      <td>2050392</td>\n",
       "      <td>3396662</td>\n",
       "      <td>2756510</td>\n",
       "      <td>2893403</td>\n",
       "      <td>...</td>\n",
       "      <td>2025358</td>\n",
       "      <td>1873188</td>\n",
       "      <td>1733015</td>\n",
       "      <td>1721748</td>\n",
       "      <td>1555281</td>\n",
       "      <td>1520090</td>\n",
       "      <td>1573594</td>\n",
       "      <td>1589431</td>\n",
       "      <td>1515602</td>\n",
       "      <td>1472937</td>\n",
       "    </tr>\n",
       "    <tr>\n",
       "      <th>3</th>\n",
       "      <td>NaN</td>\n",
       "      <td>부산광역시</td>\n",
       "      <td>448577</td>\n",
       "      <td>389797</td>\n",
       "      <td>362202</td>\n",
       "      <td>482061</td>\n",
       "      <td>680984</td>\n",
       "      <td>805979</td>\n",
       "      <td>724664</td>\n",
       "      <td>785117</td>\n",
       "      <td>...</td>\n",
       "      <td>514502</td>\n",
       "      <td>519310</td>\n",
       "      <td>519334</td>\n",
       "      <td>508043</td>\n",
       "      <td>461042</td>\n",
       "      <td>478451</td>\n",
       "      <td>485710</td>\n",
       "      <td>507031</td>\n",
       "      <td>459015</td>\n",
       "      <td>439073</td>\n",
       "    </tr>\n",
       "    <tr>\n",
       "      <th>4</th>\n",
       "      <td>NaN</td>\n",
       "      <td>대구광역시</td>\n",
       "      <td>-</td>\n",
       "      <td>-</td>\n",
       "      <td>-</td>\n",
       "      <td>-</td>\n",
       "      <td>-</td>\n",
       "      <td>-</td>\n",
       "      <td>-</td>\n",
       "      <td>-</td>\n",
       "      <td>...</td>\n",
       "      <td>409938</td>\n",
       "      <td>398626</td>\n",
       "      <td>370817</td>\n",
       "      <td>370563</td>\n",
       "      <td>348642</td>\n",
       "      <td>351873</td>\n",
       "      <td>350213</td>\n",
       "      <td>351424</td>\n",
       "      <td>328228</td>\n",
       "      <td>321182</td>\n",
       "    </tr>\n",
       "  </tbody>\n",
       "</table>\n",
       "<p>5 rows × 50 columns</p>\n",
       "</div>"
      ],
      "text/plain": [
       "   전출지별   전입지별      1970      1971      1972      1973      1974      1975  \\\n",
       "0  전출지별   전입지별  이동자수 (명)  이동자수 (명)  이동자수 (명)  이동자수 (명)  이동자수 (명)  이동자수 (명)   \n",
       "1    전국     전국   4046536   4210164   3687938   4860418   5297969   9011440   \n",
       "2   NaN  서울특별시   1742813   1671705   1349333   1831858   2050392   3396662   \n",
       "3   NaN  부산광역시    448577    389797    362202    482061    680984    805979   \n",
       "4   NaN  대구광역시         -         -         -         -         -         -   \n",
       "\n",
       "       1976      1977  ...      2008      2009      2010      2011      2012  \\\n",
       "0  이동자수 (명)  이동자수 (명)  ...  이동자수 (명)  이동자수 (명)  이동자수 (명)  이동자수 (명)  이동자수 (명)   \n",
       "1   6773250   7397623  ...   8808256   8487275   8226594   8127195   7506691   \n",
       "2   2756510   2893403  ...   2025358   1873188   1733015   1721748   1555281   \n",
       "3    724664    785117  ...    514502    519310    519334    508043    461042   \n",
       "4         -         -  ...    409938    398626    370817    370563    348642   \n",
       "\n",
       "       2013      2014      2015      2016      2017  \n",
       "0  이동자수 (명)  이동자수 (명)  이동자수 (명)  이동자수 (명)  이동자수 (명)  \n",
       "1   7411784   7629098   7755286   7378430   7154226  \n",
       "2   1520090   1573594   1589431   1515602   1472937  \n",
       "3    478451    485710    507031    459015    439073  \n",
       "4    351873    350213    351424    328228    321182  \n",
       "\n",
       "[5 rows x 50 columns]"
      ]
     },
     "execution_count": 128,
     "metadata": {},
     "output_type": "execute_result"
    }
   ],
   "source": [
    "import pandas as pd\n",
    "\n",
    "# 데이터 시각화에 사용할 matplotlib.pyplot 모듈을 import\n",
    "import matplotlib.pyplot as plt\n",
    "\n",
    "# 엑셀 데이터를 데이터프레임으로 변환\n",
    "df = pd.read_excel(\"data/시도별 전출입 인구수.xlsx\", engine = \"openpyxl\", header = 0)\n",
    "df.head()"
   ]
  },
  {
   "cell_type": "markdown",
   "id": "6d2d614d",
   "metadata": {},
   "source": [
    "- '전출지별' 열에는 누락 데이터(NaN) 다수 존재\n",
    " - 엑셀 파일에서 병합된 셀을 데이터프레임으로 변환할 때 적절한 값을 찾기 못해서 발생한 문제 \n",
    " - method = 'ffill' 옵션을 사용하여 누락데이터가 있는 바로 앞에 위치한 데이터 값으로 채움\n",
    " - 3행의 NaN 값을 2행의 데이터('전국')로 대체 가능\n",
    " \n",
    "서울 -> 다른 지역\n",
    "1. method = 'ffill'\n",
    "2. 서울에서 다른 지역으로 이동한 데이터만 추출(A 열은 서울, B 열은 서울 X)\n",
    "3. 전출지별 열 제거\n",
    "4. 전입지별 -> 전입지\n",
    "5. 전입지를 행 인덱스로 지정"
   ]
  },
  {
   "cell_type": "markdown",
   "id": "ad109b6b",
   "metadata": {},
   "source": [
    "선 그래프 예제(서울 -> 경기)<br>\n",
    "선 그래프 예제"
   ]
  },
  {
   "cell_type": "code",
   "execution_count": 133,
   "id": "7d18d87b",
   "metadata": {
    "scrolled": true
   },
   "outputs": [],
   "source": [
    "# 누락값(NaN)을 앞 데이터로 채우기(엑셀 양식 병합)\n",
    "df = df.fillna(method = 'ffill')\n",
    "\n",
    "# 서울에서 다른 지역으로 이동한 데이터만 추출\n",
    "mask = (df['전출지별'] == '서울특별시') & (df['전입지별'] != '서울특별시')\n",
    "df_seoul = df[mask]\n",
    "df_seoul = df_seoul.drop(['전출지별'], axis=1)\n",
    "df_seoul.rename({'전입지별':'전입지'}, axis=1, inplace = True)\n",
    "df_seoul.set_index('전입지', inplace=True)\n"
   ]
  },
  {
   "cell_type": "code",
   "execution_count": 134,
   "id": "be13e153",
   "metadata": {
    "scrolled": true
   },
   "outputs": [
    {
     "data": {
      "text/html": [
       "<div>\n",
       "<style scoped>\n",
       "    .dataframe tbody tr th:only-of-type {\n",
       "        vertical-align: middle;\n",
       "    }\n",
       "\n",
       "    .dataframe tbody tr th {\n",
       "        vertical-align: top;\n",
       "    }\n",
       "\n",
       "    .dataframe thead th {\n",
       "        text-align: right;\n",
       "    }\n",
       "</style>\n",
       "<table border=\"1\" class=\"dataframe\">\n",
       "  <thead>\n",
       "    <tr style=\"text-align: right;\">\n",
       "      <th></th>\n",
       "      <th>1970</th>\n",
       "      <th>1971</th>\n",
       "      <th>1972</th>\n",
       "      <th>1973</th>\n",
       "      <th>1974</th>\n",
       "      <th>1975</th>\n",
       "      <th>1976</th>\n",
       "      <th>1977</th>\n",
       "      <th>1978</th>\n",
       "      <th>1979</th>\n",
       "      <th>...</th>\n",
       "      <th>2008</th>\n",
       "      <th>2009</th>\n",
       "      <th>2010</th>\n",
       "      <th>2011</th>\n",
       "      <th>2012</th>\n",
       "      <th>2013</th>\n",
       "      <th>2014</th>\n",
       "      <th>2015</th>\n",
       "      <th>2016</th>\n",
       "      <th>2017</th>\n",
       "    </tr>\n",
       "    <tr>\n",
       "      <th>전입지</th>\n",
       "      <th></th>\n",
       "      <th></th>\n",
       "      <th></th>\n",
       "      <th></th>\n",
       "      <th></th>\n",
       "      <th></th>\n",
       "      <th></th>\n",
       "      <th></th>\n",
       "      <th></th>\n",
       "      <th></th>\n",
       "      <th></th>\n",
       "      <th></th>\n",
       "      <th></th>\n",
       "      <th></th>\n",
       "      <th></th>\n",
       "      <th></th>\n",
       "      <th></th>\n",
       "      <th></th>\n",
       "      <th></th>\n",
       "      <th></th>\n",
       "      <th></th>\n",
       "    </tr>\n",
       "  </thead>\n",
       "  <tbody>\n",
       "    <tr>\n",
       "      <th>전국</th>\n",
       "      <td>1448985</td>\n",
       "      <td>1419016</td>\n",
       "      <td>1210559</td>\n",
       "      <td>1647268</td>\n",
       "      <td>1819660</td>\n",
       "      <td>2937093</td>\n",
       "      <td>2495620</td>\n",
       "      <td>2678007</td>\n",
       "      <td>3028911</td>\n",
       "      <td>2441242</td>\n",
       "      <td>...</td>\n",
       "      <td>2083352</td>\n",
       "      <td>1925452</td>\n",
       "      <td>1848038</td>\n",
       "      <td>1834806</td>\n",
       "      <td>1658928</td>\n",
       "      <td>1620640</td>\n",
       "      <td>1661425</td>\n",
       "      <td>1726687</td>\n",
       "      <td>1655859</td>\n",
       "      <td>1571423</td>\n",
       "    </tr>\n",
       "    <tr>\n",
       "      <th>부산광역시</th>\n",
       "      <td>11568</td>\n",
       "      <td>11130</td>\n",
       "      <td>11768</td>\n",
       "      <td>16307</td>\n",
       "      <td>22220</td>\n",
       "      <td>27515</td>\n",
       "      <td>23732</td>\n",
       "      <td>27213</td>\n",
       "      <td>29856</td>\n",
       "      <td>28542</td>\n",
       "      <td>...</td>\n",
       "      <td>17353</td>\n",
       "      <td>17738</td>\n",
       "      <td>17418</td>\n",
       "      <td>18816</td>\n",
       "      <td>16135</td>\n",
       "      <td>16153</td>\n",
       "      <td>17320</td>\n",
       "      <td>17009</td>\n",
       "      <td>15062</td>\n",
       "      <td>14484</td>\n",
       "    </tr>\n",
       "    <tr>\n",
       "      <th>대구광역시</th>\n",
       "      <td>-</td>\n",
       "      <td>-</td>\n",
       "      <td>-</td>\n",
       "      <td>-</td>\n",
       "      <td>-</td>\n",
       "      <td>-</td>\n",
       "      <td>-</td>\n",
       "      <td>-</td>\n",
       "      <td>-</td>\n",
       "      <td>-</td>\n",
       "      <td>...</td>\n",
       "      <td>9720</td>\n",
       "      <td>10464</td>\n",
       "      <td>10277</td>\n",
       "      <td>10397</td>\n",
       "      <td>10135</td>\n",
       "      <td>10631</td>\n",
       "      <td>10062</td>\n",
       "      <td>10191</td>\n",
       "      <td>9623</td>\n",
       "      <td>8891</td>\n",
       "    </tr>\n",
       "    <tr>\n",
       "      <th>인천광역시</th>\n",
       "      <td>-</td>\n",
       "      <td>-</td>\n",
       "      <td>-</td>\n",
       "      <td>-</td>\n",
       "      <td>-</td>\n",
       "      <td>-</td>\n",
       "      <td>-</td>\n",
       "      <td>-</td>\n",
       "      <td>-</td>\n",
       "      <td>-</td>\n",
       "      <td>...</td>\n",
       "      <td>50493</td>\n",
       "      <td>45392</td>\n",
       "      <td>46082</td>\n",
       "      <td>51641</td>\n",
       "      <td>49640</td>\n",
       "      <td>47424</td>\n",
       "      <td>43212</td>\n",
       "      <td>44915</td>\n",
       "      <td>43745</td>\n",
       "      <td>40485</td>\n",
       "    </tr>\n",
       "    <tr>\n",
       "      <th>광주광역시</th>\n",
       "      <td>-</td>\n",
       "      <td>-</td>\n",
       "      <td>-</td>\n",
       "      <td>-</td>\n",
       "      <td>-</td>\n",
       "      <td>-</td>\n",
       "      <td>-</td>\n",
       "      <td>-</td>\n",
       "      <td>-</td>\n",
       "      <td>-</td>\n",
       "      <td>...</td>\n",
       "      <td>10846</td>\n",
       "      <td>11725</td>\n",
       "      <td>11095</td>\n",
       "      <td>10587</td>\n",
       "      <td>10154</td>\n",
       "      <td>9129</td>\n",
       "      <td>9759</td>\n",
       "      <td>9216</td>\n",
       "      <td>8354</td>\n",
       "      <td>7932</td>\n",
       "    </tr>\n",
       "    <tr>\n",
       "      <th>대전광역시</th>\n",
       "      <td>-</td>\n",
       "      <td>-</td>\n",
       "      <td>-</td>\n",
       "      <td>-</td>\n",
       "      <td>-</td>\n",
       "      <td>-</td>\n",
       "      <td>-</td>\n",
       "      <td>-</td>\n",
       "      <td>-</td>\n",
       "      <td>-</td>\n",
       "      <td>...</td>\n",
       "      <td>13515</td>\n",
       "      <td>13632</td>\n",
       "      <td>13819</td>\n",
       "      <td>13900</td>\n",
       "      <td>14080</td>\n",
       "      <td>13440</td>\n",
       "      <td>13403</td>\n",
       "      <td>13453</td>\n",
       "      <td>12619</td>\n",
       "      <td>11815</td>\n",
       "    </tr>\n",
       "    <tr>\n",
       "      <th>울산광역시</th>\n",
       "      <td>-</td>\n",
       "      <td>-</td>\n",
       "      <td>-</td>\n",
       "      <td>-</td>\n",
       "      <td>-</td>\n",
       "      <td>-</td>\n",
       "      <td>-</td>\n",
       "      <td>-</td>\n",
       "      <td>-</td>\n",
       "      <td>-</td>\n",
       "      <td>...</td>\n",
       "      <td>5057</td>\n",
       "      <td>4845</td>\n",
       "      <td>4742</td>\n",
       "      <td>5188</td>\n",
       "      <td>5691</td>\n",
       "      <td>5542</td>\n",
       "      <td>6047</td>\n",
       "      <td>5950</td>\n",
       "      <td>5102</td>\n",
       "      <td>4260</td>\n",
       "    </tr>\n",
       "    <tr>\n",
       "      <th>세종특별자치시</th>\n",
       "      <td>-</td>\n",
       "      <td>-</td>\n",
       "      <td>-</td>\n",
       "      <td>-</td>\n",
       "      <td>-</td>\n",
       "      <td>-</td>\n",
       "      <td>-</td>\n",
       "      <td>-</td>\n",
       "      <td>-</td>\n",
       "      <td>-</td>\n",
       "      <td>...</td>\n",
       "      <td>-</td>\n",
       "      <td>-</td>\n",
       "      <td>-</td>\n",
       "      <td>-</td>\n",
       "      <td>2998</td>\n",
       "      <td>2851</td>\n",
       "      <td>6481</td>\n",
       "      <td>7550</td>\n",
       "      <td>5943</td>\n",
       "      <td>5813</td>\n",
       "    </tr>\n",
       "    <tr>\n",
       "      <th>경기도</th>\n",
       "      <td>130149</td>\n",
       "      <td>150313</td>\n",
       "      <td>93333</td>\n",
       "      <td>143234</td>\n",
       "      <td>149045</td>\n",
       "      <td>253705</td>\n",
       "      <td>202276</td>\n",
       "      <td>207722</td>\n",
       "      <td>237684</td>\n",
       "      <td>278411</td>\n",
       "      <td>...</td>\n",
       "      <td>412408</td>\n",
       "      <td>398282</td>\n",
       "      <td>410735</td>\n",
       "      <td>373771</td>\n",
       "      <td>354135</td>\n",
       "      <td>340801</td>\n",
       "      <td>332785</td>\n",
       "      <td>359337</td>\n",
       "      <td>370760</td>\n",
       "      <td>342433</td>\n",
       "    </tr>\n",
       "    <tr>\n",
       "      <th>강원도</th>\n",
       "      <td>9352</td>\n",
       "      <td>12885</td>\n",
       "      <td>13561</td>\n",
       "      <td>16481</td>\n",
       "      <td>15479</td>\n",
       "      <td>27837</td>\n",
       "      <td>25927</td>\n",
       "      <td>25415</td>\n",
       "      <td>26700</td>\n",
       "      <td>27599</td>\n",
       "      <td>...</td>\n",
       "      <td>23668</td>\n",
       "      <td>23331</td>\n",
       "      <td>22736</td>\n",
       "      <td>23624</td>\n",
       "      <td>22332</td>\n",
       "      <td>20601</td>\n",
       "      <td>21173</td>\n",
       "      <td>22659</td>\n",
       "      <td>21590</td>\n",
       "      <td>21016</td>\n",
       "    </tr>\n",
       "    <tr>\n",
       "      <th>충청북도</th>\n",
       "      <td>6700</td>\n",
       "      <td>9457</td>\n",
       "      <td>10853</td>\n",
       "      <td>12617</td>\n",
       "      <td>11786</td>\n",
       "      <td>21073</td>\n",
       "      <td>18029</td>\n",
       "      <td>17478</td>\n",
       "      <td>18420</td>\n",
       "      <td>20047</td>\n",
       "      <td>...</td>\n",
       "      <td>15294</td>\n",
       "      <td>15295</td>\n",
       "      <td>15461</td>\n",
       "      <td>15318</td>\n",
       "      <td>14555</td>\n",
       "      <td>13783</td>\n",
       "      <td>14244</td>\n",
       "      <td>14379</td>\n",
       "      <td>14087</td>\n",
       "      <td>13302</td>\n",
       "    </tr>\n",
       "    <tr>\n",
       "      <th>충청남도</th>\n",
       "      <td>15954</td>\n",
       "      <td>18943</td>\n",
       "      <td>23406</td>\n",
       "      <td>27139</td>\n",
       "      <td>25509</td>\n",
       "      <td>51205</td>\n",
       "      <td>41447</td>\n",
       "      <td>43993</td>\n",
       "      <td>48091</td>\n",
       "      <td>45388</td>\n",
       "      <td>...</td>\n",
       "      <td>27458</td>\n",
       "      <td>24889</td>\n",
       "      <td>24522</td>\n",
       "      <td>24723</td>\n",
       "      <td>22269</td>\n",
       "      <td>21486</td>\n",
       "      <td>21473</td>\n",
       "      <td>22299</td>\n",
       "      <td>21741</td>\n",
       "      <td>21020</td>\n",
       "    </tr>\n",
       "    <tr>\n",
       "      <th>전라북도</th>\n",
       "      <td>10814</td>\n",
       "      <td>13192</td>\n",
       "      <td>16583</td>\n",
       "      <td>18642</td>\n",
       "      <td>16647</td>\n",
       "      <td>34411</td>\n",
       "      <td>29835</td>\n",
       "      <td>28444</td>\n",
       "      <td>29676</td>\n",
       "      <td>31570</td>\n",
       "      <td>...</td>\n",
       "      <td>18390</td>\n",
       "      <td>18332</td>\n",
       "      <td>17569</td>\n",
       "      <td>17755</td>\n",
       "      <td>16120</td>\n",
       "      <td>14909</td>\n",
       "      <td>14566</td>\n",
       "      <td>14835</td>\n",
       "      <td>13835</td>\n",
       "      <td>13179</td>\n",
       "    </tr>\n",
       "    <tr>\n",
       "      <th>전라남도</th>\n",
       "      <td>10513</td>\n",
       "      <td>16755</td>\n",
       "      <td>20157</td>\n",
       "      <td>22160</td>\n",
       "      <td>21314</td>\n",
       "      <td>46610</td>\n",
       "      <td>46251</td>\n",
       "      <td>43430</td>\n",
       "      <td>44624</td>\n",
       "      <td>47934</td>\n",
       "      <td>...</td>\n",
       "      <td>16601</td>\n",
       "      <td>17468</td>\n",
       "      <td>16429</td>\n",
       "      <td>15974</td>\n",
       "      <td>14765</td>\n",
       "      <td>14187</td>\n",
       "      <td>14591</td>\n",
       "      <td>14598</td>\n",
       "      <td>13065</td>\n",
       "      <td>12426</td>\n",
       "    </tr>\n",
       "    <tr>\n",
       "      <th>경상북도</th>\n",
       "      <td>11868</td>\n",
       "      <td>16459</td>\n",
       "      <td>22073</td>\n",
       "      <td>27531</td>\n",
       "      <td>26902</td>\n",
       "      <td>46177</td>\n",
       "      <td>40376</td>\n",
       "      <td>41155</td>\n",
       "      <td>42940</td>\n",
       "      <td>43565</td>\n",
       "      <td>...</td>\n",
       "      <td>15425</td>\n",
       "      <td>16569</td>\n",
       "      <td>16042</td>\n",
       "      <td>15818</td>\n",
       "      <td>15191</td>\n",
       "      <td>14420</td>\n",
       "      <td>14456</td>\n",
       "      <td>15113</td>\n",
       "      <td>14236</td>\n",
       "      <td>12464</td>\n",
       "    </tr>\n",
       "    <tr>\n",
       "      <th>경상남도</th>\n",
       "      <td>8409</td>\n",
       "      <td>10001</td>\n",
       "      <td>11263</td>\n",
       "      <td>15193</td>\n",
       "      <td>16771</td>\n",
       "      <td>23150</td>\n",
       "      <td>22400</td>\n",
       "      <td>27393</td>\n",
       "      <td>28697</td>\n",
       "      <td>30183</td>\n",
       "      <td>...</td>\n",
       "      <td>15438</td>\n",
       "      <td>15303</td>\n",
       "      <td>15689</td>\n",
       "      <td>16039</td>\n",
       "      <td>14474</td>\n",
       "      <td>14447</td>\n",
       "      <td>14799</td>\n",
       "      <td>15220</td>\n",
       "      <td>13717</td>\n",
       "      <td>12692</td>\n",
       "    </tr>\n",
       "    <tr>\n",
       "      <th>제주특별자치도</th>\n",
       "      <td>1039</td>\n",
       "      <td>1325</td>\n",
       "      <td>1617</td>\n",
       "      <td>2456</td>\n",
       "      <td>2261</td>\n",
       "      <td>3440</td>\n",
       "      <td>3623</td>\n",
       "      <td>3551</td>\n",
       "      <td>3937</td>\n",
       "      <td>4261</td>\n",
       "      <td>...</td>\n",
       "      <td>5473</td>\n",
       "      <td>5332</td>\n",
       "      <td>5714</td>\n",
       "      <td>6133</td>\n",
       "      <td>6954</td>\n",
       "      <td>7828</td>\n",
       "      <td>9031</td>\n",
       "      <td>10434</td>\n",
       "      <td>10465</td>\n",
       "      <td>10404</td>\n",
       "    </tr>\n",
       "  </tbody>\n",
       "</table>\n",
       "<p>17 rows × 48 columns</p>\n",
       "</div>"
      ],
      "text/plain": [
       "            1970     1971     1972     1973     1974     1975     1976  \\\n",
       "전입지                                                                      \n",
       "전국       1448985  1419016  1210559  1647268  1819660  2937093  2495620   \n",
       "부산광역시      11568    11130    11768    16307    22220    27515    23732   \n",
       "대구광역시          -        -        -        -        -        -        -   \n",
       "인천광역시          -        -        -        -        -        -        -   \n",
       "광주광역시          -        -        -        -        -        -        -   \n",
       "대전광역시          -        -        -        -        -        -        -   \n",
       "울산광역시          -        -        -        -        -        -        -   \n",
       "세종특별자치시        -        -        -        -        -        -        -   \n",
       "경기도       130149   150313    93333   143234   149045   253705   202276   \n",
       "강원도         9352    12885    13561    16481    15479    27837    25927   \n",
       "충청북도        6700     9457    10853    12617    11786    21073    18029   \n",
       "충청남도       15954    18943    23406    27139    25509    51205    41447   \n",
       "전라북도       10814    13192    16583    18642    16647    34411    29835   \n",
       "전라남도       10513    16755    20157    22160    21314    46610    46251   \n",
       "경상북도       11868    16459    22073    27531    26902    46177    40376   \n",
       "경상남도        8409    10001    11263    15193    16771    23150    22400   \n",
       "제주특별자치도     1039     1325     1617     2456     2261     3440     3623   \n",
       "\n",
       "            1977     1978     1979  ...     2008     2009     2010     2011  \\\n",
       "전입지                                 ...                                       \n",
       "전국       2678007  3028911  2441242  ...  2083352  1925452  1848038  1834806   \n",
       "부산광역시      27213    29856    28542  ...    17353    17738    17418    18816   \n",
       "대구광역시          -        -        -  ...     9720    10464    10277    10397   \n",
       "인천광역시          -        -        -  ...    50493    45392    46082    51641   \n",
       "광주광역시          -        -        -  ...    10846    11725    11095    10587   \n",
       "대전광역시          -        -        -  ...    13515    13632    13819    13900   \n",
       "울산광역시          -        -        -  ...     5057     4845     4742     5188   \n",
       "세종특별자치시        -        -        -  ...        -        -        -        -   \n",
       "경기도       207722   237684   278411  ...   412408   398282   410735   373771   \n",
       "강원도        25415    26700    27599  ...    23668    23331    22736    23624   \n",
       "충청북도       17478    18420    20047  ...    15294    15295    15461    15318   \n",
       "충청남도       43993    48091    45388  ...    27458    24889    24522    24723   \n",
       "전라북도       28444    29676    31570  ...    18390    18332    17569    17755   \n",
       "전라남도       43430    44624    47934  ...    16601    17468    16429    15974   \n",
       "경상북도       41155    42940    43565  ...    15425    16569    16042    15818   \n",
       "경상남도       27393    28697    30183  ...    15438    15303    15689    16039   \n",
       "제주특별자치도     3551     3937     4261  ...     5473     5332     5714     6133   \n",
       "\n",
       "            2012     2013     2014     2015     2016     2017  \n",
       "전입지                                                            \n",
       "전국       1658928  1620640  1661425  1726687  1655859  1571423  \n",
       "부산광역시      16135    16153    17320    17009    15062    14484  \n",
       "대구광역시      10135    10631    10062    10191     9623     8891  \n",
       "인천광역시      49640    47424    43212    44915    43745    40485  \n",
       "광주광역시      10154     9129     9759     9216     8354     7932  \n",
       "대전광역시      14080    13440    13403    13453    12619    11815  \n",
       "울산광역시       5691     5542     6047     5950     5102     4260  \n",
       "세종특별자치시     2998     2851     6481     7550     5943     5813  \n",
       "경기도       354135   340801   332785   359337   370760   342433  \n",
       "강원도        22332    20601    21173    22659    21590    21016  \n",
       "충청북도       14555    13783    14244    14379    14087    13302  \n",
       "충청남도       22269    21486    21473    22299    21741    21020  \n",
       "전라북도       16120    14909    14566    14835    13835    13179  \n",
       "전라남도       14765    14187    14591    14598    13065    12426  \n",
       "경상북도       15191    14420    14456    15113    14236    12464  \n",
       "경상남도       14474    14447    14799    15220    13717    12692  \n",
       "제주특별자치도     6954     7828     9031    10434    10465    10404  \n",
       "\n",
       "[17 rows x 48 columns]"
      ]
     },
     "execution_count": 134,
     "metadata": {},
     "output_type": "execute_result"
    }
   ],
   "source": [
    "df_seoul"
   ]
  },
  {
   "cell_type": "markdown",
   "id": "e4d557c4",
   "metadata": {},
   "source": [
    "선 그래프 예제(데이터 추출)"
   ]
  },
  {
   "cell_type": "code",
   "execution_count": 137,
   "id": "675460bd",
   "metadata": {},
   "outputs": [],
   "source": [
    "# 서울에서 경기도로 이동한 인구데이터 값만 선택\n",
    "s_to_g = df_seoul.loc['경기도']"
   ]
  },
  {
   "cell_type": "code",
   "execution_count": 136,
   "id": "e9d95ce6",
   "metadata": {},
   "outputs": [
    {
     "name": "stdout",
     "output_type": "stream",
     "text": [
      "1970    130149\n",
      "1971    150313\n",
      "1972     93333\n",
      "1973    143234\n",
      "1974    149045\n",
      "1975    253705\n",
      "1976    202276\n",
      "1977    207722\n",
      "1978    237684\n",
      "1979    278411\n",
      "1980    297539\n",
      "1981    252073\n",
      "1982    320174\n",
      "1983    400875\n",
      "1984    352238\n",
      "1985    390265\n",
      "1986    412535\n",
      "1987    405220\n",
      "1988    415174\n",
      "1989    412933\n",
      "1990    473889\n",
      "1991    384714\n",
      "1992    428344\n",
      "1993    502584\n",
      "1994    542204\n",
      "1995    599411\n",
      "1996    520566\n",
      "1997    495454\n",
      "1998    407050\n",
      "1999    471841\n",
      "2000    435573\n",
      "2001    499575\n",
      "2002    516765\n",
      "2003    457656\n",
      "2004    400206\n",
      "2005    414621\n",
      "2006    449632\n",
      "2007    431637\n",
      "2008    412408\n",
      "2009    398282\n",
      "2010    410735\n",
      "2011    373771\n",
      "2012    354135\n",
      "2013    340801\n",
      "2014    332785\n",
      "2015    359337\n",
      "2016    370760\n",
      "2017    342433\n",
      "Name: 경기도, dtype: object\n"
     ]
    }
   ],
   "source": [
    "print(s_to_g)"
   ]
  },
  {
   "cell_type": "markdown",
   "id": "d3db1bad",
   "metadata": {},
   "source": [
    "선 그래프 예제(선 그래프 그리기)"
   ]
  },
  {
   "cell_type": "code",
   "execution_count": 140,
   "id": "f2f3d45e",
   "metadata": {},
   "outputs": [
    {
     "data": {
      "text/plain": [
       "[<matplotlib.lines.Line2D at 0x2aa03ef31c0>]"
      ]
     },
     "execution_count": 140,
     "metadata": {},
     "output_type": "execute_result"
    },
    {
     "data": {
      "image/png": "[encoded data removed]",
      "text/plain": [
       "<Figure size 432x288 with 1 Axes>"
      ]
     },
     "metadata": {
      "needs_background": "light"
     },
     "output_type": "display_data"
    }
   ],
   "source": [
    "# x축에는 연도, y축엔 이동 수\n",
    "plt.plot(s_to_g.index, s_to_g.values)"
   ]
  },
  {
   "cell_type": "code",
   "execution_count": 141,
   "id": "5e423072",
   "metadata": {},
   "outputs": [
    {
     "data": {
      "text/plain": [
       "[<matplotlib.lines.Line2D at 0x2aa03b90ac0>]"
      ]
     },
     "execution_count": 141,
     "metadata": {},
     "output_type": "execute_result"
    },
    {
     "data": {
      "image/png": "[encoded data removed]",
      "text/plain": [
       "<Figure size 432x288 with 1 Axes>"
      ]
     },
     "metadata": {
      "needs_background": "light"
     },
     "output_type": "display_data"
    }
   ],
   "source": [
    "plt.plot(s_to_g)"
   ]
  },
  {
   "cell_type": "markdown",
   "id": "e3bbc168",
   "metadata": {},
   "source": [
    "### 차트 제목, 축 이름 추가\n",
    "- 그래프 객체에 차트 제목을 추가할 떄는 title() 함수 사용\n",
    "- x축 이름은 xlabel() 함수 사용\n",
    "- y축 이름은 ylabel() 함수 사용"
   ]
  },
  {
   "cell_type": "markdown",
   "id": "2730f07e",
   "metadata": {},
   "source": [
    "차트 제목, 축 이름 추가 예제"
   ]
  },
  {
   "cell_type": "code",
   "execution_count": 147,
   "id": "126c2ab1",
   "metadata": {},
   "outputs": [
    {
     "data": {
      "image/png": "[encoded data removed]",
      "text/plain": [
       "<Figure size 432x288 with 1 Axes>"
      ]
     },
     "metadata": {
      "needs_background": "light"
     },
     "output_type": "display_data"
    }
   ],
   "source": [
    "# x축에는 연도, y축엔 이동 수\n",
    "plt.plot(s_to_g.index, s_to_g.values)\n",
    "\n",
    "# 차트 제목 추가\n",
    "plt.title(\"Seoul to Gyunggi Population transfer\")\n",
    "\n",
    "# 축 이름 추가\n",
    "plt.ylabel(\"moving population\")\n",
    "plt.xlabel(\"Year\")\n",
    "\n",
    "# 차트를 시각화\n",
    "plt.show()"
   ]
  },
  {
   "cell_type": "markdown",
   "id": "e260a981",
   "metadata": {},
   "source": [
    "- 그림의 틀 부터 지정하고 실질적인 값을 넣어주기"
   ]
  },
  {
   "cell_type": "markdown",
   "id": "18d1d513",
   "metadata": {},
   "source": [
    "### Matplotlib 한글 폰트 문제 해결\n",
    "- Matplotlib은 한글 폰트 지원 x\n",
    "- 파이썬 프로그램의 앞부분에 한글 폰트를 지정하는 코드 추가"
   ]
  },
  {
   "cell_type": "markdown",
   "id": "e7ecf35b",
   "metadata": {},
   "source": [
    "폰트 오류 해결 예제"
   ]
  },
  {
   "cell_type": "code",
   "execution_count": 156,
   "id": "79a942dc",
   "metadata": {},
   "outputs": [
    {
     "data": {
      "image/png": "[encoded data removed]",
      "text/plain": [
       "<Figure size 432x288 with 1 Axes>"
      ]
     },
     "metadata": {
      "needs_background": "light"
     },
     "output_type": "display_data"
    }
   ],
   "source": [
    "# matplotlib 한글 폰트 오류 문제 해결\n",
    "# font_manager는 경로와 이름을 가지고 폰트를 지정\n",
    "# rc는 폰트를 적용\n",
    "from matplotlib import font_manager, rc\n",
    "font_path = \"data/malgun.ttf\"\n",
    "font_name = font_manager.FontProperties(fname = font_path).get_name()\n",
    "rc('font', family = font_name)\n",
    "\n",
    "# x축에는 연도, y축엔 이동 수\n",
    "plt.plot(s_to_g.index, s_to_g.values)\n",
    "\n",
    "# 차트 제목 추가\n",
    "plt.title(\"서울에서 경기도로 이주한 인구\")\n",
    "\n",
    "# 축 이름 추가\n",
    "plt.ylabel(\"이주한 인구수\")\n",
    "plt.xlabel(\"연도\")\n",
    "\n",
    "# 차트를 시각화\n",
    "plt.show()"
   ]
  },
  {
   "cell_type": "markdown",
   "id": "caff14e7",
   "metadata": {},
   "source": [
    "### 그래프 꾸미기\n",
    "x축 눈금 라벨의 글씨가 서로 겹쳐 잘 보이지 않는 문제를 해결\n",
    "- 눈금 라벨이 들어갈 만한 충분한 여유 공간이 없기 떄문에 발생하는 문제\n",
    "\n",
    "해결방법 두가지\n",
    "1. 공간을 만들기 위해 figure 함수를 사용하여 그림틀의 가로 사이즈를 더 크게 설정\n",
    "2. xticks()를 사용하여 눈금 라벨을 회전"
   ]
  },
  {
   "cell_type": "code",
   "execution_count": 155,
   "id": "33bd7243",
   "metadata": {},
   "outputs": [
    {
     "data": {
      "image/png": "[encoded data removed]",
      "text/plain": [
       "<Figure size 1008x360 with 1 Axes>"
      ]
     },
     "metadata": {
      "needs_background": "light"
     },
     "output_type": "display_data"
    }
   ],
   "source": [
    "# matplotlib 한글 폰트 오류 문제 해결\n",
    "# font_manager는 경로와 이름을 가지고 폰트를 지정\n",
    "# rc는 폰트를 적용\n",
    "from matplotlib import font_manager, rc\n",
    "font_path = \"data/malgun.ttf\"\n",
    "font_name = font_manager.FontProperties(fname = font_path).get_name()\n",
    "rc('font', family = font_name)\n",
    "\n",
    "# 그림 사이즈를 지정(가로 14인치, 세로 5인치)\n",
    "plt.figure(figsize = (14,5))\n",
    "\n",
    "# x축 눈금 라벨 회전\n",
    "plt.xticks(rotation='vertical')\n",
    "\n",
    "# x축에는 연도, y축엔 이동 수\n",
    "plt.plot(s_to_g.index, s_to_g.values)\n",
    "\n",
    "# 차트 제목 추가\n",
    "plt.title(\"서울에서 경기도로 이주한 인구\")\n",
    "\n",
    "# 축 이름 추가\n",
    "plt.ylabel(\"이주한 인구수\")\n",
    "plt.xlabel(\"연도\")\n",
    "\n",
    "# 차트를 시각화\n",
    "plt.show()"
   ]
  },
  {
   "cell_type": "markdown",
   "id": "59998a94",
   "metadata": {},
   "source": [
    "- 글씨를 회전하기 위해 사용한 rotation = 'vertical' 옵션에 vertical 대신 각도를 나타내는 숫자를 입력해도 됨\n",
    " - ex) plt.xticks(rotation= 45) -> 45도 회전\n",
    " "
   ]
  },
  {
   "cell_type": "markdown",
   "id": "71125869",
   "metadata": {},
   "source": [
    "### Matplotlib의 스타일 서식 지정\n",
    "- 색, 스타일 등 디자인적 요소를 사전에 지정된 스타일로 빠르게 변경 가능\n",
    " - 스타일 서식 지정은 Matplotlib 실행 환경 설정을 변경하는 것이므로 다른 파일을 실행할 때도 계속 적용되는 점 유의\n",
    " - 예제에서는 'ggplot'이라는 스타일 서식 지정\n",
    " - x축 눈금 라벨을 지정하는 xticks() 함수에 size=10 옵션을 추가하여 폰트 크기를 10으로 설정\n",
    " - plot() 함수에 marker='o' 옵션을 추가하면 원 모양의 점을 마커로 표시"
   ]
  },
  {
   "cell_type": "code",
   "execution_count": 169,
   "id": "e01c6f57",
   "metadata": {},
   "outputs": [
    {
     "data": {
      "image/png": "[encoded data removed]",
      "text/plain": [
       "<Figure size 1008x360 with 1 Axes>"
      ]
     },
     "metadata": {},
     "output_type": "display_data"
    }
   ],
   "source": [
    "# matplotlib 한글 폰트 오류 문제 해결\n",
    "# font_manager는 경로와 이름을 가지고 폰트를 지정\n",
    "# rc는 폰트를 적용\n",
    "from matplotlib import font_manager, rc\n",
    "font_path = \"data/malgun.ttf\"\n",
    "font_name = font_manager.FontProperties(fname = font_path).get_name()\n",
    "rc('font', family = font_name)\n",
    "\n",
    "# 스타일 서식 지정\n",
    "plt.style.use('ggplot')\n",
    "\n",
    "# 그림 사이즈를 지정(가로 14인치, 세로 5인치)\n",
    "plt.figure(figsize = (14,5))\n",
    "\n",
    "# x축 눈금 라벨 회전\n",
    "plt.xticks(rotation='vertical')\n",
    "\n",
    "\n",
    "# x축에는 연도, y축엔 이동 수\n",
    "plt.plot(s_to_g.index, s_to_g.values, marker= 'o', markersize=5)\n",
    "\n",
    "# 차트 제목 추가\n",
    "plt.title(\"서울에서 경기도로 이주한 인구\" ,size = 30)\n",
    "\n",
    "# 축 이름 추가\n",
    "plt.ylabel(\"이주한 인구수\", size = 20)\n",
    "plt.xlabel(\"연도\", size = 20)\n",
    "\n",
    "# 범례 추가\n",
    "plt.legend(labels=['서울 -> 경기'], loc='best', fontsize = 15)\n",
    "\n",
    "# 차트를 시각화\n",
    "plt.show()\n",
    "\n",
    "# 차트 저장하기\n",
    "# plt.savefig(\"data/img1.png\")"
   ]
  },
  {
   "cell_type": "code",
   "execution_count": 168,
   "id": "6db4ef0b",
   "metadata": {},
   "outputs": [
    {
     "data": {
      "image/png": "[encoded data removed]",
      "text/plain": [
       "<Figure size 432x288 with 1 Axes>"
      ]
     },
     "metadata": {},
     "output_type": "display_data"
    }
   ],
   "source": [
    "# 위에서 설정한 스타일 ggplot이 그대로 적용되는 모습을 볼 수 있음\n",
    "x= [1,2,3,4,5]\n",
    "y=[1,2,3,4,5]\n",
    "plt.plot(x, y)\n",
    "plt.show()"
   ]
  },
  {
   "cell_type": "markdown",
   "id": "9ae42f3f",
   "metadata": {},
   "source": [
    "---\n",
    "**Matplotlib 스타일 서식 종류**\n",
    "- default, classic, bmh, dark_background, fast, grayscale, seaborn 등\n",
    "---"
   ]
  },
  {
   "cell_type": "code",
   "execution_count": null,
   "id": "fa19f455",
   "metadata": {},
   "outputs": [],
   "source": []
  }
 ],
 "metadata": {
  "kernelspec": {
   "display_name": "Python 3 (ipykernel)",
   "language": "python",
   "name": "python3"
  },
  "language_info": {
   "codemirror_mode": {
    "name": "ipython",
    "version": 3
   },
   "file_extension": ".py",
   "mimetype": "text/x-python",
   "name": "python",
   "nbconvert_exporter": "python",
   "pygments_lexer": "ipython3",
   "version": "3.9.7"
  }
 },
 "nbformat": 4,
 "nbformat_minor": 5
}
