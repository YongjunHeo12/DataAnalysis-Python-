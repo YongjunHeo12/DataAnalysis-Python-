{
 "cells": [
  {
   "cell_type": "markdown",
   "id": "68234368",
   "metadata": {},
   "source": [
    "sorted() 함수 - 입력값을 정렬하고 리스트로 반환"
   ]
  },
  {
   "cell_type": "code",
   "execution_count": 1,
   "id": "8c2a199e",
   "metadata": {},
   "outputs": [
    {
     "data": {
      "text/plain": [
       "[1, 2, 3]"
      ]
     },
     "execution_count": 1,
     "metadata": {},
     "output_type": "execute_result"
    }
   ],
   "source": [
    "sorted([3,1,2])"
   ]
  },
  {
   "cell_type": "code",
   "execution_count": 2,
   "id": "07b753f2",
   "metadata": {},
   "outputs": [
    {
     "data": {
      "text/plain": [
       "['a', 'b', 'c']"
      ]
     },
     "execution_count": 2,
     "metadata": {},
     "output_type": "execute_result"
    }
   ],
   "source": [
    "sorted(['a','c','b'])"
   ]
  },
  {
   "cell_type": "code",
   "execution_count": 4,
   "id": "c94e8150",
   "metadata": {},
   "outputs": [
    {
     "data": {
      "text/plain": [
       "['e', 'o', 'r', 'z']"
      ]
     },
     "execution_count": 4,
     "metadata": {},
     "output_type": "execute_result"
    }
   ],
   "source": [
    "sorted(\"zero\")"
   ]
  },
  {
   "cell_type": "code",
   "execution_count": 6,
   "id": "476048e3",
   "metadata": {},
   "outputs": [
    {
     "data": {
      "text/plain": [
       "[0, 1, 2, 3]"
      ]
     },
     "execution_count": 6,
     "metadata": {},
     "output_type": "execute_result"
    }
   ],
   "source": [
    "sorted((3,2,1,0))"
   ]
  },
  {
   "cell_type": "markdown",
   "id": "3c3bf756",
   "metadata": {},
   "source": [
    "리스트의 sort()함수 예제"
   ]
  },
  {
   "cell_type": "code",
   "execution_count": 7,
   "id": "734b345a",
   "metadata": {},
   "outputs": [],
   "source": [
    "a= [1,4,2,3]"
   ]
  },
  {
   "cell_type": "code",
   "execution_count": 8,
   "id": "c36dbe0c",
   "metadata": {},
   "outputs": [],
   "source": [
    "a.sort()"
   ]
  },
  {
   "cell_type": "code",
   "execution_count": 9,
   "id": "f7539cef",
   "metadata": {},
   "outputs": [
    {
     "name": "stdout",
     "output_type": "stream",
     "text": [
      "[1, 2, 3, 4]\n"
     ]
    }
   ],
   "source": [
    "print(a)"
   ]
  },
  {
   "cell_type": "markdown",
   "id": "4fa5ec43",
   "metadata": {},
   "source": [
    "str() 함수 - 문자열 형태로 객체를 돌려줌(.upper()) or (.lower()) 가능"
   ]
  },
  {
   "cell_type": "code",
   "execution_count": 10,
   "id": "3c7cf69d",
   "metadata": {},
   "outputs": [
    {
     "data": {
      "text/plain": [
       "'3'"
      ]
     },
     "execution_count": 10,
     "metadata": {},
     "output_type": "execute_result"
    }
   ],
   "source": [
    "str(3)"
   ]
  },
  {
   "cell_type": "code",
   "execution_count": 14,
   "id": "d91d34ab",
   "metadata": {},
   "outputs": [
    {
     "data": {
      "text/plain": [
       "'DSA'"
      ]
     },
     "execution_count": 14,
     "metadata": {},
     "output_type": "execute_result"
    }
   ],
   "source": [
    "str('dsa'.upper())"
   ]
  },
  {
   "cell_type": "code",
   "execution_count": 15,
   "id": "14ec6fc2",
   "metadata": {},
   "outputs": [
    {
     "data": {
      "text/plain": [
       "'dsa'"
      ]
     },
     "execution_count": 15,
     "metadata": {},
     "output_type": "execute_result"
    }
   ],
   "source": [
    "str('DSA'.lower())"
   ]
  },
  {
   "cell_type": "markdown",
   "id": "7d41daa2",
   "metadata": {},
   "source": [
    "`sum() 함수 예제"
   ]
  },
  {
   "cell_type": "code",
   "execution_count": 16,
   "id": "bf59e25a",
   "metadata": {},
   "outputs": [
    {
     "data": {
      "text/plain": [
       "6"
      ]
     },
     "execution_count": 16,
     "metadata": {},
     "output_type": "execute_result"
    }
   ],
   "source": [
    "sum([1,2,3])"
   ]
  },
  {
   "cell_type": "code",
   "execution_count": 19,
   "id": "9890bb32",
   "metadata": {},
   "outputs": [
    {
     "data": {
      "text/plain": [
       "15"
      ]
     },
     "execution_count": 19,
     "metadata": {},
     "output_type": "execute_result"
    }
   ],
   "source": [
    "sum((4,5,6))"
   ]
  },
  {
   "cell_type": "markdown",
   "id": "9bd5aeb0",
   "metadata": {},
   "source": [
    "zip() 함수 예제 - 동일한 개수로 이루어진 자료형을 묶어 주는 역할을 하는 함수"
   ]
  },
  {
   "cell_type": "code",
   "execution_count": 20,
   "id": "9e3c551c",
   "metadata": {},
   "outputs": [
    {
     "data": {
      "text/plain": [
       "<zip at 0x27667f45e40>"
      ]
     },
     "execution_count": 20,
     "metadata": {},
     "output_type": "execute_result"
    }
   ],
   "source": [
    "zip([1,2,3], [4,5,6])"
   ]
  },
  {
   "cell_type": "code",
   "execution_count": 21,
   "id": "437a25f6",
   "metadata": {},
   "outputs": [
    {
     "data": {
      "text/plain": [
       "[(1, 4), (2, 5), (3, 6)]"
      ]
     },
     "execution_count": 21,
     "metadata": {},
     "output_type": "execute_result"
    }
   ],
   "source": [
    "list(zip([1,2,3], [4,5,6]))"
   ]
  },
  {
   "cell_type": "code",
   "execution_count": 23,
   "id": "57b1b238",
   "metadata": {},
   "outputs": [
    {
     "data": {
      "text/plain": [
       "[(1, 4, 7), (2, 5, 8), (3, 6, 9)]"
      ]
     },
     "execution_count": 23,
     "metadata": {},
     "output_type": "execute_result"
    }
   ],
   "source": [
    "list(zip([1,2,3], [4,5,6], [7,8,9]))"
   ]
  },
  {
   "cell_type": "code",
   "execution_count": 22,
   "id": "59ccc0f6",
   "metadata": {},
   "outputs": [
    {
     "data": {
      "text/plain": [
       "[('a', 'd'), ('b', 'e'), ('c', 'f')]"
      ]
     },
     "execution_count": 22,
     "metadata": {},
     "output_type": "execute_result"
    }
   ],
   "source": [
    "list(zip(\"abc\", \"def\"))"
   ]
  },
  {
   "cell_type": "markdown",
   "id": "5429aa26",
   "metadata": {},
   "source": [
    "## 외장함수\n",
    "\n",
    "- 외장함수는 쓰기전 import!"
   ]
  },
  {
   "cell_type": "markdown",
   "id": "60df102d",
   "metadata": {},
   "source": [
    "sys 모듈 예제"
   ]
  },
  {
   "cell_type": "code",
   "execution_count": 24,
   "id": "8b810f0f",
   "metadata": {},
   "outputs": [
    {
     "name": "stdout",
     "output_type": "stream",
     "text": [
      "['C:\\\\Users\\\\82103\\\\Desktop\\\\multicampus\\\\Python', 'C:\\\\Users\\\\82103\\\\anaconda3\\\\python38.zip', 'C:\\\\Users\\\\82103\\\\anaconda3\\\\DLLs', 'C:\\\\Users\\\\82103\\\\anaconda3\\\\lib', 'C:\\\\Users\\\\82103\\\\anaconda3', '', 'C:\\\\Users\\\\82103\\\\anaconda3\\\\lib\\\\site-packages', 'C:\\\\Users\\\\82103\\\\anaconda3\\\\lib\\\\site-packages\\\\locket-0.2.1-py3.8.egg', 'C:\\\\Users\\\\82103\\\\anaconda3\\\\lib\\\\site-packages\\\\win32', 'C:\\\\Users\\\\82103\\\\anaconda3\\\\lib\\\\site-packages\\\\win32\\\\lib', 'C:\\\\Users\\\\82103\\\\anaconda3\\\\lib\\\\site-packages\\\\Pythonwin', 'C:\\\\Users\\\\82103\\\\anaconda3\\\\lib\\\\site-packages\\\\IPython\\\\extensions', 'C:\\\\Users\\\\82103\\\\.ipython']\n"
     ]
    }
   ],
   "source": [
    "import sys as s\n",
    "print(s.path)"
   ]
  },
  {
   "cell_type": "markdown",
   "id": "934e1811",
   "metadata": {},
   "source": [
    "pickle() 모듈 - 객체의 형태를 그대로 유지하면서 파일에 저장하고 불러올 수 있게 하는 모듈"
   ]
  },
  {
   "cell_type": "markdown",
   "id": "ee410b38",
   "metadata": {},
   "source": [
    "pickle() 사용 x"
   ]
  },
  {
   "cell_type": "code",
   "execution_count": 25,
   "id": "816e6f2d",
   "metadata": {},
   "outputs": [
    {
     "ename": "SyntaxError",
     "evalue": "invalid syntax (<ipython-input-25-1a1d2861a047>, line 1)",
     "output_type": "error",
     "traceback": [
      "\u001b[1;36m  File \u001b[1;32m\"<ipython-input-25-1a1d2861a047>\"\u001b[1;36m, line \u001b[1;32m1\u001b[0m\n\u001b[1;33m    with open ()\u001b[0m\n\u001b[1;37m                ^\u001b[0m\n\u001b[1;31mSyntaxError\u001b[0m\u001b[1;31m:\u001b[0m invalid syntax\n"
     ]
    }
   ],
   "source": [
    "with open ()"
   ]
  },
  {
   "cell_type": "markdown",
   "id": "5f42b13e",
   "metadata": {},
   "source": [
    "pickle() 사용"
   ]
  },
  {
   "cell_type": "code",
   "execution_count": 29,
   "id": "cfcfbc5e",
   "metadata": {},
   "outputs": [
    {
     "data": {
      "text/plain": [
       "<function BufferedWriter.close>"
      ]
     },
     "execution_count": 29,
     "metadata": {},
     "output_type": "execute_result"
    }
   ],
   "source": [
    "import pickle as pic\n",
    "with open (\"list.txt\", \"wb\") as f:\n",
    "    data = {1:'python', 2:'you need'}\n",
    "    pic.dump(data, f)\n",
    "f.close"
   ]
  },
  {
   "cell_type": "markdown",
   "id": "6113805f",
   "metadata": {},
   "source": [
    "- 파일 모드 종류\n",
    " - r : 읽기 모드\n",
    " - w : 쓰기 모드\n",
    " - x : 쓰기 모드(파일 있으면 오류 발생\n",
    " - a : 쓰기 모드(append, 파일이 있으면 뒤에 내용 추가)\n",
    " - \\+ : 읽기, 쓰기 모드(잘 안씀)\n",
    " - t : 텍스트 모드\n",
    " - b : 바이너리 모드(바이트 단위 데이터 기록에 사용), 바이너리 파일은 사용자가 읽을 수 없음\n"
   ]
  },
  {
   "cell_type": "code",
   "execution_count": 31,
   "id": "6031a205",
   "metadata": {},
   "outputs": [
    {
     "name": "stdout",
     "output_type": "stream",
     "text": [
      "{1: 'python', 2: 'you need'}\n"
     ]
    }
   ],
   "source": [
    "with open (\"list.txt\", \"rb\") as f:\n",
    "    a = pic.load(f)\n",
    "print(a)"
   ]
  },
  {
   "cell_type": "markdown",
   "id": "d73cf522",
   "metadata": {},
   "source": [
    "- pickle을 이용하여 데이터를 불러올 경우 변수 지정을 해줘야 함"
   ]
  },
  {
   "cell_type": "code",
   "execution_count": 32,
   "id": "28266ad8",
   "metadata": {},
   "outputs": [],
   "source": [
    "import pickle\n",
    "f = open(\"dic.txt\", \"wb\")\n",
    "data = {1:'python', 2:'you need'}\n",
    "pickle.dump(data, f)\n",
    "f.close()"
   ]
  },
  {
   "cell_type": "code",
   "execution_count": 34,
   "id": "b9752415",
   "metadata": {},
   "outputs": [
    {
     "name": "stdout",
     "output_type": "stream",
     "text": [
      "{1: 'python', 2: 'you need'}\n"
     ]
    }
   ],
   "source": [
    "f = open(\"dic.txt\", \"rb\")\n",
    "data = pickle.load(f)\n",
    "print(data)\n",
    "f.close()"
   ]
  },
  {
   "cell_type": "markdown",
   "id": "028bd655",
   "metadata": {},
   "source": [
    "os 모듈은 환경 변수나 디렉터리, 파일 등의 os 자원을 제어할 수 있게 해주는 모듈"
   ]
  },
  {
   "cell_type": "code",
   "execution_count": 35,
   "id": "dc6e8330",
   "metadata": {},
   "outputs": [
    {
     "data": {
      "text/plain": [
       "'C:\\\\Users\\\\82103\\\\Desktop\\\\multicampus\\\\Python'"
      ]
     },
     "execution_count": 35,
     "metadata": {},
     "output_type": "execute_result"
    }
   ],
   "source": [
    "import os\n",
    "os.getcwd()"
   ]
  },
  {
   "cell_type": "code",
   "execution_count": 37,
   "id": "647bd6f3",
   "metadata": {},
   "outputs": [],
   "source": [
    "os.chdir('C:\\\\Users\\\\82103\\\\Desktop\\\\multicampus')"
   ]
  },
  {
   "cell_type": "code",
   "execution_count": 38,
   "id": "e2e44c30",
   "metadata": {},
   "outputs": [
    {
     "data": {
      "text/plain": [
       "'C:\\\\Users\\\\82103\\\\Desktop\\\\multicampus'"
      ]
     },
     "execution_count": 38,
     "metadata": {},
     "output_type": "execute_result"
    }
   ],
   "source": [
    "os.getcwd()"
   ]
  },
  {
   "cell_type": "code",
   "execution_count": 40,
   "id": "90a763dd",
   "metadata": {},
   "outputs": [],
   "source": [
    "os.chdir('C:\\\\Users\\\\82103\\\\Desktop\\\\multicampus\\\\Python')"
   ]
  },
  {
   "cell_type": "code",
   "execution_count": 41,
   "id": "1af5065a",
   "metadata": {},
   "outputs": [
    {
     "data": {
      "text/plain": [
       "'C:\\\\Users\\\\82103\\\\Desktop\\\\multicampus\\\\Python'"
      ]
     },
     "execution_count": 41,
     "metadata": {},
     "output_type": "execute_result"
    }
   ],
   "source": [
    "os.getcwd()"
   ]
  },
  {
   "cell_type": "code",
   "execution_count": 43,
   "id": "1be95a45",
   "metadata": {},
   "outputs": [
    {
     "data": {
      "text/plain": [
       "0"
      ]
     },
     "execution_count": 43,
     "metadata": {},
     "output_type": "execute_result"
    }
   ],
   "source": [
    "os.system('dir')\n",
    "# 주피터 노트북에선 안되는데 cmd창에서 python 실행시키고 하면 됨"
   ]
  },
  {
   "cell_type": "markdown",
   "id": "7c37e94f",
   "metadata": {},
   "source": [
    "os.system('cls')는 입력파일들 지우기"
   ]
  },
  {
   "cell_type": "code",
   "execution_count": 44,
   "id": "69c4cd0b",
   "metadata": {},
   "outputs": [],
   "source": [
    "os.mkdir('test_folder')"
   ]
  },
  {
   "cell_type": "code",
   "execution_count": 45,
   "id": "0e290e00",
   "metadata": {},
   "outputs": [],
   "source": [
    "os.rmdir('test_folder')"
   ]
  },
  {
   "cell_type": "code",
   "execution_count": 46,
   "id": "c427c3db",
   "metadata": {},
   "outputs": [],
   "source": [
    "os.unlink(\"dic.txt\")"
   ]
  },
  {
   "cell_type": "code",
   "execution_count": 47,
   "id": "dc59cda7",
   "metadata": {},
   "outputs": [],
   "source": [
    "os.rename(\"list.txt\", \"list2.txt\")"
   ]
  },
  {
   "cell_type": "markdown",
   "id": "3a39f391",
   "metadata": {},
   "source": [
    "shutil() 모듈 - 파일을 복사해 주는 파이썬 모듈"
   ]
  },
  {
   "cell_type": "code",
   "execution_count": 48,
   "id": "2db1383f",
   "metadata": {},
   "outputs": [
    {
     "data": {
      "text/plain": [
       "'list.txt'"
      ]
     },
     "execution_count": 48,
     "metadata": {},
     "output_type": "execute_result"
    }
   ],
   "source": [
    "import shutil\n",
    "shutil.copy(\"list2.txt\", \"list.txt\")"
   ]
  },
  {
   "cell_type": "markdown",
   "id": "e0aab9c6",
   "metadata": {},
   "source": [
    "glob() 모듈 - 특정 디렉터리에 있는 파일 이름 모두를 알아야 할 때 사용하는 모듈"
   ]
  },
  {
   "cell_type": "code",
   "execution_count": 49,
   "id": "ca1c9e20",
   "metadata": {},
   "outputs": [
    {
     "data": {
      "text/plain": [
       "['C:\\\\Users\\\\82103\\\\Desktop\\\\multicampus\\\\Python\\\\list.txt',\n",
       " 'C:\\\\Users\\\\82103\\\\Desktop\\\\multicampus\\\\Python\\\\list2.txt']"
      ]
     },
     "execution_count": 49,
     "metadata": {},
     "output_type": "execute_result"
    }
   ],
   "source": [
    "import glob\n",
    "glob.glob('C:\\\\Users\\\\82103\\\\Desktop\\\\multicampus\\\\Python\\\\list*')"
   ]
  },
  {
   "cell_type": "markdown",
   "id": "e572b46e",
   "metadata": {},
   "source": [
    "random() 모듈 - 난수(규칙이 없는 임의의 수)를 발생시키는 모듈"
   ]
  },
  {
   "cell_type": "code",
   "execution_count": 51,
   "id": "4725f6bc",
   "metadata": {},
   "outputs": [],
   "source": [
    "import random"
   ]
  },
  {
   "cell_type": "code",
   "execution_count": 81,
   "id": "3129f535",
   "metadata": {},
   "outputs": [
    {
     "data": {
      "text/plain": [
       "0.6753316309943713"
      ]
     },
     "execution_count": 81,
     "metadata": {},
     "output_type": "execute_result"
    }
   ],
   "source": [
    "#0.0~1.0 사이의 실수(1.0은 포함되지 않는 범위)\n",
    "random.random()"
   ]
  },
  {
   "cell_type": "code",
   "execution_count": 57,
   "id": "793de13b",
   "metadata": {},
   "outputs": [
    {
     "data": {
      "text/plain": [
       "4"
      ]
     },
     "execution_count": 57,
     "metadata": {},
     "output_type": "execute_result"
    }
   ],
   "source": [
    "#지정된 정수 중에 난수 값(끝 값도 나옴)\n",
    "random.randint(1, 10)"
   ]
  },
  {
   "cell_type": "code",
   "execution_count": 80,
   "id": "c8e20708",
   "metadata": {},
   "outputs": [
    {
     "data": {
      "text/plain": [
       "11.463606502973821"
      ]
     },
     "execution_count": 80,
     "metadata": {},
     "output_type": "execute_result"
    }
   ],
   "source": [
    "#지정된 정수 중에 난수 값 (실수 형태)\n",
    "random.uniform(10,20)"
   ]
  },
  {
   "cell_type": "markdown",
   "id": "18e75415",
   "metadata": {},
   "source": [
    "random.choice 예제(choice함수 사용 x)"
   ]
  },
  {
   "cell_type": "code",
   "execution_count": 67,
   "id": "6e66388d",
   "metadata": {
    "scrolled": true
   },
   "outputs": [
    {
     "name": "stdout",
     "output_type": "stream",
     "text": [
      "(5, 2)\n",
      "(2, 2)\n",
      "(6, 2)\n",
      "(3, 1)\n",
      "(1, 0)\n"
     ]
    }
   ],
   "source": [
    "import random\n",
    "def random_pop(data): # 데이터를 받고\n",
    "    num = random.randint(0,len(data)-1) #0부터 받은 데이터의 길이 -1 까지의 값을 랜덤으로 돌림\n",
    "    return data.pop(num), num #랜덤으로 나온 숫자 위치의 데이터를 pop해옴\n",
    "\n",
    "if __name__ == \"__main__\":\n",
    "    data = [1,3,5,2,6]\n",
    "    while data:\n",
    "        print(random_pop(data))"
   ]
  },
  {
   "cell_type": "markdown",
   "id": "b2479715",
   "metadata": {},
   "source": [
    "random_choice() 사용예제"
   ]
  },
  {
   "cell_type": "code",
   "execution_count": 70,
   "id": "3f8bfec2",
   "metadata": {},
   "outputs": [
    {
     "name": "stdout",
     "output_type": "stream",
     "text": [
      "5\n",
      "3\n",
      "1\n",
      "6\n",
      "2\n"
     ]
    }
   ],
   "source": [
    "def random_pop(data):\n",
    "    num = random.choice(data) #원소를 하나 뽑고 \n",
    "    data.remove(num) #지우기 (함수 내의 리스트만 삭제)\n",
    "    return num #num에 저장된 원소 리턴\n",
    "\n",
    "if __name__ == \"__main__\":\n",
    "    data = [1,3,5,2,6]\n",
    "    while data:\n",
    "        print(random_pop(data))"
   ]
  },
  {
   "cell_type": "markdown",
   "id": "09edb1b5",
   "metadata": {},
   "source": [
    "random.shuffle() - 객체의 요소를 무작위로 섞을 때 사용"
   ]
  },
  {
   "cell_type": "code",
   "execution_count": 73,
   "id": "e05cbbf2",
   "metadata": {},
   "outputs": [
    {
     "data": {
      "text/plain": [
       "[2, 4, 3, 5, 1]"
      ]
     },
     "execution_count": 73,
     "metadata": {},
     "output_type": "execute_result"
    }
   ],
   "source": [
    "import random\n",
    "data = [1,2,3,4,5]\n",
    "random.shuffle(data)\n",
    "data"
   ]
  },
  {
   "cell_type": "markdown",
   "id": "c8badf39",
   "metadata": {},
   "source": [
    "번외) 확률 지정하여 뽑기 예제"
   ]
  },
  {
   "cell_type": "code",
   "execution_count": 139,
   "id": "f95c028b",
   "metadata": {},
   "outputs": [
    {
     "data": {
      "text/plain": [
       "['성공']"
      ]
     },
     "execution_count": 139,
     "metadata": {},
     "output_type": "execute_result"
    }
   ],
   "source": [
    "random.choices([\"성공\",\"실패\"], weights=[3,7])"
   ]
  },
  {
   "cell_type": "markdown",
   "id": "8e578673",
   "metadata": {},
   "source": [
    "238page 9번째 줄 글자 깨짐 --> 새 창으로"
   ]
  },
  {
   "cell_type": "markdown",
   "id": "0e839780",
   "metadata": {},
   "source": [
    "webbrowser 함수 - 시스템에서 사용하는 기본 웹 브라우저를 자동으로 실행하는 모듈"
   ]
  },
  {
   "cell_type": "code",
   "execution_count": 76,
   "id": "e062face",
   "metadata": {},
   "outputs": [
    {
     "data": {
      "text/plain": [
       "True"
      ]
     },
     "execution_count": 76,
     "metadata": {},
     "output_type": "execute_result"
    }
   ],
   "source": [
    "import webbrowser as web\n",
    "web.open(\"http://www.google.com\")"
   ]
  },
  {
   "cell_type": "code",
   "execution_count": 77,
   "id": "d5dbb619",
   "metadata": {},
   "outputs": [
    {
     "data": {
      "text/plain": [
       "True"
      ]
     },
     "execution_count": 77,
     "metadata": {},
     "output_type": "execute_result"
    }
   ],
   "source": [
    "web.open_new(\"http://www.google.com\")"
   ]
  },
  {
   "cell_type": "code",
   "execution_count": 78,
   "id": "708c7cb5",
   "metadata": {},
   "outputs": [
    {
     "data": {
      "text/plain": [
       "True"
      ]
     },
     "execution_count": 78,
     "metadata": {},
     "output_type": "execute_result"
    }
   ],
   "source": [
    "web.open_new_tab(\"http://www.naver.com\")"
   ]
  },
  {
   "cell_type": "markdown",
   "id": "2c54efb0",
   "metadata": {},
   "source": [
    "## socket(소켓)"
   ]
  },
  {
   "cell_type": "markdown",
   "id": "4515878a",
   "metadata": {},
   "source": [
    "241page 3번째 줄 글자깨짐 --> 컴퓨터간에 <br>\n",
    "242page 5번째 줄 글자깨짐 --> 클라이언트"
   ]
  },
  {
   "cell_type": "markdown",
   "id": "4f41cd24",
   "metadata": {},
   "source": [
    "소켓 번호 확인하기 예제"
   ]
  },
  {
   "cell_type": "code",
   "execution_count": 2,
   "id": "e2076625",
   "metadata": {},
   "outputs": [],
   "source": [
    "import socket"
   ]
  },
  {
   "cell_type": "code",
   "execution_count": 141,
   "id": "621b43d9",
   "metadata": {},
   "outputs": [
    {
     "data": {
      "text/plain": [
       "80"
      ]
     },
     "execution_count": 141,
     "metadata": {},
     "output_type": "execute_result"
    }
   ],
   "source": [
    "socket.getservbyname('http', 'tcp')"
   ]
  },
  {
   "cell_type": "code",
   "execution_count": 145,
   "id": "85fd02c0",
   "metadata": {},
   "outputs": [
    {
     "data": {
      "text/plain": [
       "21"
      ]
     },
     "execution_count": 145,
     "metadata": {},
     "output_type": "execute_result"
    }
   ],
   "source": [
    "socket.getservbyname('ftp', 'tcp')"
   ]
  },
  {
   "cell_type": "markdown",
   "id": "48272c95",
   "metadata": {},
   "source": [
    "244page 3번째 줄 글자깨짐 --> 소켓은 도메인<br>\n",
    "245page 3번째 줄 글자꺠짐 --> 소켓"
   ]
  },
  {
   "cell_type": "markdown",
   "id": "627e3d0b",
   "metadata": {},
   "source": [
    "UDP bind() 이해하기<br>\n",
    "터미널에 대기중인 버스(server)가 있다고 가정<br>\n",
    "버스(server)에서는 승객(client)들이 알 수 있도록 버스에 번호표 부착<br>\n",
    "-> bind()\n",
    "<br><br>\n",
    "버스가 승객을 알아야 할 필요가 없음"
   ]
  },
  {
   "cell_type": "markdown",
   "id": "04869ec0",
   "metadata": {},
   "source": [
    "1. 서버와 클라이언트 둘다 소켓 생성\n",
    "- 소켓 통신을 한다는 것은 IP 주소와 포트 번호를 가지고 하는 것\n",
    " - TCP : IP + 포트번호\n",
    " - UDP : 포트번호(형식상 IP 주소도 입력)\n",
    "2. 서버 측에서 소켓을 가지고 포트와 바인딩\n",
    "- 들어올 포트를 알려주는 것과 같은 것\n",
    "- 클라이언트 측에서는 목적지를 알려줄 필요가 없음\n",
    "3. 서버 측에서는 해당 포트를 열고 기다림"
   ]
  },
  {
   "cell_type": "markdown",
   "id": "99f83d7f",
   "metadata": {},
   "source": [
    "UPD 소켓 만들기 예제"
   ]
  },
  {
   "cell_type": "code",
   "execution_count": 154,
   "id": "a2fa918e",
   "metadata": {},
   "outputs": [],
   "source": [
    "socket_tcp = socket.socket(socket.AF_INET, socket.SOCK_DGRAM)"
   ]
  },
  {
   "cell_type": "code",
   "execution_count": 155,
   "id": "4d1ab2d8",
   "metadata": {},
   "outputs": [
    {
     "name": "stdout",
     "output_type": "stream",
     "text": [
      "<socket.socket fd=1584, family=AddressFamily.AF_INET, type=SocketKind.SOCK_DGRAM, proto=0>\n"
     ]
    }
   ],
   "source": [
    "print(socket_tcp)"
   ]
  },
  {
   "cell_type": "markdown",
   "id": "97a35598",
   "metadata": {},
   "source": [
    "소켓을 이용한 간단한 HTTP 요청"
   ]
  },
  {
   "cell_type": "code",
   "execution_count": 161,
   "id": "6bb48e8c",
   "metadata": {},
   "outputs": [],
   "source": [
    "host = \"www.google.com\"\n",
    "port = 80\n",
    "#UDP\n",
    "sock = socket.socket(socket.AF_INET, socket.SOCK_DGRAM)"
   ]
  },
  {
   "cell_type": "code",
   "execution_count": 162,
   "id": "d65f2d99",
   "metadata": {},
   "outputs": [],
   "source": [
    "address = socket.gethostbyname(host)"
   ]
  },
  {
   "cell_type": "code",
   "execution_count": 163,
   "id": "addd3665",
   "metadata": {},
   "outputs": [
    {
     "name": "stdout",
     "output_type": "stream",
     "text": [
      "216.58.197.228\n"
     ]
    }
   ],
   "source": [
    "print(address)"
   ]
  },
  {
   "cell_type": "code",
   "execution_count": 164,
   "id": "267e4cd0",
   "metadata": {},
   "outputs": [],
   "source": [
    "sock.connect((address, port))"
   ]
  },
  {
   "cell_type": "code",
   "execution_count": 165,
   "id": "d14a244e",
   "metadata": {},
   "outputs": [
    {
     "data": {
      "text/plain": [
       "<socket.socket fd=2084, family=AddressFamily.AF_INET, type=SocketKind.SOCK_DGRAM, proto=0, laddr=('172.30.1.29', 56413), raddr=('216.58.197.228', 80)>"
      ]
     },
     "execution_count": 165,
     "metadata": {},
     "output_type": "execute_result"
    }
   ],
   "source": [
    "sock"
   ]
  },
  {
   "cell_type": "code",
   "execution_count": 166,
   "id": "ce3c6c7d",
   "metadata": {},
   "outputs": [],
   "source": [
    "sock.close()"
   ]
  },
  {
   "cell_type": "markdown",
   "id": "c248fa71",
   "metadata": {},
   "source": [
    "서버 페이지에 요청하여 저장한 자원 가져오기"
   ]
  },
  {
   "cell_type": "code",
   "execution_count": 13,
   "id": "e06db9bd",
   "metadata": {},
   "outputs": [],
   "source": [
    "host = \"www.naver.com\"\n",
    "port = 80\n",
    "#TCP\n",
    "sock = socket.socket(socket.AF_INET, socket.SOCK_STREAM)\n",
    "address = socket.gethostbyname(host)\n",
    "sock.connect((address, port))"
   ]
  },
  {
   "cell_type": "code",
   "execution_count": 14,
   "id": "9c050e35",
   "metadata": {},
   "outputs": [],
   "source": [
    "message = \"GET / HTTP/1.1\\r\\n\\r\\n\""
   ]
  },
  {
   "cell_type": "code",
   "execution_count": 15,
   "id": "407e01d6",
   "metadata": {},
   "outputs": [
    {
     "data": {
      "text/plain": [
       "18"
      ]
     },
     "execution_count": 15,
     "metadata": {},
     "output_type": "execute_result"
    }
   ],
   "source": [
    "sock.send(message.encode('utf-8'))"
   ]
  },
  {
   "cell_type": "code",
   "execution_count": 16,
   "id": "d264ac7d",
   "metadata": {},
   "outputs": [],
   "source": [
    "data = sock.recv(65565)"
   ]
  },
  {
   "cell_type": "code",
   "execution_count": 17,
   "id": "a2d07253",
   "metadata": {},
   "outputs": [
    {
     "data": {
      "text/plain": [
       "b'HTTP/1.1 302 Moved Temporarily\\r\\nServer: NWS\\r\\nDate: Thu, 10 Feb 2022 07:27:48 GMT\\r\\nContent-Type: text/html\\r\\nTransfer-Encoding: chunked\\r\\nConnection: close\\r\\nLocation: https://www.naver.com/err/notfound.html\\r\\nVary: Accept-Encoding,User-Agent\\r\\n\\r\\n8a\\r\\n<html>\\r\\n<head><title>302 Found</title></head>\\r\\n<body>\\r\\n<center><h1>302 Found</h1></center>\\r\\n<hr><center> NWS </center>\\r\\n</body>\\r\\n</html>\\r\\n\\r\\n0\\r\\n\\r\\n'"
      ]
     },
     "execution_count": 17,
     "metadata": {},
     "output_type": "execute_result"
    }
   ],
   "source": [
    "data"
   ]
  },
  {
   "cell_type": "code",
   "execution_count": 19,
   "id": "b8331772",
   "metadata": {},
   "outputs": [],
   "source": [
    "sock.close()"
   ]
  },
  {
   "cell_type": "markdown",
   "id": "b0b971fc",
   "metadata": {},
   "source": [
    "소켓을 이용한 간단한 포트스캐너 만들기"
   ]
  },
  {
   "cell_type": "code",
   "execution_count": 20,
   "id": "47019e96",
   "metadata": {},
   "outputs": [],
   "source": [
    "import socket"
   ]
  },
  {
   "cell_type": "code",
   "execution_count": 25,
   "id": "6159ee53",
   "metadata": {},
   "outputs": [],
   "source": [
    "hosts = ['127.0.0.1']"
   ]
  },
  {
   "cell_type": "code",
   "execution_count": 27,
   "id": "6d433e0b",
   "metadata": {},
   "outputs": [
    {
     "ename": "ConnectionRefusedError",
     "evalue": "[WinError 10061] 대상 컴퓨터에서 연결을 거부했으므로 연결하지 못했습니다",
     "output_type": "error",
     "traceback": [
      "\u001b[1;31m---------------------------------------------------------------------------\u001b[0m",
      "\u001b[1;31mConnectionRefusedError\u001b[0m                    Traceback (most recent call last)",
      "\u001b[1;32m<ipython-input-27-b2982eeb84f1>\u001b[0m in \u001b[0;36m<module>\u001b[1;34m\u001b[0m\n\u001b[0;32m      3\u001b[0m         \u001b[0msock\u001b[0m \u001b[1;33m=\u001b[0m \u001b[0msocket\u001b[0m\u001b[1;33m.\u001b[0m\u001b[0msocket\u001b[0m\u001b[1;33m(\u001b[0m\u001b[0msocket\u001b[0m\u001b[1;33m.\u001b[0m\u001b[0mAF_INET\u001b[0m\u001b[1;33m,\u001b[0m \u001b[0msocket\u001b[0m\u001b[1;33m.\u001b[0m\u001b[0mSOCK_STREAM\u001b[0m\u001b[1;33m)\u001b[0m \u001b[1;31m#TCP\u001b[0m\u001b[1;33m\u001b[0m\u001b[1;33m\u001b[0m\u001b[0m\n\u001b[0;32m      4\u001b[0m         \u001b[0msock\u001b[0m\u001b[1;33m.\u001b[0m\u001b[0msetsockopt\u001b[0m\u001b[1;33m(\u001b[0m\u001b[0msocket\u001b[0m\u001b[1;33m.\u001b[0m\u001b[0mSOL_SOCKET\u001b[0m\u001b[1;33m,\u001b[0m \u001b[0msocket\u001b[0m\u001b[1;33m.\u001b[0m\u001b[0mSO_REUSEADDR\u001b[0m\u001b[1;33m,\u001b[0m \u001b[1;36m1\u001b[0m\u001b[1;33m)\u001b[0m \u001b[1;31m# 이건 나중에 설명, 버퍼크기 1\u001b[0m\u001b[1;33m\u001b[0m\u001b[1;33m\u001b[0m\u001b[0m\n\u001b[1;32m----> 5\u001b[1;33m         \u001b[0mresult\u001b[0m \u001b[1;33m=\u001b[0m \u001b[0msock\u001b[0m\u001b[1;33m.\u001b[0m\u001b[0mconnect\u001b[0m\u001b[1;33m(\u001b[0m\u001b[1;33m(\u001b[0m\u001b[0mhost\u001b[0m\u001b[1;33m,\u001b[0m \u001b[0mport\u001b[0m\u001b[1;33m)\u001b[0m\u001b[1;33m)\u001b[0m\u001b[1;33m\u001b[0m\u001b[1;33m\u001b[0m\u001b[0m\n\u001b[0m\u001b[0;32m      6\u001b[0m         \u001b[1;32mif\u001b[0m \u001b[0mresult\u001b[0m \u001b[1;33m==\u001b[0m \u001b[1;36m0\u001b[0m\u001b[1;33m:\u001b[0m\u001b[1;33m\u001b[0m\u001b[1;33m\u001b[0m\u001b[0m\n\u001b[0;32m      7\u001b[0m             \u001b[0mprint\u001b[0m\u001b[1;33m(\u001b[0m\u001b[1;34m\"port\"\u001b[0m\u001b[1;33m+\u001b[0m\u001b[0mstr\u001b[0m\u001b[1;33m(\u001b[0m\u001b[0mport\u001b[0m\u001b[1;33m)\u001b[0m\u001b[1;33m+\u001b[0m\u001b[1;34m\"open\"\u001b[0m\u001b[1;33m)\u001b[0m\u001b[1;33m\u001b[0m\u001b[1;33m\u001b[0m\u001b[0m\n",
      "\u001b[1;31mConnectionRefusedError\u001b[0m: [WinError 10061] 대상 컴퓨터에서 연결을 거부했으므로 연결하지 못했습니다"
     ]
    }
   ],
   "source": [
    "for host in hosts: #로컬 ip 안에서\n",
    "    for port in range(1, 1025): #1번부터 1024번 포트까지 어디서 통신이 일어나는지 확인\n",
    "        sock = socket.socket(socket.AF_INET, socket.SOCK_STREAM) #TCP\n",
    "        sock.setsockopt(socket.SOL_SOCKET, socket.SO_REUSEADDR, 1) # 이건 나중에 설명, 버퍼크기 1\n",
    "        result = sock.connect((host, port))\n",
    "        if result == 0:\n",
    "            print(\"port\"+str(port)+\"open\")\n",
    "            sock.close()"
   ]
  },
  {
   "cell_type": "markdown",
   "id": "bd1725af",
   "metadata": {},
   "source": [
    "setsockopt() --> 5가지 옵션\n",
    "1. 소켓의 번호(생략 가능)\n",
    "2. 옵션 종류 - 사용\n",
    " - SOL_SOCKET\n",
    "  - REUSEADD 이미 사용한 주소 재사용(반복문을 사용했지만 한 번 더 명시)\n",
    " - IPPROTO_TCP\n",
    "3. 설정을 위한 소켓 옵션의 번호(생략 가능)\n",
    "4. 설정 값이 저장된 주소값(생략 가능)\n",
    "5. 버퍼의 크기 - 사용"
   ]
  },
  {
   "cell_type": "code",
   "execution_count": 33,
   "id": "931a20f1",
   "metadata": {},
   "outputs": [
    {
     "name": "stdout",
     "output_type": "stream",
     "text": [
      "port8887close\n",
      "port8888open\n"
     ]
    }
   ],
   "source": [
    "for host in hosts: #로컬 ip 안에서\n",
    "    for port in range(8887, 8889): #1번부터 1024번 포트까지 어디서 통신이 일어나는지 확인\n",
    "        sock = socket.socket(socket.AF_INET, socket.SOCK_STREAM) #TCP\n",
    "        sock.setsockopt(socket.SOL_SOCKET, socket.SO_REUSEADDR, 1) # 이건 나중에 설명, 버퍼크기 1\n",
    "        try:\n",
    "            result = sock.connect((host, port))\n",
    "            if result == None:\n",
    "                print(\"port\"+str(port)+\"open\")\n",
    "        except:\n",
    "            print(\"port\"+str(port)+\"close\")\n",
    "    sock.close()"
   ]
  },
  {
   "cell_type": "code",
   "execution_count": null,
   "id": "b3eef5de",
   "metadata": {},
   "outputs": [],
   "source": []
  }
 ],
 "metadata": {
  "kernelspec": {
   "display_name": "Python 3",
   "language": "python",
   "name": "python3"
  },
  "language_info": {
   "codemirror_mode": {
    "name": "ipython",
    "version": 3
   },
   "file_extension": ".py",
   "mimetype": "text/x-python",
   "name": "python",
   "nbconvert_exporter": "python",
   "pygments_lexer": "ipython3",
   "version": "3.8.8"
  }
 },
 "nbformat": 4,
 "nbformat_minor": 5
}
