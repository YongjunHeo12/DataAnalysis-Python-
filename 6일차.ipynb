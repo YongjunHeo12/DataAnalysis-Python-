{
 "cells": [
  {
   "cell_type": "markdown",
   "id": "cba52f3b",
   "metadata": {},
   "source": [
    "## 모듈"
   ]
  },
  {
   "cell_type": "code",
   "execution_count": 1,
   "id": "7941eb67",
   "metadata": {},
   "outputs": [
    {
     "name": "stdout",
     "output_type": "stream",
     "text": [
      "['C:\\\\Users\\\\82103\\\\Desktop\\\\멀티캠퍼스 교육\\\\Python', 'C:\\\\Users\\\\82103\\\\anaconda3\\\\python38.zip', 'C:\\\\Users\\\\82103\\\\anaconda3\\\\DLLs', 'C:\\\\Users\\\\82103\\\\anaconda3\\\\lib', 'C:\\\\Users\\\\82103\\\\anaconda3', '', 'C:\\\\Users\\\\82103\\\\anaconda3\\\\lib\\\\site-packages', 'C:\\\\Users\\\\82103\\\\anaconda3\\\\lib\\\\site-packages\\\\locket-0.2.1-py3.8.egg', 'C:\\\\Users\\\\82103\\\\anaconda3\\\\lib\\\\site-packages\\\\win32', 'C:\\\\Users\\\\82103\\\\anaconda3\\\\lib\\\\site-packages\\\\win32\\\\lib', 'C:\\\\Users\\\\82103\\\\anaconda3\\\\lib\\\\site-packages\\\\Pythonwin', 'C:\\\\Users\\\\82103\\\\anaconda3\\\\lib\\\\site-packages\\\\IPython\\\\extensions', 'C:\\\\Users\\\\82103\\\\.ipython']\n"
     ]
    }
   ],
   "source": [
    "import sys\n",
    "print(sys.path)"
   ]
  },
  {
   "cell_type": "markdown",
   "id": "c282eb00",
   "metadata": {},
   "source": [
    "\\_\\_main\\_\\_ 변수 사용 예제 순서\n",
    "1. 메모장 열기\n",
    "2. 코드 입력\n",
    "def 함수명(매개변수):<br>\n",
    "    return 리턴값 \n",
    "\n",
    "3. (파일명).py 형식으로 저장"
   ]
  },
  {
   "cell_type": "markdown",
   "id": "9a122e98",
   "metadata": {},
   "source": [
    "모듈 vs 라이브러리\n",
    "- 기능상의 차이는 없음\n",
    "- 모듈\n",
    " - 작은 부품으로 비유\n",
    " - mod.py\n",
    "- 라이브러리\n",
    " - 자주 사용되는 로직을 잘 정리한 집합 느낌\n",
    " - 흐름이 잘 짜여진 집합 느낌\n",
    " - 모듈이라고 부를 수 있음\n",
    " - sys.py"
   ]
  },
  {
   "cell_type": "markdown",
   "id": "f5bb906a",
   "metadata": {},
   "source": [
    "\\_\\_name\\_\\_ 변수는 파이썬에서 자동으로 사용할 수 있도록 등록된 변수"
   ]
  },
  {
   "cell_type": "code",
   "execution_count": 25,
   "id": "51399ee0",
   "metadata": {},
   "outputs": [
    {
     "name": "stdout",
     "output_type": "stream",
     "text": [
      "__main__\n"
     ]
    }
   ],
   "source": [
    "print(__name__)"
   ]
  },
  {
   "cell_type": "markdown",
   "id": "e036bbc4",
   "metadata": {},
   "source": [
    "- \\_\\_main\\_\\_의 의미: 현재 작업 공간이 main이라는 뜻"
   ]
  },
  {
   "cell_type": "code",
   "execution_count": 8,
   "id": "60941cbb",
   "metadata": {},
   "outputs": [
    {
     "name": "stdout",
     "output_type": "stream",
     "text": [
      "test\n",
      "실행하지 않습니다.\n"
     ]
    },
    {
     "data": {
      "text/plain": [
       "<module 'test' from 'C:\\\\Users\\\\82103\\\\Desktop\\\\multicampus\\\\Python\\\\test.py'>"
      ]
     },
     "execution_count": 8,
     "metadata": {},
     "output_type": "execute_result"
    }
   ],
   "source": [
    "import test\n",
    "from importlib import reload\n",
    "reload(test)"
   ]
  },
  {
   "cell_type": "code",
   "execution_count": 10,
   "id": "3ff02048",
   "metadata": {},
   "outputs": [
    {
     "data": {
      "text/plain": [
       "3"
      ]
     },
     "execution_count": 10,
     "metadata": {},
     "output_type": "execute_result"
    }
   ],
   "source": [
    "import mod1 as m\n",
    "\n",
    "m.add(1,2)"
   ]
  },
  {
   "cell_type": "markdown",
   "id": "52955419",
   "metadata": {},
   "source": [
    "\\_\\_main\\_\\_ 변수를 사용하는 목적?\n",
    "- 메인 환경에서 실행시킬 수 있는 코드와 import 시켜서 실행시킬 수 있는 코드를 구분지어 주고 싶을 때 사용"
   ]
  },
  {
   "cell_type": "markdown",
   "id": "c8797700",
   "metadata": {},
   "source": [
    "모듈 사용해보기 예제"
   ]
  },
  {
   "cell_type": "code",
   "execution_count": 11,
   "id": "190ed082",
   "metadata": {},
   "outputs": [],
   "source": [
    "import mod2 as m2"
   ]
  },
  {
   "cell_type": "code",
   "execution_count": 19,
   "id": "32912ea4",
   "metadata": {},
   "outputs": [
    {
     "name": "stdout",
     "output_type": "stream",
     "text": [
      "5\n"
     ]
    },
    {
     "data": {
      "text/plain": [
       "3.141592"
      ]
     },
     "execution_count": 19,
     "metadata": {},
     "output_type": "execute_result"
    }
   ],
   "source": [
    "print(m2.add(2,3))\n",
    "m2.PI"
   ]
  },
  {
   "cell_type": "code",
   "execution_count": 16,
   "id": "3932c790",
   "metadata": {},
   "outputs": [
    {
     "name": "stdout",
     "output_type": "stream",
     "text": [
      "<mod2.Math object at 0x0000023954E1C400>\n"
     ]
    }
   ],
   "source": [
    "a = m2.Math()\n",
    "print(a)"
   ]
  },
  {
   "cell_type": "code",
   "execution_count": 15,
   "id": "856e7e1c",
   "metadata": {},
   "outputs": [
    {
     "data": {
      "text/plain": [
       "28.274328"
      ]
     },
     "execution_count": 15,
     "metadata": {},
     "output_type": "execute_result"
    }
   ],
   "source": [
    "a.solv(3)"
   ]
  },
  {
   "cell_type": "code",
   "execution_count": 20,
   "id": "ca4d1aaa",
   "metadata": {},
   "outputs": [
    {
     "name": "stdout",
     "output_type": "stream",
     "text": [
      "7.141592\n"
     ]
    }
   ],
   "source": [
    "print(m2.add(m2.PI, 4))"
   ]
  },
  {
   "cell_type": "markdown",
   "id": "15861676",
   "metadata": {},
   "source": [
    "모듈 내용 변경 후에는 다시 불러와야됨"
   ]
  },
  {
   "cell_type": "code",
   "execution_count": 47,
   "id": "956ee14a",
   "metadata": {},
   "outputs": [
    {
     "data": {
      "text/plain": [
       "<module 'mod1' from 'C:\\\\Users\\\\82103\\\\Desktop\\\\multicampus\\\\Python\\\\mod1.py'>"
      ]
     },
     "execution_count": 47,
     "metadata": {},
     "output_type": "execute_result"
    }
   ],
   "source": [
    "from importlib import reload\n",
    "reload(mod1)"
   ]
  },
  {
   "cell_type": "markdown",
   "id": "946d722e",
   "metadata": {},
   "source": [
    "모듈 경로 추가하기 예제\n",
    "- 선행)주피터 노트북으로 사용중인 폴더 상위 폴더에 mymod 폴더 생성"
   ]
  },
  {
   "cell_type": "code",
   "execution_count": 24,
   "id": "0bbe9eda",
   "metadata": {},
   "outputs": [
    {
     "name": "stdout",
     "output_type": "stream",
     "text": [
      "['C:\\\\Users\\\\82103\\\\Desktop\\\\multicampus\\\\Python', 'C:\\\\Users\\\\82103\\\\anaconda3\\\\python38.zip', 'C:\\\\Users\\\\82103\\\\anaconda3\\\\DLLs', 'C:\\\\Users\\\\82103\\\\anaconda3\\\\lib', 'C:\\\\Users\\\\82103\\\\anaconda3', '', 'C:\\\\Users\\\\82103\\\\anaconda3\\\\lib\\\\site-packages', 'C:\\\\Users\\\\82103\\\\anaconda3\\\\lib\\\\site-packages\\\\locket-0.2.1-py3.8.egg', 'C:\\\\Users\\\\82103\\\\anaconda3\\\\lib\\\\site-packages\\\\win32', 'C:\\\\Users\\\\82103\\\\anaconda3\\\\lib\\\\site-packages\\\\win32\\\\lib', 'C:\\\\Users\\\\82103\\\\anaconda3\\\\lib\\\\site-packages\\\\Pythonwin', 'C:\\\\Users\\\\82103\\\\anaconda3\\\\lib\\\\site-packages\\\\IPython\\\\extensions', 'C:\\\\Users\\\\82103\\\\.ipython']\n"
     ]
    }
   ],
   "source": [
    "import sys\n",
    "print(sys.path)"
   ]
  },
  {
   "cell_type": "markdown",
   "id": "ed12f5e0",
   "metadata": {},
   "source": [
    "- 모듈을 사용할 수 있는 경로를 먼저 확인 -> mymod가 없음 -> 경로에 mymod 추가시키기"
   ]
  },
  {
   "cell_type": "code",
   "execution_count": 52,
   "id": "dcd29ae4",
   "metadata": {},
   "outputs": [],
   "source": [
    "sys.path.append(\"C://Users//82103/Desktop/multicampus/mymod/\")"
   ]
  },
  {
   "cell_type": "code",
   "execution_count": 53,
   "id": "9df04046",
   "metadata": {},
   "outputs": [
    {
     "name": "stdout",
     "output_type": "stream",
     "text": [
      "['C:\\\\Users\\\\82103\\\\Desktop\\\\multicampus\\\\Python', 'C:\\\\Users\\\\82103\\\\anaconda3\\\\python38.zip', 'C:\\\\Users\\\\82103\\\\anaconda3\\\\DLLs', 'C:\\\\Users\\\\82103\\\\anaconda3\\\\lib', 'C:\\\\Users\\\\82103\\\\anaconda3', '', 'C:\\\\Users\\\\82103\\\\anaconda3\\\\lib\\\\site-packages', 'C:\\\\Users\\\\82103\\\\anaconda3\\\\lib\\\\site-packages\\\\locket-0.2.1-py3.8.egg', 'C:\\\\Users\\\\82103\\\\anaconda3\\\\lib\\\\site-packages\\\\win32', 'C:\\\\Users\\\\82103\\\\anaconda3\\\\lib\\\\site-packages\\\\win32\\\\lib', 'C:\\\\Users\\\\82103\\\\anaconda3\\\\lib\\\\site-packages\\\\Pythonwin', 'C:\\\\Users\\\\82103\\\\anaconda3\\\\lib\\\\site-packages\\\\IPython\\\\extensions', 'C:\\\\Users\\\\82103\\\\.ipython', 'C://Users//82103/Desktop/multicampus/mymod/']\n"
     ]
    }
   ],
   "source": [
    "print(sys.path)\n",
    "#추가 되었는지 확인"
   ]
  },
  {
   "cell_type": "code",
   "execution_count": 54,
   "id": "77ba9090",
   "metadata": {},
   "outputs": [],
   "source": [
    "import mymod as mm"
   ]
  },
  {
   "cell_type": "code",
   "execution_count": 55,
   "id": "8573ddcf",
   "metadata": {},
   "outputs": [
    {
     "name": "stdout",
     "output_type": "stream",
     "text": [
      "3.141592\n"
     ]
    }
   ],
   "source": [
    "print(mm.PI)"
   ]
  },
  {
   "cell_type": "markdown",
   "id": "37207a5b",
   "metadata": {},
   "source": [
    "- 만약 path를 지우면?"
   ]
  },
  {
   "cell_type": "code",
   "execution_count": 56,
   "id": "2bcd37d2",
   "metadata": {},
   "outputs": [],
   "source": [
    "sys.path.remove(\"C://Users//82103/Desktop/multicampus/mymod/\")"
   ]
  },
  {
   "cell_type": "code",
   "execution_count": 57,
   "id": "812706c8",
   "metadata": {},
   "outputs": [
    {
     "name": "stdout",
     "output_type": "stream",
     "text": [
      "['C:\\\\Users\\\\82103\\\\Desktop\\\\multicampus\\\\Python', 'C:\\\\Users\\\\82103\\\\anaconda3\\\\python38.zip', 'C:\\\\Users\\\\82103\\\\anaconda3\\\\DLLs', 'C:\\\\Users\\\\82103\\\\anaconda3\\\\lib', 'C:\\\\Users\\\\82103\\\\anaconda3', '', 'C:\\\\Users\\\\82103\\\\anaconda3\\\\lib\\\\site-packages', 'C:\\\\Users\\\\82103\\\\anaconda3\\\\lib\\\\site-packages\\\\locket-0.2.1-py3.8.egg', 'C:\\\\Users\\\\82103\\\\anaconda3\\\\lib\\\\site-packages\\\\win32', 'C:\\\\Users\\\\82103\\\\anaconda3\\\\lib\\\\site-packages\\\\win32\\\\lib', 'C:\\\\Users\\\\82103\\\\anaconda3\\\\lib\\\\site-packages\\\\Pythonwin', 'C:\\\\Users\\\\82103\\\\anaconda3\\\\lib\\\\site-packages\\\\IPython\\\\extensions', 'C:\\\\Users\\\\82103\\\\.ipython']\n"
     ]
    }
   ],
   "source": [
    "print(sys.path)\n",
    "#지운거 확인"
   ]
  },
  {
   "cell_type": "markdown",
   "id": "131518f3",
   "metadata": {},
   "source": [
    "모듈 경로 추가하기 예제(윈도우 GUI 환경)\n",
    "1. 검색 -> 고급 시스템 설정 보기\n",
    "2. [환경 변수] 클릭\n",
    "3. [시스템 변수] 항목에서 [Path] 항목 클릭\n",
    "4. [편집] -> 환경변수 새로만들기 -> 경로추가"
   ]
  },
  {
   "cell_type": "markdown",
   "id": "72c2709e",
   "metadata": {},
   "source": [
    "변수 -> 함수 -> 클래스 -> 모듈 -> 패키지"
   ]
  },
  {
   "cell_type": "markdown",
   "id": "6faedb59",
   "metadata": {},
   "source": [
    "180page 7번째 줄 글자 깨짐 -> 호출하게"
   ]
  },
  {
   "cell_type": "markdown",
   "id": "bd982f83",
   "metadata": {},
   "source": [
    "재귀함수"
   ]
  },
  {
   "cell_type": "code",
   "execution_count": 60,
   "id": "f0de70e7",
   "metadata": {},
   "outputs": [],
   "source": [
    "def hello():\n",
    "    print(\"hello world\")\n",
    "    hello()\n",
    "# 그냥 돌리면 무한루프"
   ]
  },
  {
   "cell_type": "markdown",
   "id": "0564fe4e",
   "metadata": {},
   "source": [
    "193page 3번째 줄 글자 깨짐 -> 오류를"
   ]
  },
  {
   "cell_type": "markdown",
   "id": "d775b680",
   "metadata": {},
   "source": [
    "## 예외처리"
   ]
  },
  {
   "cell_type": "markdown",
   "id": "89252223",
   "metadata": {},
   "source": [
    "try ~except문 예제(error 지정 x - 모든 예외를 다 잡아냄)"
   ]
  },
  {
   "cell_type": "code",
   "execution_count": 62,
   "id": "4fc5932c",
   "metadata": {},
   "outputs": [
    {
     "name": "stdout",
     "output_type": "stream",
     "text": [
      "error\n"
     ]
    }
   ],
   "source": [
    "a, b = 5, 0\n",
    "try:\n",
    "    c = a/b\n",
    "    print(c)\n",
    "\n",
    "except:\n",
    "    print(\"error\")"
   ]
  },
  {
   "cell_type": "markdown",
   "id": "6438388b",
   "metadata": {},
   "source": [
    "try ~except문 예제(error 지정)"
   ]
  },
  {
   "cell_type": "code",
   "execution_count": 63,
   "id": "c83f329f",
   "metadata": {},
   "outputs": [
    {
     "name": "stdout",
     "output_type": "stream",
     "text": [
      "error\n"
     ]
    }
   ],
   "source": [
    "a, b = 5, 0\n",
    "try:\n",
    "    c = a/b\n",
    "    print(c)\n",
    "\n",
    "except ZeroDivisionError:\n",
    "    print(\"error\")"
   ]
  },
  {
   "cell_type": "markdown",
   "id": "7763e168",
   "metadata": {},
   "source": [
    "try ~except문 예제(error 지정, as 사용)"
   ]
  },
  {
   "cell_type": "code",
   "execution_count": 67,
   "id": "eb66107b",
   "metadata": {},
   "outputs": [
    {
     "name": "stdout",
     "output_type": "stream",
     "text": [
      "name 'spam' is not defined\n"
     ]
    }
   ],
   "source": [
    "try:\n",
    "    spam()\n",
    "except NameError as x:\n",
    "    print(x)"
   ]
  },
  {
   "cell_type": "markdown",
   "id": "3ac8fe58",
   "metadata": {},
   "source": [
    "여러 개의 예외 발생\n",
    "- except 문을 여러 번 사용 가능\n",
    "- except를 다음줄에 이어서 쓰면 됨 "
   ]
  },
  {
   "cell_type": "markdown",
   "id": "4ebb7d55",
   "metadata": {},
   "source": [
    "try ~finally문 \n",
    "- try 문에서 정상 동작 중인 코드가 에러를 만날경우\n",
    " - except문을 수행\n",
    " - except문 수행이 끝나면 finally 문이 수행\n",
    "- try 문에서 정상 동작하면\n",
    " - try문 수행이 끝나면 finally문이 수행"
   ]
  },
  {
   "cell_type": "code",
   "execution_count": 68,
   "id": "fc2de79e",
   "metadata": {},
   "outputs": [
    {
     "name": "stdout",
     "output_type": "stream",
     "text": [
      "0\n",
      "error\n",
      "반드시 수행됨\n"
     ]
    }
   ],
   "source": [
    "x = 0\n",
    "try:\n",
    "    print(x)\n",
    "    1/x\n",
    "except:\n",
    "    print(\"error\")\n",
    "finally:\n",
    "    print(\"반드시 수행됨\")"
   ]
  },
  {
   "cell_type": "markdown",
   "id": "b1c473c9",
   "metadata": {},
   "source": [
    "두 가지의 예외를 한 번에 묶어서 처리하기 예제"
   ]
  },
  {
   "cell_type": "code",
   "execution_count": 69,
   "id": "e688c652",
   "metadata": {},
   "outputs": [
    {
     "name": "stdout",
     "output_type": "stream",
     "text": [
      "list index out of range\n"
     ]
    }
   ],
   "source": [
    "try:\n",
    "    a = [1,2]\n",
    "    print(a[3])\n",
    "    4/0\n",
    "except (ZeroDivisionError, IndexError) as e:\n",
    "    print(e)"
   ]
  },
  {
   "cell_type": "markdown",
   "id": "feaa298e",
   "metadata": {},
   "source": [
    "오류 회피하기 예제"
   ]
  },
  {
   "cell_type": "code",
   "execution_count": 71,
   "id": "633b3783",
   "metadata": {},
   "outputs": [],
   "source": [
    "try: \n",
    "    f = open(\"없는파일\", \"r\")\n",
    "except FileNotFoundError :\n",
    "    pass"
   ]
  },
  {
   "cell_type": "markdown",
   "id": "c395f821",
   "metadata": {},
   "source": [
    "예외 만들기 예제"
   ]
  },
  {
   "cell_type": "code",
   "execution_count": 77,
   "id": "63c12c0f",
   "metadata": {},
   "outputs": [],
   "source": [
    "class MyError(Exception):\n",
    "    pass\n",
    "def say_nick(nick):\n",
    "    if nick == \"바보\":\n",
    "        raise MyError()\n",
    "    print(nick)"
   ]
  },
  {
   "cell_type": "code",
   "execution_count": 76,
   "id": "d1ad5845",
   "metadata": {
    "scrolled": true
   },
   "outputs": [
    {
     "ename": "MyError",
     "evalue": "",
     "output_type": "error",
     "traceback": [
      "\u001b[1;31m---------------------------------------------------------------------------\u001b[0m",
      "\u001b[1;31mMyError\u001b[0m                                   Traceback (most recent call last)",
      "\u001b[1;32m<ipython-input-76-e2fcd6d5b76b>\u001b[0m in \u001b[0;36m<module>\u001b[1;34m\u001b[0m\n\u001b[1;32m----> 1\u001b[1;33m \u001b[0msay_nick\u001b[0m\u001b[1;33m(\u001b[0m\u001b[1;34m\"바보\"\u001b[0m\u001b[1;33m)\u001b[0m\u001b[1;33m\u001b[0m\u001b[1;33m\u001b[0m\u001b[0m\n\u001b[0m",
      "\u001b[1;32m<ipython-input-75-94ecb69cc697>\u001b[0m in \u001b[0;36msay_nick\u001b[1;34m(nick)\u001b[0m\n\u001b[0;32m      3\u001b[0m \u001b[1;32mdef\u001b[0m \u001b[0msay_nick\u001b[0m\u001b[1;33m(\u001b[0m\u001b[0mnick\u001b[0m\u001b[1;33m)\u001b[0m\u001b[1;33m:\u001b[0m\u001b[1;33m\u001b[0m\u001b[1;33m\u001b[0m\u001b[0m\n\u001b[0;32m      4\u001b[0m     \u001b[1;32mif\u001b[0m \u001b[0mnick\u001b[0m \u001b[1;33m==\u001b[0m \u001b[1;34m\"바보\"\u001b[0m\u001b[1;33m:\u001b[0m\u001b[1;33m\u001b[0m\u001b[1;33m\u001b[0m\u001b[0m\n\u001b[1;32m----> 5\u001b[1;33m         \u001b[1;32mraise\u001b[0m \u001b[0mMyError\u001b[0m\u001b[1;33m(\u001b[0m\u001b[1;33m)\u001b[0m\u001b[1;33m\u001b[0m\u001b[1;33m\u001b[0m\u001b[0m\n\u001b[0m\u001b[0;32m      6\u001b[0m     \u001b[0mprint\u001b[0m\u001b[1;33m(\u001b[0m\u001b[0mnick\u001b[0m\u001b[1;33m)\u001b[0m\u001b[1;33m\u001b[0m\u001b[1;33m\u001b[0m\u001b[0m\n",
      "\u001b[1;31mMyError\u001b[0m: "
     ]
    }
   ],
   "source": [
    "say_nick(\"바보\")"
   ]
  },
  {
   "cell_type": "markdown",
   "id": "64498e08",
   "metadata": {},
   "source": [
    "- raise문을 사용하여 예외를 발생시킬 수 있음\n",
    "- raise뒤에 쓰여진 클래스는 예외 클래스의 인스턴스 객체처럼 받아들여짐"
   ]
  },
  {
   "cell_type": "markdown",
   "id": "c8d8f05d",
   "metadata": {},
   "source": [
    "만든 예외를 실제 코드에 적용하기 예제"
   ]
  },
  {
   "cell_type": "code",
   "execution_count": 78,
   "id": "516b578d",
   "metadata": {},
   "outputs": [
    {
     "name": "stdout",
     "output_type": "stream",
     "text": [
      "천사\n",
      "허용되지 않는 별명입니다.\n"
     ]
    }
   ],
   "source": [
    "try:\n",
    "    say_nick(\"천사\")\n",
    "    say_nick(\"바보\")\n",
    "except MyError:\n",
    "    print(\"허용되지 않는 별명입니다.\")"
   ]
  },
  {
   "cell_type": "markdown",
   "id": "328f412e",
   "metadata": {},
   "source": [
    "오류 메세지를 작성하여 에러 옆에 출력하기 예제"
   ]
  },
  {
   "cell_type": "code",
   "execution_count": 83,
   "id": "f9f2e773",
   "metadata": {},
   "outputs": [],
   "source": [
    "class MyError(Exception):\n",
    "    def __str__(self): #object 클래스의 메서드 -> 내장함수\n",
    "        return \"forbiden nickname!\"\n",
    "def say_nick(nick):\n",
    "    if nick == \"바보\":\n",
    "        raise MyError()\n",
    "    print(nick)"
   ]
  },
  {
   "cell_type": "code",
   "execution_count": 84,
   "id": "4a9e475d",
   "metadata": {},
   "outputs": [
    {
     "ename": "MyError",
     "evalue": "forbiden nickname!",
     "output_type": "error",
     "traceback": [
      "\u001b[1;31m---------------------------------------------------------------------------\u001b[0m",
      "\u001b[1;31mMyError\u001b[0m                                   Traceback (most recent call last)",
      "\u001b[1;32m<ipython-input-84-e2fcd6d5b76b>\u001b[0m in \u001b[0;36m<module>\u001b[1;34m\u001b[0m\n\u001b[1;32m----> 1\u001b[1;33m \u001b[0msay_nick\u001b[0m\u001b[1;33m(\u001b[0m\u001b[1;34m\"바보\"\u001b[0m\u001b[1;33m)\u001b[0m\u001b[1;33m\u001b[0m\u001b[1;33m\u001b[0m\u001b[0m\n\u001b[0m",
      "\u001b[1;32m<ipython-input-83-10ef929b4688>\u001b[0m in \u001b[0;36msay_nick\u001b[1;34m(nick)\u001b[0m\n\u001b[0;32m      4\u001b[0m \u001b[1;32mdef\u001b[0m \u001b[0msay_nick\u001b[0m\u001b[1;33m(\u001b[0m\u001b[0mnick\u001b[0m\u001b[1;33m)\u001b[0m\u001b[1;33m:\u001b[0m\u001b[1;33m\u001b[0m\u001b[1;33m\u001b[0m\u001b[0m\n\u001b[0;32m      5\u001b[0m     \u001b[1;32mif\u001b[0m \u001b[0mnick\u001b[0m \u001b[1;33m==\u001b[0m \u001b[1;34m\"바보\"\u001b[0m\u001b[1;33m:\u001b[0m\u001b[1;33m\u001b[0m\u001b[1;33m\u001b[0m\u001b[0m\n\u001b[1;32m----> 6\u001b[1;33m         \u001b[1;32mraise\u001b[0m \u001b[0mMyError\u001b[0m\u001b[1;33m(\u001b[0m\u001b[1;33m)\u001b[0m\u001b[1;33m\u001b[0m\u001b[1;33m\u001b[0m\u001b[0m\n\u001b[0m\u001b[0;32m      7\u001b[0m     \u001b[0mprint\u001b[0m\u001b[1;33m(\u001b[0m\u001b[0mnick\u001b[0m\u001b[1;33m)\u001b[0m\u001b[1;33m\u001b[0m\u001b[1;33m\u001b[0m\u001b[0m\n",
      "\u001b[1;31mMyError\u001b[0m: forbiden nickname!"
     ]
    }
   ],
   "source": [
    "say_nick(\"바보\")"
   ]
  },
  {
   "cell_type": "markdown",
   "id": "3fc52b6f",
   "metadata": {},
   "source": [
    "## 내장함수, 외장함수"
   ]
  },
  {
   "cell_type": "markdown",
   "id": "87dc47db",
   "metadata": {},
   "source": [
    "내장함수\n",
    "<br><br>\n",
    "abs() 함수 예제"
   ]
  },
  {
   "cell_type": "code",
   "execution_count": 88,
   "id": "f35dc207",
   "metadata": {},
   "outputs": [
    {
     "name": "stdout",
     "output_type": "stream",
     "text": [
      "3\n",
      "3\n",
      "1.2\n"
     ]
    }
   ],
   "source": [
    "#절댓값\n",
    "print(abs(3))\n",
    "print(abs(-3))\n",
    "print(abs(-1.2))"
   ]
  },
  {
   "cell_type": "markdown",
   "id": "2ca8110a",
   "metadata": {},
   "source": [
    "206page 5번째 줄 글자 깨짐 -> 반복"
   ]
  },
  {
   "cell_type": "markdown",
   "id": "208cbada",
   "metadata": {},
   "source": [
    "all() 함수 예제 - 하나라도 거짓이면 거짓"
   ]
  },
  {
   "cell_type": "code",
   "execution_count": 90,
   "id": "ec6647da",
   "metadata": {},
   "outputs": [
    {
     "data": {
      "text/plain": [
       "True"
      ]
     },
     "execution_count": 90,
     "metadata": {},
     "output_type": "execute_result"
    }
   ],
   "source": [
    "all([1,2,3])"
   ]
  },
  {
   "cell_type": "code",
   "execution_count": 91,
   "id": "47d5ed54",
   "metadata": {},
   "outputs": [
    {
     "data": {
      "text/plain": [
       "False"
      ]
     },
     "execution_count": 91,
     "metadata": {},
     "output_type": "execute_result"
    }
   ],
   "source": [
    "all([1,2,3,0])"
   ]
  },
  {
   "cell_type": "markdown",
   "id": "2b483d3b",
   "metadata": {},
   "source": [
    "- 대부분의 시스템과 프로그래밍 언어에서 0은 거짓을 의미, 나머지는 참을 의미"
   ]
  },
  {
   "cell_type": "markdown",
   "id": "d6757e37",
   "metadata": {},
   "source": [
    "any()함수 예제 - 하나라도 참이면 참"
   ]
  },
  {
   "cell_type": "code",
   "execution_count": 92,
   "id": "bd46411c",
   "metadata": {},
   "outputs": [
    {
     "data": {
      "text/plain": [
       "True"
      ]
     },
     "execution_count": 92,
     "metadata": {},
     "output_type": "execute_result"
    }
   ],
   "source": [
    "any([1,2,3])"
   ]
  },
  {
   "cell_type": "code",
   "execution_count": 93,
   "id": "4af743fc",
   "metadata": {},
   "outputs": [
    {
     "data": {
      "text/plain": [
       "True"
      ]
     },
     "execution_count": 93,
     "metadata": {},
     "output_type": "execute_result"
    }
   ],
   "source": [
    "any([1,2,3,0])"
   ]
  },
  {
   "cell_type": "markdown",
   "id": "b328d650",
   "metadata": {},
   "source": [
    "chr() 함수 예제 - 아스키 코드에 해당하는 문자"
   ]
  },
  {
   "cell_type": "code",
   "execution_count": 94,
   "id": "074b3d5b",
   "metadata": {},
   "outputs": [
    {
     "data": {
      "text/plain": [
       "'T'"
      ]
     },
     "execution_count": 94,
     "metadata": {},
     "output_type": "execute_result"
    }
   ],
   "source": [
    "chr(84)"
   ]
  },
  {
   "cell_type": "markdown",
   "id": "44b72f40",
   "metadata": {},
   "source": [
    "dir()함수 예제 - 객체가 자체적으로 가지고 있는 함수를 출력"
   ]
  },
  {
   "cell_type": "code",
   "execution_count": 96,
   "id": "20a737e8",
   "metadata": {},
   "outputs": [
    {
     "data": {
      "text/plain": [
       "['__add__',\n",
       " '__class__',\n",
       " '__contains__',\n",
       " '__delattr__',\n",
       " '__delitem__',\n",
       " '__dir__',\n",
       " '__doc__',\n",
       " '__eq__',\n",
       " '__format__',\n",
       " '__ge__',\n",
       " '__getattribute__',\n",
       " '__getitem__',\n",
       " '__gt__',\n",
       " '__hash__',\n",
       " '__iadd__',\n",
       " '__imul__',\n",
       " '__init__',\n",
       " '__init_subclass__',\n",
       " '__iter__',\n",
       " '__le__',\n",
       " '__len__',\n",
       " '__lt__',\n",
       " '__mul__',\n",
       " '__ne__',\n",
       " '__new__',\n",
       " '__reduce__',\n",
       " '__reduce_ex__',\n",
       " '__repr__',\n",
       " '__reversed__',\n",
       " '__rmul__',\n",
       " '__setattr__',\n",
       " '__setitem__',\n",
       " '__sizeof__',\n",
       " '__str__',\n",
       " '__subclasshook__',\n",
       " 'append',\n",
       " 'clear',\n",
       " 'copy',\n",
       " 'count',\n",
       " 'extend',\n",
       " 'index',\n",
       " 'insert',\n",
       " 'pop',\n",
       " 'remove',\n",
       " 'reverse',\n",
       " 'sort']"
      ]
     },
     "execution_count": 96,
     "metadata": {},
     "output_type": "execute_result"
    }
   ],
   "source": [
    "dir([]) #리스트가 저채적으로 갖는 함수"
   ]
  },
  {
   "cell_type": "code",
   "execution_count": 98,
   "id": "88c9b3ae",
   "metadata": {},
   "outputs": [
    {
     "data": {
      "text/plain": [
       "['__class__',\n",
       " '__contains__',\n",
       " '__delattr__',\n",
       " '__delitem__',\n",
       " '__dir__',\n",
       " '__doc__',\n",
       " '__eq__',\n",
       " '__format__',\n",
       " '__ge__',\n",
       " '__getattribute__',\n",
       " '__getitem__',\n",
       " '__gt__',\n",
       " '__hash__',\n",
       " '__init__',\n",
       " '__init_subclass__',\n",
       " '__iter__',\n",
       " '__le__',\n",
       " '__len__',\n",
       " '__lt__',\n",
       " '__ne__',\n",
       " '__new__',\n",
       " '__reduce__',\n",
       " '__reduce_ex__',\n",
       " '__repr__',\n",
       " '__reversed__',\n",
       " '__setattr__',\n",
       " '__setitem__',\n",
       " '__sizeof__',\n",
       " '__str__',\n",
       " '__subclasshook__',\n",
       " 'clear',\n",
       " 'copy',\n",
       " 'fromkeys',\n",
       " 'get',\n",
       " 'items',\n",
       " 'keys',\n",
       " 'pop',\n",
       " 'popitem',\n",
       " 'setdefault',\n",
       " 'update',\n",
       " 'values']"
      ]
     },
     "execution_count": 98,
     "metadata": {},
     "output_type": "execute_result"
    }
   ],
   "source": [
    "dir({}) #딕셔너리가 자체적으로 갖는 함수"
   ]
  },
  {
   "cell_type": "markdown",
   "id": "ca8b16d2",
   "metadata": {},
   "source": [
    "divmod(a,b) - 2개의 숫자를 입력받고 a를 b로 나눈 몫과 나머지를 튜플 형태로 돌려주는 함수"
   ]
  },
  {
   "cell_type": "code",
   "execution_count": 100,
   "id": "f1a817c8",
   "metadata": {},
   "outputs": [
    {
     "data": {
      "text/plain": [
       "(2, 1)"
      ]
     },
     "execution_count": 100,
     "metadata": {},
     "output_type": "execute_result"
    }
   ],
   "source": [
    "divmod(7, 3) #(몫, 나머지)"
   ]
  },
  {
   "cell_type": "markdown",
   "id": "240a822b",
   "metadata": {},
   "source": [
    "enumerate() - \"열거하다\"라는 뜻으로 순서가 있는 자료형(리스트, 튜플, 문자열)을 입력으로 받아 인덱스를 포함하는 enumerate 객체를 돌려줌 \n",
    "- 보통 for문과 함께 자주 사용"
   ]
  },
  {
   "cell_type": "code",
   "execution_count": 101,
   "id": "b2e812df",
   "metadata": {},
   "outputs": [
    {
     "name": "stdout",
     "output_type": "stream",
     "text": [
      "0 body\n",
      "1 foo\n",
      "2 bar\n"
     ]
    }
   ],
   "source": [
    "for i, name in enumerate (['body', 'foo', 'bar']):\n",
    "    print(i, name)"
   ]
  },
  {
   "cell_type": "code",
   "execution_count": 102,
   "id": "0c0f659d",
   "metadata": {},
   "outputs": [
    {
     "name": "stdout",
     "output_type": "stream",
     "text": [
      "0 1\n",
      "1 2\n",
      "2 3\n"
     ]
    }
   ],
   "source": [
    "for i, name in enumerate ((1,2,3)):\n",
    "    print(i, name)"
   ]
  },
  {
   "cell_type": "code",
   "execution_count": 103,
   "id": "a89d2f3f",
   "metadata": {},
   "outputs": [
    {
     "name": "stdout",
     "output_type": "stream",
     "text": [
      "0 s\n",
      "1 t\n",
      "2 r\n",
      "3 i\n",
      "4 n\n",
      "5 g\n"
     ]
    }
   ],
   "source": [
    "for i, name in enumerate (\"string\"):\n",
    "    print(i, name)"
   ]
  },
  {
   "cell_type": "markdown",
   "id": "a912b1a1",
   "metadata": {},
   "source": [
    "eval() - 실행 가능한 문자열(1+2, 'hi' + 'a' 같은 것)을 입력으로 받아 문자열을 실행한 결괏값을 돌려주는 함수"
   ]
  },
  {
   "cell_type": "code",
   "execution_count": 108,
   "id": "c07ebff8",
   "metadata": {},
   "outputs": [
    {
     "name": "stdout",
     "output_type": "stream",
     "text": [
      "1+2\n",
      "3\n"
     ]
    }
   ],
   "source": [
    "a = '1+2'\n",
    "print(a)\n",
    "print(eval('1+2'))"
   ]
  },
  {
   "cell_type": "code",
   "execution_count": 110,
   "id": "c463ee19",
   "metadata": {},
   "outputs": [
    {
     "name": "stdout",
     "output_type": "stream",
     "text": [
      "10\n",
      "hia\n"
     ]
    }
   ],
   "source": [
    "hia = 10\n",
    "print(eval(\"hi\"+\"a\"))\n",
    "print(eval(\"'hi'+'a'\"))"
   ]
  },
  {
   "cell_type": "markdown",
   "id": "d0111eb5",
   "metadata": {},
   "source": [
    "filter() - 걸러내는 뜻\n",
    "- 첫 번째 인수로 함수 이름, 두 번째 인수로 그 함수에 차례로 들어갈 반복 가능한 자료형을 받음\n",
    "\n",
    "- 두 번째 인수인 반복 가능한 자료형 요소가 첫 번째 인수인 함수에 입력되었을 때 반환 값이 참인 것만 묶어서(걸러 내서) 돌려줌"
   ]
  },
  {
   "cell_type": "markdown",
   "id": "7fa1b20c",
   "metadata": {},
   "source": [
    "filter() 함수 예제(filter 사용전)"
   ]
  },
  {
   "cell_type": "code",
   "execution_count": 113,
   "id": "96462d13",
   "metadata": {},
   "outputs": [],
   "source": [
    "#필터링하는 함수\n",
    "def positive(l):\n",
    "    result = []\n",
    "    for i in l:\n",
    "        if i>0:\n",
    "            result.append(i)\n",
    "    return result"
   ]
  },
  {
   "cell_type": "code",
   "execution_count": 114,
   "id": "090eb627",
   "metadata": {},
   "outputs": [
    {
     "name": "stdout",
     "output_type": "stream",
     "text": [
      "[2, 3, 5]\n"
     ]
    }
   ],
   "source": [
    "print(positive([-1,2,3,-4,5,-6,0]))"
   ]
  },
  {
   "cell_type": "markdown",
   "id": "2d9f69af",
   "metadata": {},
   "source": [
    "filter() 함수 예제(filter 사용"
   ]
  },
  {
   "cell_type": "code",
   "execution_count": 115,
   "id": "25497bf2",
   "metadata": {},
   "outputs": [],
   "source": [
    "def positive(x):\n",
    "    return x>0"
   ]
  },
  {
   "cell_type": "code",
   "execution_count": 121,
   "id": "fc427243",
   "metadata": {},
   "outputs": [
    {
     "name": "stdout",
     "output_type": "stream",
     "text": [
      "[2, 3, 5]\n"
     ]
    }
   ],
   "source": [
    "print(list(filter(positive,[-1,2,3,-4,5,-6,0])))"
   ]
  },
  {
   "cell_type": "markdown",
   "id": "639badc4",
   "metadata": {},
   "source": [
    "두 번째 인수인 리스트의 요소들이 첫 번째 인수인 positive 함수에 입력되었을때 반환 값이 참인 것만 묶어서 돌려줌"
   ]
  },
  {
   "cell_type": "code",
   "execution_count": 122,
   "id": "646298c2",
   "metadata": {},
   "outputs": [
    {
     "data": {
      "text/plain": [
       "True"
      ]
     },
     "execution_count": 122,
     "metadata": {},
     "output_type": "execute_result"
    }
   ],
   "source": [
    "positive(1)"
   ]
  },
  {
   "cell_type": "code",
   "execution_count": 123,
   "id": "087dd739",
   "metadata": {},
   "outputs": [
    {
     "data": {
      "text/plain": [
       "False"
      ]
     },
     "execution_count": 123,
     "metadata": {},
     "output_type": "execute_result"
    }
   ],
   "source": [
    "positive(-1)"
   ]
  },
  {
   "cell_type": "markdown",
   "id": "74e04264",
   "metadata": {},
   "source": [
    "filter() 함수 예제(lambda 사용)"
   ]
  },
  {
   "cell_type": "code",
   "execution_count": 125,
   "id": "5384c0b5",
   "metadata": {},
   "outputs": [
    {
     "data": {
      "text/plain": [
       "[1, 2, 5]"
      ]
     },
     "execution_count": 125,
     "metadata": {},
     "output_type": "execute_result"
    }
   ],
   "source": [
    "list(filter(lambda x: x>0, [1,2,-3,-4,5,0]))"
   ]
  },
  {
   "cell_type": "markdown",
   "id": "372a010d",
   "metadata": {},
   "source": [
    "int() - 문자열 형태의 숫자나 소수점이 있는 숫자 등을 정수 형태로 돌려주는 함수"
   ]
  },
  {
   "cell_type": "code",
   "execution_count": 126,
   "id": "e12b0e52",
   "metadata": {},
   "outputs": [
    {
     "data": {
      "text/plain": [
       "3"
      ]
     },
     "execution_count": 126,
     "metadata": {},
     "output_type": "execute_result"
    }
   ],
   "source": [
    "int(3.5)"
   ]
  },
  {
   "cell_type": "code",
   "execution_count": 128,
   "id": "b723895d",
   "metadata": {},
   "outputs": [
    {
     "data": {
      "text/plain": [
       "345"
      ]
     },
     "execution_count": 128,
     "metadata": {},
     "output_type": "execute_result"
    }
   ],
   "source": [
    "int('343')+2"
   ]
  },
  {
   "cell_type": "markdown",
   "id": "a84765bc",
   "metadata": {},
   "source": [
    "int(x, radix) - radix 진수로 표현된 문자열 x를 10진수로 변환"
   ]
  },
  {
   "cell_type": "code",
   "execution_count": 131,
   "id": "fc1233f6",
   "metadata": {},
   "outputs": [
    {
     "data": {
      "text/plain": [
       "29"
      ]
     },
     "execution_count": 131,
     "metadata": {},
     "output_type": "execute_result"
    }
   ],
   "source": [
    "int('11101', 2)"
   ]
  },
  {
   "cell_type": "code",
   "execution_count": 133,
   "id": "9bfcdd4e",
   "metadata": {},
   "outputs": [
    {
     "data": {
      "text/plain": [
       "4682"
      ]
     },
     "execution_count": 133,
     "metadata": {},
     "output_type": "execute_result"
    }
   ],
   "source": [
    "int(\"124A\", 16)"
   ]
  },
  {
   "cell_type": "markdown",
   "id": "0d2289b8",
   "metadata": {},
   "source": [
    "instance(object, class) - 첫 번째 인수로 인스턴스, 두 번째 인수로 클래스 이름을 받음\n",
    "- 입력으로 받은 인스턴스가 그 클래스의 인스턴스인지를 판단하여 참이면 True, 거짓이면 False를 반환한다\n",
    "- 조건문과 같이 쓰이지 않을까?"
   ]
  },
  {
   "cell_type": "code",
   "execution_count": 135,
   "id": "b03b66b3",
   "metadata": {},
   "outputs": [],
   "source": [
    "class Person:\n",
    "    pass"
   ]
  },
  {
   "cell_type": "code",
   "execution_count": 136,
   "id": "38f57961",
   "metadata": {},
   "outputs": [],
   "source": [
    "a = Person()"
   ]
  },
  {
   "cell_type": "code",
   "execution_count": 137,
   "id": "275e940c",
   "metadata": {},
   "outputs": [
    {
     "data": {
      "text/plain": [
       "True"
      ]
     },
     "execution_count": 137,
     "metadata": {},
     "output_type": "execute_result"
    }
   ],
   "source": [
    "isinstance(a, Person)"
   ]
  },
  {
   "cell_type": "code",
   "execution_count": 139,
   "id": "4ae84497",
   "metadata": {},
   "outputs": [
    {
     "data": {
      "text/plain": [
       "False"
      ]
     },
     "execution_count": 139,
     "metadata": {},
     "output_type": "execute_result"
    }
   ],
   "source": [
    "b = 3\n",
    "isinstance(b, Person)"
   ]
  },
  {
   "cell_type": "markdown",
   "id": "6ca70abc",
   "metadata": {},
   "source": [
    "map() - map(f,iterable)은 함수(f)와 반복 가능한(iterable) 자료형을 입력으로 받음\n",
    "- map은 입력받은 자료형의 각 요소를 함수 f가 수행한 결과를 묶어서 돌려주는 함수"
   ]
  },
  {
   "cell_type": "markdown",
   "id": "942c1b7f",
   "metadata": {},
   "source": [
    "map을 사용하지 않은 코드"
   ]
  },
  {
   "cell_type": "code",
   "execution_count": 142,
   "id": "5feb2036",
   "metadata": {},
   "outputs": [],
   "source": [
    "def two_times(numberList):\n",
    "    result = [ ]\n",
    "    for number in numberList:\n",
    "        result.append(number*2)\n",
    "    return result\n"
   ]
  },
  {
   "cell_type": "code",
   "execution_count": 143,
   "id": "f4f328fc",
   "metadata": {},
   "outputs": [],
   "source": [
    "result = two_times([1,2,3,4])"
   ]
  },
  {
   "cell_type": "code",
   "execution_count": 144,
   "id": "c8842cb5",
   "metadata": {},
   "outputs": [
    {
     "name": "stdout",
     "output_type": "stream",
     "text": [
      "[2, 4, 6, 8]\n"
     ]
    }
   ],
   "source": [
    "print(result)"
   ]
  },
  {
   "cell_type": "markdown",
   "id": "2d16d45a",
   "metadata": {},
   "source": [
    "map을 사용한 코드 - 반복문으로 해야될 일을 내장함수가 처리해주는 꼴(리스트같은 자료형을 한번에!)"
   ]
  },
  {
   "cell_type": "code",
   "execution_count": 150,
   "id": "215fb832",
   "metadata": {},
   "outputs": [],
   "source": [
    "def two_times(x):\n",
    "    return x*2"
   ]
  },
  {
   "cell_type": "code",
   "execution_count": 154,
   "id": "e0fa7595",
   "metadata": {},
   "outputs": [
    {
     "data": {
      "text/plain": [
       "[2, 4, 6, 8]"
      ]
     },
     "execution_count": 154,
     "metadata": {},
     "output_type": "execute_result"
    }
   ],
   "source": [
    "list(map(two_times, [1,2,3,4]))"
   ]
  },
  {
   "cell_type": "code",
   "execution_count": 152,
   "id": "edf6530b",
   "metadata": {},
   "outputs": [
    {
     "data": {
      "text/plain": [
       "[2, 4, 6, 8]"
      ]
     },
     "execution_count": 152,
     "metadata": {},
     "output_type": "execute_result"
    }
   ],
   "source": [
    "list(map(lambda a: a*2, [1,2,3,4]))"
   ]
  },
  {
   "cell_type": "markdown",
   "id": "229ea877",
   "metadata": {},
   "source": [
    "- map() 함수는 연산을 위한 함수\n",
    "- 결과값을 따로 반환해주진 않음"
   ]
  },
  {
   "cell_type": "markdown",
   "id": "5862212e",
   "metadata": {},
   "source": [
    "max()함수 예제"
   ]
  },
  {
   "cell_type": "code",
   "execution_count": 156,
   "id": "04f61834",
   "metadata": {},
   "outputs": [
    {
     "data": {
      "text/plain": [
       "3"
      ]
     },
     "execution_count": 156,
     "metadata": {},
     "output_type": "execute_result"
    }
   ],
   "source": [
    "max([1,2,3])"
   ]
  },
  {
   "cell_type": "code",
   "execution_count": 157,
   "id": "a6824143",
   "metadata": {},
   "outputs": [
    {
     "data": {
      "text/plain": [
       "'w'"
      ]
     },
     "execution_count": 157,
     "metadata": {},
     "output_type": "execute_result"
    }
   ],
   "source": [
    "max(\"apawr\")"
   ]
  },
  {
   "cell_type": "markdown",
   "id": "c31a53de",
   "metadata": {},
   "source": [
    "min()함수 예제"
   ]
  },
  {
   "cell_type": "code",
   "execution_count": 158,
   "id": "be061eda",
   "metadata": {},
   "outputs": [
    {
     "data": {
      "text/plain": [
       "1"
      ]
     },
     "execution_count": 158,
     "metadata": {},
     "output_type": "execute_result"
    }
   ],
   "source": [
    "min([1,2,3])"
   ]
  },
  {
   "cell_type": "code",
   "execution_count": 159,
   "id": "ca980df1",
   "metadata": {},
   "outputs": [
    {
     "data": {
      "text/plain": [
       "'1'"
      ]
     },
     "execution_count": 159,
     "metadata": {},
     "output_type": "execute_result"
    }
   ],
   "source": [
    "min(\"123afa\")"
   ]
  },
  {
   "cell_type": "markdown",
   "id": "5a902422",
   "metadata": {},
   "source": [
    "ord()함수 예제 - chr()함수와 반대"
   ]
  },
  {
   "cell_type": "code",
   "execution_count": 163,
   "id": "214b5dc2",
   "metadata": {},
   "outputs": [
    {
     "name": "stdout",
     "output_type": "stream",
     "text": [
      "100\n",
      "65\n"
     ]
    }
   ],
   "source": [
    "print(ord('d'))\n",
    "print(ord(\"A\"))"
   ]
  },
  {
   "cell_type": "markdown",
   "id": "b015e9c4",
   "metadata": {},
   "source": [
    "pow()함수 예제 - x의 y제곱한 값 리턴"
   ]
  },
  {
   "cell_type": "code",
   "execution_count": 164,
   "id": "41ba3b89",
   "metadata": {},
   "outputs": [
    {
     "data": {
      "text/plain": [
       "32"
      ]
     },
     "execution_count": 164,
     "metadata": {},
     "output_type": "execute_result"
    }
   ],
   "source": [
    "pow(2,5)"
   ]
  },
  {
   "cell_type": "markdown",
   "id": "0c8c3b09",
   "metadata": {},
   "source": [
    "range()함수 예제\n",
    "1. 인수 힌 개 -> 0부터 인수에 있는 숫자-1까지 리스트\n",
    "2. 인수 두 개 -> 첫번째 인수 부터 두번째 인수-1까지 리스트\n",
    "3. 인수 세 개 -> 첫번째 인수 부터 두번째 인수-1까지 세번째 인수의 숫자 마다 리스트"
   ]
  },
  {
   "cell_type": "code",
   "execution_count": 165,
   "id": "0f761c06",
   "metadata": {},
   "outputs": [
    {
     "data": {
      "text/plain": [
       "[0, 1, 2, 3, 4]"
      ]
     },
     "execution_count": 165,
     "metadata": {},
     "output_type": "execute_result"
    }
   ],
   "source": [
    "#1 \n",
    "list(range(5))"
   ]
  },
  {
   "cell_type": "code",
   "execution_count": 167,
   "id": "4c7d58ef",
   "metadata": {},
   "outputs": [
    {
     "data": {
      "text/plain": [
       "[2, 3, 4]"
      ]
     },
     "execution_count": 167,
     "metadata": {},
     "output_type": "execute_result"
    }
   ],
   "source": [
    "#2\n",
    "list(range(2,5))"
   ]
  },
  {
   "cell_type": "code",
   "execution_count": 168,
   "id": "b0a93718",
   "metadata": {},
   "outputs": [
    {
     "data": {
      "text/plain": [
       "[1, 3]"
      ]
     },
     "execution_count": 168,
     "metadata": {},
     "output_type": "execute_result"
    }
   ],
   "source": [
    "#3\n",
    "list(range(1,5,2))"
   ]
  },
  {
   "cell_type": "code",
   "execution_count": 170,
   "id": "7f662a51",
   "metadata": {},
   "outputs": [
    {
     "data": {
      "text/plain": [
       "[0, -2, -4, -6, -8]"
      ]
     },
     "execution_count": 170,
     "metadata": {},
     "output_type": "execute_result"
    }
   ],
   "source": [
    "list(range(0,-10,-2))"
   ]
  },
  {
   "cell_type": "markdown",
   "id": "d85ee95f",
   "metadata": {},
   "source": [
    "round() - 반올림"
   ]
  },
  {
   "cell_type": "code",
   "execution_count": 171,
   "id": "dd1d7f72",
   "metadata": {},
   "outputs": [
    {
     "data": {
      "text/plain": [
       "4"
      ]
     },
     "execution_count": 171,
     "metadata": {},
     "output_type": "execute_result"
    }
   ],
   "source": [
    "round(4.4)"
   ]
  },
  {
   "cell_type": "code",
   "execution_count": 172,
   "id": "d837ac81",
   "metadata": {},
   "outputs": [
    {
     "data": {
      "text/plain": [
       "4.43"
      ]
     },
     "execution_count": 172,
     "metadata": {},
     "output_type": "execute_result"
    }
   ],
   "source": [
    "round(4.435,2)"
   ]
  },
  {
   "cell_type": "code",
   "execution_count": 175,
   "id": "6157a115",
   "metadata": {},
   "outputs": [
    {
     "data": {
      "text/plain": [
       "5.68"
      ]
     },
     "execution_count": 175,
     "metadata": {},
     "output_type": "execute_result"
    }
   ],
   "source": [
    "round(5.678, 2)"
   ]
  },
  {
   "cell_type": "code",
   "execution_count": null,
   "id": "d152162d",
   "metadata": {},
   "outputs": [],
   "source": []
  }
 ],
 "metadata": {
  "kernelspec": {
   "display_name": "Python 3",
   "language": "python",
   "name": "python3"
  },
  "language_info": {
   "codemirror_mode": {
    "name": "ipython",
    "version": 3
   },
   "file_extension": ".py",
   "mimetype": "text/x-python",
   "name": "python",
   "nbconvert_exporter": "python",
   "pygments_lexer": "ipython3",
   "version": "3.8.8"
  }
 },
 "nbformat": 4,
 "nbformat_minor": 5
}
